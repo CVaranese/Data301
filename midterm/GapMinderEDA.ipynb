{
 "cells": [
  {
   "cell_type": "markdown",
   "metadata": {},
   "source": [
    "# Gap Minder EDA"
   ]
  },
  {
   "cell_type": "markdown",
   "metadata": {},
   "source": [
    "## Introduction"
   ]
  },
  {
   "cell_type": "markdown",
   "metadata": {},
   "source": [
    "In this notebook, you will explore the [Gapminder](https://www.gapminder.org/) dataset. This dataset became popular in a series of TED talks by [Hans Rosling](https://www.ted.com/speakers/hans_rosling). For this notebook we will use the cleaned version of this dataset provided by Jenny Bryan [here](https://github.com/jennybc/gapminder)."
   ]
  },
  {
   "cell_type": "markdown",
   "metadata": {},
   "source": [
    "## Imports"
   ]
  },
  {
   "cell_type": "code",
   "execution_count": 1,
   "metadata": {
    "deletable": false,
    "editable": false,
    "nbgrader": {
     "checksum": "9c881ded802665fdfea1738e937c5d02",
     "grade": false,
     "grade_id": "cell-c5fb094b7934fc25",
     "locked": true,
     "schema_version": 1,
     "solution": false
    }
   },
   "outputs": [],
   "source": [
    "import pandas as pd\n",
    "import altair as alt\n",
    "alt.enable_mime_rendering()"
   ]
  },
  {
   "cell_type": "markdown",
   "metadata": {},
   "source": [
    "Load the cleaned dataset:"
   ]
  },
  {
   "cell_type": "code",
   "execution_count": 2,
   "metadata": {
    "deletable": false,
    "editable": false,
    "nbgrader": {
     "checksum": "8d8a6167a2e7ff26e7a2d02608048822",
     "grade": false,
     "grade_id": "cell-1d7a45a40f5d23f8",
     "locked": true,
     "schema_version": 1,
     "solution": false
    }
   },
   "outputs": [],
   "source": [
    "data = pd.read_csv('/data/gapminder/gapminder.tsv', sep='\\t')"
   ]
  },
  {
   "cell_type": "code",
   "execution_count": 3,
   "metadata": {
    "deletable": false,
    "editable": false,
    "nbgrader": {
     "checksum": "1ad241c6e82c39d6d74feefe9a7395a9",
     "grade": false,
     "grade_id": "cell-ece598bb836a46b6",
     "locked": true,
     "schema_version": 1,
     "solution": false
    }
   },
   "outputs": [
    {
     "data": {
      "text/html": [
       "<div>\n",
       "<style scoped>\n",
       "    .dataframe tbody tr th:only-of-type {\n",
       "        vertical-align: middle;\n",
       "    }\n",
       "\n",
       "    .dataframe tbody tr th {\n",
       "        vertical-align: top;\n",
       "    }\n",
       "\n",
       "    .dataframe thead th {\n",
       "        text-align: right;\n",
       "    }\n",
       "</style>\n",
       "<table border=\"1\" class=\"dataframe\">\n",
       "  <thead>\n",
       "    <tr style=\"text-align: right;\">\n",
       "      <th></th>\n",
       "      <th>country</th>\n",
       "      <th>continent</th>\n",
       "      <th>year</th>\n",
       "      <th>lifeExp</th>\n",
       "      <th>pop</th>\n",
       "      <th>gdpPercap</th>\n",
       "    </tr>\n",
       "  </thead>\n",
       "  <tbody>\n",
       "    <tr>\n",
       "      <th>0</th>\n",
       "      <td>Afghanistan</td>\n",
       "      <td>Asia</td>\n",
       "      <td>1952</td>\n",
       "      <td>28.801</td>\n",
       "      <td>8425333</td>\n",
       "      <td>779.445314</td>\n",
       "    </tr>\n",
       "    <tr>\n",
       "      <th>1</th>\n",
       "      <td>Afghanistan</td>\n",
       "      <td>Asia</td>\n",
       "      <td>1957</td>\n",
       "      <td>30.332</td>\n",
       "      <td>9240934</td>\n",
       "      <td>820.853030</td>\n",
       "    </tr>\n",
       "    <tr>\n",
       "      <th>2</th>\n",
       "      <td>Afghanistan</td>\n",
       "      <td>Asia</td>\n",
       "      <td>1962</td>\n",
       "      <td>31.997</td>\n",
       "      <td>10267083</td>\n",
       "      <td>853.100710</td>\n",
       "    </tr>\n",
       "    <tr>\n",
       "      <th>3</th>\n",
       "      <td>Afghanistan</td>\n",
       "      <td>Asia</td>\n",
       "      <td>1967</td>\n",
       "      <td>34.020</td>\n",
       "      <td>11537966</td>\n",
       "      <td>836.197138</td>\n",
       "    </tr>\n",
       "    <tr>\n",
       "      <th>4</th>\n",
       "      <td>Afghanistan</td>\n",
       "      <td>Asia</td>\n",
       "      <td>1972</td>\n",
       "      <td>36.088</td>\n",
       "      <td>13079460</td>\n",
       "      <td>739.981106</td>\n",
       "    </tr>\n",
       "  </tbody>\n",
       "</table>\n",
       "</div>"
      ],
      "text/plain": [
       "       country continent  year  lifeExp       pop   gdpPercap\n",
       "0  Afghanistan      Asia  1952   28.801   8425333  779.445314\n",
       "1  Afghanistan      Asia  1957   30.332   9240934  820.853030\n",
       "2  Afghanistan      Asia  1962   31.997  10267083  853.100710\n",
       "3  Afghanistan      Asia  1967   34.020  11537966  836.197138\n",
       "4  Afghanistan      Asia  1972   36.088  13079460  739.981106"
      ]
     },
     "execution_count": 3,
     "metadata": {},
     "output_type": "execute_result"
    }
   ],
   "source": [
    "data.head()"
   ]
  },
  {
   "cell_type": "markdown",
   "metadata": {},
   "source": [
    "## Life expectancy over time"
   ]
  },
  {
   "cell_type": "markdown",
   "metadata": {},
   "source": [
    "Create an `alt.Chart` with Altair to explore life expectancy over time:\n",
    "\n",
    "* Use a line mark.\n",
    "* Encode `year` as the x position with a `timeUnit` of `year`.\n",
    "* Encode the `mean` of `lifeExp` as the y position.\n",
    "* Encode `continent` as the color with a nominal datatype."
   ]
  },
  {
   "cell_type": "code",
   "execution_count": 4,
   "metadata": {
    "deletable": false,
    "nbgrader": {
     "checksum": "5e5da95fbfff272c7698c2e116bd206b",
     "grade": true,
     "grade_id": "cell-0294a793e3c1ec0c",
     "locked": false,
     "points": 4,
     "schema_version": 1,
     "solution": true
    }
   },
   "outputs": [
    {
     "data": {
      "application/vnd.vegalite.v1+json": {
       "$schema": "https://vega.github.io/schema/vega-lite/v1.2.1.json",
       "data": {
        "values": [
         {
          "continent": "Asia",
          "country": "Afghanistan",
          "gdpPercap": 779.4453145,
          "lifeExp": 28.801,
          "pop": 8425333,
          "year": 1952
         },
         {
          "continent": "Asia",
          "country": "Afghanistan",
          "gdpPercap": 820.8530296,
          "lifeExp": 30.331999999999997,
          "pop": 9240934,
          "year": 1957
         },
         {
          "continent": "Asia",
          "country": "Afghanistan",
          "gdpPercap": 853.1007099999999,
          "lifeExp": 31.997,
          "pop": 10267083,
          "year": 1962
         },
         {
          "continent": "Asia",
          "country": "Afghanistan",
          "gdpPercap": 836.1971382,
          "lifeExp": 34.02,
          "pop": 11537966,
          "year": 1967
         },
         {
          "continent": "Asia",
          "country": "Afghanistan",
          "gdpPercap": 739.9811057999999,
          "lifeExp": 36.088,
          "pop": 13079460,
          "year": 1972
         },
         {
          "continent": "Asia",
          "country": "Afghanistan",
          "gdpPercap": 786.11336,
          "lifeExp": 38.438,
          "pop": 14880372,
          "year": 1977
         },
         {
          "continent": "Asia",
          "country": "Afghanistan",
          "gdpPercap": 978.0114388000001,
          "lifeExp": 39.854,
          "pop": 12881816,
          "year": 1982
         },
         {
          "continent": "Asia",
          "country": "Afghanistan",
          "gdpPercap": 852.3959447999999,
          "lifeExp": 40.821999999999996,
          "pop": 13867957,
          "year": 1987
         },
         {
          "continent": "Asia",
          "country": "Afghanistan",
          "gdpPercap": 649.3413952000001,
          "lifeExp": 41.674,
          "pop": 16317921,
          "year": 1992
         },
         {
          "continent": "Asia",
          "country": "Afghanistan",
          "gdpPercap": 635.341351,
          "lifeExp": 41.763000000000005,
          "pop": 22227415,
          "year": 1997
         },
         {
          "continent": "Asia",
          "country": "Afghanistan",
          "gdpPercap": 726.7340548,
          "lifeExp": 42.129,
          "pop": 25268405,
          "year": 2002
         },
         {
          "continent": "Asia",
          "country": "Afghanistan",
          "gdpPercap": 974.5803384,
          "lifeExp": 43.828,
          "pop": 31889923,
          "year": 2007
         },
         {
          "continent": "Europe",
          "country": "Albania",
          "gdpPercap": 1601.056136,
          "lifeExp": 55.23,
          "pop": 1282697,
          "year": 1952
         },
         {
          "continent": "Europe",
          "country": "Albania",
          "gdpPercap": 1942.2842440000002,
          "lifeExp": 59.28,
          "pop": 1476505,
          "year": 1957
         },
         {
          "continent": "Europe",
          "country": "Albania",
          "gdpPercap": 2312.888958,
          "lifeExp": 64.82,
          "pop": 1728137,
          "year": 1962
         },
         {
          "continent": "Europe",
          "country": "Albania",
          "gdpPercap": 2760.196931,
          "lifeExp": 66.22,
          "pop": 1984060,
          "year": 1967
         },
         {
          "continent": "Europe",
          "country": "Albania",
          "gdpPercap": 3313.422188,
          "lifeExp": 67.69,
          "pop": 2263554,
          "year": 1972
         },
         {
          "continent": "Europe",
          "country": "Albania",
          "gdpPercap": 3533.0039100000004,
          "lifeExp": 68.93,
          "pop": 2509048,
          "year": 1977
         },
         {
          "continent": "Europe",
          "country": "Albania",
          "gdpPercap": 3630.880722,
          "lifeExp": 70.42,
          "pop": 2780097,
          "year": 1982
         },
         {
          "continent": "Europe",
          "country": "Albania",
          "gdpPercap": 3738.9327350000003,
          "lifeExp": 72,
          "pop": 3075321,
          "year": 1987
         },
         {
          "continent": "Europe",
          "country": "Albania",
          "gdpPercap": 2497.4379010000002,
          "lifeExp": 71.581,
          "pop": 3326498,
          "year": 1992
         },
         {
          "continent": "Europe",
          "country": "Albania",
          "gdpPercap": 3193.054604,
          "lifeExp": 72.95,
          "pop": 3428038,
          "year": 1997
         },
         {
          "continent": "Europe",
          "country": "Albania",
          "gdpPercap": 4604.211737,
          "lifeExp": 75.65100000000001,
          "pop": 3508512,
          "year": 2002
         },
         {
          "continent": "Europe",
          "country": "Albania",
          "gdpPercap": 5937.029525999999,
          "lifeExp": 76.423,
          "pop": 3600523,
          "year": 2007
         },
         {
          "continent": "Africa",
          "country": "Algeria",
          "gdpPercap": 2449.008185,
          "lifeExp": 43.077,
          "pop": 9279525,
          "year": 1952
         },
         {
          "continent": "Africa",
          "country": "Algeria",
          "gdpPercap": 3013.976023,
          "lifeExp": 45.685,
          "pop": 10270856,
          "year": 1957
         },
         {
          "continent": "Africa",
          "country": "Algeria",
          "gdpPercap": 2550.81688,
          "lifeExp": 48.303000000000004,
          "pop": 11000948,
          "year": 1962
         },
         {
          "continent": "Africa",
          "country": "Algeria",
          "gdpPercap": 3246.991771,
          "lifeExp": 51.407,
          "pop": 12760499,
          "year": 1967
         },
         {
          "continent": "Africa",
          "country": "Algeria",
          "gdpPercap": 4182.663766,
          "lifeExp": 54.518,
          "pop": 14760787,
          "year": 1972
         },
         {
          "continent": "Africa",
          "country": "Algeria",
          "gdpPercap": 4910.4167560000005,
          "lifeExp": 58.013999999999996,
          "pop": 17152804,
          "year": 1977
         },
         {
          "continent": "Africa",
          "country": "Algeria",
          "gdpPercap": 5745.160213,
          "lifeExp": 61.368,
          "pop": 20033753,
          "year": 1982
         },
         {
          "continent": "Africa",
          "country": "Algeria",
          "gdpPercap": 5681.358539,
          "lifeExp": 65.79899999999999,
          "pop": 23254956,
          "year": 1987
         },
         {
          "continent": "Africa",
          "country": "Algeria",
          "gdpPercap": 5023.216647,
          "lifeExp": 67.744,
          "pop": 26298373,
          "year": 1992
         },
         {
          "continent": "Africa",
          "country": "Algeria",
          "gdpPercap": 4797.295051,
          "lifeExp": 69.152,
          "pop": 29072015,
          "year": 1997
         },
         {
          "continent": "Africa",
          "country": "Algeria",
          "gdpPercap": 5288.040382,
          "lifeExp": 70.994,
          "pop": 31287142,
          "year": 2002
         },
         {
          "continent": "Africa",
          "country": "Algeria",
          "gdpPercap": 6223.367465,
          "lifeExp": 72.301,
          "pop": 33333216,
          "year": 2007
         },
         {
          "continent": "Africa",
          "country": "Angola",
          "gdpPercap": 3520.610273,
          "lifeExp": 30.015,
          "pop": 4232095,
          "year": 1952
         },
         {
          "continent": "Africa",
          "country": "Angola",
          "gdpPercap": 3827.9404649999997,
          "lifeExp": 31.999000000000002,
          "pop": 4561361,
          "year": 1957
         },
         {
          "continent": "Africa",
          "country": "Angola",
          "gdpPercap": 4269.276742,
          "lifeExp": 34,
          "pop": 4826015,
          "year": 1962
         },
         {
          "continent": "Africa",
          "country": "Angola",
          "gdpPercap": 5522.776375,
          "lifeExp": 35.985,
          "pop": 5247469,
          "year": 1967
         },
         {
          "continent": "Africa",
          "country": "Angola",
          "gdpPercap": 5473.288004999999,
          "lifeExp": 37.928000000000004,
          "pop": 5894858,
          "year": 1972
         },
         {
          "continent": "Africa",
          "country": "Angola",
          "gdpPercap": 3008.647355,
          "lifeExp": 39.483000000000004,
          "pop": 6162675,
          "year": 1977
         },
         {
          "continent": "Africa",
          "country": "Angola",
          "gdpPercap": 2756.953672,
          "lifeExp": 39.942,
          "pop": 7016384,
          "year": 1982
         },
         {
          "continent": "Africa",
          "country": "Angola",
          "gdpPercap": 2430.208311,
          "lifeExp": 39.906,
          "pop": 7874230,
          "year": 1987
         },
         {
          "continent": "Africa",
          "country": "Angola",
          "gdpPercap": 2627.8456850000002,
          "lifeExp": 40.647,
          "pop": 8735988,
          "year": 1992
         },
         {
          "continent": "Africa",
          "country": "Angola",
          "gdpPercap": 2277.140884,
          "lifeExp": 40.963,
          "pop": 9875024,
          "year": 1997
         },
         {
          "continent": "Africa",
          "country": "Angola",
          "gdpPercap": 2773.287312,
          "lifeExp": 41.003,
          "pop": 10866106,
          "year": 2002
         },
         {
          "continent": "Africa",
          "country": "Angola",
          "gdpPercap": 4797.231267,
          "lifeExp": 42.731,
          "pop": 12420476,
          "year": 2007
         },
         {
          "continent": "Americas",
          "country": "Argentina",
          "gdpPercap": 5911.315053,
          "lifeExp": 62.485,
          "pop": 17876956,
          "year": 1952
         },
         {
          "continent": "Americas",
          "country": "Argentina",
          "gdpPercap": 6856.856212000001,
          "lifeExp": 64.399,
          "pop": 19610538,
          "year": 1957
         },
         {
          "continent": "Americas",
          "country": "Argentina",
          "gdpPercap": 7133.166023000001,
          "lifeExp": 65.142,
          "pop": 21283783,
          "year": 1962
         },
         {
          "continent": "Americas",
          "country": "Argentina",
          "gdpPercap": 8052.953020999999,
          "lifeExp": 65.634,
          "pop": 22934225,
          "year": 1967
         },
         {
          "continent": "Americas",
          "country": "Argentina",
          "gdpPercap": 9443.038526,
          "lifeExp": 67.065,
          "pop": 24779799,
          "year": 1972
         },
         {
          "continent": "Americas",
          "country": "Argentina",
          "gdpPercap": 10079.026740000001,
          "lifeExp": 68.48100000000001,
          "pop": 26983828,
          "year": 1977
         },
         {
          "continent": "Americas",
          "country": "Argentina",
          "gdpPercap": 8997.897412,
          "lifeExp": 69.942,
          "pop": 29341374,
          "year": 1982
         },
         {
          "continent": "Americas",
          "country": "Argentina",
          "gdpPercap": 9139.671389,
          "lifeExp": 70.774,
          "pop": 31620918,
          "year": 1987
         },
         {
          "continent": "Americas",
          "country": "Argentina",
          "gdpPercap": 9308.41871,
          "lifeExp": 71.868,
          "pop": 33958947,
          "year": 1992
         },
         {
          "continent": "Americas",
          "country": "Argentina",
          "gdpPercap": 10967.28195,
          "lifeExp": 73.275,
          "pop": 36203463,
          "year": 1997
         },
         {
          "continent": "Americas",
          "country": "Argentina",
          "gdpPercap": 8797.640716,
          "lifeExp": 74.34,
          "pop": 38331121,
          "year": 2002
         },
         {
          "continent": "Americas",
          "country": "Argentina",
          "gdpPercap": 12779.379640000001,
          "lifeExp": 75.32,
          "pop": 40301927,
          "year": 2007
         },
         {
          "continent": "Oceania",
          "country": "Australia",
          "gdpPercap": 10039.595640000001,
          "lifeExp": 69.12,
          "pop": 8691212,
          "year": 1952
         },
         {
          "continent": "Oceania",
          "country": "Australia",
          "gdpPercap": 10949.64959,
          "lifeExp": 70.33,
          "pop": 9712569,
          "year": 1957
         },
         {
          "continent": "Oceania",
          "country": "Australia",
          "gdpPercap": 12217.226859999999,
          "lifeExp": 70.93,
          "pop": 10794968,
          "year": 1962
         },
         {
          "continent": "Oceania",
          "country": "Australia",
          "gdpPercap": 14526.12465,
          "lifeExp": 71.1,
          "pop": 11872264,
          "year": 1967
         },
         {
          "continent": "Oceania",
          "country": "Australia",
          "gdpPercap": 16788.62948,
          "lifeExp": 71.93,
          "pop": 13177000,
          "year": 1972
         },
         {
          "continent": "Oceania",
          "country": "Australia",
          "gdpPercap": 18334.197509999998,
          "lifeExp": 73.49,
          "pop": 14074100,
          "year": 1977
         },
         {
          "continent": "Oceania",
          "country": "Australia",
          "gdpPercap": 19477.009280000002,
          "lifeExp": 74.74,
          "pop": 15184200,
          "year": 1982
         },
         {
          "continent": "Oceania",
          "country": "Australia",
          "gdpPercap": 21888.889030000002,
          "lifeExp": 76.32,
          "pop": 16257249,
          "year": 1987
         },
         {
          "continent": "Oceania",
          "country": "Australia",
          "gdpPercap": 23424.76683,
          "lifeExp": 77.56,
          "pop": 17481977,
          "year": 1992
         },
         {
          "continent": "Oceania",
          "country": "Australia",
          "gdpPercap": 26997.936569999998,
          "lifeExp": 78.83,
          "pop": 18565243,
          "year": 1997
         },
         {
          "continent": "Oceania",
          "country": "Australia",
          "gdpPercap": 30687.75473,
          "lifeExp": 80.37,
          "pop": 19546792,
          "year": 2002
         },
         {
          "continent": "Oceania",
          "country": "Australia",
          "gdpPercap": 34435.367439999995,
          "lifeExp": 81.235,
          "pop": 20434176,
          "year": 2007
         },
         {
          "continent": "Europe",
          "country": "Austria",
          "gdpPercap": 6137.076492,
          "lifeExp": 66.8,
          "pop": 6927772,
          "year": 1952
         },
         {
          "continent": "Europe",
          "country": "Austria",
          "gdpPercap": 8842.59803,
          "lifeExp": 67.48,
          "pop": 6965860,
          "year": 1957
         },
         {
          "continent": "Europe",
          "country": "Austria",
          "gdpPercap": 10750.721109999999,
          "lifeExp": 69.54,
          "pop": 7129864,
          "year": 1962
         },
         {
          "continent": "Europe",
          "country": "Austria",
          "gdpPercap": 12834.6024,
          "lifeExp": 70.14,
          "pop": 7376998,
          "year": 1967
         },
         {
          "continent": "Europe",
          "country": "Austria",
          "gdpPercap": 16661.6256,
          "lifeExp": 70.63,
          "pop": 7544201,
          "year": 1972
         },
         {
          "continent": "Europe",
          "country": "Austria",
          "gdpPercap": 19749.4223,
          "lifeExp": 72.17,
          "pop": 7568430,
          "year": 1977
         },
         {
          "continent": "Europe",
          "country": "Austria",
          "gdpPercap": 21597.083619999998,
          "lifeExp": 73.18,
          "pop": 7574613,
          "year": 1982
         },
         {
          "continent": "Europe",
          "country": "Austria",
          "gdpPercap": 23687.82607,
          "lifeExp": 74.94,
          "pop": 7578903,
          "year": 1987
         },
         {
          "continent": "Europe",
          "country": "Austria",
          "gdpPercap": 27042.01868,
          "lifeExp": 76.04,
          "pop": 7914969,
          "year": 1992
         },
         {
          "continent": "Europe",
          "country": "Austria",
          "gdpPercap": 29095.920660000003,
          "lifeExp": 77.51,
          "pop": 8069876,
          "year": 1997
         },
         {
          "continent": "Europe",
          "country": "Austria",
          "gdpPercap": 32417.607689999997,
          "lifeExp": 78.98,
          "pop": 8148312,
          "year": 2002
         },
         {
          "continent": "Europe",
          "country": "Austria",
          "gdpPercap": 36126.4927,
          "lifeExp": 79.829,
          "pop": 8199783,
          "year": 2007
         },
         {
          "continent": "Asia",
          "country": "Bahrain",
          "gdpPercap": 9867.084765000001,
          "lifeExp": 50.93899999999999,
          "pop": 120447,
          "year": 1952
         },
         {
          "continent": "Asia",
          "country": "Bahrain",
          "gdpPercap": 11635.79945,
          "lifeExp": 53.832,
          "pop": 138655,
          "year": 1957
         },
         {
          "continent": "Asia",
          "country": "Bahrain",
          "gdpPercap": 12753.27514,
          "lifeExp": 56.923,
          "pop": 171863,
          "year": 1962
         },
         {
          "continent": "Asia",
          "country": "Bahrain",
          "gdpPercap": 14804.6727,
          "lifeExp": 59.923,
          "pop": 202182,
          "year": 1967
         },
         {
          "continent": "Asia",
          "country": "Bahrain",
          "gdpPercap": 18268.65839,
          "lifeExp": 63.3,
          "pop": 230800,
          "year": 1972
         },
         {
          "continent": "Asia",
          "country": "Bahrain",
          "gdpPercap": 19340.10196,
          "lifeExp": 65.593,
          "pop": 297410,
          "year": 1977
         },
         {
          "continent": "Asia",
          "country": "Bahrain",
          "gdpPercap": 19211.14731,
          "lifeExp": 69.05199999999999,
          "pop": 377967,
          "year": 1982
         },
         {
          "continent": "Asia",
          "country": "Bahrain",
          "gdpPercap": 18524.02406,
          "lifeExp": 70.75,
          "pop": 454612,
          "year": 1987
         },
         {
          "continent": "Asia",
          "country": "Bahrain",
          "gdpPercap": 19035.579169999997,
          "lifeExp": 72.601,
          "pop": 529491,
          "year": 1992
         },
         {
          "continent": "Asia",
          "country": "Bahrain",
          "gdpPercap": 20292.01679,
          "lifeExp": 73.925,
          "pop": 598561,
          "year": 1997
         },
         {
          "continent": "Asia",
          "country": "Bahrain",
          "gdpPercap": 23403.559269999998,
          "lifeExp": 74.795,
          "pop": 656397,
          "year": 2002
         },
         {
          "continent": "Asia",
          "country": "Bahrain",
          "gdpPercap": 29796.048339999998,
          "lifeExp": 75.635,
          "pop": 708573,
          "year": 2007
         },
         {
          "continent": "Asia",
          "country": "Bangladesh",
          "gdpPercap": 684.2441716,
          "lifeExp": 37.484,
          "pop": 46886859,
          "year": 1952
         },
         {
          "continent": "Asia",
          "country": "Bangladesh",
          "gdpPercap": 661.6374577,
          "lifeExp": 39.348,
          "pop": 51365468,
          "year": 1957
         },
         {
          "continent": "Asia",
          "country": "Bangladesh",
          "gdpPercap": 686.3415537999999,
          "lifeExp": 41.216,
          "pop": 56839289,
          "year": 1962
         },
         {
          "continent": "Asia",
          "country": "Bangladesh",
          "gdpPercap": 721.1860862000001,
          "lifeExp": 43.453,
          "pop": 62821884,
          "year": 1967
         },
         {
          "continent": "Asia",
          "country": "Bangladesh",
          "gdpPercap": 630.2336265,
          "lifeExp": 45.251999999999995,
          "pop": 70759295,
          "year": 1972
         },
         {
          "continent": "Asia",
          "country": "Bangladesh",
          "gdpPercap": 659.8772322000001,
          "lifeExp": 46.923,
          "pop": 80428306,
          "year": 1977
         },
         {
          "continent": "Asia",
          "country": "Bangladesh",
          "gdpPercap": 676.9818656,
          "lifeExp": 50.00899999999999,
          "pop": 93074406,
          "year": 1982
         },
         {
          "continent": "Asia",
          "country": "Bangladesh",
          "gdpPercap": 751.9794035,
          "lifeExp": 52.818999999999996,
          "pop": 103764241,
          "year": 1987
         },
         {
          "continent": "Asia",
          "country": "Bangladesh",
          "gdpPercap": 837.8101642999999,
          "lifeExp": 56.018,
          "pop": 113704579,
          "year": 1992
         },
         {
          "continent": "Asia",
          "country": "Bangladesh",
          "gdpPercap": 972.7700352,
          "lifeExp": 59.412,
          "pop": 123315288,
          "year": 1997
         },
         {
          "continent": "Asia",
          "country": "Bangladesh",
          "gdpPercap": 1136.3904300000002,
          "lifeExp": 62.013000000000005,
          "pop": 135656790,
          "year": 2002
         },
         {
          "continent": "Asia",
          "country": "Bangladesh",
          "gdpPercap": 1391.253792,
          "lifeExp": 64.062,
          "pop": 150448339,
          "year": 2007
         },
         {
          "continent": "Europe",
          "country": "Belgium",
          "gdpPercap": 8343.105126999999,
          "lifeExp": 68,
          "pop": 8730405,
          "year": 1952
         },
         {
          "continent": "Europe",
          "country": "Belgium",
          "gdpPercap": 9714.960623,
          "lifeExp": 69.24,
          "pop": 8989111,
          "year": 1957
         },
         {
          "continent": "Europe",
          "country": "Belgium",
          "gdpPercap": 10991.20676,
          "lifeExp": 70.25,
          "pop": 9218400,
          "year": 1962
         },
         {
          "continent": "Europe",
          "country": "Belgium",
          "gdpPercap": 13149.04119,
          "lifeExp": 70.94,
          "pop": 9556500,
          "year": 1967
         },
         {
          "continent": "Europe",
          "country": "Belgium",
          "gdpPercap": 16672.14356,
          "lifeExp": 71.44,
          "pop": 9709100,
          "year": 1972
         },
         {
          "continent": "Europe",
          "country": "Belgium",
          "gdpPercap": 19117.97448,
          "lifeExp": 72.8,
          "pop": 9821800,
          "year": 1977
         },
         {
          "continent": "Europe",
          "country": "Belgium",
          "gdpPercap": 20979.84589,
          "lifeExp": 73.93,
          "pop": 9856303,
          "year": 1982
         },
         {
          "continent": "Europe",
          "country": "Belgium",
          "gdpPercap": 22525.56308,
          "lifeExp": 75.35,
          "pop": 9870200,
          "year": 1987
         },
         {
          "continent": "Europe",
          "country": "Belgium",
          "gdpPercap": 25575.57069,
          "lifeExp": 76.46,
          "pop": 10045622,
          "year": 1992
         },
         {
          "continent": "Europe",
          "country": "Belgium",
          "gdpPercap": 27561.196630000002,
          "lifeExp": 77.53,
          "pop": 10199787,
          "year": 1997
         },
         {
          "continent": "Europe",
          "country": "Belgium",
          "gdpPercap": 30485.88375,
          "lifeExp": 78.32,
          "pop": 10311970,
          "year": 2002
         },
         {
          "continent": "Europe",
          "country": "Belgium",
          "gdpPercap": 33692.60508,
          "lifeExp": 79.441,
          "pop": 10392226,
          "year": 2007
         },
         {
          "continent": "Africa",
          "country": "Benin",
          "gdpPercap": 1062.7522,
          "lifeExp": 38.223,
          "pop": 1738315,
          "year": 1952
         },
         {
          "continent": "Africa",
          "country": "Benin",
          "gdpPercap": 959.6010805,
          "lifeExp": 40.358000000000004,
          "pop": 1925173,
          "year": 1957
         },
         {
          "continent": "Africa",
          "country": "Benin",
          "gdpPercap": 949.4990641,
          "lifeExp": 42.618,
          "pop": 2151895,
          "year": 1962
         },
         {
          "continent": "Africa",
          "country": "Benin",
          "gdpPercap": 1035.831411,
          "lifeExp": 44.885,
          "pop": 2427334,
          "year": 1967
         },
         {
          "continent": "Africa",
          "country": "Benin",
          "gdpPercap": 1085.796879,
          "lifeExp": 47.013999999999996,
          "pop": 2761407,
          "year": 1972
         },
         {
          "continent": "Africa",
          "country": "Benin",
          "gdpPercap": 1029.161251,
          "lifeExp": 49.19,
          "pop": 3168267,
          "year": 1977
         },
         {
          "continent": "Africa",
          "country": "Benin",
          "gdpPercap": 1277.897616,
          "lifeExp": 50.903999999999996,
          "pop": 3641603,
          "year": 1982
         },
         {
          "continent": "Africa",
          "country": "Benin",
          "gdpPercap": 1225.85601,
          "lifeExp": 52.336999999999996,
          "pop": 4243788,
          "year": 1987
         },
         {
          "continent": "Africa",
          "country": "Benin",
          "gdpPercap": 1191.207681,
          "lifeExp": 53.919,
          "pop": 4981671,
          "year": 1992
         },
         {
          "continent": "Africa",
          "country": "Benin",
          "gdpPercap": 1232.975292,
          "lifeExp": 54.777,
          "pop": 6066080,
          "year": 1997
         },
         {
          "continent": "Africa",
          "country": "Benin",
          "gdpPercap": 1372.877931,
          "lifeExp": 54.406000000000006,
          "pop": 7026113,
          "year": 2002
         },
         {
          "continent": "Africa",
          "country": "Benin",
          "gdpPercap": 1441.284873,
          "lifeExp": 56.728,
          "pop": 8078314,
          "year": 2007
         },
         {
          "continent": "Americas",
          "country": "Bolivia",
          "gdpPercap": 2677.3263469999997,
          "lifeExp": 40.414,
          "pop": 2883315,
          "year": 1952
         },
         {
          "continent": "Americas",
          "country": "Bolivia",
          "gdpPercap": 2127.686326,
          "lifeExp": 41.89,
          "pop": 3211738,
          "year": 1957
         },
         {
          "continent": "Americas",
          "country": "Bolivia",
          "gdpPercap": 2180.972546,
          "lifeExp": 43.428000000000004,
          "pop": 3593918,
          "year": 1962
         },
         {
          "continent": "Americas",
          "country": "Bolivia",
          "gdpPercap": 2586.886053,
          "lifeExp": 45.032,
          "pop": 4040665,
          "year": 1967
         },
         {
          "continent": "Americas",
          "country": "Bolivia",
          "gdpPercap": 2980.331339,
          "lifeExp": 46.714,
          "pop": 4565872,
          "year": 1972
         },
         {
          "continent": "Americas",
          "country": "Bolivia",
          "gdpPercap": 3548.097832,
          "lifeExp": 50.023,
          "pop": 5079716,
          "year": 1977
         },
         {
          "continent": "Americas",
          "country": "Bolivia",
          "gdpPercap": 3156.510452,
          "lifeExp": 53.858999999999995,
          "pop": 5642224,
          "year": 1982
         },
         {
          "continent": "Americas",
          "country": "Bolivia",
          "gdpPercap": 2753.6914899999997,
          "lifeExp": 57.251000000000005,
          "pop": 6156369,
          "year": 1987
         },
         {
          "continent": "Americas",
          "country": "Bolivia",
          "gdpPercap": 2961.699694,
          "lifeExp": 59.957,
          "pop": 6893451,
          "year": 1992
         },
         {
          "continent": "Americas",
          "country": "Bolivia",
          "gdpPercap": 3326.143191,
          "lifeExp": 62.05,
          "pop": 7693188,
          "year": 1997
         },
         {
          "continent": "Americas",
          "country": "Bolivia",
          "gdpPercap": 3413.26269,
          "lifeExp": 63.883,
          "pop": 8445134,
          "year": 2002
         },
         {
          "continent": "Americas",
          "country": "Bolivia",
          "gdpPercap": 3822.1370840000004,
          "lifeExp": 65.554,
          "pop": 9119152,
          "year": 2007
         },
         {
          "continent": "Europe",
          "country": "Bosnia and Herzegovina",
          "gdpPercap": 973.5331947999999,
          "lifeExp": 53.82,
          "pop": 2791000,
          "year": 1952
         },
         {
          "continent": "Europe",
          "country": "Bosnia and Herzegovina",
          "gdpPercap": 1353.989176,
          "lifeExp": 58.45,
          "pop": 3076000,
          "year": 1957
         },
         {
          "continent": "Europe",
          "country": "Bosnia and Herzegovina",
          "gdpPercap": 1709.683679,
          "lifeExp": 61.93,
          "pop": 3349000,
          "year": 1962
         },
         {
          "continent": "Europe",
          "country": "Bosnia and Herzegovina",
          "gdpPercap": 2172.3524230000003,
          "lifeExp": 64.79,
          "pop": 3585000,
          "year": 1967
         },
         {
          "continent": "Europe",
          "country": "Bosnia and Herzegovina",
          "gdpPercap": 2860.16975,
          "lifeExp": 67.45,
          "pop": 3819000,
          "year": 1972
         },
         {
          "continent": "Europe",
          "country": "Bosnia and Herzegovina",
          "gdpPercap": 3528.481305,
          "lifeExp": 69.86,
          "pop": 4086000,
          "year": 1977
         },
         {
          "continent": "Europe",
          "country": "Bosnia and Herzegovina",
          "gdpPercap": 4126.613157,
          "lifeExp": 70.69,
          "pop": 4172693,
          "year": 1982
         },
         {
          "continent": "Europe",
          "country": "Bosnia and Herzegovina",
          "gdpPercap": 4314.114757,
          "lifeExp": 71.14,
          "pop": 4338977,
          "year": 1987
         },
         {
          "continent": "Europe",
          "country": "Bosnia and Herzegovina",
          "gdpPercap": 2546.781445,
          "lifeExp": 72.178,
          "pop": 4256013,
          "year": 1992
         },
         {
          "continent": "Europe",
          "country": "Bosnia and Herzegovina",
          "gdpPercap": 4766.355904,
          "lifeExp": 73.244,
          "pop": 3607000,
          "year": 1997
         },
         {
          "continent": "Europe",
          "country": "Bosnia and Herzegovina",
          "gdpPercap": 6018.975239,
          "lifeExp": 74.09,
          "pop": 4165416,
          "year": 2002
         },
         {
          "continent": "Europe",
          "country": "Bosnia and Herzegovina",
          "gdpPercap": 7446.298803,
          "lifeExp": 74.852,
          "pop": 4552198,
          "year": 2007
         },
         {
          "continent": "Africa",
          "country": "Botswana",
          "gdpPercap": 851.2411407,
          "lifeExp": 47.622,
          "pop": 442308,
          "year": 1952
         },
         {
          "continent": "Africa",
          "country": "Botswana",
          "gdpPercap": 918.2325348999999,
          "lifeExp": 49.618,
          "pop": 474639,
          "year": 1957
         },
         {
          "continent": "Africa",
          "country": "Botswana",
          "gdpPercap": 983.6539764,
          "lifeExp": 51.52,
          "pop": 512764,
          "year": 1962
         },
         {
          "continent": "Africa",
          "country": "Botswana",
          "gdpPercap": 1214.709294,
          "lifeExp": 53.298,
          "pop": 553541,
          "year": 1967
         },
         {
          "continent": "Africa",
          "country": "Botswana",
          "gdpPercap": 2263.6111140000003,
          "lifeExp": 56.023999999999994,
          "pop": 619351,
          "year": 1972
         },
         {
          "continent": "Africa",
          "country": "Botswana",
          "gdpPercap": 3214.857818,
          "lifeExp": 59.318999999999996,
          "pop": 781472,
          "year": 1977
         },
         {
          "continent": "Africa",
          "country": "Botswana",
          "gdpPercap": 4551.14215,
          "lifeExp": 61.483999999999995,
          "pop": 970347,
          "year": 1982
         },
         {
          "continent": "Africa",
          "country": "Botswana",
          "gdpPercap": 6205.88385,
          "lifeExp": 63.622,
          "pop": 1151184,
          "year": 1987
         },
         {
          "continent": "Africa",
          "country": "Botswana",
          "gdpPercap": 7954.111645,
          "lifeExp": 62.745,
          "pop": 1342614,
          "year": 1992
         },
         {
          "continent": "Africa",
          "country": "Botswana",
          "gdpPercap": 8647.142313,
          "lifeExp": 52.556000000000004,
          "pop": 1536536,
          "year": 1997
         },
         {
          "continent": "Africa",
          "country": "Botswana",
          "gdpPercap": 11003.60508,
          "lifeExp": 46.63399999999999,
          "pop": 1630347,
          "year": 2002
         },
         {
          "continent": "Africa",
          "country": "Botswana",
          "gdpPercap": 12569.851770000001,
          "lifeExp": 50.728,
          "pop": 1639131,
          "year": 2007
         },
         {
          "continent": "Americas",
          "country": "Brazil",
          "gdpPercap": 2108.944355,
          "lifeExp": 50.917,
          "pop": 56602560,
          "year": 1952
         },
         {
          "continent": "Americas",
          "country": "Brazil",
          "gdpPercap": 2487.365989,
          "lifeExp": 53.285,
          "pop": 65551171,
          "year": 1957
         },
         {
          "continent": "Americas",
          "country": "Brazil",
          "gdpPercap": 3336.585802,
          "lifeExp": 55.665,
          "pop": 76039390,
          "year": 1962
         },
         {
          "continent": "Americas",
          "country": "Brazil",
          "gdpPercap": 3429.864357,
          "lifeExp": 57.632,
          "pop": 88049823,
          "year": 1967
         },
         {
          "continent": "Americas",
          "country": "Brazil",
          "gdpPercap": 4985.711467,
          "lifeExp": 59.504,
          "pop": 100840058,
          "year": 1972
         },
         {
          "continent": "Americas",
          "country": "Brazil",
          "gdpPercap": 6660.118654,
          "lifeExp": 61.489,
          "pop": 114313951,
          "year": 1977
         },
         {
          "continent": "Americas",
          "country": "Brazil",
          "gdpPercap": 7030.835878,
          "lifeExp": 63.336000000000006,
          "pop": 128962939,
          "year": 1982
         },
         {
          "continent": "Americas",
          "country": "Brazil",
          "gdpPercap": 7807.095818000001,
          "lifeExp": 65.205,
          "pop": 142938076,
          "year": 1987
         },
         {
          "continent": "Americas",
          "country": "Brazil",
          "gdpPercap": 6950.283020999999,
          "lifeExp": 67.057,
          "pop": 155975974,
          "year": 1992
         },
         {
          "continent": "Americas",
          "country": "Brazil",
          "gdpPercap": 7957.980823999999,
          "lifeExp": 69.388,
          "pop": 168546719,
          "year": 1997
         },
         {
          "continent": "Americas",
          "country": "Brazil",
          "gdpPercap": 8131.212843000001,
          "lifeExp": 71.006,
          "pop": 179914212,
          "year": 2002
         },
         {
          "continent": "Americas",
          "country": "Brazil",
          "gdpPercap": 9065.800825,
          "lifeExp": 72.39,
          "pop": 190010647,
          "year": 2007
         },
         {
          "continent": "Europe",
          "country": "Bulgaria",
          "gdpPercap": 2444.2866480000002,
          "lifeExp": 59.6,
          "pop": 7274900,
          "year": 1952
         },
         {
          "continent": "Europe",
          "country": "Bulgaria",
          "gdpPercap": 3008.670727,
          "lifeExp": 66.61,
          "pop": 7651254,
          "year": 1957
         },
         {
          "continent": "Europe",
          "country": "Bulgaria",
          "gdpPercap": 4254.337839,
          "lifeExp": 69.51,
          "pop": 8012946,
          "year": 1962
         },
         {
          "continent": "Europe",
          "country": "Bulgaria",
          "gdpPercap": 5577.0028,
          "lifeExp": 70.42,
          "pop": 8310226,
          "year": 1967
         },
         {
          "continent": "Europe",
          "country": "Bulgaria",
          "gdpPercap": 6597.494398,
          "lifeExp": 70.9,
          "pop": 8576200,
          "year": 1972
         },
         {
          "continent": "Europe",
          "country": "Bulgaria",
          "gdpPercap": 7612.240438,
          "lifeExp": 70.81,
          "pop": 8797022,
          "year": 1977
         },
         {
          "continent": "Europe",
          "country": "Bulgaria",
          "gdpPercap": 8224.191647,
          "lifeExp": 71.08,
          "pop": 8892098,
          "year": 1982
         },
         {
          "continent": "Europe",
          "country": "Bulgaria",
          "gdpPercap": 8239.854824,
          "lifeExp": 71.34,
          "pop": 8971958,
          "year": 1987
         },
         {
          "continent": "Europe",
          "country": "Bulgaria",
          "gdpPercap": 6302.6234380000005,
          "lifeExp": 71.19,
          "pop": 8658506,
          "year": 1992
         },
         {
          "continent": "Europe",
          "country": "Bulgaria",
          "gdpPercap": 5970.38876,
          "lifeExp": 70.32,
          "pop": 8066057,
          "year": 1997
         },
         {
          "continent": "Europe",
          "country": "Bulgaria",
          "gdpPercap": 7696.777725,
          "lifeExp": 72.14,
          "pop": 7661799,
          "year": 2002
         },
         {
          "continent": "Europe",
          "country": "Bulgaria",
          "gdpPercap": 10680.79282,
          "lifeExp": 73.005,
          "pop": 7322858,
          "year": 2007
         },
         {
          "continent": "Africa",
          "country": "Burkina Faso",
          "gdpPercap": 543.2552413,
          "lifeExp": 31.975,
          "pop": 4469979,
          "year": 1952
         },
         {
          "continent": "Africa",
          "country": "Burkina Faso",
          "gdpPercap": 617.1834647999999,
          "lifeExp": 34.906,
          "pop": 4713416,
          "year": 1957
         },
         {
          "continent": "Africa",
          "country": "Burkina Faso",
          "gdpPercap": 722.5120206,
          "lifeExp": 37.814,
          "pop": 4919632,
          "year": 1962
         },
         {
          "continent": "Africa",
          "country": "Burkina Faso",
          "gdpPercap": 794.8265597,
          "lifeExp": 40.696999999999996,
          "pop": 5127935,
          "year": 1967
         },
         {
          "continent": "Africa",
          "country": "Burkina Faso",
          "gdpPercap": 854.7359763000001,
          "lifeExp": 43.591,
          "pop": 5433886,
          "year": 1972
         },
         {
          "continent": "Africa",
          "country": "Burkina Faso",
          "gdpPercap": 743.3870368,
          "lifeExp": 46.137,
          "pop": 5889574,
          "year": 1977
         },
         {
          "continent": "Africa",
          "country": "Burkina Faso",
          "gdpPercap": 807.1985855,
          "lifeExp": 48.122,
          "pop": 6634596,
          "year": 1982
         },
         {
          "continent": "Africa",
          "country": "Burkina Faso",
          "gdpPercap": 912.0631417000001,
          "lifeExp": 49.556999999999995,
          "pop": 7586551,
          "year": 1987
         },
         {
          "continent": "Africa",
          "country": "Burkina Faso",
          "gdpPercap": 931.7527731,
          "lifeExp": 50.26,
          "pop": 8878303,
          "year": 1992
         },
         {
          "continent": "Africa",
          "country": "Burkina Faso",
          "gdpPercap": 946.2949617999999,
          "lifeExp": 50.324,
          "pop": 10352843,
          "year": 1997
         },
         {
          "continent": "Africa",
          "country": "Burkina Faso",
          "gdpPercap": 1037.645221,
          "lifeExp": 50.65,
          "pop": 12251209,
          "year": 2002
         },
         {
          "continent": "Africa",
          "country": "Burkina Faso",
          "gdpPercap": 1217.032994,
          "lifeExp": 52.295,
          "pop": 14326203,
          "year": 2007
         },
         {
          "continent": "Africa",
          "country": "Burundi",
          "gdpPercap": 339.29645869999996,
          "lifeExp": 39.031,
          "pop": 2445618,
          "year": 1952
         },
         {
          "continent": "Africa",
          "country": "Burundi",
          "gdpPercap": 379.56462810000005,
          "lifeExp": 40.533,
          "pop": 2667518,
          "year": 1957
         },
         {
          "continent": "Africa",
          "country": "Burundi",
          "gdpPercap": 355.2032273,
          "lifeExp": 42.045,
          "pop": 2961915,
          "year": 1962
         },
         {
          "continent": "Africa",
          "country": "Burundi",
          "gdpPercap": 412.97751360000007,
          "lifeExp": 43.548,
          "pop": 3330989,
          "year": 1967
         },
         {
          "continent": "Africa",
          "country": "Burundi",
          "gdpPercap": 464.0995039,
          "lifeExp": 44.056999999999995,
          "pop": 3529983,
          "year": 1972
         },
         {
          "continent": "Africa",
          "country": "Burundi",
          "gdpPercap": 556.1032651,
          "lifeExp": 45.91,
          "pop": 3834415,
          "year": 1977
         },
         {
          "continent": "Africa",
          "country": "Burundi",
          "gdpPercap": 559.6032309999999,
          "lifeExp": 47.471000000000004,
          "pop": 4580410,
          "year": 1982
         },
         {
          "continent": "Africa",
          "country": "Burundi",
          "gdpPercap": 621.8188188999999,
          "lifeExp": 48.211000000000006,
          "pop": 5126023,
          "year": 1987
         },
         {
          "continent": "Africa",
          "country": "Burundi",
          "gdpPercap": 631.6998778,
          "lifeExp": 44.736000000000004,
          "pop": 5809236,
          "year": 1992
         },
         {
          "continent": "Africa",
          "country": "Burundi",
          "gdpPercap": 463.1151478,
          "lifeExp": 45.326,
          "pop": 6121610,
          "year": 1997
         },
         {
          "continent": "Africa",
          "country": "Burundi",
          "gdpPercap": 446.4035126,
          "lifeExp": 47.36,
          "pop": 7021078,
          "year": 2002
         },
         {
          "continent": "Africa",
          "country": "Burundi",
          "gdpPercap": 430.07069160000003,
          "lifeExp": 49.58,
          "pop": 8390505,
          "year": 2007
         },
         {
          "continent": "Asia",
          "country": "Cambodia",
          "gdpPercap": 368.46928560000003,
          "lifeExp": 39.417,
          "pop": 4693836,
          "year": 1952
         },
         {
          "continent": "Asia",
          "country": "Cambodia",
          "gdpPercap": 434.0383364,
          "lifeExp": 41.36600000000001,
          "pop": 5322536,
          "year": 1957
         },
         {
          "continent": "Asia",
          "country": "Cambodia",
          "gdpPercap": 496.9136476,
          "lifeExp": 43.415,
          "pop": 6083619,
          "year": 1962
         },
         {
          "continent": "Asia",
          "country": "Cambodia",
          "gdpPercap": 523.4323142,
          "lifeExp": 45.415,
          "pop": 6960067,
          "year": 1967
         },
         {
          "continent": "Asia",
          "country": "Cambodia",
          "gdpPercap": 421.6240257,
          "lifeExp": 40.317,
          "pop": 7450606,
          "year": 1972
         },
         {
          "continent": "Asia",
          "country": "Cambodia",
          "gdpPercap": 524.9721831999999,
          "lifeExp": 31.22,
          "pop": 6978607,
          "year": 1977
         },
         {
          "continent": "Asia",
          "country": "Cambodia",
          "gdpPercap": 624.4754784,
          "lifeExp": 50.957,
          "pop": 7272485,
          "year": 1982
         },
         {
          "continent": "Asia",
          "country": "Cambodia",
          "gdpPercap": 683.8955732000001,
          "lifeExp": 53.913999999999994,
          "pop": 8371791,
          "year": 1987
         },
         {
          "continent": "Asia",
          "country": "Cambodia",
          "gdpPercap": 682.3031755,
          "lifeExp": 55.803000000000004,
          "pop": 10150094,
          "year": 1992
         },
         {
          "continent": "Asia",
          "country": "Cambodia",
          "gdpPercap": 734.28517,
          "lifeExp": 56.534,
          "pop": 11782962,
          "year": 1997
         },
         {
          "continent": "Asia",
          "country": "Cambodia",
          "gdpPercap": 896.2260152999999,
          "lifeExp": 56.751999999999995,
          "pop": 12926707,
          "year": 2002
         },
         {
          "continent": "Asia",
          "country": "Cambodia",
          "gdpPercap": 1713.7786859999999,
          "lifeExp": 59.723,
          "pop": 14131858,
          "year": 2007
         },
         {
          "continent": "Africa",
          "country": "Cameroon",
          "gdpPercap": 1172.667655,
          "lifeExp": 38.523,
          "pop": 5009067,
          "year": 1952
         },
         {
          "continent": "Africa",
          "country": "Cameroon",
          "gdpPercap": 1313.048099,
          "lifeExp": 40.428000000000004,
          "pop": 5359923,
          "year": 1957
         },
         {
          "continent": "Africa",
          "country": "Cameroon",
          "gdpPercap": 1399.607441,
          "lifeExp": 42.643,
          "pop": 5793633,
          "year": 1962
         },
         {
          "continent": "Africa",
          "country": "Cameroon",
          "gdpPercap": 1508.453148,
          "lifeExp": 44.799,
          "pop": 6335506,
          "year": 1967
         },
         {
          "continent": "Africa",
          "country": "Cameroon",
          "gdpPercap": 1684.1465280000002,
          "lifeExp": 47.049,
          "pop": 7021028,
          "year": 1972
         },
         {
          "continent": "Africa",
          "country": "Cameroon",
          "gdpPercap": 1783.432873,
          "lifeExp": 49.355,
          "pop": 7959865,
          "year": 1977
         },
         {
          "continent": "Africa",
          "country": "Cameroon",
          "gdpPercap": 2367.983282,
          "lifeExp": 52.961000000000006,
          "pop": 9250831,
          "year": 1982
         },
         {
          "continent": "Africa",
          "country": "Cameroon",
          "gdpPercap": 2602.664206,
          "lifeExp": 54.985,
          "pop": 10780667,
          "year": 1987
         },
         {
          "continent": "Africa",
          "country": "Cameroon",
          "gdpPercap": 1793.1632780000002,
          "lifeExp": 54.31399999999999,
          "pop": 12467171,
          "year": 1992
         },
         {
          "continent": "Africa",
          "country": "Cameroon",
          "gdpPercap": 1694.337469,
          "lifeExp": 52.199,
          "pop": 14195809,
          "year": 1997
         },
         {
          "continent": "Africa",
          "country": "Cameroon",
          "gdpPercap": 1934.0114489999999,
          "lifeExp": 49.856,
          "pop": 15929988,
          "year": 2002
         },
         {
          "continent": "Africa",
          "country": "Cameroon",
          "gdpPercap": 2042.0952399999999,
          "lifeExp": 50.43,
          "pop": 17696293,
          "year": 2007
         },
         {
          "continent": "Americas",
          "country": "Canada",
          "gdpPercap": 11367.16112,
          "lifeExp": 68.75,
          "pop": 14785584,
          "year": 1952
         },
         {
          "continent": "Americas",
          "country": "Canada",
          "gdpPercap": 12489.95006,
          "lifeExp": 69.96,
          "pop": 17010154,
          "year": 1957
         },
         {
          "continent": "Americas",
          "country": "Canada",
          "gdpPercap": 13462.48555,
          "lifeExp": 71.3,
          "pop": 18985849,
          "year": 1962
         },
         {
          "continent": "Americas",
          "country": "Canada",
          "gdpPercap": 16076.58803,
          "lifeExp": 72.13,
          "pop": 20819767,
          "year": 1967
         },
         {
          "continent": "Americas",
          "country": "Canada",
          "gdpPercap": 18970.57086,
          "lifeExp": 72.88,
          "pop": 22284500,
          "year": 1972
         },
         {
          "continent": "Americas",
          "country": "Canada",
          "gdpPercap": 22090.88306,
          "lifeExp": 74.21,
          "pop": 23796400,
          "year": 1977
         },
         {
          "continent": "Americas",
          "country": "Canada",
          "gdpPercap": 22898.79214,
          "lifeExp": 75.76,
          "pop": 25201900,
          "year": 1982
         },
         {
          "continent": "Americas",
          "country": "Canada",
          "gdpPercap": 26626.515030000002,
          "lifeExp": 76.86,
          "pop": 26549700,
          "year": 1987
         },
         {
          "continent": "Americas",
          "country": "Canada",
          "gdpPercap": 26342.88426,
          "lifeExp": 77.95,
          "pop": 28523502,
          "year": 1992
         },
         {
          "continent": "Americas",
          "country": "Canada",
          "gdpPercap": 28954.92589,
          "lifeExp": 78.61,
          "pop": 30305843,
          "year": 1997
         },
         {
          "continent": "Americas",
          "country": "Canada",
          "gdpPercap": 33328.96507,
          "lifeExp": 79.77,
          "pop": 31902268,
          "year": 2002
         },
         {
          "continent": "Americas",
          "country": "Canada",
          "gdpPercap": 36319.235010000004,
          "lifeExp": 80.653,
          "pop": 33390141,
          "year": 2007
         },
         {
          "continent": "Africa",
          "country": "Central African Republic",
          "gdpPercap": 1071.310713,
          "lifeExp": 35.463,
          "pop": 1291695,
          "year": 1952
         },
         {
          "continent": "Africa",
          "country": "Central African Republic",
          "gdpPercap": 1190.844328,
          "lifeExp": 37.464,
          "pop": 1392284,
          "year": 1957
         },
         {
          "continent": "Africa",
          "country": "Central African Republic",
          "gdpPercap": 1193.068753,
          "lifeExp": 39.475,
          "pop": 1523478,
          "year": 1962
         },
         {
          "continent": "Africa",
          "country": "Central African Republic",
          "gdpPercap": 1136.056615,
          "lifeExp": 41.478,
          "pop": 1733638,
          "year": 1967
         },
         {
          "continent": "Africa",
          "country": "Central African Republic",
          "gdpPercap": 1070.013275,
          "lifeExp": 43.457,
          "pop": 1927260,
          "year": 1972
         },
         {
          "continent": "Africa",
          "country": "Central African Republic",
          "gdpPercap": 1109.374338,
          "lifeExp": 46.775,
          "pop": 2167533,
          "year": 1977
         },
         {
          "continent": "Africa",
          "country": "Central African Republic",
          "gdpPercap": 956.7529906999999,
          "lifeExp": 48.295,
          "pop": 2476971,
          "year": 1982
         },
         {
          "continent": "Africa",
          "country": "Central African Republic",
          "gdpPercap": 844.8763504000001,
          "lifeExp": 50.485,
          "pop": 2840009,
          "year": 1987
         },
         {
          "continent": "Africa",
          "country": "Central African Republic",
          "gdpPercap": 747.9055252,
          "lifeExp": 49.396,
          "pop": 3265124,
          "year": 1992
         },
         {
          "continent": "Africa",
          "country": "Central African Republic",
          "gdpPercap": 740.5063317,
          "lifeExp": 46.066,
          "pop": 3696513,
          "year": 1997
         },
         {
          "continent": "Africa",
          "country": "Central African Republic",
          "gdpPercap": 738.6906068,
          "lifeExp": 43.308,
          "pop": 4048013,
          "year": 2002
         },
         {
          "continent": "Africa",
          "country": "Central African Republic",
          "gdpPercap": 706.016537,
          "lifeExp": 44.74100000000001,
          "pop": 4369038,
          "year": 2007
         },
         {
          "continent": "Africa",
          "country": "Chad",
          "gdpPercap": 1178.665927,
          "lifeExp": 38.092,
          "pop": 2682462,
          "year": 1952
         },
         {
          "continent": "Africa",
          "country": "Chad",
          "gdpPercap": 1308.495577,
          "lifeExp": 39.881,
          "pop": 2894855,
          "year": 1957
         },
         {
          "continent": "Africa",
          "country": "Chad",
          "gdpPercap": 1389.817618,
          "lifeExp": 41.716,
          "pop": 3150417,
          "year": 1962
         },
         {
          "continent": "Africa",
          "country": "Chad",
          "gdpPercap": 1196.810565,
          "lifeExp": 43.601000000000006,
          "pop": 3495967,
          "year": 1967
         },
         {
          "continent": "Africa",
          "country": "Chad",
          "gdpPercap": 1104.103987,
          "lifeExp": 45.568999999999996,
          "pop": 3899068,
          "year": 1972
         },
         {
          "continent": "Africa",
          "country": "Chad",
          "gdpPercap": 1133.98495,
          "lifeExp": 47.383,
          "pop": 4388260,
          "year": 1977
         },
         {
          "continent": "Africa",
          "country": "Chad",
          "gdpPercap": 797.9081006,
          "lifeExp": 49.516999999999996,
          "pop": 4875118,
          "year": 1982
         },
         {
          "continent": "Africa",
          "country": "Chad",
          "gdpPercap": 952.3861289999999,
          "lifeExp": 51.051,
          "pop": 5498955,
          "year": 1987
         },
         {
          "continent": "Africa",
          "country": "Chad",
          "gdpPercap": 1058.0643,
          "lifeExp": 51.724,
          "pop": 6429417,
          "year": 1992
         },
         {
          "continent": "Africa",
          "country": "Chad",
          "gdpPercap": 1004.9613529999999,
          "lifeExp": 51.573,
          "pop": 7562011,
          "year": 1997
         },
         {
          "continent": "Africa",
          "country": "Chad",
          "gdpPercap": 1156.18186,
          "lifeExp": 50.525,
          "pop": 8835739,
          "year": 2002
         },
         {
          "continent": "Africa",
          "country": "Chad",
          "gdpPercap": 1704.0637239999999,
          "lifeExp": 50.651,
          "pop": 10238807,
          "year": 2007
         },
         {
          "continent": "Americas",
          "country": "Chile",
          "gdpPercap": 3939.9787890000002,
          "lifeExp": 54.745,
          "pop": 6377619,
          "year": 1952
         },
         {
          "continent": "Americas",
          "country": "Chile",
          "gdpPercap": 4315.6227229999995,
          "lifeExp": 56.074,
          "pop": 7048426,
          "year": 1957
         },
         {
          "continent": "Americas",
          "country": "Chile",
          "gdpPercap": 4519.094331,
          "lifeExp": 57.924,
          "pop": 7961258,
          "year": 1962
         },
         {
          "continent": "Americas",
          "country": "Chile",
          "gdpPercap": 5106.654313,
          "lifeExp": 60.523,
          "pop": 8858908,
          "year": 1967
         },
         {
          "continent": "Americas",
          "country": "Chile",
          "gdpPercap": 5494.024437,
          "lifeExp": 63.441,
          "pop": 9717524,
          "year": 1972
         },
         {
          "continent": "Americas",
          "country": "Chile",
          "gdpPercap": 4756.763836,
          "lifeExp": 67.05199999999999,
          "pop": 10599793,
          "year": 1977
         },
         {
          "continent": "Americas",
          "country": "Chile",
          "gdpPercap": 5095.665738000001,
          "lifeExp": 70.565,
          "pop": 11487112,
          "year": 1982
         },
         {
          "continent": "Americas",
          "country": "Chile",
          "gdpPercap": 5547.063754,
          "lifeExp": 72.492,
          "pop": 12463354,
          "year": 1987
         },
         {
          "continent": "Americas",
          "country": "Chile",
          "gdpPercap": 7596.125964,
          "lifeExp": 74.126,
          "pop": 13572994,
          "year": 1992
         },
         {
          "continent": "Americas",
          "country": "Chile",
          "gdpPercap": 10118.053179999999,
          "lifeExp": 75.816,
          "pop": 14599929,
          "year": 1997
         },
         {
          "continent": "Americas",
          "country": "Chile",
          "gdpPercap": 10778.78385,
          "lifeExp": 77.86,
          "pop": 15497046,
          "year": 2002
         },
         {
          "continent": "Americas",
          "country": "Chile",
          "gdpPercap": 13171.63885,
          "lifeExp": 78.553,
          "pop": 16284741,
          "year": 2007
         },
         {
          "continent": "Asia",
          "country": "China",
          "gdpPercap": 400.44861099999997,
          "lifeExp": 44,
          "pop": 556263527,
          "year": 1952
         },
         {
          "continent": "Asia",
          "country": "China",
          "gdpPercap": 575.9870009,
          "lifeExp": 50.54896,
          "pop": 637408000,
          "year": 1957
         },
         {
          "continent": "Asia",
          "country": "China",
          "gdpPercap": 487.6740183,
          "lifeExp": 44.50136,
          "pop": 665770000,
          "year": 1962
         },
         {
          "continent": "Asia",
          "country": "China",
          "gdpPercap": 612.7056934,
          "lifeExp": 58.381119999999996,
          "pop": 754550000,
          "year": 1967
         },
         {
          "continent": "Asia",
          "country": "China",
          "gdpPercap": 676.9000921,
          "lifeExp": 63.118880000000004,
          "pop": 862030000,
          "year": 1972
         },
         {
          "continent": "Asia",
          "country": "China",
          "gdpPercap": 741.2374699,
          "lifeExp": 63.96736,
          "pop": 943455000,
          "year": 1977
         },
         {
          "continent": "Asia",
          "country": "China",
          "gdpPercap": 962.4213804999999,
          "lifeExp": 65.525,
          "pop": 1000281000,
          "year": 1982
         },
         {
          "continent": "Asia",
          "country": "China",
          "gdpPercap": 1378.904018,
          "lifeExp": 67.274,
          "pop": 1084035000,
          "year": 1987
         },
         {
          "continent": "Asia",
          "country": "China",
          "gdpPercap": 1655.784158,
          "lifeExp": 68.69,
          "pop": 1164970000,
          "year": 1992
         },
         {
          "continent": "Asia",
          "country": "China",
          "gdpPercap": 2289.234136,
          "lifeExp": 70.426,
          "pop": 1230075000,
          "year": 1997
         },
         {
          "continent": "Asia",
          "country": "China",
          "gdpPercap": 3119.280896,
          "lifeExp": 72.028,
          "pop": 1280400000,
          "year": 2002
         },
         {
          "continent": "Asia",
          "country": "China",
          "gdpPercap": 4959.1148539999995,
          "lifeExp": 72.961,
          "pop": 1318683096,
          "year": 2007
         },
         {
          "continent": "Americas",
          "country": "Colombia",
          "gdpPercap": 2144.115096,
          "lifeExp": 50.643,
          "pop": 12350771,
          "year": 1952
         },
         {
          "continent": "Americas",
          "country": "Colombia",
          "gdpPercap": 2323.805581,
          "lifeExp": 55.118,
          "pop": 14485993,
          "year": 1957
         },
         {
          "continent": "Americas",
          "country": "Colombia",
          "gdpPercap": 2492.351109,
          "lifeExp": 57.863,
          "pop": 17009885,
          "year": 1962
         },
         {
          "continent": "Americas",
          "country": "Colombia",
          "gdpPercap": 2678.729839,
          "lifeExp": 59.963,
          "pop": 19764027,
          "year": 1967
         },
         {
          "continent": "Americas",
          "country": "Colombia",
          "gdpPercap": 3264.660041,
          "lifeExp": 61.623000000000005,
          "pop": 22542890,
          "year": 1972
         },
         {
          "continent": "Americas",
          "country": "Colombia",
          "gdpPercap": 3815.80787,
          "lifeExp": 63.836999999999996,
          "pop": 25094412,
          "year": 1977
         },
         {
          "continent": "Americas",
          "country": "Colombia",
          "gdpPercap": 4397.575659,
          "lifeExp": 66.653,
          "pop": 27764644,
          "year": 1982
         },
         {
          "continent": "Americas",
          "country": "Colombia",
          "gdpPercap": 4903.2191,
          "lifeExp": 67.768,
          "pop": 30964245,
          "year": 1987
         },
         {
          "continent": "Americas",
          "country": "Colombia",
          "gdpPercap": 5444.648617,
          "lifeExp": 68.421,
          "pop": 34202721,
          "year": 1992
         },
         {
          "continent": "Americas",
          "country": "Colombia",
          "gdpPercap": 6117.3617460000005,
          "lifeExp": 70.313,
          "pop": 37657830,
          "year": 1997
         },
         {
          "continent": "Americas",
          "country": "Colombia",
          "gdpPercap": 5755.259962,
          "lifeExp": 71.682,
          "pop": 41008227,
          "year": 2002
         },
         {
          "continent": "Americas",
          "country": "Colombia",
          "gdpPercap": 7006.580419,
          "lifeExp": 72.889,
          "pop": 44227550,
          "year": 2007
         },
         {
          "continent": "Africa",
          "country": "Comoros",
          "gdpPercap": 1102.990936,
          "lifeExp": 40.715,
          "pop": 153936,
          "year": 1952
         },
         {
          "continent": "Africa",
          "country": "Comoros",
          "gdpPercap": 1211.1485480000001,
          "lifeExp": 42.46,
          "pop": 170928,
          "year": 1957
         },
         {
          "continent": "Africa",
          "country": "Comoros",
          "gdpPercap": 1406.648278,
          "lifeExp": 44.467,
          "pop": 191689,
          "year": 1962
         },
         {
          "continent": "Africa",
          "country": "Comoros",
          "gdpPercap": 1876.029643,
          "lifeExp": 46.472,
          "pop": 217378,
          "year": 1967
         },
         {
          "continent": "Africa",
          "country": "Comoros",
          "gdpPercap": 1937.577675,
          "lifeExp": 48.943999999999996,
          "pop": 250027,
          "year": 1972
         },
         {
          "continent": "Africa",
          "country": "Comoros",
          "gdpPercap": 1172.603047,
          "lifeExp": 50.93899999999999,
          "pop": 304739,
          "year": 1977
         },
         {
          "continent": "Africa",
          "country": "Comoros",
          "gdpPercap": 1267.100083,
          "lifeExp": 52.933,
          "pop": 348643,
          "year": 1982
         },
         {
          "continent": "Africa",
          "country": "Comoros",
          "gdpPercap": 1315.980812,
          "lifeExp": 54.926,
          "pop": 395114,
          "year": 1987
         },
         {
          "continent": "Africa",
          "country": "Comoros",
          "gdpPercap": 1246.90737,
          "lifeExp": 57.93899999999999,
          "pop": 454429,
          "year": 1992
         },
         {
          "continent": "Africa",
          "country": "Comoros",
          "gdpPercap": 1173.618235,
          "lifeExp": 60.66,
          "pop": 527982,
          "year": 1997
         },
         {
          "continent": "Africa",
          "country": "Comoros",
          "gdpPercap": 1075.811558,
          "lifeExp": 62.974,
          "pop": 614382,
          "year": 2002
         },
         {
          "continent": "Africa",
          "country": "Comoros",
          "gdpPercap": 986.1478792000001,
          "lifeExp": 65.152,
          "pop": 710960,
          "year": 2007
         },
         {
          "continent": "Africa",
          "country": "Congo, Dem. Rep.",
          "gdpPercap": 780.5423257,
          "lifeExp": 39.143,
          "pop": 14100005,
          "year": 1952
         },
         {
          "continent": "Africa",
          "country": "Congo, Dem. Rep.",
          "gdpPercap": 905.8602302999999,
          "lifeExp": 40.652,
          "pop": 15577932,
          "year": 1957
         },
         {
          "continent": "Africa",
          "country": "Congo, Dem. Rep.",
          "gdpPercap": 896.3146335000001,
          "lifeExp": 42.122,
          "pop": 17486434,
          "year": 1962
         },
         {
          "continent": "Africa",
          "country": "Congo, Dem. Rep.",
          "gdpPercap": 861.5932424,
          "lifeExp": 44.056000000000004,
          "pop": 19941073,
          "year": 1967
         },
         {
          "continent": "Africa",
          "country": "Congo, Dem. Rep.",
          "gdpPercap": 904.8960685000001,
          "lifeExp": 45.989,
          "pop": 23007669,
          "year": 1972
         },
         {
          "continent": "Africa",
          "country": "Congo, Dem. Rep.",
          "gdpPercap": 795.757282,
          "lifeExp": 47.803999999999995,
          "pop": 26480870,
          "year": 1977
         },
         {
          "continent": "Africa",
          "country": "Congo, Dem. Rep.",
          "gdpPercap": 673.7478181,
          "lifeExp": 47.784,
          "pop": 30646495,
          "year": 1982
         },
         {
          "continent": "Africa",
          "country": "Congo, Dem. Rep.",
          "gdpPercap": 672.774812,
          "lifeExp": 47.412,
          "pop": 35481645,
          "year": 1987
         },
         {
          "continent": "Africa",
          "country": "Congo, Dem. Rep.",
          "gdpPercap": 457.7191807,
          "lifeExp": 45.548,
          "pop": 41672143,
          "year": 1992
         },
         {
          "continent": "Africa",
          "country": "Congo, Dem. Rep.",
          "gdpPercap": 312.188423,
          "lifeExp": 42.586999999999996,
          "pop": 47798986,
          "year": 1997
         },
         {
          "continent": "Africa",
          "country": "Congo, Dem. Rep.",
          "gdpPercap": 241.16587650000002,
          "lifeExp": 44.966,
          "pop": 55379852,
          "year": 2002
         },
         {
          "continent": "Africa",
          "country": "Congo, Dem. Rep.",
          "gdpPercap": 277.55185869999997,
          "lifeExp": 46.461999999999996,
          "pop": 64606759,
          "year": 2007
         },
         {
          "continent": "Africa",
          "country": "Congo, Rep.",
          "gdpPercap": 2125.621418,
          "lifeExp": 42.111000000000004,
          "pop": 854885,
          "year": 1952
         },
         {
          "continent": "Africa",
          "country": "Congo, Rep.",
          "gdpPercap": 2315.056572,
          "lifeExp": 45.053000000000004,
          "pop": 940458,
          "year": 1957
         },
         {
          "continent": "Africa",
          "country": "Congo, Rep.",
          "gdpPercap": 2464.783157,
          "lifeExp": 48.435,
          "pop": 1047924,
          "year": 1962
         },
         {
          "continent": "Africa",
          "country": "Congo, Rep.",
          "gdpPercap": 2677.9396420000003,
          "lifeExp": 52.04,
          "pop": 1179760,
          "year": 1967
         },
         {
          "continent": "Africa",
          "country": "Congo, Rep.",
          "gdpPercap": 3213.152683,
          "lifeExp": 54.907,
          "pop": 1340458,
          "year": 1972
         },
         {
          "continent": "Africa",
          "country": "Congo, Rep.",
          "gdpPercap": 3259.178978,
          "lifeExp": 55.625,
          "pop": 1536769,
          "year": 1977
         },
         {
          "continent": "Africa",
          "country": "Congo, Rep.",
          "gdpPercap": 4879.507522,
          "lifeExp": 56.695,
          "pop": 1774735,
          "year": 1982
         },
         {
          "continent": "Africa",
          "country": "Congo, Rep.",
          "gdpPercap": 4201.194936999999,
          "lifeExp": 57.47,
          "pop": 2064095,
          "year": 1987
         },
         {
          "continent": "Africa",
          "country": "Congo, Rep.",
          "gdpPercap": 4016.239529,
          "lifeExp": 56.433,
          "pop": 2409073,
          "year": 1992
         },
         {
          "continent": "Africa",
          "country": "Congo, Rep.",
          "gdpPercap": 3484.1643759999997,
          "lifeExp": 52.961999999999996,
          "pop": 2800947,
          "year": 1997
         },
         {
          "continent": "Africa",
          "country": "Congo, Rep.",
          "gdpPercap": 3484.06197,
          "lifeExp": 52.97,
          "pop": 3328795,
          "year": 2002
         },
         {
          "continent": "Africa",
          "country": "Congo, Rep.",
          "gdpPercap": 3632.557798,
          "lifeExp": 55.321999999999996,
          "pop": 3800610,
          "year": 2007
         },
         {
          "continent": "Americas",
          "country": "Costa Rica",
          "gdpPercap": 2627.0094710000003,
          "lifeExp": 57.206,
          "pop": 926317,
          "year": 1952
         },
         {
          "continent": "Americas",
          "country": "Costa Rica",
          "gdpPercap": 2990.010802,
          "lifeExp": 60.026,
          "pop": 1112300,
          "year": 1957
         },
         {
          "continent": "Americas",
          "country": "Costa Rica",
          "gdpPercap": 3460.937025,
          "lifeExp": 62.842,
          "pop": 1345187,
          "year": 1962
         },
         {
          "continent": "Americas",
          "country": "Costa Rica",
          "gdpPercap": 4161.727834,
          "lifeExp": 65.42399999999999,
          "pop": 1588717,
          "year": 1967
         },
         {
          "continent": "Americas",
          "country": "Costa Rica",
          "gdpPercap": 5118.146939,
          "lifeExp": 67.84899999999999,
          "pop": 1834796,
          "year": 1972
         },
         {
          "continent": "Americas",
          "country": "Costa Rica",
          "gdpPercap": 5926.876967,
          "lifeExp": 70.75,
          "pop": 2108457,
          "year": 1977
         },
         {
          "continent": "Americas",
          "country": "Costa Rica",
          "gdpPercap": 5262.734751,
          "lifeExp": 73.45,
          "pop": 2424367,
          "year": 1982
         },
         {
          "continent": "Americas",
          "country": "Costa Rica",
          "gdpPercap": 5629.915318,
          "lifeExp": 74.752,
          "pop": 2799811,
          "year": 1987
         },
         {
          "continent": "Americas",
          "country": "Costa Rica",
          "gdpPercap": 6160.416317,
          "lifeExp": 75.71300000000001,
          "pop": 3173216,
          "year": 1992
         },
         {
          "continent": "Americas",
          "country": "Costa Rica",
          "gdpPercap": 6677.045314,
          "lifeExp": 77.26,
          "pop": 3518107,
          "year": 1997
         },
         {
          "continent": "Americas",
          "country": "Costa Rica",
          "gdpPercap": 7723.447195000001,
          "lifeExp": 78.123,
          "pop": 3834934,
          "year": 2002
         },
         {
          "continent": "Americas",
          "country": "Costa Rica",
          "gdpPercap": 9645.06142,
          "lifeExp": 78.782,
          "pop": 4133884,
          "year": 2007
         },
         {
          "continent": "Africa",
          "country": "Cote d'Ivoire",
          "gdpPercap": 1388.594732,
          "lifeExp": 40.477,
          "pop": 2977019,
          "year": 1952
         },
         {
          "continent": "Africa",
          "country": "Cote d'Ivoire",
          "gdpPercap": 1500.895925,
          "lifeExp": 42.468999999999994,
          "pop": 3300000,
          "year": 1957
         },
         {
          "continent": "Africa",
          "country": "Cote d'Ivoire",
          "gdpPercap": 1728.8694280000002,
          "lifeExp": 44.93,
          "pop": 3832408,
          "year": 1962
         },
         {
          "continent": "Africa",
          "country": "Cote d'Ivoire",
          "gdpPercap": 2052.0504730000002,
          "lifeExp": 47.35,
          "pop": 4744870,
          "year": 1967
         },
         {
          "continent": "Africa",
          "country": "Cote d'Ivoire",
          "gdpPercap": 2378.201111,
          "lifeExp": 49.801,
          "pop": 6071696,
          "year": 1972
         },
         {
          "continent": "Africa",
          "country": "Cote d'Ivoire",
          "gdpPercap": 2517.736547,
          "lifeExp": 52.373999999999995,
          "pop": 7459574,
          "year": 1977
         },
         {
          "continent": "Africa",
          "country": "Cote d'Ivoire",
          "gdpPercap": 2602.710169,
          "lifeExp": 53.983000000000004,
          "pop": 9025951,
          "year": 1982
         },
         {
          "continent": "Africa",
          "country": "Cote d'Ivoire",
          "gdpPercap": 2156.9560690000003,
          "lifeExp": 54.655,
          "pop": 10761098,
          "year": 1987
         },
         {
          "continent": "Africa",
          "country": "Cote d'Ivoire",
          "gdpPercap": 1648.073791,
          "lifeExp": 52.044,
          "pop": 12772596,
          "year": 1992
         },
         {
          "continent": "Africa",
          "country": "Cote d'Ivoire",
          "gdpPercap": 1786.265407,
          "lifeExp": 47.99100000000001,
          "pop": 14625967,
          "year": 1997
         },
         {
          "continent": "Africa",
          "country": "Cote d'Ivoire",
          "gdpPercap": 1648.800823,
          "lifeExp": 46.832,
          "pop": 16252726,
          "year": 2002
         },
         {
          "continent": "Africa",
          "country": "Cote d'Ivoire",
          "gdpPercap": 1544.750112,
          "lifeExp": 48.328,
          "pop": 18013409,
          "year": 2007
         },
         {
          "continent": "Europe",
          "country": "Croatia",
          "gdpPercap": 3119.23652,
          "lifeExp": 61.21,
          "pop": 3882229,
          "year": 1952
         },
         {
          "continent": "Europe",
          "country": "Croatia",
          "gdpPercap": 4338.231617,
          "lifeExp": 64.77,
          "pop": 3991242,
          "year": 1957
         },
         {
          "continent": "Europe",
          "country": "Croatia",
          "gdpPercap": 5477.890018,
          "lifeExp": 67.13,
          "pop": 4076557,
          "year": 1962
         },
         {
          "continent": "Europe",
          "country": "Croatia",
          "gdpPercap": 6960.297861,
          "lifeExp": 68.5,
          "pop": 4174366,
          "year": 1967
         },
         {
          "continent": "Europe",
          "country": "Croatia",
          "gdpPercap": 9164.090127,
          "lifeExp": 69.61,
          "pop": 4225310,
          "year": 1972
         },
         {
          "continent": "Europe",
          "country": "Croatia",
          "gdpPercap": 11305.38517,
          "lifeExp": 70.64,
          "pop": 4318673,
          "year": 1977
         },
         {
          "continent": "Europe",
          "country": "Croatia",
          "gdpPercap": 13221.82184,
          "lifeExp": 70.46,
          "pop": 4413368,
          "year": 1982
         },
         {
          "continent": "Europe",
          "country": "Croatia",
          "gdpPercap": 13822.58394,
          "lifeExp": 71.52,
          "pop": 4484310,
          "year": 1987
         },
         {
          "continent": "Europe",
          "country": "Croatia",
          "gdpPercap": 8447.794873,
          "lifeExp": 72.527,
          "pop": 4494013,
          "year": 1992
         },
         {
          "continent": "Europe",
          "country": "Croatia",
          "gdpPercap": 9875.604515,
          "lifeExp": 73.68,
          "pop": 4444595,
          "year": 1997
         },
         {
          "continent": "Europe",
          "country": "Croatia",
          "gdpPercap": 11628.38895,
          "lifeExp": 74.876,
          "pop": 4481020,
          "year": 2002
         },
         {
          "continent": "Europe",
          "country": "Croatia",
          "gdpPercap": 14619.222719999998,
          "lifeExp": 75.748,
          "pop": 4493312,
          "year": 2007
         },
         {
          "continent": "Americas",
          "country": "Cuba",
          "gdpPercap": 5586.53878,
          "lifeExp": 59.42100000000001,
          "pop": 6007797,
          "year": 1952
         },
         {
          "continent": "Americas",
          "country": "Cuba",
          "gdpPercap": 6092.174359000001,
          "lifeExp": 62.325,
          "pop": 6640752,
          "year": 1957
         },
         {
          "continent": "Americas",
          "country": "Cuba",
          "gdpPercap": 5180.75591,
          "lifeExp": 65.24600000000001,
          "pop": 7254373,
          "year": 1962
         },
         {
          "continent": "Americas",
          "country": "Cuba",
          "gdpPercap": 5690.268015,
          "lifeExp": 68.29,
          "pop": 8139332,
          "year": 1967
         },
         {
          "continent": "Americas",
          "country": "Cuba",
          "gdpPercap": 5305.445256,
          "lifeExp": 70.723,
          "pop": 8831348,
          "year": 1972
         },
         {
          "continent": "Americas",
          "country": "Cuba",
          "gdpPercap": 6380.494965999999,
          "lifeExp": 72.649,
          "pop": 9537988,
          "year": 1977
         },
         {
          "continent": "Americas",
          "country": "Cuba",
          "gdpPercap": 7316.9181069999995,
          "lifeExp": 73.717,
          "pop": 9789224,
          "year": 1982
         },
         {
          "continent": "Americas",
          "country": "Cuba",
          "gdpPercap": 7532.924762999999,
          "lifeExp": 74.17399999999999,
          "pop": 10239839,
          "year": 1987
         },
         {
          "continent": "Americas",
          "country": "Cuba",
          "gdpPercap": 5592.843963,
          "lifeExp": 74.414,
          "pop": 10723260,
          "year": 1992
         },
         {
          "continent": "Americas",
          "country": "Cuba",
          "gdpPercap": 5431.990415,
          "lifeExp": 76.15100000000001,
          "pop": 10983007,
          "year": 1997
         },
         {
          "continent": "Americas",
          "country": "Cuba",
          "gdpPercap": 6340.646683,
          "lifeExp": 77.158,
          "pop": 11226999,
          "year": 2002
         },
         {
          "continent": "Americas",
          "country": "Cuba",
          "gdpPercap": 8948.102923,
          "lifeExp": 78.273,
          "pop": 11416987,
          "year": 2007
         },
         {
          "continent": "Europe",
          "country": "Czech Republic",
          "gdpPercap": 6876.14025,
          "lifeExp": 66.87,
          "pop": 9125183,
          "year": 1952
         },
         {
          "continent": "Europe",
          "country": "Czech Republic",
          "gdpPercap": 8256.343918,
          "lifeExp": 69.03,
          "pop": 9513758,
          "year": 1957
         },
         {
          "continent": "Europe",
          "country": "Czech Republic",
          "gdpPercap": 10136.86713,
          "lifeExp": 69.9,
          "pop": 9620282,
          "year": 1962
         },
         {
          "continent": "Europe",
          "country": "Czech Republic",
          "gdpPercap": 11399.44489,
          "lifeExp": 70.38,
          "pop": 9835109,
          "year": 1967
         },
         {
          "continent": "Europe",
          "country": "Czech Republic",
          "gdpPercap": 13108.4536,
          "lifeExp": 70.29,
          "pop": 9862158,
          "year": 1972
         },
         {
          "continent": "Europe",
          "country": "Czech Republic",
          "gdpPercap": 14800.160619999999,
          "lifeExp": 70.71,
          "pop": 10161915,
          "year": 1977
         },
         {
          "continent": "Europe",
          "country": "Czech Republic",
          "gdpPercap": 15377.22855,
          "lifeExp": 70.96,
          "pop": 10303704,
          "year": 1982
         },
         {
          "continent": "Europe",
          "country": "Czech Republic",
          "gdpPercap": 16310.4434,
          "lifeExp": 71.58,
          "pop": 10311597,
          "year": 1987
         },
         {
          "continent": "Europe",
          "country": "Czech Republic",
          "gdpPercap": 14297.021219999999,
          "lifeExp": 72.4,
          "pop": 10315702,
          "year": 1992
         },
         {
          "continent": "Europe",
          "country": "Czech Republic",
          "gdpPercap": 16048.51424,
          "lifeExp": 74.01,
          "pop": 10300707,
          "year": 1997
         },
         {
          "continent": "Europe",
          "country": "Czech Republic",
          "gdpPercap": 17596.210219999997,
          "lifeExp": 75.51,
          "pop": 10256295,
          "year": 2002
         },
         {
          "continent": "Europe",
          "country": "Czech Republic",
          "gdpPercap": 22833.30851,
          "lifeExp": 76.486,
          "pop": 10228744,
          "year": 2007
         },
         {
          "continent": "Europe",
          "country": "Denmark",
          "gdpPercap": 9692.385245,
          "lifeExp": 70.78,
          "pop": 4334000,
          "year": 1952
         },
         {
          "continent": "Europe",
          "country": "Denmark",
          "gdpPercap": 11099.65935,
          "lifeExp": 71.81,
          "pop": 4487831,
          "year": 1957
         },
         {
          "continent": "Europe",
          "country": "Denmark",
          "gdpPercap": 13583.31351,
          "lifeExp": 72.35,
          "pop": 4646899,
          "year": 1962
         },
         {
          "continent": "Europe",
          "country": "Denmark",
          "gdpPercap": 15937.21123,
          "lifeExp": 72.96,
          "pop": 4838800,
          "year": 1967
         },
         {
          "continent": "Europe",
          "country": "Denmark",
          "gdpPercap": 18866.20721,
          "lifeExp": 73.47,
          "pop": 4991596,
          "year": 1972
         },
         {
          "continent": "Europe",
          "country": "Denmark",
          "gdpPercap": 20422.9015,
          "lifeExp": 74.69,
          "pop": 5088419,
          "year": 1977
         },
         {
          "continent": "Europe",
          "country": "Denmark",
          "gdpPercap": 21688.04048,
          "lifeExp": 74.63,
          "pop": 5117810,
          "year": 1982
         },
         {
          "continent": "Europe",
          "country": "Denmark",
          "gdpPercap": 25116.17581,
          "lifeExp": 74.8,
          "pop": 5127024,
          "year": 1987
         },
         {
          "continent": "Europe",
          "country": "Denmark",
          "gdpPercap": 26406.73985,
          "lifeExp": 75.33,
          "pop": 5171393,
          "year": 1992
         },
         {
          "continent": "Europe",
          "country": "Denmark",
          "gdpPercap": 29804.34567,
          "lifeExp": 76.11,
          "pop": 5283663,
          "year": 1997
         },
         {
          "continent": "Europe",
          "country": "Denmark",
          "gdpPercap": 32166.500060000002,
          "lifeExp": 77.18,
          "pop": 5374693,
          "year": 2002
         },
         {
          "continent": "Europe",
          "country": "Denmark",
          "gdpPercap": 35278.41874,
          "lifeExp": 78.332,
          "pop": 5468120,
          "year": 2007
         },
         {
          "continent": "Africa",
          "country": "Djibouti",
          "gdpPercap": 2669.529475,
          "lifeExp": 34.812,
          "pop": 63149,
          "year": 1952
         },
         {
          "continent": "Africa",
          "country": "Djibouti",
          "gdpPercap": 2864.9690760000003,
          "lifeExp": 37.328,
          "pop": 71851,
          "year": 1957
         },
         {
          "continent": "Africa",
          "country": "Djibouti",
          "gdpPercap": 3020.989263,
          "lifeExp": 39.693000000000005,
          "pop": 89898,
          "year": 1962
         },
         {
          "continent": "Africa",
          "country": "Djibouti",
          "gdpPercap": 3020.0505129999997,
          "lifeExp": 42.074,
          "pop": 127617,
          "year": 1967
         },
         {
          "continent": "Africa",
          "country": "Djibouti",
          "gdpPercap": 3694.2123520000005,
          "lifeExp": 44.36600000000001,
          "pop": 178848,
          "year": 1972
         },
         {
          "continent": "Africa",
          "country": "Djibouti",
          "gdpPercap": 3081.7610219999997,
          "lifeExp": 46.519,
          "pop": 228694,
          "year": 1977
         },
         {
          "continent": "Africa",
          "country": "Djibouti",
          "gdpPercap": 2879.4680670000002,
          "lifeExp": 48.812,
          "pop": 305991,
          "year": 1982
         },
         {
          "continent": "Africa",
          "country": "Djibouti",
          "gdpPercap": 2880.102568,
          "lifeExp": 50.04,
          "pop": 311025,
          "year": 1987
         },
         {
          "continent": "Africa",
          "country": "Djibouti",
          "gdpPercap": 2377.1561920000004,
          "lifeExp": 51.604,
          "pop": 384156,
          "year": 1992
         },
         {
          "continent": "Africa",
          "country": "Djibouti",
          "gdpPercap": 1895.016984,
          "lifeExp": 53.157,
          "pop": 417908,
          "year": 1997
         },
         {
          "continent": "Africa",
          "country": "Djibouti",
          "gdpPercap": 1908.2608670000002,
          "lifeExp": 53.373000000000005,
          "pop": 447416,
          "year": 2002
         },
         {
          "continent": "Africa",
          "country": "Djibouti",
          "gdpPercap": 2082.4815670000003,
          "lifeExp": 54.791000000000004,
          "pop": 496374,
          "year": 2007
         },
         {
          "continent": "Americas",
          "country": "Dominican Republic",
          "gdpPercap": 1397.7171369999999,
          "lifeExp": 45.928000000000004,
          "pop": 2491346,
          "year": 1952
         },
         {
          "continent": "Americas",
          "country": "Dominican Republic",
          "gdpPercap": 1544.402995,
          "lifeExp": 49.828,
          "pop": 2923186,
          "year": 1957
         },
         {
          "continent": "Americas",
          "country": "Dominican Republic",
          "gdpPercap": 1662.137359,
          "lifeExp": 53.458999999999996,
          "pop": 3453434,
          "year": 1962
         },
         {
          "continent": "Americas",
          "country": "Dominican Republic",
          "gdpPercap": 1653.7230029999998,
          "lifeExp": 56.751000000000005,
          "pop": 4049146,
          "year": 1967
         },
         {
          "continent": "Americas",
          "country": "Dominican Republic",
          "gdpPercap": 2189.874499,
          "lifeExp": 59.631,
          "pop": 4671329,
          "year": 1972
         },
         {
          "continent": "Americas",
          "country": "Dominican Republic",
          "gdpPercap": 2681.9889,
          "lifeExp": 61.788000000000004,
          "pop": 5302800,
          "year": 1977
         },
         {
          "continent": "Americas",
          "country": "Dominican Republic",
          "gdpPercap": 2861.092386,
          "lifeExp": 63.727,
          "pop": 5968349,
          "year": 1982
         },
         {
          "continent": "Americas",
          "country": "Dominican Republic",
          "gdpPercap": 2899.842175,
          "lifeExp": 66.046,
          "pop": 6655297,
          "year": 1987
         },
         {
          "continent": "Americas",
          "country": "Dominican Republic",
          "gdpPercap": 3044.214214,
          "lifeExp": 68.457,
          "pop": 7351181,
          "year": 1992
         },
         {
          "continent": "Americas",
          "country": "Dominican Republic",
          "gdpPercap": 3614.101285,
          "lifeExp": 69.957,
          "pop": 7992357,
          "year": 1997
         },
         {
          "continent": "Americas",
          "country": "Dominican Republic",
          "gdpPercap": 4563.808154,
          "lifeExp": 70.847,
          "pop": 8650322,
          "year": 2002
         },
         {
          "continent": "Americas",
          "country": "Dominican Republic",
          "gdpPercap": 6025.374752000001,
          "lifeExp": 72.235,
          "pop": 9319622,
          "year": 2007
         },
         {
          "continent": "Americas",
          "country": "Ecuador",
          "gdpPercap": 3522.110717,
          "lifeExp": 48.357,
          "pop": 3548753,
          "year": 1952
         },
         {
          "continent": "Americas",
          "country": "Ecuador",
          "gdpPercap": 3780.5466509999997,
          "lifeExp": 51.356,
          "pop": 4058385,
          "year": 1957
         },
         {
          "continent": "Americas",
          "country": "Ecuador",
          "gdpPercap": 4086.114078,
          "lifeExp": 54.64,
          "pop": 4681707,
          "year": 1962
         },
         {
          "continent": "Americas",
          "country": "Ecuador",
          "gdpPercap": 4579.074215,
          "lifeExp": 56.678000000000004,
          "pop": 5432424,
          "year": 1967
         },
         {
          "continent": "Americas",
          "country": "Ecuador",
          "gdpPercap": 5280.99471,
          "lifeExp": 58.79600000000001,
          "pop": 6298651,
          "year": 1972
         },
         {
          "continent": "Americas",
          "country": "Ecuador",
          "gdpPercap": 6679.62326,
          "lifeExp": 61.31,
          "pop": 7278866,
          "year": 1977
         },
         {
          "continent": "Americas",
          "country": "Ecuador",
          "gdpPercap": 7213.7912670000005,
          "lifeExp": 64.342,
          "pop": 8365850,
          "year": 1982
         },
         {
          "continent": "Americas",
          "country": "Ecuador",
          "gdpPercap": 6481.776993,
          "lifeExp": 67.23100000000001,
          "pop": 9545158,
          "year": 1987
         },
         {
          "continent": "Americas",
          "country": "Ecuador",
          "gdpPercap": 7103.702595000001,
          "lifeExp": 69.613,
          "pop": 10748394,
          "year": 1992
         },
         {
          "continent": "Americas",
          "country": "Ecuador",
          "gdpPercap": 7429.455876999999,
          "lifeExp": 72.312,
          "pop": 11911819,
          "year": 1997
         },
         {
          "continent": "Americas",
          "country": "Ecuador",
          "gdpPercap": 5773.0445119999995,
          "lifeExp": 74.173,
          "pop": 12921234,
          "year": 2002
         },
         {
          "continent": "Americas",
          "country": "Ecuador",
          "gdpPercap": 6873.262326000001,
          "lifeExp": 74.994,
          "pop": 13755680,
          "year": 2007
         },
         {
          "continent": "Africa",
          "country": "Egypt",
          "gdpPercap": 1418.822445,
          "lifeExp": 41.893,
          "pop": 22223309,
          "year": 1952
         },
         {
          "continent": "Africa",
          "country": "Egypt",
          "gdpPercap": 1458.915272,
          "lifeExp": 44.443999999999996,
          "pop": 25009741,
          "year": 1957
         },
         {
          "continent": "Africa",
          "country": "Egypt",
          "gdpPercap": 1693.335853,
          "lifeExp": 46.992,
          "pop": 28173309,
          "year": 1962
         },
         {
          "continent": "Africa",
          "country": "Egypt",
          "gdpPercap": 1814.880728,
          "lifeExp": 49.293,
          "pop": 31681188,
          "year": 1967
         },
         {
          "continent": "Africa",
          "country": "Egypt",
          "gdpPercap": 2024.0081469999998,
          "lifeExp": 51.137,
          "pop": 34807417,
          "year": 1972
         },
         {
          "continent": "Africa",
          "country": "Egypt",
          "gdpPercap": 2785.493582,
          "lifeExp": 53.318999999999996,
          "pop": 38783863,
          "year": 1977
         },
         {
          "continent": "Africa",
          "country": "Egypt",
          "gdpPercap": 3503.729636,
          "lifeExp": 56.006,
          "pop": 45681811,
          "year": 1982
         },
         {
          "continent": "Africa",
          "country": "Egypt",
          "gdpPercap": 3885.4607100000003,
          "lifeExp": 59.797,
          "pop": 52799062,
          "year": 1987
         },
         {
          "continent": "Africa",
          "country": "Egypt",
          "gdpPercap": 3794.755195,
          "lifeExp": 63.674,
          "pop": 59402198,
          "year": 1992
         },
         {
          "continent": "Africa",
          "country": "Egypt",
          "gdpPercap": 4173.181797,
          "lifeExp": 67.217,
          "pop": 66134291,
          "year": 1997
         },
         {
          "continent": "Africa",
          "country": "Egypt",
          "gdpPercap": 4754.604414,
          "lifeExp": 69.806,
          "pop": 73312559,
          "year": 2002
         },
         {
          "continent": "Africa",
          "country": "Egypt",
          "gdpPercap": 5581.180998,
          "lifeExp": 71.33800000000001,
          "pop": 80264543,
          "year": 2007
         },
         {
          "continent": "Americas",
          "country": "El Salvador",
          "gdpPercap": 3048.3029,
          "lifeExp": 45.262,
          "pop": 2042865,
          "year": 1952
         },
         {
          "continent": "Americas",
          "country": "El Salvador",
          "gdpPercap": 3421.523218,
          "lifeExp": 48.57,
          "pop": 2355805,
          "year": 1957
         },
         {
          "continent": "Americas",
          "country": "El Salvador",
          "gdpPercap": 3776.8036270000002,
          "lifeExp": 52.306999999999995,
          "pop": 2747687,
          "year": 1962
         },
         {
          "continent": "Americas",
          "country": "El Salvador",
          "gdpPercap": 4358.595393,
          "lifeExp": 55.855,
          "pop": 3232927,
          "year": 1967
         },
         {
          "continent": "Americas",
          "country": "El Salvador",
          "gdpPercap": 4520.246008,
          "lifeExp": 58.207,
          "pop": 3790903,
          "year": 1972
         },
         {
          "continent": "Americas",
          "country": "El Salvador",
          "gdpPercap": 5138.922374,
          "lifeExp": 56.696000000000005,
          "pop": 4282586,
          "year": 1977
         },
         {
          "continent": "Americas",
          "country": "El Salvador",
          "gdpPercap": 4098.344175,
          "lifeExp": 56.604,
          "pop": 4474873,
          "year": 1982
         },
         {
          "continent": "Americas",
          "country": "El Salvador",
          "gdpPercap": 4140.442097,
          "lifeExp": 63.153999999999996,
          "pop": 4842194,
          "year": 1987
         },
         {
          "continent": "Americas",
          "country": "El Salvador",
          "gdpPercap": 4444.2317,
          "lifeExp": 66.798,
          "pop": 5274649,
          "year": 1992
         },
         {
          "continent": "Americas",
          "country": "El Salvador",
          "gdpPercap": 5154.825496,
          "lifeExp": 69.535,
          "pop": 5783439,
          "year": 1997
         },
         {
          "continent": "Americas",
          "country": "El Salvador",
          "gdpPercap": 5351.568665999999,
          "lifeExp": 70.734,
          "pop": 6353681,
          "year": 2002
         },
         {
          "continent": "Americas",
          "country": "El Salvador",
          "gdpPercap": 5728.353514,
          "lifeExp": 71.878,
          "pop": 6939688,
          "year": 2007
         },
         {
          "continent": "Africa",
          "country": "Equatorial Guinea",
          "gdpPercap": 375.6431231,
          "lifeExp": 34.482,
          "pop": 216964,
          "year": 1952
         },
         {
          "continent": "Africa",
          "country": "Equatorial Guinea",
          "gdpPercap": 426.0964081,
          "lifeExp": 35.983000000000004,
          "pop": 232922,
          "year": 1957
         },
         {
          "continent": "Africa",
          "country": "Equatorial Guinea",
          "gdpPercap": 582.8419713999999,
          "lifeExp": 37.485,
          "pop": 249220,
          "year": 1962
         },
         {
          "continent": "Africa",
          "country": "Equatorial Guinea",
          "gdpPercap": 915.5960025,
          "lifeExp": 38.986999999999995,
          "pop": 259864,
          "year": 1967
         },
         {
          "continent": "Africa",
          "country": "Equatorial Guinea",
          "gdpPercap": 672.4122571,
          "lifeExp": 40.516,
          "pop": 277603,
          "year": 1972
         },
         {
          "continent": "Africa",
          "country": "Equatorial Guinea",
          "gdpPercap": 958.5668124,
          "lifeExp": 42.023999999999994,
          "pop": 192675,
          "year": 1977
         },
         {
          "continent": "Africa",
          "country": "Equatorial Guinea",
          "gdpPercap": 927.8253427000001,
          "lifeExp": 43.662,
          "pop": 285483,
          "year": 1982
         },
         {
          "continent": "Africa",
          "country": "Equatorial Guinea",
          "gdpPercap": 966.8968149,
          "lifeExp": 45.663999999999994,
          "pop": 341244,
          "year": 1987
         },
         {
          "continent": "Africa",
          "country": "Equatorial Guinea",
          "gdpPercap": 1132.055034,
          "lifeExp": 47.545,
          "pop": 387838,
          "year": 1992
         },
         {
          "continent": "Africa",
          "country": "Equatorial Guinea",
          "gdpPercap": 2814.480755,
          "lifeExp": 48.245,
          "pop": 439971,
          "year": 1997
         },
         {
          "continent": "Africa",
          "country": "Equatorial Guinea",
          "gdpPercap": 7703.4959,
          "lifeExp": 49.348,
          "pop": 495627,
          "year": 2002
         },
         {
          "continent": "Africa",
          "country": "Equatorial Guinea",
          "gdpPercap": 12154.08975,
          "lifeExp": 51.57899999999999,
          "pop": 551201,
          "year": 2007
         },
         {
          "continent": "Africa",
          "country": "Eritrea",
          "gdpPercap": 328.94055710000004,
          "lifeExp": 35.928000000000004,
          "pop": 1438760,
          "year": 1952
         },
         {
          "continent": "Africa",
          "country": "Eritrea",
          "gdpPercap": 344.16188589999996,
          "lifeExp": 38.047,
          "pop": 1542611,
          "year": 1957
         },
         {
          "continent": "Africa",
          "country": "Eritrea",
          "gdpPercap": 380.99584330000005,
          "lifeExp": 40.158,
          "pop": 1666618,
          "year": 1962
         },
         {
          "continent": "Africa",
          "country": "Eritrea",
          "gdpPercap": 468.7949699,
          "lifeExp": 42.18899999999999,
          "pop": 1820319,
          "year": 1967
         },
         {
          "continent": "Africa",
          "country": "Eritrea",
          "gdpPercap": 514.3242081999999,
          "lifeExp": 44.141999999999996,
          "pop": 2260187,
          "year": 1972
         },
         {
          "continent": "Africa",
          "country": "Eritrea",
          "gdpPercap": 505.7538077,
          "lifeExp": 44.535,
          "pop": 2512642,
          "year": 1977
         },
         {
          "continent": "Africa",
          "country": "Eritrea",
          "gdpPercap": 524.8758493,
          "lifeExp": 43.89,
          "pop": 2637297,
          "year": 1982
         },
         {
          "continent": "Africa",
          "country": "Eritrea",
          "gdpPercap": 521.1341333,
          "lifeExp": 46.453,
          "pop": 2915959,
          "year": 1987
         },
         {
          "continent": "Africa",
          "country": "Eritrea",
          "gdpPercap": 582.8585102000001,
          "lifeExp": 49.99100000000001,
          "pop": 3668440,
          "year": 1992
         },
         {
          "continent": "Africa",
          "country": "Eritrea",
          "gdpPercap": 913.4707900000001,
          "lifeExp": 53.378,
          "pop": 4058319,
          "year": 1997
         },
         {
          "continent": "Africa",
          "country": "Eritrea",
          "gdpPercap": 765.3500015,
          "lifeExp": 55.24,
          "pop": 4414865,
          "year": 2002
         },
         {
          "continent": "Africa",
          "country": "Eritrea",
          "gdpPercap": 641.3695236000001,
          "lifeExp": 58.04,
          "pop": 4906585,
          "year": 2007
         },
         {
          "continent": "Africa",
          "country": "Ethiopia",
          "gdpPercap": 362.1462796,
          "lifeExp": 34.078,
          "pop": 20860941,
          "year": 1952
         },
         {
          "continent": "Africa",
          "country": "Ethiopia",
          "gdpPercap": 378.90416319999997,
          "lifeExp": 36.667,
          "pop": 22815614,
          "year": 1957
         },
         {
          "continent": "Africa",
          "country": "Ethiopia",
          "gdpPercap": 419.4564161,
          "lifeExp": 40.059,
          "pop": 25145372,
          "year": 1962
         },
         {
          "continent": "Africa",
          "country": "Ethiopia",
          "gdpPercap": 516.1186438,
          "lifeExp": 42.115,
          "pop": 27860297,
          "year": 1967
         },
         {
          "continent": "Africa",
          "country": "Ethiopia",
          "gdpPercap": 566.2439442000001,
          "lifeExp": 43.515,
          "pop": 30770372,
          "year": 1972
         },
         {
          "continent": "Africa",
          "country": "Ethiopia",
          "gdpPercap": 556.8083834,
          "lifeExp": 44.51,
          "pop": 34617799,
          "year": 1977
         },
         {
          "continent": "Africa",
          "country": "Ethiopia",
          "gdpPercap": 577.8607471,
          "lifeExp": 44.916000000000004,
          "pop": 38111756,
          "year": 1982
         },
         {
          "continent": "Africa",
          "country": "Ethiopia",
          "gdpPercap": 573.7413142000001,
          "lifeExp": 46.684,
          "pop": 42999530,
          "year": 1987
         },
         {
          "continent": "Africa",
          "country": "Ethiopia",
          "gdpPercap": 421.3534653,
          "lifeExp": 48.091,
          "pop": 52088559,
          "year": 1992
         },
         {
          "continent": "Africa",
          "country": "Ethiopia",
          "gdpPercap": 515.8894013,
          "lifeExp": 49.402,
          "pop": 59861301,
          "year": 1997
         },
         {
          "continent": "Africa",
          "country": "Ethiopia",
          "gdpPercap": 530.0535319,
          "lifeExp": 50.725,
          "pop": 67946797,
          "year": 2002
         },
         {
          "continent": "Africa",
          "country": "Ethiopia",
          "gdpPercap": 690.8055759,
          "lifeExp": 52.946999999999996,
          "pop": 76511887,
          "year": 2007
         },
         {
          "continent": "Europe",
          "country": "Finland",
          "gdpPercap": 6424.519071,
          "lifeExp": 66.55,
          "pop": 4090500,
          "year": 1952
         },
         {
          "continent": "Europe",
          "country": "Finland",
          "gdpPercap": 7545.415386,
          "lifeExp": 67.49,
          "pop": 4324000,
          "year": 1957
         },
         {
          "continent": "Europe",
          "country": "Finland",
          "gdpPercap": 9371.842561,
          "lifeExp": 68.75,
          "pop": 4491443,
          "year": 1962
         },
         {
          "continent": "Europe",
          "country": "Finland",
          "gdpPercap": 10921.63626,
          "lifeExp": 69.83,
          "pop": 4605744,
          "year": 1967
         },
         {
          "continent": "Europe",
          "country": "Finland",
          "gdpPercap": 14358.8759,
          "lifeExp": 70.87,
          "pop": 4639657,
          "year": 1972
         },
         {
          "continent": "Europe",
          "country": "Finland",
          "gdpPercap": 15605.422830000001,
          "lifeExp": 72.52,
          "pop": 4738902,
          "year": 1977
         },
         {
          "continent": "Europe",
          "country": "Finland",
          "gdpPercap": 18533.15761,
          "lifeExp": 74.55,
          "pop": 4826933,
          "year": 1982
         },
         {
          "continent": "Europe",
          "country": "Finland",
          "gdpPercap": 21141.01223,
          "lifeExp": 74.83,
          "pop": 4931729,
          "year": 1987
         },
         {
          "continent": "Europe",
          "country": "Finland",
          "gdpPercap": 20647.16499,
          "lifeExp": 75.7,
          "pop": 5041039,
          "year": 1992
         },
         {
          "continent": "Europe",
          "country": "Finland",
          "gdpPercap": 23723.9502,
          "lifeExp": 77.13,
          "pop": 5134406,
          "year": 1997
         },
         {
          "continent": "Europe",
          "country": "Finland",
          "gdpPercap": 28204.59057,
          "lifeExp": 78.37,
          "pop": 5193039,
          "year": 2002
         },
         {
          "continent": "Europe",
          "country": "Finland",
          "gdpPercap": 33207.0844,
          "lifeExp": 79.313,
          "pop": 5238460,
          "year": 2007
         },
         {
          "continent": "Europe",
          "country": "France",
          "gdpPercap": 7029.809327,
          "lifeExp": 67.41,
          "pop": 42459667,
          "year": 1952
         },
         {
          "continent": "Europe",
          "country": "France",
          "gdpPercap": 8662.834898000001,
          "lifeExp": 68.93,
          "pop": 44310863,
          "year": 1957
         },
         {
          "continent": "Europe",
          "country": "France",
          "gdpPercap": 10560.48553,
          "lifeExp": 70.51,
          "pop": 47124000,
          "year": 1962
         },
         {
          "continent": "Europe",
          "country": "France",
          "gdpPercap": 12999.91766,
          "lifeExp": 71.55,
          "pop": 49569000,
          "year": 1967
         },
         {
          "continent": "Europe",
          "country": "France",
          "gdpPercap": 16107.19171,
          "lifeExp": 72.38,
          "pop": 51732000,
          "year": 1972
         },
         {
          "continent": "Europe",
          "country": "France",
          "gdpPercap": 18292.635140000002,
          "lifeExp": 73.83,
          "pop": 53165019,
          "year": 1977
         },
         {
          "continent": "Europe",
          "country": "France",
          "gdpPercap": 20293.89746,
          "lifeExp": 74.89,
          "pop": 54433565,
          "year": 1982
         },
         {
          "continent": "Europe",
          "country": "France",
          "gdpPercap": 22066.44214,
          "lifeExp": 76.34,
          "pop": 55630100,
          "year": 1987
         },
         {
          "continent": "Europe",
          "country": "France",
          "gdpPercap": 24703.79615,
          "lifeExp": 77.46,
          "pop": 57374179,
          "year": 1992
         },
         {
          "continent": "Europe",
          "country": "France",
          "gdpPercap": 25889.78487,
          "lifeExp": 78.64,
          "pop": 58623428,
          "year": 1997
         },
         {
          "continent": "Europe",
          "country": "France",
          "gdpPercap": 28926.032339999998,
          "lifeExp": 79.59,
          "pop": 59925035,
          "year": 2002
         },
         {
          "continent": "Europe",
          "country": "France",
          "gdpPercap": 30470.0167,
          "lifeExp": 80.657,
          "pop": 61083916,
          "year": 2007
         },
         {
          "continent": "Africa",
          "country": "Gabon",
          "gdpPercap": 4293.476475,
          "lifeExp": 37.003,
          "pop": 420702,
          "year": 1952
         },
         {
          "continent": "Africa",
          "country": "Gabon",
          "gdpPercap": 4976.198099,
          "lifeExp": 38.999,
          "pop": 434904,
          "year": 1957
         },
         {
          "continent": "Africa",
          "country": "Gabon",
          "gdpPercap": 6631.4592219999995,
          "lifeExp": 40.489000000000004,
          "pop": 455661,
          "year": 1962
         },
         {
          "continent": "Africa",
          "country": "Gabon",
          "gdpPercap": 8358.761987,
          "lifeExp": 44.598,
          "pop": 489004,
          "year": 1967
         },
         {
          "continent": "Africa",
          "country": "Gabon",
          "gdpPercap": 11401.948409999999,
          "lifeExp": 48.69,
          "pop": 537977,
          "year": 1972
         },
         {
          "continent": "Africa",
          "country": "Gabon",
          "gdpPercap": 21745.57328,
          "lifeExp": 52.79,
          "pop": 706367,
          "year": 1977
         },
         {
          "continent": "Africa",
          "country": "Gabon",
          "gdpPercap": 15113.36194,
          "lifeExp": 56.56399999999999,
          "pop": 753874,
          "year": 1982
         },
         {
          "continent": "Africa",
          "country": "Gabon",
          "gdpPercap": 11864.408440000001,
          "lifeExp": 60.19,
          "pop": 880397,
          "year": 1987
         },
         {
          "continent": "Africa",
          "country": "Gabon",
          "gdpPercap": 13522.157519999999,
          "lifeExp": 61.36600000000001,
          "pop": 985739,
          "year": 1992
         },
         {
          "continent": "Africa",
          "country": "Gabon",
          "gdpPercap": 14722.841880000002,
          "lifeExp": 60.461000000000006,
          "pop": 1126189,
          "year": 1997
         },
         {
          "continent": "Africa",
          "country": "Gabon",
          "gdpPercap": 12521.71392,
          "lifeExp": 56.761,
          "pop": 1299304,
          "year": 2002
         },
         {
          "continent": "Africa",
          "country": "Gabon",
          "gdpPercap": 13206.48452,
          "lifeExp": 56.735,
          "pop": 1454867,
          "year": 2007
         },
         {
          "continent": "Africa",
          "country": "Gambia",
          "gdpPercap": 485.2306591,
          "lifeExp": 30,
          "pop": 284320,
          "year": 1952
         },
         {
          "continent": "Africa",
          "country": "Gambia",
          "gdpPercap": 520.9267111,
          "lifeExp": 32.065,
          "pop": 323150,
          "year": 1957
         },
         {
          "continent": "Africa",
          "country": "Gambia",
          "gdpPercap": 599.650276,
          "lifeExp": 33.896,
          "pop": 374020,
          "year": 1962
         },
         {
          "continent": "Africa",
          "country": "Gambia",
          "gdpPercap": 734.7829124,
          "lifeExp": 35.857,
          "pop": 439593,
          "year": 1967
         },
         {
          "continent": "Africa",
          "country": "Gambia",
          "gdpPercap": 756.0868363,
          "lifeExp": 38.308,
          "pop": 517101,
          "year": 1972
         },
         {
          "continent": "Africa",
          "country": "Gambia",
          "gdpPercap": 884.7552507000001,
          "lifeExp": 41.842,
          "pop": 608274,
          "year": 1977
         },
         {
          "continent": "Africa",
          "country": "Gambia",
          "gdpPercap": 835.8096107999999,
          "lifeExp": 45.58,
          "pop": 715523,
          "year": 1982
         },
         {
          "continent": "Africa",
          "country": "Gambia",
          "gdpPercap": 611.6588611000001,
          "lifeExp": 49.265,
          "pop": 848406,
          "year": 1987
         },
         {
          "continent": "Africa",
          "country": "Gambia",
          "gdpPercap": 665.6244126,
          "lifeExp": 52.644,
          "pop": 1025384,
          "year": 1992
         },
         {
          "continent": "Africa",
          "country": "Gambia",
          "gdpPercap": 653.7301704,
          "lifeExp": 55.861000000000004,
          "pop": 1235767,
          "year": 1997
         },
         {
          "continent": "Africa",
          "country": "Gambia",
          "gdpPercap": 660.5855997,
          "lifeExp": 58.041000000000004,
          "pop": 1457766,
          "year": 2002
         },
         {
          "continent": "Africa",
          "country": "Gambia",
          "gdpPercap": 752.7497265,
          "lifeExp": 59.448,
          "pop": 1688359,
          "year": 2007
         },
         {
          "continent": "Europe",
          "country": "Germany",
          "gdpPercap": 7144.114393000001,
          "lifeExp": 67.5,
          "pop": 69145952,
          "year": 1952
         },
         {
          "continent": "Europe",
          "country": "Germany",
          "gdpPercap": 10187.82665,
          "lifeExp": 69.1,
          "pop": 71019069,
          "year": 1957
         },
         {
          "continent": "Europe",
          "country": "Germany",
          "gdpPercap": 12902.46291,
          "lifeExp": 70.3,
          "pop": 73739117,
          "year": 1962
         },
         {
          "continent": "Europe",
          "country": "Germany",
          "gdpPercap": 14745.62561,
          "lifeExp": 70.8,
          "pop": 76368453,
          "year": 1967
         },
         {
          "continent": "Europe",
          "country": "Germany",
          "gdpPercap": 18016.180269999997,
          "lifeExp": 71,
          "pop": 78717088,
          "year": 1972
         },
         {
          "continent": "Europe",
          "country": "Germany",
          "gdpPercap": 20512.92123,
          "lifeExp": 72.5,
          "pop": 78160773,
          "year": 1977
         },
         {
          "continent": "Europe",
          "country": "Germany",
          "gdpPercap": 22031.532740000002,
          "lifeExp": 73.8,
          "pop": 78335266,
          "year": 1982
         },
         {
          "continent": "Europe",
          "country": "Germany",
          "gdpPercap": 24639.18566,
          "lifeExp": 74.847,
          "pop": 77718298,
          "year": 1987
         },
         {
          "continent": "Europe",
          "country": "Germany",
          "gdpPercap": 26505.30317,
          "lifeExp": 76.07,
          "pop": 80597764,
          "year": 1992
         },
         {
          "continent": "Europe",
          "country": "Germany",
          "gdpPercap": 27788.88416,
          "lifeExp": 77.34,
          "pop": 82011073,
          "year": 1997
         },
         {
          "continent": "Europe",
          "country": "Germany",
          "gdpPercap": 30035.80198,
          "lifeExp": 78.67,
          "pop": 82350671,
          "year": 2002
         },
         {
          "continent": "Europe",
          "country": "Germany",
          "gdpPercap": 32170.37442,
          "lifeExp": 79.406,
          "pop": 82400996,
          "year": 2007
         },
         {
          "continent": "Africa",
          "country": "Ghana",
          "gdpPercap": 911.2989371,
          "lifeExp": 43.148999999999994,
          "pop": 5581001,
          "year": 1952
         },
         {
          "continent": "Africa",
          "country": "Ghana",
          "gdpPercap": 1043.5615369999998,
          "lifeExp": 44.778999999999996,
          "pop": 6391288,
          "year": 1957
         },
         {
          "continent": "Africa",
          "country": "Ghana",
          "gdpPercap": 1190.0411179999999,
          "lifeExp": 46.452,
          "pop": 7355248,
          "year": 1962
         },
         {
          "continent": "Africa",
          "country": "Ghana",
          "gdpPercap": 1125.69716,
          "lifeExp": 48.071999999999996,
          "pop": 8490213,
          "year": 1967
         },
         {
          "continent": "Africa",
          "country": "Ghana",
          "gdpPercap": 1178.223708,
          "lifeExp": 49.875,
          "pop": 9354120,
          "year": 1972
         },
         {
          "continent": "Africa",
          "country": "Ghana",
          "gdpPercap": 993.2239571,
          "lifeExp": 51.756,
          "pop": 10538093,
          "year": 1977
         },
         {
          "continent": "Africa",
          "country": "Ghana",
          "gdpPercap": 876.032569,
          "lifeExp": 53.744,
          "pop": 11400338,
          "year": 1982
         },
         {
          "continent": "Africa",
          "country": "Ghana",
          "gdpPercap": 847.0061135,
          "lifeExp": 55.729,
          "pop": 14168101,
          "year": 1987
         },
         {
          "continent": "Africa",
          "country": "Ghana",
          "gdpPercap": 925.0601539999999,
          "lifeExp": 57.501000000000005,
          "pop": 16278738,
          "year": 1992
         },
         {
          "continent": "Africa",
          "country": "Ghana",
          "gdpPercap": 1005.2458119999999,
          "lifeExp": 58.556000000000004,
          "pop": 18418288,
          "year": 1997
         },
         {
          "continent": "Africa",
          "country": "Ghana",
          "gdpPercap": 1111.9845779999998,
          "lifeExp": 58.453,
          "pop": 20550751,
          "year": 2002
         },
         {
          "continent": "Africa",
          "country": "Ghana",
          "gdpPercap": 1327.60891,
          "lifeExp": 60.022,
          "pop": 22873338,
          "year": 2007
         },
         {
          "continent": "Europe",
          "country": "Greece",
          "gdpPercap": 3530.690067,
          "lifeExp": 65.86,
          "pop": 7733250,
          "year": 1952
         },
         {
          "continent": "Europe",
          "country": "Greece",
          "gdpPercap": 4916.299889,
          "lifeExp": 67.86,
          "pop": 8096218,
          "year": 1957
         },
         {
          "continent": "Europe",
          "country": "Greece",
          "gdpPercap": 6017.190732999999,
          "lifeExp": 69.51,
          "pop": 8448233,
          "year": 1962
         },
         {
          "continent": "Europe",
          "country": "Greece",
          "gdpPercap": 8513.097016,
          "lifeExp": 71,
          "pop": 8716441,
          "year": 1967
         },
         {
          "continent": "Europe",
          "country": "Greece",
          "gdpPercap": 12724.82957,
          "lifeExp": 72.34,
          "pop": 8888628,
          "year": 1972
         },
         {
          "continent": "Europe",
          "country": "Greece",
          "gdpPercap": 14195.524280000001,
          "lifeExp": 73.68,
          "pop": 9308479,
          "year": 1977
         },
         {
          "continent": "Europe",
          "country": "Greece",
          "gdpPercap": 15268.420890000001,
          "lifeExp": 75.24,
          "pop": 9786480,
          "year": 1982
         },
         {
          "continent": "Europe",
          "country": "Greece",
          "gdpPercap": 16120.528390000001,
          "lifeExp": 76.67,
          "pop": 9974490,
          "year": 1987
         },
         {
          "continent": "Europe",
          "country": "Greece",
          "gdpPercap": 17541.49634,
          "lifeExp": 77.03,
          "pop": 10325429,
          "year": 1992
         },
         {
          "continent": "Europe",
          "country": "Greece",
          "gdpPercap": 18747.69814,
          "lifeExp": 77.869,
          "pop": 10502372,
          "year": 1997
         },
         {
          "continent": "Europe",
          "country": "Greece",
          "gdpPercap": 22514.2548,
          "lifeExp": 78.256,
          "pop": 10603863,
          "year": 2002
         },
         {
          "continent": "Europe",
          "country": "Greece",
          "gdpPercap": 27538.41188,
          "lifeExp": 79.483,
          "pop": 10706290,
          "year": 2007
         },
         {
          "continent": "Americas",
          "country": "Guatemala",
          "gdpPercap": 2428.2377690000003,
          "lifeExp": 42.023,
          "pop": 3146381,
          "year": 1952
         },
         {
          "continent": "Americas",
          "country": "Guatemala",
          "gdpPercap": 2617.155967,
          "lifeExp": 44.141999999999996,
          "pop": 3640876,
          "year": 1957
         },
         {
          "continent": "Americas",
          "country": "Guatemala",
          "gdpPercap": 2750.364446,
          "lifeExp": 46.95399999999999,
          "pop": 4208858,
          "year": 1962
         },
         {
          "continent": "Americas",
          "country": "Guatemala",
          "gdpPercap": 3242.5311469999997,
          "lifeExp": 50.016000000000005,
          "pop": 4690773,
          "year": 1967
         },
         {
          "continent": "Americas",
          "country": "Guatemala",
          "gdpPercap": 4031.4082710000002,
          "lifeExp": 53.738,
          "pop": 5149581,
          "year": 1972
         },
         {
          "continent": "Americas",
          "country": "Guatemala",
          "gdpPercap": 4879.992748,
          "lifeExp": 56.028999999999996,
          "pop": 5703430,
          "year": 1977
         },
         {
          "continent": "Americas",
          "country": "Guatemala",
          "gdpPercap": 4820.49479,
          "lifeExp": 58.137,
          "pop": 6395630,
          "year": 1982
         },
         {
          "continent": "Americas",
          "country": "Guatemala",
          "gdpPercap": 4246.485974,
          "lifeExp": 60.782,
          "pop": 7326406,
          "year": 1987
         },
         {
          "continent": "Americas",
          "country": "Guatemala",
          "gdpPercap": 4439.4508399999995,
          "lifeExp": 63.373000000000005,
          "pop": 8486949,
          "year": 1992
         },
         {
          "continent": "Americas",
          "country": "Guatemala",
          "gdpPercap": 4684.313807,
          "lifeExp": 66.322,
          "pop": 9803875,
          "year": 1997
         },
         {
          "continent": "Americas",
          "country": "Guatemala",
          "gdpPercap": 4858.347495,
          "lifeExp": 68.97800000000001,
          "pop": 11178650,
          "year": 2002
         },
         {
          "continent": "Americas",
          "country": "Guatemala",
          "gdpPercap": 5186.050003,
          "lifeExp": 70.259,
          "pop": 12572928,
          "year": 2007
         },
         {
          "continent": "Africa",
          "country": "Guinea",
          "gdpPercap": 510.19649230000005,
          "lifeExp": 33.609,
          "pop": 2664249,
          "year": 1952
         },
         {
          "continent": "Africa",
          "country": "Guinea",
          "gdpPercap": 576.2670245,
          "lifeExp": 34.558,
          "pop": 2876726,
          "year": 1957
         },
         {
          "continent": "Africa",
          "country": "Guinea",
          "gdpPercap": 686.3736739,
          "lifeExp": 35.753,
          "pop": 3140003,
          "year": 1962
         },
         {
          "continent": "Africa",
          "country": "Guinea",
          "gdpPercap": 708.7595409,
          "lifeExp": 37.196999999999996,
          "pop": 3451418,
          "year": 1967
         },
         {
          "continent": "Africa",
          "country": "Guinea",
          "gdpPercap": 741.6662307,
          "lifeExp": 38.842,
          "pop": 3811387,
          "year": 1972
         },
         {
          "continent": "Africa",
          "country": "Guinea",
          "gdpPercap": 874.6858642999999,
          "lifeExp": 40.762,
          "pop": 4227026,
          "year": 1977
         },
         {
          "continent": "Africa",
          "country": "Guinea",
          "gdpPercap": 857.2503577,
          "lifeExp": 42.891000000000005,
          "pop": 4710497,
          "year": 1982
         },
         {
          "continent": "Africa",
          "country": "Guinea",
          "gdpPercap": 805.5724717999999,
          "lifeExp": 45.552,
          "pop": 5650262,
          "year": 1987
         },
         {
          "continent": "Africa",
          "country": "Guinea",
          "gdpPercap": 794.3484384,
          "lifeExp": 48.576,
          "pop": 6990574,
          "year": 1992
         },
         {
          "continent": "Africa",
          "country": "Guinea",
          "gdpPercap": 869.4497667999999,
          "lifeExp": 51.455,
          "pop": 8048834,
          "year": 1997
         },
         {
          "continent": "Africa",
          "country": "Guinea",
          "gdpPercap": 945.5835837000001,
          "lifeExp": 53.676,
          "pop": 8807818,
          "year": 2002
         },
         {
          "continent": "Africa",
          "country": "Guinea",
          "gdpPercap": 942.6542111,
          "lifeExp": 56.007,
          "pop": 9947814,
          "year": 2007
         },
         {
          "continent": "Africa",
          "country": "Guinea-Bissau",
          "gdpPercap": 299.850319,
          "lifeExp": 32.5,
          "pop": 580653,
          "year": 1952
         },
         {
          "continent": "Africa",
          "country": "Guinea-Bissau",
          "gdpPercap": 431.7904566000001,
          "lifeExp": 33.489000000000004,
          "pop": 601095,
          "year": 1957
         },
         {
          "continent": "Africa",
          "country": "Guinea-Bissau",
          "gdpPercap": 522.0343725,
          "lifeExp": 34.488,
          "pop": 627820,
          "year": 1962
         },
         {
          "continent": "Africa",
          "country": "Guinea-Bissau",
          "gdpPercap": 715.5806402000001,
          "lifeExp": 35.492,
          "pop": 601287,
          "year": 1967
         },
         {
          "continent": "Africa",
          "country": "Guinea-Bissau",
          "gdpPercap": 820.2245876000001,
          "lifeExp": 36.486,
          "pop": 625361,
          "year": 1972
         },
         {
          "continent": "Africa",
          "country": "Guinea-Bissau",
          "gdpPercap": 764.7259627999999,
          "lifeExp": 37.465,
          "pop": 745228,
          "year": 1977
         },
         {
          "continent": "Africa",
          "country": "Guinea-Bissau",
          "gdpPercap": 838.1239671,
          "lifeExp": 39.327,
          "pop": 825987,
          "year": 1982
         },
         {
          "continent": "Africa",
          "country": "Guinea-Bissau",
          "gdpPercap": 736.4153921,
          "lifeExp": 41.245,
          "pop": 927524,
          "year": 1987
         },
         {
          "continent": "Africa",
          "country": "Guinea-Bissau",
          "gdpPercap": 745.5398706,
          "lifeExp": 43.266000000000005,
          "pop": 1050938,
          "year": 1992
         },
         {
          "continent": "Africa",
          "country": "Guinea-Bissau",
          "gdpPercap": 796.6644681,
          "lifeExp": 44.873000000000005,
          "pop": 1193708,
          "year": 1997
         },
         {
          "continent": "Africa",
          "country": "Guinea-Bissau",
          "gdpPercap": 575.7047176,
          "lifeExp": 45.504,
          "pop": 1332459,
          "year": 2002
         },
         {
          "continent": "Africa",
          "country": "Guinea-Bissau",
          "gdpPercap": 579.2317429999999,
          "lifeExp": 46.388000000000005,
          "pop": 1472041,
          "year": 2007
         },
         {
          "continent": "Americas",
          "country": "Haiti",
          "gdpPercap": 1840.366939,
          "lifeExp": 37.579,
          "pop": 3201488,
          "year": 1952
         },
         {
          "continent": "Americas",
          "country": "Haiti",
          "gdpPercap": 1726.887882,
          "lifeExp": 40.696,
          "pop": 3507701,
          "year": 1957
         },
         {
          "continent": "Americas",
          "country": "Haiti",
          "gdpPercap": 1796.589032,
          "lifeExp": 43.59,
          "pop": 3880130,
          "year": 1962
         },
         {
          "continent": "Americas",
          "country": "Haiti",
          "gdpPercap": 1452.057666,
          "lifeExp": 46.243,
          "pop": 4318137,
          "year": 1967
         },
         {
          "continent": "Americas",
          "country": "Haiti",
          "gdpPercap": 1654.456946,
          "lifeExp": 48.042,
          "pop": 4698301,
          "year": 1972
         },
         {
          "continent": "Americas",
          "country": "Haiti",
          "gdpPercap": 1874.2989309999998,
          "lifeExp": 49.923,
          "pop": 4908554,
          "year": 1977
         },
         {
          "continent": "Americas",
          "country": "Haiti",
          "gdpPercap": 2011.1595489999997,
          "lifeExp": 51.461000000000006,
          "pop": 5198399,
          "year": 1982
         },
         {
          "continent": "Americas",
          "country": "Haiti",
          "gdpPercap": 1823.015995,
          "lifeExp": 53.636,
          "pop": 5756203,
          "year": 1987
         },
         {
          "continent": "Americas",
          "country": "Haiti",
          "gdpPercap": 1456.309517,
          "lifeExp": 55.089,
          "pop": 6326682,
          "year": 1992
         },
         {
          "continent": "Americas",
          "country": "Haiti",
          "gdpPercap": 1341.7269310000001,
          "lifeExp": 56.67100000000001,
          "pop": 6913545,
          "year": 1997
         },
         {
          "continent": "Americas",
          "country": "Haiti",
          "gdpPercap": 1270.364932,
          "lifeExp": 58.137,
          "pop": 7607651,
          "year": 2002
         },
         {
          "continent": "Americas",
          "country": "Haiti",
          "gdpPercap": 1201.637154,
          "lifeExp": 60.916000000000004,
          "pop": 8502814,
          "year": 2007
         },
         {
          "continent": "Americas",
          "country": "Honduras",
          "gdpPercap": 2194.926204,
          "lifeExp": 41.912,
          "pop": 1517453,
          "year": 1952
         },
         {
          "continent": "Americas",
          "country": "Honduras",
          "gdpPercap": 2220.487682,
          "lifeExp": 44.665,
          "pop": 1770390,
          "year": 1957
         },
         {
          "continent": "Americas",
          "country": "Honduras",
          "gdpPercap": 2291.1568350000002,
          "lifeExp": 48.041000000000004,
          "pop": 2090162,
          "year": 1962
         },
         {
          "continent": "Americas",
          "country": "Honduras",
          "gdpPercap": 2538.269358,
          "lifeExp": 50.924,
          "pop": 2500689,
          "year": 1967
         },
         {
          "continent": "Americas",
          "country": "Honduras",
          "gdpPercap": 2529.842345,
          "lifeExp": 53.88399999999999,
          "pop": 2965146,
          "year": 1972
         },
         {
          "continent": "Americas",
          "country": "Honduras",
          "gdpPercap": 3203.208066,
          "lifeExp": 57.402,
          "pop": 3055235,
          "year": 1977
         },
         {
          "continent": "Americas",
          "country": "Honduras",
          "gdpPercap": 3121.7607940000003,
          "lifeExp": 60.909,
          "pop": 3669448,
          "year": 1982
         },
         {
          "continent": "Americas",
          "country": "Honduras",
          "gdpPercap": 3023.0966989999997,
          "lifeExp": 64.492,
          "pop": 4372203,
          "year": 1987
         },
         {
          "continent": "Americas",
          "country": "Honduras",
          "gdpPercap": 3081.694603,
          "lifeExp": 66.399,
          "pop": 5077347,
          "year": 1992
         },
         {
          "continent": "Americas",
          "country": "Honduras",
          "gdpPercap": 3160.454906,
          "lifeExp": 67.65899999999999,
          "pop": 5867957,
          "year": 1997
         },
         {
          "continent": "Americas",
          "country": "Honduras",
          "gdpPercap": 3099.72866,
          "lifeExp": 68.565,
          "pop": 6677328,
          "year": 2002
         },
         {
          "continent": "Americas",
          "country": "Honduras",
          "gdpPercap": 3548.3308460000003,
          "lifeExp": 70.19800000000001,
          "pop": 7483763,
          "year": 2007
         },
         {
          "continent": "Asia",
          "country": "Hong Kong, China",
          "gdpPercap": 3054.421209,
          "lifeExp": 60.96,
          "pop": 2125900,
          "year": 1952
         },
         {
          "continent": "Asia",
          "country": "Hong Kong, China",
          "gdpPercap": 3629.076457,
          "lifeExp": 64.75,
          "pop": 2736300,
          "year": 1957
         },
         {
          "continent": "Asia",
          "country": "Hong Kong, China",
          "gdpPercap": 4692.648271999999,
          "lifeExp": 67.65,
          "pop": 3305200,
          "year": 1962
         },
         {
          "continent": "Asia",
          "country": "Hong Kong, China",
          "gdpPercap": 6197.962814,
          "lifeExp": 70,
          "pop": 3722800,
          "year": 1967
         },
         {
          "continent": "Asia",
          "country": "Hong Kong, China",
          "gdpPercap": 8315.928145,
          "lifeExp": 72,
          "pop": 4115700,
          "year": 1972
         },
         {
          "continent": "Asia",
          "country": "Hong Kong, China",
          "gdpPercap": 11186.14125,
          "lifeExp": 73.6,
          "pop": 4583700,
          "year": 1977
         },
         {
          "continent": "Asia",
          "country": "Hong Kong, China",
          "gdpPercap": 14560.530509999999,
          "lifeExp": 75.45,
          "pop": 5264500,
          "year": 1982
         },
         {
          "continent": "Asia",
          "country": "Hong Kong, China",
          "gdpPercap": 20038.472690000002,
          "lifeExp": 76.2,
          "pop": 5584510,
          "year": 1987
         },
         {
          "continent": "Asia",
          "country": "Hong Kong, China",
          "gdpPercap": 24757.60301,
          "lifeExp": 77.601,
          "pop": 5829696,
          "year": 1992
         },
         {
          "continent": "Asia",
          "country": "Hong Kong, China",
          "gdpPercap": 28377.632189999997,
          "lifeExp": 80,
          "pop": 6495918,
          "year": 1997
         },
         {
          "continent": "Asia",
          "country": "Hong Kong, China",
          "gdpPercap": 30209.015160000003,
          "lifeExp": 81.495,
          "pop": 6762476,
          "year": 2002
         },
         {
          "continent": "Asia",
          "country": "Hong Kong, China",
          "gdpPercap": 39724.97867,
          "lifeExp": 82.208,
          "pop": 6980412,
          "year": 2007
         },
         {
          "continent": "Europe",
          "country": "Hungary",
          "gdpPercap": 5263.6738159999995,
          "lifeExp": 64.03,
          "pop": 9504000,
          "year": 1952
         },
         {
          "continent": "Europe",
          "country": "Hungary",
          "gdpPercap": 6040.180011,
          "lifeExp": 66.41,
          "pop": 9839000,
          "year": 1957
         },
         {
          "continent": "Europe",
          "country": "Hungary",
          "gdpPercap": 7550.359877,
          "lifeExp": 67.96,
          "pop": 10063000,
          "year": 1962
         },
         {
          "continent": "Europe",
          "country": "Hungary",
          "gdpPercap": 9326.64467,
          "lifeExp": 69.5,
          "pop": 10223422,
          "year": 1967
         },
         {
          "continent": "Europe",
          "country": "Hungary",
          "gdpPercap": 10168.65611,
          "lifeExp": 69.76,
          "pop": 10394091,
          "year": 1972
         },
         {
          "continent": "Europe",
          "country": "Hungary",
          "gdpPercap": 11674.837370000001,
          "lifeExp": 69.95,
          "pop": 10637171,
          "year": 1977
         },
         {
          "continent": "Europe",
          "country": "Hungary",
          "gdpPercap": 12545.99066,
          "lifeExp": 69.39,
          "pop": 10705535,
          "year": 1982
         },
         {
          "continent": "Europe",
          "country": "Hungary",
          "gdpPercap": 12986.47998,
          "lifeExp": 69.58,
          "pop": 10612740,
          "year": 1987
         },
         {
          "continent": "Europe",
          "country": "Hungary",
          "gdpPercap": 10535.62855,
          "lifeExp": 69.17,
          "pop": 10348684,
          "year": 1992
         },
         {
          "continent": "Europe",
          "country": "Hungary",
          "gdpPercap": 11712.7768,
          "lifeExp": 71.04,
          "pop": 10244684,
          "year": 1997
         },
         {
          "continent": "Europe",
          "country": "Hungary",
          "gdpPercap": 14843.93556,
          "lifeExp": 72.59,
          "pop": 10083313,
          "year": 2002
         },
         {
          "continent": "Europe",
          "country": "Hungary",
          "gdpPercap": 18008.94444,
          "lifeExp": 73.33800000000001,
          "pop": 9956108,
          "year": 2007
         },
         {
          "continent": "Europe",
          "country": "Iceland",
          "gdpPercap": 7267.688428,
          "lifeExp": 72.49,
          "pop": 147962,
          "year": 1952
         },
         {
          "continent": "Europe",
          "country": "Iceland",
          "gdpPercap": 9244.001412,
          "lifeExp": 73.47,
          "pop": 165110,
          "year": 1957
         },
         {
          "continent": "Europe",
          "country": "Iceland",
          "gdpPercap": 10350.15906,
          "lifeExp": 73.68,
          "pop": 182053,
          "year": 1962
         },
         {
          "continent": "Europe",
          "country": "Iceland",
          "gdpPercap": 13319.89568,
          "lifeExp": 73.73,
          "pop": 198676,
          "year": 1967
         },
         {
          "continent": "Europe",
          "country": "Iceland",
          "gdpPercap": 15798.063619999999,
          "lifeExp": 74.46,
          "pop": 209275,
          "year": 1972
         },
         {
          "continent": "Europe",
          "country": "Iceland",
          "gdpPercap": 19654.96247,
          "lifeExp": 76.11,
          "pop": 221823,
          "year": 1977
         },
         {
          "continent": "Europe",
          "country": "Iceland",
          "gdpPercap": 23269.6075,
          "lifeExp": 76.99,
          "pop": 233997,
          "year": 1982
         },
         {
          "continent": "Europe",
          "country": "Iceland",
          "gdpPercap": 26923.206280000002,
          "lifeExp": 77.23,
          "pop": 244676,
          "year": 1987
         },
         {
          "continent": "Europe",
          "country": "Iceland",
          "gdpPercap": 25144.39201,
          "lifeExp": 78.77,
          "pop": 259012,
          "year": 1992
         },
         {
          "continent": "Europe",
          "country": "Iceland",
          "gdpPercap": 28061.099660000003,
          "lifeExp": 78.95,
          "pop": 271192,
          "year": 1997
         },
         {
          "continent": "Europe",
          "country": "Iceland",
          "gdpPercap": 31163.201960000002,
          "lifeExp": 80.5,
          "pop": 288030,
          "year": 2002
         },
         {
          "continent": "Europe",
          "country": "Iceland",
          "gdpPercap": 36180.789189999996,
          "lifeExp": 81.757,
          "pop": 301931,
          "year": 2007
         },
         {
          "continent": "Asia",
          "country": "India",
          "gdpPercap": 546.5657493,
          "lifeExp": 37.373000000000005,
          "pop": 372000000,
          "year": 1952
         },
         {
          "continent": "Asia",
          "country": "India",
          "gdpPercap": 590.061996,
          "lifeExp": 40.249,
          "pop": 409000000,
          "year": 1957
         },
         {
          "continent": "Asia",
          "country": "India",
          "gdpPercap": 658.3471509,
          "lifeExp": 43.605,
          "pop": 454000000,
          "year": 1962
         },
         {
          "continent": "Asia",
          "country": "India",
          "gdpPercap": 700.7706107000001,
          "lifeExp": 47.193000000000005,
          "pop": 506000000,
          "year": 1967
         },
         {
          "continent": "Asia",
          "country": "India",
          "gdpPercap": 724.032527,
          "lifeExp": 50.651,
          "pop": 567000000,
          "year": 1972
         },
         {
          "continent": "Asia",
          "country": "India",
          "gdpPercap": 813.3373230000001,
          "lifeExp": 54.208,
          "pop": 634000000,
          "year": 1977
         },
         {
          "continent": "Asia",
          "country": "India",
          "gdpPercap": 855.7235377000001,
          "lifeExp": 56.596000000000004,
          "pop": 708000000,
          "year": 1982
         },
         {
          "continent": "Asia",
          "country": "India",
          "gdpPercap": 976.5126756000001,
          "lifeExp": 58.553000000000004,
          "pop": 788000000,
          "year": 1987
         },
         {
          "continent": "Asia",
          "country": "India",
          "gdpPercap": 1164.406809,
          "lifeExp": 60.223,
          "pop": 872000000,
          "year": 1992
         },
         {
          "continent": "Asia",
          "country": "India",
          "gdpPercap": 1458.817442,
          "lifeExp": 61.765,
          "pop": 959000000,
          "year": 1997
         },
         {
          "continent": "Asia",
          "country": "India",
          "gdpPercap": 1746.769454,
          "lifeExp": 62.879,
          "pop": 1034172547,
          "year": 2002
         },
         {
          "continent": "Asia",
          "country": "India",
          "gdpPercap": 2452.210407,
          "lifeExp": 64.69800000000001,
          "pop": 1110396331,
          "year": 2007
         },
         {
          "continent": "Asia",
          "country": "Indonesia",
          "gdpPercap": 749.6816546,
          "lifeExp": 37.468,
          "pop": 82052000,
          "year": 1952
         },
         {
          "continent": "Asia",
          "country": "Indonesia",
          "gdpPercap": 858.9002707000001,
          "lifeExp": 39.918,
          "pop": 90124000,
          "year": 1957
         },
         {
          "continent": "Asia",
          "country": "Indonesia",
          "gdpPercap": 849.2897700999999,
          "lifeExp": 42.518,
          "pop": 99028000,
          "year": 1962
         },
         {
          "continent": "Asia",
          "country": "Indonesia",
          "gdpPercap": 762.4317721,
          "lifeExp": 45.964,
          "pop": 109343000,
          "year": 1967
         },
         {
          "continent": "Asia",
          "country": "Indonesia",
          "gdpPercap": 1111.107907,
          "lifeExp": 49.203,
          "pop": 121282000,
          "year": 1972
         },
         {
          "continent": "Asia",
          "country": "Indonesia",
          "gdpPercap": 1382.702056,
          "lifeExp": 52.702,
          "pop": 136725000,
          "year": 1977
         },
         {
          "continent": "Asia",
          "country": "Indonesia",
          "gdpPercap": 1516.872988,
          "lifeExp": 56.159,
          "pop": 153343000,
          "year": 1982
         },
         {
          "continent": "Asia",
          "country": "Indonesia",
          "gdpPercap": 1748.356961,
          "lifeExp": 60.137,
          "pop": 169276000,
          "year": 1987
         },
         {
          "continent": "Asia",
          "country": "Indonesia",
          "gdpPercap": 2383.140898,
          "lifeExp": 62.681000000000004,
          "pop": 184816000,
          "year": 1992
         },
         {
          "continent": "Asia",
          "country": "Indonesia",
          "gdpPercap": 3119.335603,
          "lifeExp": 66.041,
          "pop": 199278000,
          "year": 1997
         },
         {
          "continent": "Asia",
          "country": "Indonesia",
          "gdpPercap": 2873.91287,
          "lifeExp": 68.58800000000001,
          "pop": 211060000,
          "year": 2002
         },
         {
          "continent": "Asia",
          "country": "Indonesia",
          "gdpPercap": 3540.6515640000002,
          "lifeExp": 70.65,
          "pop": 223547000,
          "year": 2007
         },
         {
          "continent": "Asia",
          "country": "Iran",
          "gdpPercap": 3035.326002,
          "lifeExp": 44.869,
          "pop": 17272000,
          "year": 1952
         },
         {
          "continent": "Asia",
          "country": "Iran",
          "gdpPercap": 3290.257643,
          "lifeExp": 47.181000000000004,
          "pop": 19792000,
          "year": 1957
         },
         {
          "continent": "Asia",
          "country": "Iran",
          "gdpPercap": 4187.329802,
          "lifeExp": 49.325,
          "pop": 22874000,
          "year": 1962
         },
         {
          "continent": "Asia",
          "country": "Iran",
          "gdpPercap": 5906.731804999999,
          "lifeExp": 52.468999999999994,
          "pop": 26538000,
          "year": 1967
         },
         {
          "continent": "Asia",
          "country": "Iran",
          "gdpPercap": 9613.818607,
          "lifeExp": 55.233999999999995,
          "pop": 30614000,
          "year": 1972
         },
         {
          "continent": "Asia",
          "country": "Iran",
          "gdpPercap": 11888.59508,
          "lifeExp": 57.702,
          "pop": 35480679,
          "year": 1977
         },
         {
          "continent": "Asia",
          "country": "Iran",
          "gdpPercap": 7608.334602,
          "lifeExp": 59.62,
          "pop": 43072751,
          "year": 1982
         },
         {
          "continent": "Asia",
          "country": "Iran",
          "gdpPercap": 6642.881371,
          "lifeExp": 63.04,
          "pop": 51889696,
          "year": 1987
         },
         {
          "continent": "Asia",
          "country": "Iran",
          "gdpPercap": 7235.653187999999,
          "lifeExp": 65.742,
          "pop": 60397973,
          "year": 1992
         },
         {
          "continent": "Asia",
          "country": "Iran",
          "gdpPercap": 8263.590301,
          "lifeExp": 68.042,
          "pop": 63327987,
          "year": 1997
         },
         {
          "continent": "Asia",
          "country": "Iran",
          "gdpPercap": 9240.761975,
          "lifeExp": 69.45100000000001,
          "pop": 66907826,
          "year": 2002
         },
         {
          "continent": "Asia",
          "country": "Iran",
          "gdpPercap": 11605.71449,
          "lifeExp": 70.964,
          "pop": 69453570,
          "year": 2007
         },
         {
          "continent": "Asia",
          "country": "Iraq",
          "gdpPercap": 4129.766056,
          "lifeExp": 45.32,
          "pop": 5441766,
          "year": 1952
         },
         {
          "continent": "Asia",
          "country": "Iraq",
          "gdpPercap": 6229.333562,
          "lifeExp": 48.437,
          "pop": 6248643,
          "year": 1957
         },
         {
          "continent": "Asia",
          "country": "Iraq",
          "gdpPercap": 8341.737815,
          "lifeExp": 51.457,
          "pop": 7240260,
          "year": 1962
         },
         {
          "continent": "Asia",
          "country": "Iraq",
          "gdpPercap": 8931.459811,
          "lifeExp": 54.458999999999996,
          "pop": 8519282,
          "year": 1967
         },
         {
          "continent": "Asia",
          "country": "Iraq",
          "gdpPercap": 9576.037596,
          "lifeExp": 56.95,
          "pop": 10061506,
          "year": 1972
         },
         {
          "continent": "Asia",
          "country": "Iraq",
          "gdpPercap": 14688.235069999999,
          "lifeExp": 60.413000000000004,
          "pop": 11882916,
          "year": 1977
         },
         {
          "continent": "Asia",
          "country": "Iraq",
          "gdpPercap": 14517.90711,
          "lifeExp": 62.038000000000004,
          "pop": 14173318,
          "year": 1982
         },
         {
          "continent": "Asia",
          "country": "Iraq",
          "gdpPercap": 11643.57268,
          "lifeExp": 65.044,
          "pop": 16543189,
          "year": 1987
         },
         {
          "continent": "Asia",
          "country": "Iraq",
          "gdpPercap": 3745.6406869999996,
          "lifeExp": 59.461000000000006,
          "pop": 17861905,
          "year": 1992
         },
         {
          "continent": "Asia",
          "country": "Iraq",
          "gdpPercap": 3076.239795,
          "lifeExp": 58.81100000000001,
          "pop": 20775703,
          "year": 1997
         },
         {
          "continent": "Asia",
          "country": "Iraq",
          "gdpPercap": 4390.717312,
          "lifeExp": 57.04600000000001,
          "pop": 24001816,
          "year": 2002
         },
         {
          "continent": "Asia",
          "country": "Iraq",
          "gdpPercap": 4471.061906,
          "lifeExp": 59.545,
          "pop": 27499638,
          "year": 2007
         },
         {
          "continent": "Europe",
          "country": "Ireland",
          "gdpPercap": 5210.280328,
          "lifeExp": 66.91,
          "pop": 2952156,
          "year": 1952
         },
         {
          "continent": "Europe",
          "country": "Ireland",
          "gdpPercap": 5599.077872,
          "lifeExp": 68.9,
          "pop": 2878220,
          "year": 1957
         },
         {
          "continent": "Europe",
          "country": "Ireland",
          "gdpPercap": 6631.597314,
          "lifeExp": 70.29,
          "pop": 2830000,
          "year": 1962
         },
         {
          "continent": "Europe",
          "country": "Ireland",
          "gdpPercap": 7655.568963,
          "lifeExp": 71.08,
          "pop": 2900100,
          "year": 1967
         },
         {
          "continent": "Europe",
          "country": "Ireland",
          "gdpPercap": 9530.772895999999,
          "lifeExp": 71.28,
          "pop": 3024400,
          "year": 1972
         },
         {
          "continent": "Europe",
          "country": "Ireland",
          "gdpPercap": 11150.98113,
          "lifeExp": 72.03,
          "pop": 3271900,
          "year": 1977
         },
         {
          "continent": "Europe",
          "country": "Ireland",
          "gdpPercap": 12618.321409999999,
          "lifeExp": 73.1,
          "pop": 3480000,
          "year": 1982
         },
         {
          "continent": "Europe",
          "country": "Ireland",
          "gdpPercap": 13872.86652,
          "lifeExp": 74.36,
          "pop": 3539900,
          "year": 1987
         },
         {
          "continent": "Europe",
          "country": "Ireland",
          "gdpPercap": 17558.81555,
          "lifeExp": 75.467,
          "pop": 3557761,
          "year": 1992
         },
         {
          "continent": "Europe",
          "country": "Ireland",
          "gdpPercap": 24521.94713,
          "lifeExp": 76.122,
          "pop": 3667233,
          "year": 1997
         },
         {
          "continent": "Europe",
          "country": "Ireland",
          "gdpPercap": 34077.04939,
          "lifeExp": 77.783,
          "pop": 3879155,
          "year": 2002
         },
         {
          "continent": "Europe",
          "country": "Ireland",
          "gdpPercap": 40675.99635,
          "lifeExp": 78.885,
          "pop": 4109086,
          "year": 2007
         },
         {
          "continent": "Asia",
          "country": "Israel",
          "gdpPercap": 4086.522128,
          "lifeExp": 65.39,
          "pop": 1620914,
          "year": 1952
         },
         {
          "continent": "Asia",
          "country": "Israel",
          "gdpPercap": 5385.278451,
          "lifeExp": 67.84,
          "pop": 1944401,
          "year": 1957
         },
         {
          "continent": "Asia",
          "country": "Israel",
          "gdpPercap": 7105.630706,
          "lifeExp": 69.39,
          "pop": 2310904,
          "year": 1962
         },
         {
          "continent": "Asia",
          "country": "Israel",
          "gdpPercap": 8393.741404,
          "lifeExp": 70.75,
          "pop": 2693585,
          "year": 1967
         },
         {
          "continent": "Asia",
          "country": "Israel",
          "gdpPercap": 12786.93223,
          "lifeExp": 71.63,
          "pop": 3095893,
          "year": 1972
         },
         {
          "continent": "Asia",
          "country": "Israel",
          "gdpPercap": 13306.619209999999,
          "lifeExp": 73.06,
          "pop": 3495918,
          "year": 1977
         },
         {
          "continent": "Asia",
          "country": "Israel",
          "gdpPercap": 15367.0292,
          "lifeExp": 74.45,
          "pop": 3858421,
          "year": 1982
         },
         {
          "continent": "Asia",
          "country": "Israel",
          "gdpPercap": 17122.47986,
          "lifeExp": 75.6,
          "pop": 4203148,
          "year": 1987
         },
         {
          "continent": "Asia",
          "country": "Israel",
          "gdpPercap": 18051.52254,
          "lifeExp": 76.93,
          "pop": 4936550,
          "year": 1992
         },
         {
          "continent": "Asia",
          "country": "Israel",
          "gdpPercap": 20896.60924,
          "lifeExp": 78.26899999999999,
          "pop": 5531387,
          "year": 1997
         },
         {
          "continent": "Asia",
          "country": "Israel",
          "gdpPercap": 21905.59514,
          "lifeExp": 79.696,
          "pop": 6029529,
          "year": 2002
         },
         {
          "continent": "Asia",
          "country": "Israel",
          "gdpPercap": 25523.2771,
          "lifeExp": 80.745,
          "pop": 6426679,
          "year": 2007
         },
         {
          "continent": "Europe",
          "country": "Italy",
          "gdpPercap": 4931.404154999999,
          "lifeExp": 65.94,
          "pop": 47666000,
          "year": 1952
         },
         {
          "continent": "Europe",
          "country": "Italy",
          "gdpPercap": 6248.656232,
          "lifeExp": 67.81,
          "pop": 49182000,
          "year": 1957
         },
         {
          "continent": "Europe",
          "country": "Italy",
          "gdpPercap": 8243.58234,
          "lifeExp": 69.24,
          "pop": 50843200,
          "year": 1962
         },
         {
          "continent": "Europe",
          "country": "Italy",
          "gdpPercap": 10022.40131,
          "lifeExp": 71.06,
          "pop": 52667100,
          "year": 1967
         },
         {
          "continent": "Europe",
          "country": "Italy",
          "gdpPercap": 12269.27378,
          "lifeExp": 72.19,
          "pop": 54365564,
          "year": 1972
         },
         {
          "continent": "Europe",
          "country": "Italy",
          "gdpPercap": 14255.98475,
          "lifeExp": 73.48,
          "pop": 56059245,
          "year": 1977
         },
         {
          "continent": "Europe",
          "country": "Italy",
          "gdpPercap": 16537.4835,
          "lifeExp": 74.98,
          "pop": 56535636,
          "year": 1982
         },
         {
          "continent": "Europe",
          "country": "Italy",
          "gdpPercap": 19207.234819999998,
          "lifeExp": 76.42,
          "pop": 56729703,
          "year": 1987
         },
         {
          "continent": "Europe",
          "country": "Italy",
          "gdpPercap": 22013.64486,
          "lifeExp": 77.44,
          "pop": 56840847,
          "year": 1992
         },
         {
          "continent": "Europe",
          "country": "Italy",
          "gdpPercap": 24675.02446,
          "lifeExp": 78.82,
          "pop": 57479469,
          "year": 1997
         },
         {
          "continent": "Europe",
          "country": "Italy",
          "gdpPercap": 27968.098169999997,
          "lifeExp": 80.24,
          "pop": 57926999,
          "year": 2002
         },
         {
          "continent": "Europe",
          "country": "Italy",
          "gdpPercap": 28569.7197,
          "lifeExp": 80.546,
          "pop": 58147733,
          "year": 2007
         },
         {
          "continent": "Americas",
          "country": "Jamaica",
          "gdpPercap": 2898.5308809999997,
          "lifeExp": 58.53,
          "pop": 1426095,
          "year": 1952
         },
         {
          "continent": "Americas",
          "country": "Jamaica",
          "gdpPercap": 4756.525781,
          "lifeExp": 62.61,
          "pop": 1535090,
          "year": 1957
         },
         {
          "continent": "Americas",
          "country": "Jamaica",
          "gdpPercap": 5246.107524,
          "lifeExp": 65.61,
          "pop": 1665128,
          "year": 1962
         },
         {
          "continent": "Americas",
          "country": "Jamaica",
          "gdpPercap": 6124.703450999999,
          "lifeExp": 67.51,
          "pop": 1861096,
          "year": 1967
         },
         {
          "continent": "Americas",
          "country": "Jamaica",
          "gdpPercap": 7433.889293000001,
          "lifeExp": 69,
          "pop": 1997616,
          "year": 1972
         },
         {
          "continent": "Americas",
          "country": "Jamaica",
          "gdpPercap": 6650.195573,
          "lifeExp": 70.11,
          "pop": 2156814,
          "year": 1977
         },
         {
          "continent": "Americas",
          "country": "Jamaica",
          "gdpPercap": 6068.05135,
          "lifeExp": 71.21,
          "pop": 2298309,
          "year": 1982
         },
         {
          "continent": "Americas",
          "country": "Jamaica",
          "gdpPercap": 6351.237495,
          "lifeExp": 71.77,
          "pop": 2326606,
          "year": 1987
         },
         {
          "continent": "Americas",
          "country": "Jamaica",
          "gdpPercap": 7404.923685,
          "lifeExp": 71.766,
          "pop": 2378618,
          "year": 1992
         },
         {
          "continent": "Americas",
          "country": "Jamaica",
          "gdpPercap": 7121.924704000001,
          "lifeExp": 72.262,
          "pop": 2531311,
          "year": 1997
         },
         {
          "continent": "Americas",
          "country": "Jamaica",
          "gdpPercap": 6994.774861,
          "lifeExp": 72.047,
          "pop": 2664659,
          "year": 2002
         },
         {
          "continent": "Americas",
          "country": "Jamaica",
          "gdpPercap": 7320.880262000001,
          "lifeExp": 72.567,
          "pop": 2780132,
          "year": 2007
         },
         {
          "continent": "Asia",
          "country": "Japan",
          "gdpPercap": 3216.956347,
          "lifeExp": 63.03,
          "pop": 86459025,
          "year": 1952
         },
         {
          "continent": "Asia",
          "country": "Japan",
          "gdpPercap": 4317.694365,
          "lifeExp": 65.5,
          "pop": 91563009,
          "year": 1957
         },
         {
          "continent": "Asia",
          "country": "Japan",
          "gdpPercap": 6576.649461,
          "lifeExp": 68.73,
          "pop": 95831757,
          "year": 1962
         },
         {
          "continent": "Asia",
          "country": "Japan",
          "gdpPercap": 9847.788606999999,
          "lifeExp": 71.43,
          "pop": 100825279,
          "year": 1967
         },
         {
          "continent": "Asia",
          "country": "Japan",
          "gdpPercap": 14778.78636,
          "lifeExp": 73.42,
          "pop": 107188273,
          "year": 1972
         },
         {
          "continent": "Asia",
          "country": "Japan",
          "gdpPercap": 16610.37701,
          "lifeExp": 75.38,
          "pop": 113872473,
          "year": 1977
         },
         {
          "continent": "Asia",
          "country": "Japan",
          "gdpPercap": 19384.10571,
          "lifeExp": 77.11,
          "pop": 118454974,
          "year": 1982
         },
         {
          "continent": "Asia",
          "country": "Japan",
          "gdpPercap": 22375.941890000002,
          "lifeExp": 78.67,
          "pop": 122091325,
          "year": 1987
         },
         {
          "continent": "Asia",
          "country": "Japan",
          "gdpPercap": 26824.895109999998,
          "lifeExp": 79.36,
          "pop": 124329269,
          "year": 1992
         },
         {
          "continent": "Asia",
          "country": "Japan",
          "gdpPercap": 28816.58499,
          "lifeExp": 80.69,
          "pop": 125956499,
          "year": 1997
         },
         {
          "continent": "Asia",
          "country": "Japan",
          "gdpPercap": 28604.5919,
          "lifeExp": 82,
          "pop": 127065841,
          "year": 2002
         },
         {
          "continent": "Asia",
          "country": "Japan",
          "gdpPercap": 31656.06806,
          "lifeExp": 82.603,
          "pop": 127467972,
          "year": 2007
         },
         {
          "continent": "Asia",
          "country": "Jordan",
          "gdpPercap": 1546.907807,
          "lifeExp": 43.158,
          "pop": 607914,
          "year": 1952
         },
         {
          "continent": "Asia",
          "country": "Jordan",
          "gdpPercap": 1886.080591,
          "lifeExp": 45.669,
          "pop": 746559,
          "year": 1957
         },
         {
          "continent": "Asia",
          "country": "Jordan",
          "gdpPercap": 2348.009158,
          "lifeExp": 48.126000000000005,
          "pop": 933559,
          "year": 1962
         },
         {
          "continent": "Asia",
          "country": "Jordan",
          "gdpPercap": 2741.796252,
          "lifeExp": 51.629,
          "pop": 1255058,
          "year": 1967
         },
         {
          "continent": "Asia",
          "country": "Jordan",
          "gdpPercap": 2110.856309,
          "lifeExp": 56.528,
          "pop": 1613551,
          "year": 1972
         },
         {
          "continent": "Asia",
          "country": "Jordan",
          "gdpPercap": 2852.351568,
          "lifeExp": 61.13399999999999,
          "pop": 1937652,
          "year": 1977
         },
         {
          "continent": "Asia",
          "country": "Jordan",
          "gdpPercap": 4161.415959,
          "lifeExp": 63.739,
          "pop": 2347031,
          "year": 1982
         },
         {
          "continent": "Asia",
          "country": "Jordan",
          "gdpPercap": 4448.679912,
          "lifeExp": 65.869,
          "pop": 2820042,
          "year": 1987
         },
         {
          "continent": "Asia",
          "country": "Jordan",
          "gdpPercap": 3431.5936469999997,
          "lifeExp": 68.015,
          "pop": 3867409,
          "year": 1992
         },
         {
          "continent": "Asia",
          "country": "Jordan",
          "gdpPercap": 3645.379572,
          "lifeExp": 69.77199999999999,
          "pop": 4526235,
          "year": 1997
         },
         {
          "continent": "Asia",
          "country": "Jordan",
          "gdpPercap": 3844.9171939999997,
          "lifeExp": 71.263,
          "pop": 5307470,
          "year": 2002
         },
         {
          "continent": "Asia",
          "country": "Jordan",
          "gdpPercap": 4519.461171,
          "lifeExp": 72.535,
          "pop": 6053193,
          "year": 2007
         },
         {
          "continent": "Africa",
          "country": "Kenya",
          "gdpPercap": 853.5409189999999,
          "lifeExp": 42.27,
          "pop": 6464046,
          "year": 1952
         },
         {
          "continent": "Africa",
          "country": "Kenya",
          "gdpPercap": 944.4383152,
          "lifeExp": 44.68600000000001,
          "pop": 7454779,
          "year": 1957
         },
         {
          "continent": "Africa",
          "country": "Kenya",
          "gdpPercap": 896.9663732,
          "lifeExp": 47.949,
          "pop": 8678557,
          "year": 1962
         },
         {
          "continent": "Africa",
          "country": "Kenya",
          "gdpPercap": 1056.736457,
          "lifeExp": 50.653999999999996,
          "pop": 10191512,
          "year": 1967
         },
         {
          "continent": "Africa",
          "country": "Kenya",
          "gdpPercap": 1222.359968,
          "lifeExp": 53.559,
          "pop": 12044785,
          "year": 1972
         },
         {
          "continent": "Africa",
          "country": "Kenya",
          "gdpPercap": 1267.613204,
          "lifeExp": 56.155,
          "pop": 14500404,
          "year": 1977
         },
         {
          "continent": "Africa",
          "country": "Kenya",
          "gdpPercap": 1348.225791,
          "lifeExp": 58.766000000000005,
          "pop": 17661452,
          "year": 1982
         },
         {
          "continent": "Africa",
          "country": "Kenya",
          "gdpPercap": 1361.936856,
          "lifeExp": 59.339,
          "pop": 21198082,
          "year": 1987
         },
         {
          "continent": "Africa",
          "country": "Kenya",
          "gdpPercap": 1341.9217210000002,
          "lifeExp": 59.285,
          "pop": 25020539,
          "year": 1992
         },
         {
          "continent": "Africa",
          "country": "Kenya",
          "gdpPercap": 1360.4850210000002,
          "lifeExp": 54.407,
          "pop": 28263827,
          "year": 1997
         },
         {
          "continent": "Africa",
          "country": "Kenya",
          "gdpPercap": 1287.514732,
          "lifeExp": 50.992,
          "pop": 31386842,
          "year": 2002
         },
         {
          "continent": "Africa",
          "country": "Kenya",
          "gdpPercap": 1463.249282,
          "lifeExp": 54.11,
          "pop": 35610177,
          "year": 2007
         },
         {
          "continent": "Asia",
          "country": "Korea, Dem. Rep.",
          "gdpPercap": 1088.277758,
          "lifeExp": 50.056000000000004,
          "pop": 8865488,
          "year": 1952
         },
         {
          "continent": "Asia",
          "country": "Korea, Dem. Rep.",
          "gdpPercap": 1571.134655,
          "lifeExp": 54.081,
          "pop": 9411381,
          "year": 1957
         },
         {
          "continent": "Asia",
          "country": "Korea, Dem. Rep.",
          "gdpPercap": 1621.693598,
          "lifeExp": 56.656000000000006,
          "pop": 10917494,
          "year": 1962
         },
         {
          "continent": "Asia",
          "country": "Korea, Dem. Rep.",
          "gdpPercap": 2143.540609,
          "lifeExp": 59.942,
          "pop": 12617009,
          "year": 1967
         },
         {
          "continent": "Asia",
          "country": "Korea, Dem. Rep.",
          "gdpPercap": 3701.6215030000003,
          "lifeExp": 63.983000000000004,
          "pop": 14781241,
          "year": 1972
         },
         {
          "continent": "Asia",
          "country": "Korea, Dem. Rep.",
          "gdpPercap": 4106.301249,
          "lifeExp": 67.15899999999999,
          "pop": 16325320,
          "year": 1977
         },
         {
          "continent": "Asia",
          "country": "Korea, Dem. Rep.",
          "gdpPercap": 4106.525293,
          "lifeExp": 69.1,
          "pop": 17647518,
          "year": 1982
         },
         {
          "continent": "Asia",
          "country": "Korea, Dem. Rep.",
          "gdpPercap": 4106.4923149999995,
          "lifeExp": 70.64699999999999,
          "pop": 19067554,
          "year": 1987
         },
         {
          "continent": "Asia",
          "country": "Korea, Dem. Rep.",
          "gdpPercap": 3726.063507,
          "lifeExp": 69.97800000000001,
          "pop": 20711375,
          "year": 1992
         },
         {
          "continent": "Asia",
          "country": "Korea, Dem. Rep.",
          "gdpPercap": 1690.756814,
          "lifeExp": 67.727,
          "pop": 21585105,
          "year": 1997
         },
         {
          "continent": "Asia",
          "country": "Korea, Dem. Rep.",
          "gdpPercap": 1646.758151,
          "lifeExp": 66.66199999999999,
          "pop": 22215365,
          "year": 2002
         },
         {
          "continent": "Asia",
          "country": "Korea, Dem. Rep.",
          "gdpPercap": 1593.06548,
          "lifeExp": 67.297,
          "pop": 23301725,
          "year": 2007
         },
         {
          "continent": "Asia",
          "country": "Korea, Rep.",
          "gdpPercap": 1030.592226,
          "lifeExp": 47.453,
          "pop": 20947571,
          "year": 1952
         },
         {
          "continent": "Asia",
          "country": "Korea, Rep.",
          "gdpPercap": 1487.593537,
          "lifeExp": 52.681000000000004,
          "pop": 22611552,
          "year": 1957
         },
         {
          "continent": "Asia",
          "country": "Korea, Rep.",
          "gdpPercap": 1536.3443869999999,
          "lifeExp": 55.292,
          "pop": 26420307,
          "year": 1962
         },
         {
          "continent": "Asia",
          "country": "Korea, Rep.",
          "gdpPercap": 2029.2281420000002,
          "lifeExp": 57.716,
          "pop": 30131000,
          "year": 1967
         },
         {
          "continent": "Asia",
          "country": "Korea, Rep.",
          "gdpPercap": 3030.87665,
          "lifeExp": 62.611999999999995,
          "pop": 33505000,
          "year": 1972
         },
         {
          "continent": "Asia",
          "country": "Korea, Rep.",
          "gdpPercap": 4657.22102,
          "lifeExp": 64.766,
          "pop": 36436000,
          "year": 1977
         },
         {
          "continent": "Asia",
          "country": "Korea, Rep.",
          "gdpPercap": 5622.942464,
          "lifeExp": 67.123,
          "pop": 39326000,
          "year": 1982
         },
         {
          "continent": "Asia",
          "country": "Korea, Rep.",
          "gdpPercap": 8533.088805,
          "lifeExp": 69.81,
          "pop": 41622000,
          "year": 1987
         },
         {
          "continent": "Asia",
          "country": "Korea, Rep.",
          "gdpPercap": 12104.27872,
          "lifeExp": 72.244,
          "pop": 43805450,
          "year": 1992
         },
         {
          "continent": "Asia",
          "country": "Korea, Rep.",
          "gdpPercap": 15993.52796,
          "lifeExp": 74.64699999999999,
          "pop": 46173816,
          "year": 1997
         },
         {
          "continent": "Asia",
          "country": "Korea, Rep.",
          "gdpPercap": 19233.98818,
          "lifeExp": 77.045,
          "pop": 47969150,
          "year": 2002
         },
         {
          "continent": "Asia",
          "country": "Korea, Rep.",
          "gdpPercap": 23348.139730000003,
          "lifeExp": 78.623,
          "pop": 49044790,
          "year": 2007
         },
         {
          "continent": "Asia",
          "country": "Kuwait",
          "gdpPercap": 108382.3529,
          "lifeExp": 55.565,
          "pop": 160000,
          "year": 1952
         },
         {
          "continent": "Asia",
          "country": "Kuwait",
          "gdpPercap": 113523.1329,
          "lifeExp": 58.033,
          "pop": 212846,
          "year": 1957
         },
         {
          "continent": "Asia",
          "country": "Kuwait",
          "gdpPercap": 95458.11176,
          "lifeExp": 60.47,
          "pop": 358266,
          "year": 1962
         },
         {
          "continent": "Asia",
          "country": "Kuwait",
          "gdpPercap": 80894.88326,
          "lifeExp": 64.624,
          "pop": 575003,
          "year": 1967
         },
         {
          "continent": "Asia",
          "country": "Kuwait",
          "gdpPercap": 109347.867,
          "lifeExp": 67.712,
          "pop": 841934,
          "year": 1972
         },
         {
          "continent": "Asia",
          "country": "Kuwait",
          "gdpPercap": 59265.477139999995,
          "lifeExp": 69.343,
          "pop": 1140357,
          "year": 1977
         },
         {
          "continent": "Asia",
          "country": "Kuwait",
          "gdpPercap": 31354.03573,
          "lifeExp": 71.309,
          "pop": 1497494,
          "year": 1982
         },
         {
          "continent": "Asia",
          "country": "Kuwait",
          "gdpPercap": 28118.42998,
          "lifeExp": 74.17399999999999,
          "pop": 1891487,
          "year": 1987
         },
         {
          "continent": "Asia",
          "country": "Kuwait",
          "gdpPercap": 34932.91959,
          "lifeExp": 75.19,
          "pop": 1418095,
          "year": 1992
         },
         {
          "continent": "Asia",
          "country": "Kuwait",
          "gdpPercap": 40300.61996,
          "lifeExp": 76.156,
          "pop": 1765345,
          "year": 1997
         },
         {
          "continent": "Asia",
          "country": "Kuwait",
          "gdpPercap": 35110.10566,
          "lifeExp": 76.904,
          "pop": 2111561,
          "year": 2002
         },
         {
          "continent": "Asia",
          "country": "Kuwait",
          "gdpPercap": 47306.98978,
          "lifeExp": 77.58800000000001,
          "pop": 2505559,
          "year": 2007
         },
         {
          "continent": "Asia",
          "country": "Lebanon",
          "gdpPercap": 4834.804067,
          "lifeExp": 55.928000000000004,
          "pop": 1439529,
          "year": 1952
         },
         {
          "continent": "Asia",
          "country": "Lebanon",
          "gdpPercap": 6089.786934000001,
          "lifeExp": 59.489,
          "pop": 1647412,
          "year": 1957
         },
         {
          "continent": "Asia",
          "country": "Lebanon",
          "gdpPercap": 5714.560611,
          "lifeExp": 62.093999999999994,
          "pop": 1886848,
          "year": 1962
         },
         {
          "continent": "Asia",
          "country": "Lebanon",
          "gdpPercap": 6006.983042,
          "lifeExp": 63.87,
          "pop": 2186894,
          "year": 1967
         },
         {
          "continent": "Asia",
          "country": "Lebanon",
          "gdpPercap": 7486.384341,
          "lifeExp": 65.421,
          "pop": 2680018,
          "year": 1972
         },
         {
          "continent": "Asia",
          "country": "Lebanon",
          "gdpPercap": 8659.696836,
          "lifeExp": 66.09899999999999,
          "pop": 3115787,
          "year": 1977
         },
         {
          "continent": "Asia",
          "country": "Lebanon",
          "gdpPercap": 7640.519520999999,
          "lifeExp": 66.983,
          "pop": 3086876,
          "year": 1982
         },
         {
          "continent": "Asia",
          "country": "Lebanon",
          "gdpPercap": 5377.091329,
          "lifeExp": 67.926,
          "pop": 3089353,
          "year": 1987
         },
         {
          "continent": "Asia",
          "country": "Lebanon",
          "gdpPercap": 6890.806854,
          "lifeExp": 69.292,
          "pop": 3219994,
          "year": 1992
         },
         {
          "continent": "Asia",
          "country": "Lebanon",
          "gdpPercap": 8754.96385,
          "lifeExp": 70.265,
          "pop": 3430388,
          "year": 1997
         },
         {
          "continent": "Asia",
          "country": "Lebanon",
          "gdpPercap": 9313.93883,
          "lifeExp": 71.028,
          "pop": 3677780,
          "year": 2002
         },
         {
          "continent": "Asia",
          "country": "Lebanon",
          "gdpPercap": 10461.05868,
          "lifeExp": 71.993,
          "pop": 3921278,
          "year": 2007
         },
         {
          "continent": "Africa",
          "country": "Lesotho",
          "gdpPercap": 298.8462121,
          "lifeExp": 42.138000000000005,
          "pop": 748747,
          "year": 1952
         },
         {
          "continent": "Africa",
          "country": "Lesotho",
          "gdpPercap": 335.99711510000003,
          "lifeExp": 45.047,
          "pop": 813338,
          "year": 1957
         },
         {
          "continent": "Africa",
          "country": "Lesotho",
          "gdpPercap": 411.80062660000004,
          "lifeExp": 47.747,
          "pop": 893143,
          "year": 1962
         },
         {
          "continent": "Africa",
          "country": "Lesotho",
          "gdpPercap": 498.63902649999994,
          "lifeExp": 48.492,
          "pop": 996380,
          "year": 1967
         },
         {
          "continent": "Africa",
          "country": "Lesotho",
          "gdpPercap": 496.58159220000005,
          "lifeExp": 49.766999999999996,
          "pop": 1116779,
          "year": 1972
         },
         {
          "continent": "Africa",
          "country": "Lesotho",
          "gdpPercap": 745.3695408,
          "lifeExp": 52.208,
          "pop": 1251524,
          "year": 1977
         },
         {
          "continent": "Africa",
          "country": "Lesotho",
          "gdpPercap": 797.2631074,
          "lifeExp": 55.078,
          "pop": 1411807,
          "year": 1982
         },
         {
          "continent": "Africa",
          "country": "Lesotho",
          "gdpPercap": 773.9932140999999,
          "lifeExp": 57.18,
          "pop": 1599200,
          "year": 1987
         },
         {
          "continent": "Africa",
          "country": "Lesotho",
          "gdpPercap": 977.4862724999999,
          "lifeExp": 59.685,
          "pop": 1803195,
          "year": 1992
         },
         {
          "continent": "Africa",
          "country": "Lesotho",
          "gdpPercap": 1186.147994,
          "lifeExp": 55.558,
          "pop": 1982823,
          "year": 1997
         },
         {
          "continent": "Africa",
          "country": "Lesotho",
          "gdpPercap": 1275.184575,
          "lifeExp": 44.593,
          "pop": 2046772,
          "year": 2002
         },
         {
          "continent": "Africa",
          "country": "Lesotho",
          "gdpPercap": 1569.331442,
          "lifeExp": 42.592,
          "pop": 2012649,
          "year": 2007
         },
         {
          "continent": "Africa",
          "country": "Liberia",
          "gdpPercap": 575.5729961000001,
          "lifeExp": 38.48,
          "pop": 863308,
          "year": 1952
         },
         {
          "continent": "Africa",
          "country": "Liberia",
          "gdpPercap": 620.9699901,
          "lifeExp": 39.486,
          "pop": 975950,
          "year": 1957
         },
         {
          "continent": "Africa",
          "country": "Liberia",
          "gdpPercap": 634.1951625,
          "lifeExp": 40.501999999999995,
          "pop": 1112796,
          "year": 1962
         },
         {
          "continent": "Africa",
          "country": "Liberia",
          "gdpPercap": 713.6036482999999,
          "lifeExp": 41.536,
          "pop": 1279406,
          "year": 1967
         },
         {
          "continent": "Africa",
          "country": "Liberia",
          "gdpPercap": 803.0054535,
          "lifeExp": 42.614,
          "pop": 1482628,
          "year": 1972
         },
         {
          "continent": "Africa",
          "country": "Liberia",
          "gdpPercap": 640.3224382999999,
          "lifeExp": 43.763999999999996,
          "pop": 1703617,
          "year": 1977
         },
         {
          "continent": "Africa",
          "country": "Liberia",
          "gdpPercap": 572.1995694,
          "lifeExp": 44.852,
          "pop": 1956875,
          "year": 1982
         },
         {
          "continent": "Africa",
          "country": "Liberia",
          "gdpPercap": 506.1138573,
          "lifeExp": 46.027,
          "pop": 2269414,
          "year": 1987
         },
         {
          "continent": "Africa",
          "country": "Liberia",
          "gdpPercap": 636.6229191000001,
          "lifeExp": 40.802,
          "pop": 1912974,
          "year": 1992
         },
         {
          "continent": "Africa",
          "country": "Liberia",
          "gdpPercap": 609.1739508,
          "lifeExp": 42.221000000000004,
          "pop": 2200725,
          "year": 1997
         },
         {
          "continent": "Africa",
          "country": "Liberia",
          "gdpPercap": 531.4823679,
          "lifeExp": 43.753,
          "pop": 2814651,
          "year": 2002
         },
         {
          "continent": "Africa",
          "country": "Liberia",
          "gdpPercap": 414.5073415,
          "lifeExp": 45.678000000000004,
          "pop": 3193942,
          "year": 2007
         },
         {
          "continent": "Africa",
          "country": "Libya",
          "gdpPercap": 2387.54806,
          "lifeExp": 42.723,
          "pop": 1019729,
          "year": 1952
         },
         {
          "continent": "Africa",
          "country": "Libya",
          "gdpPercap": 3448.284395,
          "lifeExp": 45.288999999999994,
          "pop": 1201578,
          "year": 1957
         },
         {
          "continent": "Africa",
          "country": "Libya",
          "gdpPercap": 6757.0308159999995,
          "lifeExp": 47.808,
          "pop": 1441863,
          "year": 1962
         },
         {
          "continent": "Africa",
          "country": "Libya",
          "gdpPercap": 18772.75169,
          "lifeExp": 50.227,
          "pop": 1759224,
          "year": 1967
         },
         {
          "continent": "Africa",
          "country": "Libya",
          "gdpPercap": 21011.497209999998,
          "lifeExp": 52.773,
          "pop": 2183877,
          "year": 1972
         },
         {
          "continent": "Africa",
          "country": "Libya",
          "gdpPercap": 21951.21176,
          "lifeExp": 57.442,
          "pop": 2721783,
          "year": 1977
         },
         {
          "continent": "Africa",
          "country": "Libya",
          "gdpPercap": 17364.275380000003,
          "lifeExp": 62.155,
          "pop": 3344074,
          "year": 1982
         },
         {
          "continent": "Africa",
          "country": "Libya",
          "gdpPercap": 11770.5898,
          "lifeExp": 66.234,
          "pop": 3799845,
          "year": 1987
         },
         {
          "continent": "Africa",
          "country": "Libya",
          "gdpPercap": 9640.138501000001,
          "lifeExp": 68.755,
          "pop": 4364501,
          "year": 1992
         },
         {
          "continent": "Africa",
          "country": "Libya",
          "gdpPercap": 9467.446056,
          "lifeExp": 71.555,
          "pop": 4759670,
          "year": 1997
         },
         {
          "continent": "Africa",
          "country": "Libya",
          "gdpPercap": 9534.677467,
          "lifeExp": 72.737,
          "pop": 5368585,
          "year": 2002
         },
         {
          "continent": "Africa",
          "country": "Libya",
          "gdpPercap": 12057.49928,
          "lifeExp": 73.952,
          "pop": 6036914,
          "year": 2007
         },
         {
          "continent": "Africa",
          "country": "Madagascar",
          "gdpPercap": 1443.011715,
          "lifeExp": 36.681,
          "pop": 4762912,
          "year": 1952
         },
         {
          "continent": "Africa",
          "country": "Madagascar",
          "gdpPercap": 1589.20275,
          "lifeExp": 38.865,
          "pop": 5181679,
          "year": 1957
         },
         {
          "continent": "Africa",
          "country": "Madagascar",
          "gdpPercap": 1643.38711,
          "lifeExp": 40.848,
          "pop": 5703324,
          "year": 1962
         },
         {
          "continent": "Africa",
          "country": "Madagascar",
          "gdpPercap": 1634.047282,
          "lifeExp": 42.881,
          "pop": 6334556,
          "year": 1967
         },
         {
          "continent": "Africa",
          "country": "Madagascar",
          "gdpPercap": 1748.562982,
          "lifeExp": 44.851000000000006,
          "pop": 7082430,
          "year": 1972
         },
         {
          "continent": "Africa",
          "country": "Madagascar",
          "gdpPercap": 1544.228586,
          "lifeExp": 46.881,
          "pop": 8007166,
          "year": 1977
         },
         {
          "continent": "Africa",
          "country": "Madagascar",
          "gdpPercap": 1302.878658,
          "lifeExp": 48.968999999999994,
          "pop": 9171477,
          "year": 1982
         },
         {
          "continent": "Africa",
          "country": "Madagascar",
          "gdpPercap": 1155.4419480000001,
          "lifeExp": 49.35,
          "pop": 10568642,
          "year": 1987
         },
         {
          "continent": "Africa",
          "country": "Madagascar",
          "gdpPercap": 1040.6761900000001,
          "lifeExp": 52.214,
          "pop": 12210395,
          "year": 1992
         },
         {
          "continent": "Africa",
          "country": "Madagascar",
          "gdpPercap": 986.2958956,
          "lifeExp": 54.978,
          "pop": 14165114,
          "year": 1997
         },
         {
          "continent": "Africa",
          "country": "Madagascar",
          "gdpPercap": 894.6370822,
          "lifeExp": 57.286,
          "pop": 16473477,
          "year": 2002
         },
         {
          "continent": "Africa",
          "country": "Madagascar",
          "gdpPercap": 1044.770126,
          "lifeExp": 59.443000000000005,
          "pop": 19167654,
          "year": 2007
         },
         {
          "continent": "Africa",
          "country": "Malawi",
          "gdpPercap": 369.1650802,
          "lifeExp": 36.256,
          "pop": 2917802,
          "year": 1952
         },
         {
          "continent": "Africa",
          "country": "Malawi",
          "gdpPercap": 416.36980639999996,
          "lifeExp": 37.207,
          "pop": 3221238,
          "year": 1957
         },
         {
          "continent": "Africa",
          "country": "Malawi",
          "gdpPercap": 427.90108560000004,
          "lifeExp": 38.41,
          "pop": 3628608,
          "year": 1962
         },
         {
          "continent": "Africa",
          "country": "Malawi",
          "gdpPercap": 495.5147806,
          "lifeExp": 39.486999999999995,
          "pop": 4147252,
          "year": 1967
         },
         {
          "continent": "Africa",
          "country": "Malawi",
          "gdpPercap": 584.6219709,
          "lifeExp": 41.766000000000005,
          "pop": 4730997,
          "year": 1972
         },
         {
          "continent": "Africa",
          "country": "Malawi",
          "gdpPercap": 663.2236766,
          "lifeExp": 43.766999999999996,
          "pop": 5637246,
          "year": 1977
         },
         {
          "continent": "Africa",
          "country": "Malawi",
          "gdpPercap": 632.8039209,
          "lifeExp": 45.641999999999996,
          "pop": 6502825,
          "year": 1982
         },
         {
          "continent": "Africa",
          "country": "Malawi",
          "gdpPercap": 635.5173633999999,
          "lifeExp": 47.457,
          "pop": 7824747,
          "year": 1987
         },
         {
          "continent": "Africa",
          "country": "Malawi",
          "gdpPercap": 563.2000145,
          "lifeExp": 49.42,
          "pop": 10014249,
          "year": 1992
         },
         {
          "continent": "Africa",
          "country": "Malawi",
          "gdpPercap": 692.2758102999999,
          "lifeExp": 47.495,
          "pop": 10419991,
          "year": 1997
         },
         {
          "continent": "Africa",
          "country": "Malawi",
          "gdpPercap": 665.4231186000001,
          "lifeExp": 45.00899999999999,
          "pop": 11824495,
          "year": 2002
         },
         {
          "continent": "Africa",
          "country": "Malawi",
          "gdpPercap": 759.3499101,
          "lifeExp": 48.303000000000004,
          "pop": 13327079,
          "year": 2007
         },
         {
          "continent": "Asia",
          "country": "Malaysia",
          "gdpPercap": 1831.132894,
          "lifeExp": 48.463,
          "pop": 6748378,
          "year": 1952
         },
         {
          "continent": "Asia",
          "country": "Malaysia",
          "gdpPercap": 1810.0669920000003,
          "lifeExp": 52.102,
          "pop": 7739235,
          "year": 1957
         },
         {
          "continent": "Asia",
          "country": "Malaysia",
          "gdpPercap": 2036.8849440000001,
          "lifeExp": 55.736999999999995,
          "pop": 8906385,
          "year": 1962
         },
         {
          "continent": "Asia",
          "country": "Malaysia",
          "gdpPercap": 2277.742396,
          "lifeExp": 59.371,
          "pop": 10154878,
          "year": 1967
         },
         {
          "continent": "Asia",
          "country": "Malaysia",
          "gdpPercap": 2849.09478,
          "lifeExp": 63.01,
          "pop": 11441462,
          "year": 1972
         },
         {
          "continent": "Asia",
          "country": "Malaysia",
          "gdpPercap": 3827.9215710000003,
          "lifeExp": 65.256,
          "pop": 12845381,
          "year": 1977
         },
         {
          "continent": "Asia",
          "country": "Malaysia",
          "gdpPercap": 4920.355951,
          "lifeExp": 68,
          "pop": 14441916,
          "year": 1982
         },
         {
          "continent": "Asia",
          "country": "Malaysia",
          "gdpPercap": 5249.802653,
          "lifeExp": 69.5,
          "pop": 16331785,
          "year": 1987
         },
         {
          "continent": "Asia",
          "country": "Malaysia",
          "gdpPercap": 7277.912802,
          "lifeExp": 70.693,
          "pop": 18319502,
          "year": 1992
         },
         {
          "continent": "Asia",
          "country": "Malaysia",
          "gdpPercap": 10132.90964,
          "lifeExp": 71.938,
          "pop": 20476091,
          "year": 1997
         },
         {
          "continent": "Asia",
          "country": "Malaysia",
          "gdpPercap": 10206.97794,
          "lifeExp": 73.044,
          "pop": 22662365,
          "year": 2002
         },
         {
          "continent": "Asia",
          "country": "Malaysia",
          "gdpPercap": 12451.6558,
          "lifeExp": 74.241,
          "pop": 24821286,
          "year": 2007
         },
         {
          "continent": "Africa",
          "country": "Mali",
          "gdpPercap": 452.3369807,
          "lifeExp": 33.685,
          "pop": 3838168,
          "year": 1952
         },
         {
          "continent": "Africa",
          "country": "Mali",
          "gdpPercap": 490.3821867,
          "lifeExp": 35.306999999999995,
          "pop": 4241884,
          "year": 1957
         },
         {
          "continent": "Africa",
          "country": "Mali",
          "gdpPercap": 496.17434280000003,
          "lifeExp": 36.936,
          "pop": 4690372,
          "year": 1962
         },
         {
          "continent": "Africa",
          "country": "Mali",
          "gdpPercap": 545.0098873,
          "lifeExp": 38.486999999999995,
          "pop": 5212416,
          "year": 1967
         },
         {
          "continent": "Africa",
          "country": "Mali",
          "gdpPercap": 581.3688761,
          "lifeExp": 39.977,
          "pop": 5828158,
          "year": 1972
         },
         {
          "continent": "Africa",
          "country": "Mali",
          "gdpPercap": 686.3952693,
          "lifeExp": 41.714,
          "pop": 6491649,
          "year": 1977
         },
         {
          "continent": "Africa",
          "country": "Mali",
          "gdpPercap": 618.0140640999999,
          "lifeExp": 43.916000000000004,
          "pop": 6998256,
          "year": 1982
         },
         {
          "continent": "Africa",
          "country": "Mali",
          "gdpPercap": 684.1715576,
          "lifeExp": 46.364,
          "pop": 7634008,
          "year": 1987
         },
         {
          "continent": "Africa",
          "country": "Mali",
          "gdpPercap": 739.014375,
          "lifeExp": 48.388000000000005,
          "pop": 8416215,
          "year": 1992
         },
         {
          "continent": "Africa",
          "country": "Mali",
          "gdpPercap": 790.2579846,
          "lifeExp": 49.903,
          "pop": 9384984,
          "year": 1997
         },
         {
          "continent": "Africa",
          "country": "Mali",
          "gdpPercap": 951.4097517999999,
          "lifeExp": 51.818000000000005,
          "pop": 10580176,
          "year": 2002
         },
         {
          "continent": "Africa",
          "country": "Mali",
          "gdpPercap": 1042.581557,
          "lifeExp": 54.467,
          "pop": 12031795,
          "year": 2007
         },
         {
          "continent": "Africa",
          "country": "Mauritania",
          "gdpPercap": 743.1159097,
          "lifeExp": 40.543,
          "pop": 1022556,
          "year": 1952
         },
         {
          "continent": "Africa",
          "country": "Mauritania",
          "gdpPercap": 846.1202613,
          "lifeExp": 42.338,
          "pop": 1076852,
          "year": 1957
         },
         {
          "continent": "Africa",
          "country": "Mauritania",
          "gdpPercap": 1055.8960359999999,
          "lifeExp": 44.248000000000005,
          "pop": 1146757,
          "year": 1962
         },
         {
          "continent": "Africa",
          "country": "Mauritania",
          "gdpPercap": 1421.145193,
          "lifeExp": 46.288999999999994,
          "pop": 1230542,
          "year": 1967
         },
         {
          "continent": "Africa",
          "country": "Mauritania",
          "gdpPercap": 1586.851781,
          "lifeExp": 48.437,
          "pop": 1332786,
          "year": 1972
         },
         {
          "continent": "Africa",
          "country": "Mauritania",
          "gdpPercap": 1497.492223,
          "lifeExp": 50.852,
          "pop": 1456688,
          "year": 1977
         },
         {
          "continent": "Africa",
          "country": "Mauritania",
          "gdpPercap": 1481.150189,
          "lifeExp": 53.599,
          "pop": 1622136,
          "year": 1982
         },
         {
          "continent": "Africa",
          "country": "Mauritania",
          "gdpPercap": 1421.603576,
          "lifeExp": 56.145,
          "pop": 1841240,
          "year": 1987
         },
         {
          "continent": "Africa",
          "country": "Mauritania",
          "gdpPercap": 1361.369784,
          "lifeExp": 58.333,
          "pop": 2119465,
          "year": 1992
         },
         {
          "continent": "Africa",
          "country": "Mauritania",
          "gdpPercap": 1483.1361359999999,
          "lifeExp": 60.43,
          "pop": 2444741,
          "year": 1997
         },
         {
          "continent": "Africa",
          "country": "Mauritania",
          "gdpPercap": 1579.0195429999999,
          "lifeExp": 62.247,
          "pop": 2828858,
          "year": 2002
         },
         {
          "continent": "Africa",
          "country": "Mauritania",
          "gdpPercap": 1803.1514960000002,
          "lifeExp": 64.164,
          "pop": 3270065,
          "year": 2007
         },
         {
          "continent": "Africa",
          "country": "Mauritius",
          "gdpPercap": 1967.955707,
          "lifeExp": 50.986000000000004,
          "pop": 516556,
          "year": 1952
         },
         {
          "continent": "Africa",
          "country": "Mauritius",
          "gdpPercap": 2034.037981,
          "lifeExp": 58.089,
          "pop": 609816,
          "year": 1957
         },
         {
          "continent": "Africa",
          "country": "Mauritius",
          "gdpPercap": 2529.0674870000003,
          "lifeExp": 60.246,
          "pop": 701016,
          "year": 1962
         },
         {
          "continent": "Africa",
          "country": "Mauritius",
          "gdpPercap": 2475.387562,
          "lifeExp": 61.556999999999995,
          "pop": 789309,
          "year": 1967
         },
         {
          "continent": "Africa",
          "country": "Mauritius",
          "gdpPercap": 2575.4841579999998,
          "lifeExp": 62.943999999999996,
          "pop": 851334,
          "year": 1972
         },
         {
          "continent": "Africa",
          "country": "Mauritius",
          "gdpPercap": 3710.9829630000004,
          "lifeExp": 64.93,
          "pop": 913025,
          "year": 1977
         },
         {
          "continent": "Africa",
          "country": "Mauritius",
          "gdpPercap": 3688.037739,
          "lifeExp": 66.711,
          "pop": 992040,
          "year": 1982
         },
         {
          "continent": "Africa",
          "country": "Mauritius",
          "gdpPercap": 4783.586903,
          "lifeExp": 68.74,
          "pop": 1042663,
          "year": 1987
         },
         {
          "continent": "Africa",
          "country": "Mauritius",
          "gdpPercap": 6058.2538460000005,
          "lifeExp": 69.745,
          "pop": 1096202,
          "year": 1992
         },
         {
          "continent": "Africa",
          "country": "Mauritius",
          "gdpPercap": 7425.705295000001,
          "lifeExp": 70.736,
          "pop": 1149818,
          "year": 1997
         },
         {
          "continent": "Africa",
          "country": "Mauritius",
          "gdpPercap": 9021.815894,
          "lifeExp": 71.954,
          "pop": 1200206,
          "year": 2002
         },
         {
          "continent": "Africa",
          "country": "Mauritius",
          "gdpPercap": 10956.99112,
          "lifeExp": 72.801,
          "pop": 1250882,
          "year": 2007
         },
         {
          "continent": "Americas",
          "country": "Mexico",
          "gdpPercap": 3478.125529,
          "lifeExp": 50.788999999999994,
          "pop": 30144317,
          "year": 1952
         },
         {
          "continent": "Americas",
          "country": "Mexico",
          "gdpPercap": 4131.546641,
          "lifeExp": 55.19,
          "pop": 35015548,
          "year": 1957
         },
         {
          "continent": "Americas",
          "country": "Mexico",
          "gdpPercap": 4581.609385,
          "lifeExp": 58.299,
          "pop": 41121485,
          "year": 1962
         },
         {
          "continent": "Americas",
          "country": "Mexico",
          "gdpPercap": 5754.733883,
          "lifeExp": 60.11,
          "pop": 47995559,
          "year": 1967
         },
         {
          "continent": "Americas",
          "country": "Mexico",
          "gdpPercap": 6809.406690000001,
          "lifeExp": 62.361000000000004,
          "pop": 55984294,
          "year": 1972
         },
         {
          "continent": "Americas",
          "country": "Mexico",
          "gdpPercap": 7674.929108,
          "lifeExp": 65.032,
          "pop": 63759976,
          "year": 1977
         },
         {
          "continent": "Americas",
          "country": "Mexico",
          "gdpPercap": 9611.147541,
          "lifeExp": 67.405,
          "pop": 71640904,
          "year": 1982
         },
         {
          "continent": "Americas",
          "country": "Mexico",
          "gdpPercap": 8688.156003,
          "lifeExp": 69.498,
          "pop": 80122492,
          "year": 1987
         },
         {
          "continent": "Americas",
          "country": "Mexico",
          "gdpPercap": 9472.384295,
          "lifeExp": 71.455,
          "pop": 88111030,
          "year": 1992
         },
         {
          "continent": "Americas",
          "country": "Mexico",
          "gdpPercap": 9767.29753,
          "lifeExp": 73.67,
          "pop": 95895146,
          "year": 1997
         },
         {
          "continent": "Americas",
          "country": "Mexico",
          "gdpPercap": 10742.44053,
          "lifeExp": 74.902,
          "pop": 102479927,
          "year": 2002
         },
         {
          "continent": "Americas",
          "country": "Mexico",
          "gdpPercap": 11977.57496,
          "lifeExp": 76.195,
          "pop": 108700891,
          "year": 2007
         },
         {
          "continent": "Asia",
          "country": "Mongolia",
          "gdpPercap": 786.5668575,
          "lifeExp": 42.244,
          "pop": 800663,
          "year": 1952
         },
         {
          "continent": "Asia",
          "country": "Mongolia",
          "gdpPercap": 912.6626085,
          "lifeExp": 45.248000000000005,
          "pop": 882134,
          "year": 1957
         },
         {
          "continent": "Asia",
          "country": "Mongolia",
          "gdpPercap": 1056.353958,
          "lifeExp": 48.251000000000005,
          "pop": 1010280,
          "year": 1962
         },
         {
          "continent": "Asia",
          "country": "Mongolia",
          "gdpPercap": 1226.04113,
          "lifeExp": 51.253,
          "pop": 1149500,
          "year": 1967
         },
         {
          "continent": "Asia",
          "country": "Mongolia",
          "gdpPercap": 1421.741975,
          "lifeExp": 53.754,
          "pop": 1320500,
          "year": 1972
         },
         {
          "continent": "Asia",
          "country": "Mongolia",
          "gdpPercap": 1647.511665,
          "lifeExp": 55.49100000000001,
          "pop": 1528000,
          "year": 1977
         },
         {
          "continent": "Asia",
          "country": "Mongolia",
          "gdpPercap": 2000.603139,
          "lifeExp": 57.489,
          "pop": 1756032,
          "year": 1982
         },
         {
          "continent": "Asia",
          "country": "Mongolia",
          "gdpPercap": 2338.008304,
          "lifeExp": 60.222,
          "pop": 2015133,
          "year": 1987
         },
         {
          "continent": "Asia",
          "country": "Mongolia",
          "gdpPercap": 1785.402016,
          "lifeExp": 61.271,
          "pop": 2312802,
          "year": 1992
         },
         {
          "continent": "Asia",
          "country": "Mongolia",
          "gdpPercap": 1902.2521,
          "lifeExp": 63.625,
          "pop": 2494803,
          "year": 1997
         },
         {
          "continent": "Asia",
          "country": "Mongolia",
          "gdpPercap": 2140.7393230000002,
          "lifeExp": 65.033,
          "pop": 2674234,
          "year": 2002
         },
         {
          "continent": "Asia",
          "country": "Mongolia",
          "gdpPercap": 3095.7722710000003,
          "lifeExp": 66.803,
          "pop": 2874127,
          "year": 2007
         },
         {
          "continent": "Europe",
          "country": "Montenegro",
          "gdpPercap": 2647.585601,
          "lifeExp": 59.163999999999994,
          "pop": 413834,
          "year": 1952
         },
         {
          "continent": "Europe",
          "country": "Montenegro",
          "gdpPercap": 3682.259903,
          "lifeExp": 61.448,
          "pop": 442829,
          "year": 1957
         },
         {
          "continent": "Europe",
          "country": "Montenegro",
          "gdpPercap": 4649.593785,
          "lifeExp": 63.728,
          "pop": 474528,
          "year": 1962
         },
         {
          "continent": "Europe",
          "country": "Montenegro",
          "gdpPercap": 5907.850937,
          "lifeExp": 67.178,
          "pop": 501035,
          "year": 1967
         },
         {
          "continent": "Europe",
          "country": "Montenegro",
          "gdpPercap": 7778.414017,
          "lifeExp": 70.63600000000001,
          "pop": 527678,
          "year": 1972
         },
         {
          "continent": "Europe",
          "country": "Montenegro",
          "gdpPercap": 9595.929904999999,
          "lifeExp": 73.066,
          "pop": 560073,
          "year": 1977
         },
         {
          "continent": "Europe",
          "country": "Montenegro",
          "gdpPercap": 11222.58762,
          "lifeExp": 74.101,
          "pop": 562548,
          "year": 1982
         },
         {
          "continent": "Europe",
          "country": "Montenegro",
          "gdpPercap": 11732.51017,
          "lifeExp": 74.865,
          "pop": 569473,
          "year": 1987
         },
         {
          "continent": "Europe",
          "country": "Montenegro",
          "gdpPercap": 7003.339037000001,
          "lifeExp": 75.435,
          "pop": 621621,
          "year": 1992
         },
         {
          "continent": "Europe",
          "country": "Montenegro",
          "gdpPercap": 6465.613349,
          "lifeExp": 75.445,
          "pop": 692651,
          "year": 1997
         },
         {
          "continent": "Europe",
          "country": "Montenegro",
          "gdpPercap": 6557.194282,
          "lifeExp": 73.98100000000001,
          "pop": 720230,
          "year": 2002
         },
         {
          "continent": "Europe",
          "country": "Montenegro",
          "gdpPercap": 9253.896111,
          "lifeExp": 74.543,
          "pop": 684736,
          "year": 2007
         },
         {
          "continent": "Africa",
          "country": "Morocco",
          "gdpPercap": 1688.20357,
          "lifeExp": 42.873000000000005,
          "pop": 9939217,
          "year": 1952
         },
         {
          "continent": "Africa",
          "country": "Morocco",
          "gdpPercap": 1642.002314,
          "lifeExp": 45.423,
          "pop": 11406350,
          "year": 1957
         },
         {
          "continent": "Africa",
          "country": "Morocco",
          "gdpPercap": 1566.353493,
          "lifeExp": 47.924,
          "pop": 13056604,
          "year": 1962
         },
         {
          "continent": "Africa",
          "country": "Morocco",
          "gdpPercap": 1711.04477,
          "lifeExp": 50.335,
          "pop": 14770296,
          "year": 1967
         },
         {
          "continent": "Africa",
          "country": "Morocco",
          "gdpPercap": 1930.194975,
          "lifeExp": 52.861999999999995,
          "pop": 16660670,
          "year": 1972
         },
         {
          "continent": "Africa",
          "country": "Morocco",
          "gdpPercap": 2370.619976,
          "lifeExp": 55.73,
          "pop": 18396941,
          "year": 1977
         },
         {
          "continent": "Africa",
          "country": "Morocco",
          "gdpPercap": 2702.620356,
          "lifeExp": 59.65,
          "pop": 20198730,
          "year": 1982
         },
         {
          "continent": "Africa",
          "country": "Morocco",
          "gdpPercap": 2755.046991,
          "lifeExp": 62.677,
          "pop": 22987397,
          "year": 1987
         },
         {
          "continent": "Africa",
          "country": "Morocco",
          "gdpPercap": 2948.047252,
          "lifeExp": 65.393,
          "pop": 25798239,
          "year": 1992
         },
         {
          "continent": "Africa",
          "country": "Morocco",
          "gdpPercap": 2982.101858,
          "lifeExp": 67.66,
          "pop": 28529501,
          "year": 1997
         },
         {
          "continent": "Africa",
          "country": "Morocco",
          "gdpPercap": 3258.495584,
          "lifeExp": 69.615,
          "pop": 31167783,
          "year": 2002
         },
         {
          "continent": "Africa",
          "country": "Morocco",
          "gdpPercap": 3820.17523,
          "lifeExp": 71.164,
          "pop": 33757175,
          "year": 2007
         },
         {
          "continent": "Africa",
          "country": "Mozambique",
          "gdpPercap": 468.5260381,
          "lifeExp": 31.285999999999998,
          "pop": 6446316,
          "year": 1952
         },
         {
          "continent": "Africa",
          "country": "Mozambique",
          "gdpPercap": 495.5868333000001,
          "lifeExp": 33.779,
          "pop": 7038035,
          "year": 1957
         },
         {
          "continent": "Africa",
          "country": "Mozambique",
          "gdpPercap": 556.6863539,
          "lifeExp": 36.161,
          "pop": 7788944,
          "year": 1962
         },
         {
          "continent": "Africa",
          "country": "Mozambique",
          "gdpPercap": 566.6691539,
          "lifeExp": 38.113,
          "pop": 8680909,
          "year": 1967
         },
         {
          "continent": "Africa",
          "country": "Mozambique",
          "gdpPercap": 724.9178037,
          "lifeExp": 40.328,
          "pop": 9809596,
          "year": 1972
         },
         {
          "continent": "Africa",
          "country": "Mozambique",
          "gdpPercap": 502.31973339999996,
          "lifeExp": 42.495,
          "pop": 11127868,
          "year": 1977
         },
         {
          "continent": "Africa",
          "country": "Mozambique",
          "gdpPercap": 462.2114149,
          "lifeExp": 42.795,
          "pop": 12587223,
          "year": 1982
         },
         {
          "continent": "Africa",
          "country": "Mozambique",
          "gdpPercap": 389.87618460000004,
          "lifeExp": 42.861000000000004,
          "pop": 12891952,
          "year": 1987
         },
         {
          "continent": "Africa",
          "country": "Mozambique",
          "gdpPercap": 410.89682389999996,
          "lifeExp": 44.284,
          "pop": 13160731,
          "year": 1992
         },
         {
          "continent": "Africa",
          "country": "Mozambique",
          "gdpPercap": 472.34607710000006,
          "lifeExp": 46.343999999999994,
          "pop": 16603334,
          "year": 1997
         },
         {
          "continent": "Africa",
          "country": "Mozambique",
          "gdpPercap": 633.6179466,
          "lifeExp": 44.026,
          "pop": 18473780,
          "year": 2002
         },
         {
          "continent": "Africa",
          "country": "Mozambique",
          "gdpPercap": 823.6856205,
          "lifeExp": 42.082,
          "pop": 19951656,
          "year": 2007
         },
         {
          "continent": "Asia",
          "country": "Myanmar",
          "gdpPercap": 331,
          "lifeExp": 36.319,
          "pop": 20092996,
          "year": 1952
         },
         {
          "continent": "Asia",
          "country": "Myanmar",
          "gdpPercap": 350,
          "lifeExp": 41.905,
          "pop": 21731844,
          "year": 1957
         },
         {
          "continent": "Asia",
          "country": "Myanmar",
          "gdpPercap": 388,
          "lifeExp": 45.108000000000004,
          "pop": 23634436,
          "year": 1962
         },
         {
          "continent": "Asia",
          "country": "Myanmar",
          "gdpPercap": 349,
          "lifeExp": 49.379,
          "pop": 25870271,
          "year": 1967
         },
         {
          "continent": "Asia",
          "country": "Myanmar",
          "gdpPercap": 357,
          "lifeExp": 53.07,
          "pop": 28466390,
          "year": 1972
         },
         {
          "continent": "Asia",
          "country": "Myanmar",
          "gdpPercap": 371,
          "lifeExp": 56.059,
          "pop": 31528087,
          "year": 1977
         },
         {
          "continent": "Asia",
          "country": "Myanmar",
          "gdpPercap": 424,
          "lifeExp": 58.056000000000004,
          "pop": 34680442,
          "year": 1982
         },
         {
          "continent": "Asia",
          "country": "Myanmar",
          "gdpPercap": 385,
          "lifeExp": 58.339,
          "pop": 38028578,
          "year": 1987
         },
         {
          "continent": "Asia",
          "country": "Myanmar",
          "gdpPercap": 347,
          "lifeExp": 59.32,
          "pop": 40546538,
          "year": 1992
         },
         {
          "continent": "Asia",
          "country": "Myanmar",
          "gdpPercap": 415,
          "lifeExp": 60.328,
          "pop": 43247867,
          "year": 1997
         },
         {
          "continent": "Asia",
          "country": "Myanmar",
          "gdpPercap": 611,
          "lifeExp": 59.908,
          "pop": 45598081,
          "year": 2002
         },
         {
          "continent": "Asia",
          "country": "Myanmar",
          "gdpPercap": 944,
          "lifeExp": 62.068999999999996,
          "pop": 47761980,
          "year": 2007
         },
         {
          "continent": "Africa",
          "country": "Namibia",
          "gdpPercap": 2423.780443,
          "lifeExp": 41.725,
          "pop": 485831,
          "year": 1952
         },
         {
          "continent": "Africa",
          "country": "Namibia",
          "gdpPercap": 2621.448058,
          "lifeExp": 45.226000000000006,
          "pop": 548080,
          "year": 1957
         },
         {
          "continent": "Africa",
          "country": "Namibia",
          "gdpPercap": 3173.215595,
          "lifeExp": 48.386,
          "pop": 621392,
          "year": 1962
         },
         {
          "continent": "Africa",
          "country": "Namibia",
          "gdpPercap": 3793.694753,
          "lifeExp": 51.159,
          "pop": 706640,
          "year": 1967
         },
         {
          "continent": "Africa",
          "country": "Namibia",
          "gdpPercap": 3746.080948,
          "lifeExp": 53.867,
          "pop": 821782,
          "year": 1972
         },
         {
          "continent": "Africa",
          "country": "Namibia",
          "gdpPercap": 3876.4859579999998,
          "lifeExp": 56.437,
          "pop": 977026,
          "year": 1977
         },
         {
          "continent": "Africa",
          "country": "Namibia",
          "gdpPercap": 4191.100511,
          "lifeExp": 58.968,
          "pop": 1099010,
          "year": 1982
         },
         {
          "continent": "Africa",
          "country": "Namibia",
          "gdpPercap": 3693.7313369999997,
          "lifeExp": 60.835,
          "pop": 1278184,
          "year": 1987
         },
         {
          "continent": "Africa",
          "country": "Namibia",
          "gdpPercap": 3804.537999,
          "lifeExp": 61.998999999999995,
          "pop": 1554253,
          "year": 1992
         },
         {
          "continent": "Africa",
          "country": "Namibia",
          "gdpPercap": 3899.52426,
          "lifeExp": 58.909,
          "pop": 1774766,
          "year": 1997
         },
         {
          "continent": "Africa",
          "country": "Namibia",
          "gdpPercap": 4072.3247509999997,
          "lifeExp": 51.479,
          "pop": 1972153,
          "year": 2002
         },
         {
          "continent": "Africa",
          "country": "Namibia",
          "gdpPercap": 4811.060429,
          "lifeExp": 52.906000000000006,
          "pop": 2055080,
          "year": 2007
         },
         {
          "continent": "Asia",
          "country": "Nepal",
          "gdpPercap": 545.8657228999999,
          "lifeExp": 36.157,
          "pop": 9182536,
          "year": 1952
         },
         {
          "continent": "Asia",
          "country": "Nepal",
          "gdpPercap": 597.9363557999999,
          "lifeExp": 37.686,
          "pop": 9682338,
          "year": 1957
         },
         {
          "continent": "Asia",
          "country": "Nepal",
          "gdpPercap": 652.3968593,
          "lifeExp": 39.393,
          "pop": 10332057,
          "year": 1962
         },
         {
          "continent": "Asia",
          "country": "Nepal",
          "gdpPercap": 676.4422254,
          "lifeExp": 41.472,
          "pop": 11261690,
          "year": 1967
         },
         {
          "continent": "Asia",
          "country": "Nepal",
          "gdpPercap": 674.7881296,
          "lifeExp": 43.971000000000004,
          "pop": 12412593,
          "year": 1972
         },
         {
          "continent": "Asia",
          "country": "Nepal",
          "gdpPercap": 694.1124398,
          "lifeExp": 46.748000000000005,
          "pop": 13933198,
          "year": 1977
         },
         {
          "continent": "Asia",
          "country": "Nepal",
          "gdpPercap": 718.3730947,
          "lifeExp": 49.593999999999994,
          "pop": 15796314,
          "year": 1982
         },
         {
          "continent": "Asia",
          "country": "Nepal",
          "gdpPercap": 775.6324501,
          "lifeExp": 52.537,
          "pop": 17917180,
          "year": 1987
         },
         {
          "continent": "Asia",
          "country": "Nepal",
          "gdpPercap": 897.7403604,
          "lifeExp": 55.727,
          "pop": 20326209,
          "year": 1992
         },
         {
          "continent": "Asia",
          "country": "Nepal",
          "gdpPercap": 1010.892138,
          "lifeExp": 59.426,
          "pop": 23001113,
          "year": 1997
         },
         {
          "continent": "Asia",
          "country": "Nepal",
          "gdpPercap": 1057.206311,
          "lifeExp": 61.34,
          "pop": 25873917,
          "year": 2002
         },
         {
          "continent": "Asia",
          "country": "Nepal",
          "gdpPercap": 1091.359778,
          "lifeExp": 63.785,
          "pop": 28901790,
          "year": 2007
         },
         {
          "continent": "Europe",
          "country": "Netherlands",
          "gdpPercap": 8941.571858,
          "lifeExp": 72.13,
          "pop": 10381988,
          "year": 1952
         },
         {
          "continent": "Europe",
          "country": "Netherlands",
          "gdpPercap": 11276.193440000001,
          "lifeExp": 72.99,
          "pop": 11026383,
          "year": 1957
         },
         {
          "continent": "Europe",
          "country": "Netherlands",
          "gdpPercap": 12790.849559999999,
          "lifeExp": 73.23,
          "pop": 11805689,
          "year": 1962
         },
         {
          "continent": "Europe",
          "country": "Netherlands",
          "gdpPercap": 15363.25136,
          "lifeExp": 73.82,
          "pop": 12596822,
          "year": 1967
         },
         {
          "continent": "Europe",
          "country": "Netherlands",
          "gdpPercap": 18794.74567,
          "lifeExp": 73.75,
          "pop": 13329874,
          "year": 1972
         },
         {
          "continent": "Europe",
          "country": "Netherlands",
          "gdpPercap": 21209.0592,
          "lifeExp": 75.24,
          "pop": 13852989,
          "year": 1977
         },
         {
          "continent": "Europe",
          "country": "Netherlands",
          "gdpPercap": 21399.46046,
          "lifeExp": 76.05,
          "pop": 14310401,
          "year": 1982
         },
         {
          "continent": "Europe",
          "country": "Netherlands",
          "gdpPercap": 23651.32361,
          "lifeExp": 76.83,
          "pop": 14665278,
          "year": 1987
         },
         {
          "continent": "Europe",
          "country": "Netherlands",
          "gdpPercap": 26790.94961,
          "lifeExp": 77.42,
          "pop": 15174244,
          "year": 1992
         },
         {
          "continent": "Europe",
          "country": "Netherlands",
          "gdpPercap": 30246.13063,
          "lifeExp": 78.03,
          "pop": 15604464,
          "year": 1997
         },
         {
          "continent": "Europe",
          "country": "Netherlands",
          "gdpPercap": 33724.75778,
          "lifeExp": 78.53,
          "pop": 16122830,
          "year": 2002
         },
         {
          "continent": "Europe",
          "country": "Netherlands",
          "gdpPercap": 36797.93332,
          "lifeExp": 79.762,
          "pop": 16570613,
          "year": 2007
         },
         {
          "continent": "Oceania",
          "country": "New Zealand",
          "gdpPercap": 10556.575659999999,
          "lifeExp": 69.39,
          "pop": 1994794,
          "year": 1952
         },
         {
          "continent": "Oceania",
          "country": "New Zealand",
          "gdpPercap": 12247.39532,
          "lifeExp": 70.26,
          "pop": 2229407,
          "year": 1957
         },
         {
          "continent": "Oceania",
          "country": "New Zealand",
          "gdpPercap": 13175.678,
          "lifeExp": 71.24,
          "pop": 2488550,
          "year": 1962
         },
         {
          "continent": "Oceania",
          "country": "New Zealand",
          "gdpPercap": 14463.918930000002,
          "lifeExp": 71.52,
          "pop": 2728150,
          "year": 1967
         },
         {
          "continent": "Oceania",
          "country": "New Zealand",
          "gdpPercap": 16046.03728,
          "lifeExp": 71.89,
          "pop": 2929100,
          "year": 1972
         },
         {
          "continent": "Oceania",
          "country": "New Zealand",
          "gdpPercap": 16233.7177,
          "lifeExp": 72.22,
          "pop": 3164900,
          "year": 1977
         },
         {
          "continent": "Oceania",
          "country": "New Zealand",
          "gdpPercap": 17632.4104,
          "lifeExp": 73.84,
          "pop": 3210650,
          "year": 1982
         },
         {
          "continent": "Oceania",
          "country": "New Zealand",
          "gdpPercap": 19007.19129,
          "lifeExp": 74.32,
          "pop": 3317166,
          "year": 1987
         },
         {
          "continent": "Oceania",
          "country": "New Zealand",
          "gdpPercap": 18363.324940000002,
          "lifeExp": 76.33,
          "pop": 3437674,
          "year": 1992
         },
         {
          "continent": "Oceania",
          "country": "New Zealand",
          "gdpPercap": 21050.41377,
          "lifeExp": 77.55,
          "pop": 3676187,
          "year": 1997
         },
         {
          "continent": "Oceania",
          "country": "New Zealand",
          "gdpPercap": 23189.80135,
          "lifeExp": 79.11,
          "pop": 3908037,
          "year": 2002
         },
         {
          "continent": "Oceania",
          "country": "New Zealand",
          "gdpPercap": 25185.00911,
          "lifeExp": 80.204,
          "pop": 4115771,
          "year": 2007
         },
         {
          "continent": "Americas",
          "country": "Nicaragua",
          "gdpPercap": 3112.363948,
          "lifeExp": 42.31399999999999,
          "pop": 1165790,
          "year": 1952
         },
         {
          "continent": "Americas",
          "country": "Nicaragua",
          "gdpPercap": 3457.415947,
          "lifeExp": 45.431999999999995,
          "pop": 1358828,
          "year": 1957
         },
         {
          "continent": "Americas",
          "country": "Nicaragua",
          "gdpPercap": 3634.364406,
          "lifeExp": 48.632,
          "pop": 1590597,
          "year": 1962
         },
         {
          "continent": "Americas",
          "country": "Nicaragua",
          "gdpPercap": 4643.393534000001,
          "lifeExp": 51.88399999999999,
          "pop": 1865490,
          "year": 1967
         },
         {
          "continent": "Americas",
          "country": "Nicaragua",
          "gdpPercap": 4688.593267,
          "lifeExp": 55.151,
          "pop": 2182908,
          "year": 1972
         },
         {
          "continent": "Americas",
          "country": "Nicaragua",
          "gdpPercap": 5486.371089,
          "lifeExp": 57.47,
          "pop": 2554598,
          "year": 1977
         },
         {
          "continent": "Americas",
          "country": "Nicaragua",
          "gdpPercap": 3470.3381560000003,
          "lifeExp": 59.298,
          "pop": 2979423,
          "year": 1982
         },
         {
          "continent": "Americas",
          "country": "Nicaragua",
          "gdpPercap": 2955.984375,
          "lifeExp": 62.008,
          "pop": 3344353,
          "year": 1987
         },
         {
          "continent": "Americas",
          "country": "Nicaragua",
          "gdpPercap": 2170.151724,
          "lifeExp": 65.843,
          "pop": 4017939,
          "year": 1992
         },
         {
          "continent": "Americas",
          "country": "Nicaragua",
          "gdpPercap": 2253.023004,
          "lifeExp": 68.426,
          "pop": 4609572,
          "year": 1997
         },
         {
          "continent": "Americas",
          "country": "Nicaragua",
          "gdpPercap": 2474.548819,
          "lifeExp": 70.836,
          "pop": 5146848,
          "year": 2002
         },
         {
          "continent": "Americas",
          "country": "Nicaragua",
          "gdpPercap": 2749.320965,
          "lifeExp": 72.899,
          "pop": 5675356,
          "year": 2007
         },
         {
          "continent": "Africa",
          "country": "Niger",
          "gdpPercap": 761.879376,
          "lifeExp": 37.444,
          "pop": 3379468,
          "year": 1952
         },
         {
          "continent": "Africa",
          "country": "Niger",
          "gdpPercap": 835.5234025000001,
          "lifeExp": 38.598,
          "pop": 3692184,
          "year": 1957
         },
         {
          "continent": "Africa",
          "country": "Niger",
          "gdpPercap": 997.7661127,
          "lifeExp": 39.486999999999995,
          "pop": 4076008,
          "year": 1962
         },
         {
          "continent": "Africa",
          "country": "Niger",
          "gdpPercap": 1054.384891,
          "lifeExp": 40.118,
          "pop": 4534062,
          "year": 1967
         },
         {
          "continent": "Africa",
          "country": "Niger",
          "gdpPercap": 954.2092363,
          "lifeExp": 40.546,
          "pop": 5060262,
          "year": 1972
         },
         {
          "continent": "Africa",
          "country": "Niger",
          "gdpPercap": 808.8970727999999,
          "lifeExp": 41.291000000000004,
          "pop": 5682086,
          "year": 1977
         },
         {
          "continent": "Africa",
          "country": "Niger",
          "gdpPercap": 909.7221354000001,
          "lifeExp": 42.598,
          "pop": 6437188,
          "year": 1982
         },
         {
          "continent": "Africa",
          "country": "Niger",
          "gdpPercap": 668.3000228,
          "lifeExp": 44.555,
          "pop": 7332638,
          "year": 1987
         },
         {
          "continent": "Africa",
          "country": "Niger",
          "gdpPercap": 581.182725,
          "lifeExp": 47.391000000000005,
          "pop": 8392818,
          "year": 1992
         },
         {
          "continent": "Africa",
          "country": "Niger",
          "gdpPercap": 580.3052092,
          "lifeExp": 51.313,
          "pop": 9666252,
          "year": 1997
         },
         {
          "continent": "Africa",
          "country": "Niger",
          "gdpPercap": 601.0745012,
          "lifeExp": 54.496,
          "pop": 11140655,
          "year": 2002
         },
         {
          "continent": "Africa",
          "country": "Niger",
          "gdpPercap": 619.6768923999999,
          "lifeExp": 56.867,
          "pop": 12894865,
          "year": 2007
         },
         {
          "continent": "Africa",
          "country": "Nigeria",
          "gdpPercap": 1077.281856,
          "lifeExp": 36.324,
          "pop": 33119096,
          "year": 1952
         },
         {
          "continent": "Africa",
          "country": "Nigeria",
          "gdpPercap": 1100.5925630000002,
          "lifeExp": 37.802,
          "pop": 37173340,
          "year": 1957
         },
         {
          "continent": "Africa",
          "country": "Nigeria",
          "gdpPercap": 1150.9274779999998,
          "lifeExp": 39.36,
          "pop": 41871351,
          "year": 1962
         },
         {
          "continent": "Africa",
          "country": "Nigeria",
          "gdpPercap": 1014.5141039999999,
          "lifeExp": 41.04,
          "pop": 47287752,
          "year": 1967
         },
         {
          "continent": "Africa",
          "country": "Nigeria",
          "gdpPercap": 1698.3888379999999,
          "lifeExp": 42.821000000000005,
          "pop": 53740085,
          "year": 1972
         },
         {
          "continent": "Africa",
          "country": "Nigeria",
          "gdpPercap": 1981.9518059999998,
          "lifeExp": 44.513999999999996,
          "pop": 62209173,
          "year": 1977
         },
         {
          "continent": "Africa",
          "country": "Nigeria",
          "gdpPercap": 1576.97375,
          "lifeExp": 45.826,
          "pop": 73039376,
          "year": 1982
         },
         {
          "continent": "Africa",
          "country": "Nigeria",
          "gdpPercap": 1385.029563,
          "lifeExp": 46.886,
          "pop": 81551520,
          "year": 1987
         },
         {
          "continent": "Africa",
          "country": "Nigeria",
          "gdpPercap": 1619.848217,
          "lifeExp": 47.472,
          "pop": 93364244,
          "year": 1992
         },
         {
          "continent": "Africa",
          "country": "Nigeria",
          "gdpPercap": 1624.941275,
          "lifeExp": 47.464,
          "pop": 106207839,
          "year": 1997
         },
         {
          "continent": "Africa",
          "country": "Nigeria",
          "gdpPercap": 1615.2863949999999,
          "lifeExp": 46.608000000000004,
          "pop": 119901274,
          "year": 2002
         },
         {
          "continent": "Africa",
          "country": "Nigeria",
          "gdpPercap": 2013.9773050000001,
          "lifeExp": 46.858999999999995,
          "pop": 135031164,
          "year": 2007
         },
         {
          "continent": "Europe",
          "country": "Norway",
          "gdpPercap": 10095.42172,
          "lifeExp": 72.67,
          "pop": 3327728,
          "year": 1952
         },
         {
          "continent": "Europe",
          "country": "Norway",
          "gdpPercap": 11653.97304,
          "lifeExp": 73.44,
          "pop": 3491938,
          "year": 1957
         },
         {
          "continent": "Europe",
          "country": "Norway",
          "gdpPercap": 13450.40151,
          "lifeExp": 73.47,
          "pop": 3638919,
          "year": 1962
         },
         {
          "continent": "Europe",
          "country": "Norway",
          "gdpPercap": 16361.87647,
          "lifeExp": 74.08,
          "pop": 3786019,
          "year": 1967
         },
         {
          "continent": "Europe",
          "country": "Norway",
          "gdpPercap": 18965.05551,
          "lifeExp": 74.34,
          "pop": 3933004,
          "year": 1972
         },
         {
          "continent": "Europe",
          "country": "Norway",
          "gdpPercap": 23311.34939,
          "lifeExp": 75.37,
          "pop": 4043205,
          "year": 1977
         },
         {
          "continent": "Europe",
          "country": "Norway",
          "gdpPercap": 26298.635309999998,
          "lifeExp": 75.97,
          "pop": 4114787,
          "year": 1982
         },
         {
          "continent": "Europe",
          "country": "Norway",
          "gdpPercap": 31540.9748,
          "lifeExp": 75.89,
          "pop": 4186147,
          "year": 1987
         },
         {
          "continent": "Europe",
          "country": "Norway",
          "gdpPercap": 33965.66115,
          "lifeExp": 77.32,
          "pop": 4286357,
          "year": 1992
         },
         {
          "continent": "Europe",
          "country": "Norway",
          "gdpPercap": 41283.16433,
          "lifeExp": 78.32,
          "pop": 4405672,
          "year": 1997
         },
         {
          "continent": "Europe",
          "country": "Norway",
          "gdpPercap": 44683.97525,
          "lifeExp": 79.05,
          "pop": 4535591,
          "year": 2002
         },
         {
          "continent": "Europe",
          "country": "Norway",
          "gdpPercap": 49357.19017,
          "lifeExp": 80.196,
          "pop": 4627926,
          "year": 2007
         },
         {
          "continent": "Asia",
          "country": "Oman",
          "gdpPercap": 1828.230307,
          "lifeExp": 37.578,
          "pop": 507833,
          "year": 1952
         },
         {
          "continent": "Asia",
          "country": "Oman",
          "gdpPercap": 2242.746551,
          "lifeExp": 40.08,
          "pop": 561977,
          "year": 1957
         },
         {
          "continent": "Asia",
          "country": "Oman",
          "gdpPercap": 2924.638113,
          "lifeExp": 43.165,
          "pop": 628164,
          "year": 1962
         },
         {
          "continent": "Asia",
          "country": "Oman",
          "gdpPercap": 4720.942687,
          "lifeExp": 46.988,
          "pop": 714775,
          "year": 1967
         },
         {
          "continent": "Asia",
          "country": "Oman",
          "gdpPercap": 10618.03855,
          "lifeExp": 52.143,
          "pop": 829050,
          "year": 1972
         },
         {
          "continent": "Asia",
          "country": "Oman",
          "gdpPercap": 11848.343920000001,
          "lifeExp": 57.367,
          "pop": 1004533,
          "year": 1977
         },
         {
          "continent": "Asia",
          "country": "Oman",
          "gdpPercap": 12954.791009999999,
          "lifeExp": 62.728,
          "pop": 1301048,
          "year": 1982
         },
         {
          "continent": "Asia",
          "country": "Oman",
          "gdpPercap": 18115.223130000002,
          "lifeExp": 67.734,
          "pop": 1593882,
          "year": 1987
         },
         {
          "continent": "Asia",
          "country": "Oman",
          "gdpPercap": 18616.70691,
          "lifeExp": 71.197,
          "pop": 1915208,
          "year": 1992
         },
         {
          "continent": "Asia",
          "country": "Oman",
          "gdpPercap": 19702.055809999998,
          "lifeExp": 72.499,
          "pop": 2283635,
          "year": 1997
         },
         {
          "continent": "Asia",
          "country": "Oman",
          "gdpPercap": 19774.83687,
          "lifeExp": 74.193,
          "pop": 2713462,
          "year": 2002
         },
         {
          "continent": "Asia",
          "country": "Oman",
          "gdpPercap": 22316.19287,
          "lifeExp": 75.64,
          "pop": 3204897,
          "year": 2007
         },
         {
          "continent": "Asia",
          "country": "Pakistan",
          "gdpPercap": 684.5971437999999,
          "lifeExp": 43.43600000000001,
          "pop": 41346560,
          "year": 1952
         },
         {
          "continent": "Asia",
          "country": "Pakistan",
          "gdpPercap": 747.0835292,
          "lifeExp": 45.556999999999995,
          "pop": 46679944,
          "year": 1957
         },
         {
          "continent": "Asia",
          "country": "Pakistan",
          "gdpPercap": 803.3427418,
          "lifeExp": 47.67,
          "pop": 53100671,
          "year": 1962
         },
         {
          "continent": "Asia",
          "country": "Pakistan",
          "gdpPercap": 942.4082588,
          "lifeExp": 49.8,
          "pop": 60641899,
          "year": 1967
         },
         {
          "continent": "Asia",
          "country": "Pakistan",
          "gdpPercap": 1049.938981,
          "lifeExp": 51.928999999999995,
          "pop": 69325921,
          "year": 1972
         },
         {
          "continent": "Asia",
          "country": "Pakistan",
          "gdpPercap": 1175.921193,
          "lifeExp": 54.043,
          "pop": 78152686,
          "year": 1977
         },
         {
          "continent": "Asia",
          "country": "Pakistan",
          "gdpPercap": 1443.429832,
          "lifeExp": 56.158,
          "pop": 91462088,
          "year": 1982
         },
         {
          "continent": "Asia",
          "country": "Pakistan",
          "gdpPercap": 1704.686583,
          "lifeExp": 58.245,
          "pop": 105186881,
          "year": 1987
         },
         {
          "continent": "Asia",
          "country": "Pakistan",
          "gdpPercap": 1971.8294640000001,
          "lifeExp": 60.838,
          "pop": 120065004,
          "year": 1992
         },
         {
          "continent": "Asia",
          "country": "Pakistan",
          "gdpPercap": 2049.3505210000003,
          "lifeExp": 61.818000000000005,
          "pop": 135564834,
          "year": 1997
         },
         {
          "continent": "Asia",
          "country": "Pakistan",
          "gdpPercap": 2092.712441,
          "lifeExp": 63.61,
          "pop": 153403524,
          "year": 2002
         },
         {
          "continent": "Asia",
          "country": "Pakistan",
          "gdpPercap": 2605.94758,
          "lifeExp": 65.483,
          "pop": 169270617,
          "year": 2007
         },
         {
          "continent": "Americas",
          "country": "Panama",
          "gdpPercap": 2480.380334,
          "lifeExp": 55.191,
          "pop": 940080,
          "year": 1952
         },
         {
          "continent": "Americas",
          "country": "Panama",
          "gdpPercap": 2961.800905,
          "lifeExp": 59.201,
          "pop": 1063506,
          "year": 1957
         },
         {
          "continent": "Americas",
          "country": "Panama",
          "gdpPercap": 3536.540301,
          "lifeExp": 61.817,
          "pop": 1215725,
          "year": 1962
         },
         {
          "continent": "Americas",
          "country": "Panama",
          "gdpPercap": 4421.009084,
          "lifeExp": 64.071,
          "pop": 1405486,
          "year": 1967
         },
         {
          "continent": "Americas",
          "country": "Panama",
          "gdpPercap": 5364.2496630000005,
          "lifeExp": 66.21600000000001,
          "pop": 1616384,
          "year": 1972
         },
         {
          "continent": "Americas",
          "country": "Panama",
          "gdpPercap": 5351.912144,
          "lifeExp": 68.681,
          "pop": 1839782,
          "year": 1977
         },
         {
          "continent": "Americas",
          "country": "Panama",
          "gdpPercap": 7009.601598,
          "lifeExp": 70.472,
          "pop": 2036305,
          "year": 1982
         },
         {
          "continent": "Americas",
          "country": "Panama",
          "gdpPercap": 7034.779161,
          "lifeExp": 71.523,
          "pop": 2253639,
          "year": 1987
         },
         {
          "continent": "Americas",
          "country": "Panama",
          "gdpPercap": 6618.74305,
          "lifeExp": 72.462,
          "pop": 2484997,
          "year": 1992
         },
         {
          "continent": "Americas",
          "country": "Panama",
          "gdpPercap": 7113.692252,
          "lifeExp": 73.738,
          "pop": 2734531,
          "year": 1997
         },
         {
          "continent": "Americas",
          "country": "Panama",
          "gdpPercap": 7356.031934000001,
          "lifeExp": 74.712,
          "pop": 2990875,
          "year": 2002
         },
         {
          "continent": "Americas",
          "country": "Panama",
          "gdpPercap": 9809.185636,
          "lifeExp": 75.53699999999999,
          "pop": 3242173,
          "year": 2007
         },
         {
          "continent": "Americas",
          "country": "Paraguay",
          "gdpPercap": 1952.3087010000002,
          "lifeExp": 62.648999999999994,
          "pop": 1555876,
          "year": 1952
         },
         {
          "continent": "Americas",
          "country": "Paraguay",
          "gdpPercap": 2046.1547059999998,
          "lifeExp": 63.196000000000005,
          "pop": 1770902,
          "year": 1957
         },
         {
          "continent": "Americas",
          "country": "Paraguay",
          "gdpPercap": 2148.027146,
          "lifeExp": 64.361,
          "pop": 2009813,
          "year": 1962
         },
         {
          "continent": "Americas",
          "country": "Paraguay",
          "gdpPercap": 2299.376311,
          "lifeExp": 64.95100000000001,
          "pop": 2287985,
          "year": 1967
         },
         {
          "continent": "Americas",
          "country": "Paraguay",
          "gdpPercap": 2523.337977,
          "lifeExp": 65.815,
          "pop": 2614104,
          "year": 1972
         },
         {
          "continent": "Americas",
          "country": "Paraguay",
          "gdpPercap": 3248.373311,
          "lifeExp": 66.35300000000001,
          "pop": 2984494,
          "year": 1977
         },
         {
          "continent": "Americas",
          "country": "Paraguay",
          "gdpPercap": 4258.5036039999995,
          "lifeExp": 66.874,
          "pop": 3366439,
          "year": 1982
         },
         {
          "continent": "Americas",
          "country": "Paraguay",
          "gdpPercap": 3998.875695,
          "lifeExp": 67.378,
          "pop": 3886512,
          "year": 1987
         },
         {
          "continent": "Americas",
          "country": "Paraguay",
          "gdpPercap": 4196.411078,
          "lifeExp": 68.225,
          "pop": 4483945,
          "year": 1992
         },
         {
          "continent": "Americas",
          "country": "Paraguay",
          "gdpPercap": 4247.400261,
          "lifeExp": 69.4,
          "pop": 5154123,
          "year": 1997
         },
         {
          "continent": "Americas",
          "country": "Paraguay",
          "gdpPercap": 3783.674243,
          "lifeExp": 70.755,
          "pop": 5884491,
          "year": 2002
         },
         {
          "continent": "Americas",
          "country": "Paraguay",
          "gdpPercap": 4172.838464,
          "lifeExp": 71.752,
          "pop": 6667147,
          "year": 2007
         },
         {
          "continent": "Americas",
          "country": "Peru",
          "gdpPercap": 3758.523437,
          "lifeExp": 43.902,
          "pop": 8025700,
          "year": 1952
         },
         {
          "continent": "Americas",
          "country": "Peru",
          "gdpPercap": 4245.256697999999,
          "lifeExp": 46.263000000000005,
          "pop": 9146100,
          "year": 1957
         },
         {
          "continent": "Americas",
          "country": "Peru",
          "gdpPercap": 4957.037982,
          "lifeExp": 49.096000000000004,
          "pop": 10516500,
          "year": 1962
         },
         {
          "continent": "Americas",
          "country": "Peru",
          "gdpPercap": 5788.09333,
          "lifeExp": 51.445,
          "pop": 12132200,
          "year": 1967
         },
         {
          "continent": "Americas",
          "country": "Peru",
          "gdpPercap": 5937.827283,
          "lifeExp": 55.448,
          "pop": 13954700,
          "year": 1972
         },
         {
          "continent": "Americas",
          "country": "Peru",
          "gdpPercap": 6281.290854999999,
          "lifeExp": 58.446999999999996,
          "pop": 15990099,
          "year": 1977
         },
         {
          "continent": "Americas",
          "country": "Peru",
          "gdpPercap": 6434.501797,
          "lifeExp": 61.406000000000006,
          "pop": 18125129,
          "year": 1982
         },
         {
          "continent": "Americas",
          "country": "Peru",
          "gdpPercap": 6360.9434439999995,
          "lifeExp": 64.134,
          "pop": 20195924,
          "year": 1987
         },
         {
          "continent": "Americas",
          "country": "Peru",
          "gdpPercap": 4446.380924,
          "lifeExp": 66.458,
          "pop": 22430449,
          "year": 1992
         },
         {
          "continent": "Americas",
          "country": "Peru",
          "gdpPercap": 5838.347657,
          "lifeExp": 68.38600000000001,
          "pop": 24748122,
          "year": 1997
         },
         {
          "continent": "Americas",
          "country": "Peru",
          "gdpPercap": 5909.020073,
          "lifeExp": 69.906,
          "pop": 26769436,
          "year": 2002
         },
         {
          "continent": "Americas",
          "country": "Peru",
          "gdpPercap": 7408.905561,
          "lifeExp": 71.421,
          "pop": 28674757,
          "year": 2007
         },
         {
          "continent": "Asia",
          "country": "Philippines",
          "gdpPercap": 1272.880995,
          "lifeExp": 47.751999999999995,
          "pop": 22438691,
          "year": 1952
         },
         {
          "continent": "Asia",
          "country": "Philippines",
          "gdpPercap": 1547.9448439999999,
          "lifeExp": 51.333999999999996,
          "pop": 26072194,
          "year": 1957
         },
         {
          "continent": "Asia",
          "country": "Philippines",
          "gdpPercap": 1649.5521529999999,
          "lifeExp": 54.757,
          "pop": 30325264,
          "year": 1962
         },
         {
          "continent": "Asia",
          "country": "Philippines",
          "gdpPercap": 1814.12743,
          "lifeExp": 56.393,
          "pop": 35356600,
          "year": 1967
         },
         {
          "continent": "Asia",
          "country": "Philippines",
          "gdpPercap": 1989.3740699999998,
          "lifeExp": 58.065,
          "pop": 40850141,
          "year": 1972
         },
         {
          "continent": "Asia",
          "country": "Philippines",
          "gdpPercap": 2373.204287,
          "lifeExp": 60.06,
          "pop": 46850962,
          "year": 1977
         },
         {
          "continent": "Asia",
          "country": "Philippines",
          "gdpPercap": 2603.273765,
          "lifeExp": 62.082,
          "pop": 53456774,
          "year": 1982
         },
         {
          "continent": "Asia",
          "country": "Philippines",
          "gdpPercap": 2189.634995,
          "lifeExp": 64.15100000000001,
          "pop": 60017788,
          "year": 1987
         },
         {
          "continent": "Asia",
          "country": "Philippines",
          "gdpPercap": 2279.3240170000004,
          "lifeExp": 66.458,
          "pop": 67185766,
          "year": 1992
         },
         {
          "continent": "Asia",
          "country": "Philippines",
          "gdpPercap": 2536.534925,
          "lifeExp": 68.564,
          "pop": 75012988,
          "year": 1997
         },
         {
          "continent": "Asia",
          "country": "Philippines",
          "gdpPercap": 2650.921068,
          "lifeExp": 70.303,
          "pop": 82995088,
          "year": 2002
         },
         {
          "continent": "Asia",
          "country": "Philippines",
          "gdpPercap": 3190.481016,
          "lifeExp": 71.688,
          "pop": 91077287,
          "year": 2007
         },
         {
          "continent": "Europe",
          "country": "Poland",
          "gdpPercap": 4029.3296990000003,
          "lifeExp": 61.31,
          "pop": 25730551,
          "year": 1952
         },
         {
          "continent": "Europe",
          "country": "Poland",
          "gdpPercap": 4734.253019,
          "lifeExp": 65.77,
          "pop": 28235346,
          "year": 1957
         },
         {
          "continent": "Europe",
          "country": "Poland",
          "gdpPercap": 5338.752143,
          "lifeExp": 67.64,
          "pop": 30329617,
          "year": 1962
         },
         {
          "continent": "Europe",
          "country": "Poland",
          "gdpPercap": 6557.152776,
          "lifeExp": 69.61,
          "pop": 31785378,
          "year": 1967
         },
         {
          "continent": "Europe",
          "country": "Poland",
          "gdpPercap": 8006.506993000001,
          "lifeExp": 70.85,
          "pop": 33039545,
          "year": 1972
         },
         {
          "continent": "Europe",
          "country": "Poland",
          "gdpPercap": 9508.141454,
          "lifeExp": 70.67,
          "pop": 34621254,
          "year": 1977
         },
         {
          "continent": "Europe",
          "country": "Poland",
          "gdpPercap": 8451.531004,
          "lifeExp": 71.32,
          "pop": 36227381,
          "year": 1982
         },
         {
          "continent": "Europe",
          "country": "Poland",
          "gdpPercap": 9082.351172,
          "lifeExp": 70.98,
          "pop": 37740710,
          "year": 1987
         },
         {
          "continent": "Europe",
          "country": "Poland",
          "gdpPercap": 7738.881247,
          "lifeExp": 70.99,
          "pop": 38370697,
          "year": 1992
         },
         {
          "continent": "Europe",
          "country": "Poland",
          "gdpPercap": 10159.58368,
          "lifeExp": 72.75,
          "pop": 38654957,
          "year": 1997
         },
         {
          "continent": "Europe",
          "country": "Poland",
          "gdpPercap": 12002.23908,
          "lifeExp": 74.67,
          "pop": 38625976,
          "year": 2002
         },
         {
          "continent": "Europe",
          "country": "Poland",
          "gdpPercap": 15389.924680000002,
          "lifeExp": 75.563,
          "pop": 38518241,
          "year": 2007
         },
         {
          "continent": "Europe",
          "country": "Portugal",
          "gdpPercap": 3068.319867,
          "lifeExp": 59.82,
          "pop": 8526050,
          "year": 1952
         },
         {
          "continent": "Europe",
          "country": "Portugal",
          "gdpPercap": 3774.571743,
          "lifeExp": 61.51,
          "pop": 8817650,
          "year": 1957
         },
         {
          "continent": "Europe",
          "country": "Portugal",
          "gdpPercap": 4727.954889,
          "lifeExp": 64.39,
          "pop": 9019800,
          "year": 1962
         },
         {
          "continent": "Europe",
          "country": "Portugal",
          "gdpPercap": 6361.517993,
          "lifeExp": 66.6,
          "pop": 9103000,
          "year": 1967
         },
         {
          "continent": "Europe",
          "country": "Portugal",
          "gdpPercap": 9022.247417,
          "lifeExp": 69.26,
          "pop": 8970450,
          "year": 1972
         },
         {
          "continent": "Europe",
          "country": "Portugal",
          "gdpPercap": 10172.48572,
          "lifeExp": 70.41,
          "pop": 9662600,
          "year": 1977
         },
         {
          "continent": "Europe",
          "country": "Portugal",
          "gdpPercap": 11753.84291,
          "lifeExp": 72.77,
          "pop": 9859650,
          "year": 1982
         },
         {
          "continent": "Europe",
          "country": "Portugal",
          "gdpPercap": 13039.30876,
          "lifeExp": 74.06,
          "pop": 9915289,
          "year": 1987
         },
         {
          "continent": "Europe",
          "country": "Portugal",
          "gdpPercap": 16207.266630000002,
          "lifeExp": 74.86,
          "pop": 9927680,
          "year": 1992
         },
         {
          "continent": "Europe",
          "country": "Portugal",
          "gdpPercap": 17641.03156,
          "lifeExp": 75.97,
          "pop": 10156415,
          "year": 1997
         },
         {
          "continent": "Europe",
          "country": "Portugal",
          "gdpPercap": 19970.90787,
          "lifeExp": 77.29,
          "pop": 10433867,
          "year": 2002
         },
         {
          "continent": "Europe",
          "country": "Portugal",
          "gdpPercap": 20509.64777,
          "lifeExp": 78.098,
          "pop": 10642836,
          "year": 2007
         },
         {
          "continent": "Americas",
          "country": "Puerto Rico",
          "gdpPercap": 3081.959785,
          "lifeExp": 64.28,
          "pop": 2227000,
          "year": 1952
         },
         {
          "continent": "Americas",
          "country": "Puerto Rico",
          "gdpPercap": 3907.1561890000003,
          "lifeExp": 68.54,
          "pop": 2260000,
          "year": 1957
         },
         {
          "continent": "Americas",
          "country": "Puerto Rico",
          "gdpPercap": 5108.34463,
          "lifeExp": 69.62,
          "pop": 2448046,
          "year": 1962
         },
         {
          "continent": "Americas",
          "country": "Puerto Rico",
          "gdpPercap": 6929.277714,
          "lifeExp": 71.1,
          "pop": 2648961,
          "year": 1967
         },
         {
          "continent": "Americas",
          "country": "Puerto Rico",
          "gdpPercap": 9123.041742,
          "lifeExp": 72.16,
          "pop": 2847132,
          "year": 1972
         },
         {
          "continent": "Americas",
          "country": "Puerto Rico",
          "gdpPercap": 9770.524921,
          "lifeExp": 73.44,
          "pop": 3080828,
          "year": 1977
         },
         {
          "continent": "Americas",
          "country": "Puerto Rico",
          "gdpPercap": 10330.98915,
          "lifeExp": 73.75,
          "pop": 3279001,
          "year": 1982
         },
         {
          "continent": "Americas",
          "country": "Puerto Rico",
          "gdpPercap": 12281.34191,
          "lifeExp": 74.63,
          "pop": 3444468,
          "year": 1987
         },
         {
          "continent": "Americas",
          "country": "Puerto Rico",
          "gdpPercap": 14641.587109999999,
          "lifeExp": 73.911,
          "pop": 3585176,
          "year": 1992
         },
         {
          "continent": "Americas",
          "country": "Puerto Rico",
          "gdpPercap": 16999.4333,
          "lifeExp": 74.917,
          "pop": 3759430,
          "year": 1997
         },
         {
          "continent": "Americas",
          "country": "Puerto Rico",
          "gdpPercap": 18855.606180000002,
          "lifeExp": 77.778,
          "pop": 3859606,
          "year": 2002
         },
         {
          "continent": "Americas",
          "country": "Puerto Rico",
          "gdpPercap": 19328.70901,
          "lifeExp": 78.74600000000001,
          "pop": 3942491,
          "year": 2007
         },
         {
          "continent": "Africa",
          "country": "Reunion",
          "gdpPercap": 2718.885295,
          "lifeExp": 52.724,
          "pop": 257700,
          "year": 1952
         },
         {
          "continent": "Africa",
          "country": "Reunion",
          "gdpPercap": 2769.451844,
          "lifeExp": 55.09,
          "pop": 308700,
          "year": 1957
         },
         {
          "continent": "Africa",
          "country": "Reunion",
          "gdpPercap": 3173.72334,
          "lifeExp": 57.666000000000004,
          "pop": 358900,
          "year": 1962
         },
         {
          "continent": "Africa",
          "country": "Reunion",
          "gdpPercap": 4021.1757390000002,
          "lifeExp": 60.542,
          "pop": 414024,
          "year": 1967
         },
         {
          "continent": "Africa",
          "country": "Reunion",
          "gdpPercap": 5047.658563,
          "lifeExp": 64.274,
          "pop": 461633,
          "year": 1972
         },
         {
          "continent": "Africa",
          "country": "Reunion",
          "gdpPercap": 4319.804067,
          "lifeExp": 67.064,
          "pop": 492095,
          "year": 1977
         },
         {
          "continent": "Africa",
          "country": "Reunion",
          "gdpPercap": 5267.219353,
          "lifeExp": 69.885,
          "pop": 517810,
          "year": 1982
         },
         {
          "continent": "Africa",
          "country": "Reunion",
          "gdpPercap": 5303.377488,
          "lifeExp": 71.913,
          "pop": 562035,
          "year": 1987
         },
         {
          "continent": "Africa",
          "country": "Reunion",
          "gdpPercap": 6101.2558229999995,
          "lifeExp": 73.615,
          "pop": 622191,
          "year": 1992
         },
         {
          "continent": "Africa",
          "country": "Reunion",
          "gdpPercap": 6071.941411,
          "lifeExp": 74.77199999999999,
          "pop": 684810,
          "year": 1997
         },
         {
          "continent": "Africa",
          "country": "Reunion",
          "gdpPercap": 6316.1652,
          "lifeExp": 75.744,
          "pop": 743981,
          "year": 2002
         },
         {
          "continent": "Africa",
          "country": "Reunion",
          "gdpPercap": 7670.122558,
          "lifeExp": 76.442,
          "pop": 798094,
          "year": 2007
         },
         {
          "continent": "Europe",
          "country": "Romania",
          "gdpPercap": 3144.613186,
          "lifeExp": 61.05,
          "pop": 16630000,
          "year": 1952
         },
         {
          "continent": "Europe",
          "country": "Romania",
          "gdpPercap": 3943.370225,
          "lifeExp": 64.1,
          "pop": 17829327,
          "year": 1957
         },
         {
          "continent": "Europe",
          "country": "Romania",
          "gdpPercap": 4734.9975859999995,
          "lifeExp": 66.8,
          "pop": 18680721,
          "year": 1962
         },
         {
          "continent": "Europe",
          "country": "Romania",
          "gdpPercap": 6470.866545,
          "lifeExp": 66.8,
          "pop": 19284814,
          "year": 1967
         },
         {
          "continent": "Europe",
          "country": "Romania",
          "gdpPercap": 8011.414401999999,
          "lifeExp": 69.21,
          "pop": 20662648,
          "year": 1972
         },
         {
          "continent": "Europe",
          "country": "Romania",
          "gdpPercap": 9356.39724,
          "lifeExp": 69.46,
          "pop": 21658597,
          "year": 1977
         },
         {
          "continent": "Europe",
          "country": "Romania",
          "gdpPercap": 9605.314053,
          "lifeExp": 69.66,
          "pop": 22356726,
          "year": 1982
         },
         {
          "continent": "Europe",
          "country": "Romania",
          "gdpPercap": 9696.273295,
          "lifeExp": 69.53,
          "pop": 22686371,
          "year": 1987
         },
         {
          "continent": "Europe",
          "country": "Romania",
          "gdpPercap": 6598.409903,
          "lifeExp": 69.36,
          "pop": 22797027,
          "year": 1992
         },
         {
          "continent": "Europe",
          "country": "Romania",
          "gdpPercap": 7346.547556999999,
          "lifeExp": 69.72,
          "pop": 22562458,
          "year": 1997
         },
         {
          "continent": "Europe",
          "country": "Romania",
          "gdpPercap": 7885.360081,
          "lifeExp": 71.322,
          "pop": 22404337,
          "year": 2002
         },
         {
          "continent": "Europe",
          "country": "Romania",
          "gdpPercap": 10808.47561,
          "lifeExp": 72.476,
          "pop": 22276056,
          "year": 2007
         },
         {
          "continent": "Africa",
          "country": "Rwanda",
          "gdpPercap": 493.32387520000003,
          "lifeExp": 40,
          "pop": 2534927,
          "year": 1952
         },
         {
          "continent": "Africa",
          "country": "Rwanda",
          "gdpPercap": 540.2893982999999,
          "lifeExp": 41.5,
          "pop": 2822082,
          "year": 1957
         },
         {
          "continent": "Africa",
          "country": "Rwanda",
          "gdpPercap": 597.4730727000001,
          "lifeExp": 43,
          "pop": 3051242,
          "year": 1962
         },
         {
          "continent": "Africa",
          "country": "Rwanda",
          "gdpPercap": 510.9637142,
          "lifeExp": 44.1,
          "pop": 3451079,
          "year": 1967
         },
         {
          "continent": "Africa",
          "country": "Rwanda",
          "gdpPercap": 590.5806637999999,
          "lifeExp": 44.6,
          "pop": 3992121,
          "year": 1972
         },
         {
          "continent": "Africa",
          "country": "Rwanda",
          "gdpPercap": 670.0806011,
          "lifeExp": 45,
          "pop": 4657072,
          "year": 1977
         },
         {
          "continent": "Africa",
          "country": "Rwanda",
          "gdpPercap": 881.5706467,
          "lifeExp": 46.218,
          "pop": 5507565,
          "year": 1982
         },
         {
          "continent": "Africa",
          "country": "Rwanda",
          "gdpPercap": 847.991217,
          "lifeExp": 44.02,
          "pop": 6349365,
          "year": 1987
         },
         {
          "continent": "Africa",
          "country": "Rwanda",
          "gdpPercap": 737.0685949,
          "lifeExp": 23.599,
          "pop": 7290203,
          "year": 1992
         },
         {
          "continent": "Africa",
          "country": "Rwanda",
          "gdpPercap": 589.9445051,
          "lifeExp": 36.086999999999996,
          "pop": 7212583,
          "year": 1997
         },
         {
          "continent": "Africa",
          "country": "Rwanda",
          "gdpPercap": 785.6537647999999,
          "lifeExp": 43.413000000000004,
          "pop": 7852401,
          "year": 2002
         },
         {
          "continent": "Africa",
          "country": "Rwanda",
          "gdpPercap": 863.0884639000001,
          "lifeExp": 46.242,
          "pop": 8860588,
          "year": 2007
         },
         {
          "continent": "Africa",
          "country": "Sao Tome and Principe",
          "gdpPercap": 879.5835855,
          "lifeExp": 46.471000000000004,
          "pop": 60011,
          "year": 1952
         },
         {
          "continent": "Africa",
          "country": "Sao Tome and Principe",
          "gdpPercap": 860.7369026,
          "lifeExp": 48.945,
          "pop": 61325,
          "year": 1957
         },
         {
          "continent": "Africa",
          "country": "Sao Tome and Principe",
          "gdpPercap": 1071.551119,
          "lifeExp": 51.893,
          "pop": 65345,
          "year": 1962
         },
         {
          "continent": "Africa",
          "country": "Sao Tome and Principe",
          "gdpPercap": 1384.840593,
          "lifeExp": 54.425,
          "pop": 70787,
          "year": 1967
         },
         {
          "continent": "Africa",
          "country": "Sao Tome and Principe",
          "gdpPercap": 1532.985254,
          "lifeExp": 56.48,
          "pop": 76595,
          "year": 1972
         },
         {
          "continent": "Africa",
          "country": "Sao Tome and Principe",
          "gdpPercap": 1737.561657,
          "lifeExp": 58.55,
          "pop": 86796,
          "year": 1977
         },
         {
          "continent": "Africa",
          "country": "Sao Tome and Principe",
          "gdpPercap": 1890.2181170000001,
          "lifeExp": 60.351000000000006,
          "pop": 98593,
          "year": 1982
         },
         {
          "continent": "Africa",
          "country": "Sao Tome and Principe",
          "gdpPercap": 1516.525457,
          "lifeExp": 61.728,
          "pop": 110812,
          "year": 1987
         },
         {
          "continent": "Africa",
          "country": "Sao Tome and Principe",
          "gdpPercap": 1428.777814,
          "lifeExp": 62.742,
          "pop": 125911,
          "year": 1992
         },
         {
          "continent": "Africa",
          "country": "Sao Tome and Principe",
          "gdpPercap": 1339.076036,
          "lifeExp": 63.306000000000004,
          "pop": 145608,
          "year": 1997
         },
         {
          "continent": "Africa",
          "country": "Sao Tome and Principe",
          "gdpPercap": 1353.09239,
          "lifeExp": 64.337,
          "pop": 170372,
          "year": 2002
         },
         {
          "continent": "Africa",
          "country": "Sao Tome and Principe",
          "gdpPercap": 1598.435089,
          "lifeExp": 65.528,
          "pop": 199579,
          "year": 2007
         },
         {
          "continent": "Asia",
          "country": "Saudi Arabia",
          "gdpPercap": 6459.5548229999995,
          "lifeExp": 39.875,
          "pop": 4005677,
          "year": 1952
         },
         {
          "continent": "Asia",
          "country": "Saudi Arabia",
          "gdpPercap": 8157.591248000001,
          "lifeExp": 42.868,
          "pop": 4419650,
          "year": 1957
         },
         {
          "continent": "Asia",
          "country": "Saudi Arabia",
          "gdpPercap": 11626.41975,
          "lifeExp": 45.913999999999994,
          "pop": 4943029,
          "year": 1962
         },
         {
          "continent": "Asia",
          "country": "Saudi Arabia",
          "gdpPercap": 16903.04886,
          "lifeExp": 49.901,
          "pop": 5618198,
          "year": 1967
         },
         {
          "continent": "Asia",
          "country": "Saudi Arabia",
          "gdpPercap": 24837.42865,
          "lifeExp": 53.886,
          "pop": 6472756,
          "year": 1972
         },
         {
          "continent": "Asia",
          "country": "Saudi Arabia",
          "gdpPercap": 34167.7626,
          "lifeExp": 58.69,
          "pop": 8128505,
          "year": 1977
         },
         {
          "continent": "Asia",
          "country": "Saudi Arabia",
          "gdpPercap": 33693.17525,
          "lifeExp": 63.012,
          "pop": 11254672,
          "year": 1982
         },
         {
          "continent": "Asia",
          "country": "Saudi Arabia",
          "gdpPercap": 21198.26136,
          "lifeExp": 66.295,
          "pop": 14619745,
          "year": 1987
         },
         {
          "continent": "Asia",
          "country": "Saudi Arabia",
          "gdpPercap": 24841.617769999997,
          "lifeExp": 68.768,
          "pop": 16945857,
          "year": 1992
         },
         {
          "continent": "Asia",
          "country": "Saudi Arabia",
          "gdpPercap": 20586.69019,
          "lifeExp": 70.533,
          "pop": 21229759,
          "year": 1997
         },
         {
          "continent": "Asia",
          "country": "Saudi Arabia",
          "gdpPercap": 19014.54118,
          "lifeExp": 71.626,
          "pop": 24501530,
          "year": 2002
         },
         {
          "continent": "Asia",
          "country": "Saudi Arabia",
          "gdpPercap": 21654.83194,
          "lifeExp": 72.777,
          "pop": 27601038,
          "year": 2007
         },
         {
          "continent": "Africa",
          "country": "Senegal",
          "gdpPercap": 1450.356983,
          "lifeExp": 37.278,
          "pop": 2755589,
          "year": 1952
         },
         {
          "continent": "Africa",
          "country": "Senegal",
          "gdpPercap": 1567.653006,
          "lifeExp": 39.329,
          "pop": 3054547,
          "year": 1957
         },
         {
          "continent": "Africa",
          "country": "Senegal",
          "gdpPercap": 1654.988723,
          "lifeExp": 41.45399999999999,
          "pop": 3430243,
          "year": 1962
         },
         {
          "continent": "Africa",
          "country": "Senegal",
          "gdpPercap": 1612.404632,
          "lifeExp": 43.563,
          "pop": 3965841,
          "year": 1967
         },
         {
          "continent": "Africa",
          "country": "Senegal",
          "gdpPercap": 1597.712056,
          "lifeExp": 45.815,
          "pop": 4588696,
          "year": 1972
         },
         {
          "continent": "Africa",
          "country": "Senegal",
          "gdpPercap": 1561.769116,
          "lifeExp": 48.879,
          "pop": 5260855,
          "year": 1977
         },
         {
          "continent": "Africa",
          "country": "Senegal",
          "gdpPercap": 1518.479984,
          "lifeExp": 52.379,
          "pop": 6147783,
          "year": 1982
         },
         {
          "continent": "Africa",
          "country": "Senegal",
          "gdpPercap": 1441.72072,
          "lifeExp": 55.769,
          "pop": 7171347,
          "year": 1987
         },
         {
          "continent": "Africa",
          "country": "Senegal",
          "gdpPercap": 1367.899369,
          "lifeExp": 58.196000000000005,
          "pop": 8307920,
          "year": 1992
         },
         {
          "continent": "Africa",
          "country": "Senegal",
          "gdpPercap": 1392.368347,
          "lifeExp": 60.187,
          "pop": 9535314,
          "year": 1997
         },
         {
          "continent": "Africa",
          "country": "Senegal",
          "gdpPercap": 1519.635262,
          "lifeExp": 61.6,
          "pop": 10870037,
          "year": 2002
         },
         {
          "continent": "Africa",
          "country": "Senegal",
          "gdpPercap": 1712.4721359999999,
          "lifeExp": 63.062,
          "pop": 12267493,
          "year": 2007
         },
         {
          "continent": "Europe",
          "country": "Serbia",
          "gdpPercap": 3581.4594479999996,
          "lifeExp": 57.996,
          "pop": 6860147,
          "year": 1952
         },
         {
          "continent": "Europe",
          "country": "Serbia",
          "gdpPercap": 4981.090891,
          "lifeExp": 61.685,
          "pop": 7271135,
          "year": 1957
         },
         {
          "continent": "Europe",
          "country": "Serbia",
          "gdpPercap": 6289.629157,
          "lifeExp": 64.531,
          "pop": 7616060,
          "year": 1962
         },
         {
          "continent": "Europe",
          "country": "Serbia",
          "gdpPercap": 7991.707066,
          "lifeExp": 66.914,
          "pop": 7971222,
          "year": 1967
         },
         {
          "continent": "Europe",
          "country": "Serbia",
          "gdpPercap": 10522.067490000001,
          "lifeExp": 68.7,
          "pop": 8313288,
          "year": 1972
         },
         {
          "continent": "Europe",
          "country": "Serbia",
          "gdpPercap": 12980.66956,
          "lifeExp": 70.3,
          "pop": 8686367,
          "year": 1977
         },
         {
          "continent": "Europe",
          "country": "Serbia",
          "gdpPercap": 15181.0927,
          "lifeExp": 70.16199999999999,
          "pop": 9032824,
          "year": 1982
         },
         {
          "continent": "Europe",
          "country": "Serbia",
          "gdpPercap": 15870.878509999999,
          "lifeExp": 71.218,
          "pop": 9230783,
          "year": 1987
         },
         {
          "continent": "Europe",
          "country": "Serbia",
          "gdpPercap": 9325.068238,
          "lifeExp": 71.65899999999999,
          "pop": 9826397,
          "year": 1992
         },
         {
          "continent": "Europe",
          "country": "Serbia",
          "gdpPercap": 7914.320304000001,
          "lifeExp": 72.232,
          "pop": 10336594,
          "year": 1997
         },
         {
          "continent": "Europe",
          "country": "Serbia",
          "gdpPercap": 7236.075251,
          "lifeExp": 73.21300000000001,
          "pop": 10111559,
          "year": 2002
         },
         {
          "continent": "Europe",
          "country": "Serbia",
          "gdpPercap": 9786.534714,
          "lifeExp": 74.002,
          "pop": 10150265,
          "year": 2007
         },
         {
          "continent": "Africa",
          "country": "Sierra Leone",
          "gdpPercap": 879.7877358,
          "lifeExp": 30.331,
          "pop": 2143249,
          "year": 1952
         },
         {
          "continent": "Africa",
          "country": "Sierra Leone",
          "gdpPercap": 1004.484437,
          "lifeExp": 31.57,
          "pop": 2295678,
          "year": 1957
         },
         {
          "continent": "Africa",
          "country": "Sierra Leone",
          "gdpPercap": 1116.6398769999998,
          "lifeExp": 32.766999999999996,
          "pop": 2467895,
          "year": 1962
         },
         {
          "continent": "Africa",
          "country": "Sierra Leone",
          "gdpPercap": 1206.043465,
          "lifeExp": 34.113,
          "pop": 2662190,
          "year": 1967
         },
         {
          "continent": "Africa",
          "country": "Sierra Leone",
          "gdpPercap": 1353.759762,
          "lifeExp": 35.4,
          "pop": 2879013,
          "year": 1972
         },
         {
          "continent": "Africa",
          "country": "Sierra Leone",
          "gdpPercap": 1348.285159,
          "lifeExp": 36.788000000000004,
          "pop": 3140897,
          "year": 1977
         },
         {
          "continent": "Africa",
          "country": "Sierra Leone",
          "gdpPercap": 1465.010784,
          "lifeExp": 38.445,
          "pop": 3464522,
          "year": 1982
         },
         {
          "continent": "Africa",
          "country": "Sierra Leone",
          "gdpPercap": 1294.4477880000002,
          "lifeExp": 40.006,
          "pop": 3868905,
          "year": 1987
         },
         {
          "continent": "Africa",
          "country": "Sierra Leone",
          "gdpPercap": 1068.696278,
          "lifeExp": 38.333,
          "pop": 4260884,
          "year": 1992
         },
         {
          "continent": "Africa",
          "country": "Sierra Leone",
          "gdpPercap": 574.6481576,
          "lifeExp": 39.897,
          "pop": 4578212,
          "year": 1997
         },
         {
          "continent": "Africa",
          "country": "Sierra Leone",
          "gdpPercap": 699.4897129999999,
          "lifeExp": 41.012,
          "pop": 5359092,
          "year": 2002
         },
         {
          "continent": "Africa",
          "country": "Sierra Leone",
          "gdpPercap": 862.5407561000001,
          "lifeExp": 42.568000000000005,
          "pop": 6144562,
          "year": 2007
         },
         {
          "continent": "Asia",
          "country": "Singapore",
          "gdpPercap": 2315.138227,
          "lifeExp": 60.396,
          "pop": 1127000,
          "year": 1952
         },
         {
          "continent": "Asia",
          "country": "Singapore",
          "gdpPercap": 2843.104409,
          "lifeExp": 63.178999999999995,
          "pop": 1445929,
          "year": 1957
         },
         {
          "continent": "Asia",
          "country": "Singapore",
          "gdpPercap": 3674.735572,
          "lifeExp": 65.798,
          "pop": 1750200,
          "year": 1962
         },
         {
          "continent": "Asia",
          "country": "Singapore",
          "gdpPercap": 4977.41854,
          "lifeExp": 67.946,
          "pop": 1977600,
          "year": 1967
         },
         {
          "continent": "Asia",
          "country": "Singapore",
          "gdpPercap": 8597.756202,
          "lifeExp": 69.521,
          "pop": 2152400,
          "year": 1972
         },
         {
          "continent": "Asia",
          "country": "Singapore",
          "gdpPercap": 11210.08948,
          "lifeExp": 70.795,
          "pop": 2325300,
          "year": 1977
         },
         {
          "continent": "Asia",
          "country": "Singapore",
          "gdpPercap": 15169.161119999999,
          "lifeExp": 71.76,
          "pop": 2651869,
          "year": 1982
         },
         {
          "continent": "Asia",
          "country": "Singapore",
          "gdpPercap": 18861.53081,
          "lifeExp": 73.56,
          "pop": 2794552,
          "year": 1987
         },
         {
          "continent": "Asia",
          "country": "Singapore",
          "gdpPercap": 24769.8912,
          "lifeExp": 75.788,
          "pop": 3235865,
          "year": 1992
         },
         {
          "continent": "Asia",
          "country": "Singapore",
          "gdpPercap": 33519.4766,
          "lifeExp": 77.158,
          "pop": 3802309,
          "year": 1997
         },
         {
          "continent": "Asia",
          "country": "Singapore",
          "gdpPercap": 36023.1054,
          "lifeExp": 78.77,
          "pop": 4197776,
          "year": 2002
         },
         {
          "continent": "Asia",
          "country": "Singapore",
          "gdpPercap": 47143.179639999995,
          "lifeExp": 79.972,
          "pop": 4553009,
          "year": 2007
         },
         {
          "continent": "Europe",
          "country": "Slovak Republic",
          "gdpPercap": 5074.659104,
          "lifeExp": 64.36,
          "pop": 3558137,
          "year": 1952
         },
         {
          "continent": "Europe",
          "country": "Slovak Republic",
          "gdpPercap": 6093.2629799999995,
          "lifeExp": 67.45,
          "pop": 3844277,
          "year": 1957
         },
         {
          "continent": "Europe",
          "country": "Slovak Republic",
          "gdpPercap": 7481.1075980000005,
          "lifeExp": 70.33,
          "pop": 4237384,
          "year": 1962
         },
         {
          "continent": "Europe",
          "country": "Slovak Republic",
          "gdpPercap": 8412.902397,
          "lifeExp": 70.98,
          "pop": 4442238,
          "year": 1967
         },
         {
          "continent": "Europe",
          "country": "Slovak Republic",
          "gdpPercap": 9674.167626,
          "lifeExp": 70.35,
          "pop": 4593433,
          "year": 1972
         },
         {
          "continent": "Europe",
          "country": "Slovak Republic",
          "gdpPercap": 10922.664040000001,
          "lifeExp": 70.45,
          "pop": 4827803,
          "year": 1977
         },
         {
          "continent": "Europe",
          "country": "Slovak Republic",
          "gdpPercap": 11348.54585,
          "lifeExp": 70.8,
          "pop": 5048043,
          "year": 1982
         },
         {
          "continent": "Europe",
          "country": "Slovak Republic",
          "gdpPercap": 12037.26758,
          "lifeExp": 71.08,
          "pop": 5199318,
          "year": 1987
         },
         {
          "continent": "Europe",
          "country": "Slovak Republic",
          "gdpPercap": 9498.467723,
          "lifeExp": 71.38,
          "pop": 5302888,
          "year": 1992
         },
         {
          "continent": "Europe",
          "country": "Slovak Republic",
          "gdpPercap": 12126.23065,
          "lifeExp": 72.71,
          "pop": 5383010,
          "year": 1997
         },
         {
          "continent": "Europe",
          "country": "Slovak Republic",
          "gdpPercap": 13638.778369999998,
          "lifeExp": 73.8,
          "pop": 5410052,
          "year": 2002
         },
         {
          "continent": "Europe",
          "country": "Slovak Republic",
          "gdpPercap": 18678.31435,
          "lifeExp": 74.663,
          "pop": 5447502,
          "year": 2007
         },
         {
          "continent": "Europe",
          "country": "Slovenia",
          "gdpPercap": 4215.041741,
          "lifeExp": 65.57,
          "pop": 1489518,
          "year": 1952
         },
         {
          "continent": "Europe",
          "country": "Slovenia",
          "gdpPercap": 5862.276629,
          "lifeExp": 67.85,
          "pop": 1533070,
          "year": 1957
         },
         {
          "continent": "Europe",
          "country": "Slovenia",
          "gdpPercap": 7402.303395,
          "lifeExp": 69.15,
          "pop": 1582962,
          "year": 1962
         },
         {
          "continent": "Europe",
          "country": "Slovenia",
          "gdpPercap": 9405.489397,
          "lifeExp": 69.18,
          "pop": 1646912,
          "year": 1967
         },
         {
          "continent": "Europe",
          "country": "Slovenia",
          "gdpPercap": 12383.4862,
          "lifeExp": 69.82,
          "pop": 1694510,
          "year": 1972
         },
         {
          "continent": "Europe",
          "country": "Slovenia",
          "gdpPercap": 15277.030169999998,
          "lifeExp": 70.97,
          "pop": 1746919,
          "year": 1977
         },
         {
          "continent": "Europe",
          "country": "Slovenia",
          "gdpPercap": 17866.72175,
          "lifeExp": 71.063,
          "pop": 1861252,
          "year": 1982
         },
         {
          "continent": "Europe",
          "country": "Slovenia",
          "gdpPercap": 18678.53492,
          "lifeExp": 72.25,
          "pop": 1945870,
          "year": 1987
         },
         {
          "continent": "Europe",
          "country": "Slovenia",
          "gdpPercap": 14214.71681,
          "lifeExp": 73.64,
          "pop": 1999210,
          "year": 1992
         },
         {
          "continent": "Europe",
          "country": "Slovenia",
          "gdpPercap": 17161.10735,
          "lifeExp": 75.13,
          "pop": 2011612,
          "year": 1997
         },
         {
          "continent": "Europe",
          "country": "Slovenia",
          "gdpPercap": 20660.01936,
          "lifeExp": 76.66,
          "pop": 2011497,
          "year": 2002
         },
         {
          "continent": "Europe",
          "country": "Slovenia",
          "gdpPercap": 25768.25759,
          "lifeExp": 77.926,
          "pop": 2009245,
          "year": 2007
         },
         {
          "continent": "Africa",
          "country": "Somalia",
          "gdpPercap": 1135.749842,
          "lifeExp": 32.978,
          "pop": 2526994,
          "year": 1952
         },
         {
          "continent": "Africa",
          "country": "Somalia",
          "gdpPercap": 1258.1474130000001,
          "lifeExp": 34.977,
          "pop": 2780415,
          "year": 1957
         },
         {
          "continent": "Africa",
          "country": "Somalia",
          "gdpPercap": 1369.488336,
          "lifeExp": 36.981,
          "pop": 3080153,
          "year": 1962
         },
         {
          "continent": "Africa",
          "country": "Somalia",
          "gdpPercap": 1284.7331800000002,
          "lifeExp": 38.977,
          "pop": 3428839,
          "year": 1967
         },
         {
          "continent": "Africa",
          "country": "Somalia",
          "gdpPercap": 1254.576127,
          "lifeExp": 40.973,
          "pop": 3840161,
          "year": 1972
         },
         {
          "continent": "Africa",
          "country": "Somalia",
          "gdpPercap": 1450.9925130000001,
          "lifeExp": 41.974,
          "pop": 4353666,
          "year": 1977
         },
         {
          "continent": "Africa",
          "country": "Somalia",
          "gdpPercap": 1176.807031,
          "lifeExp": 42.955,
          "pop": 5828892,
          "year": 1982
         },
         {
          "continent": "Africa",
          "country": "Somalia",
          "gdpPercap": 1093.244963,
          "lifeExp": 44.501000000000005,
          "pop": 6921858,
          "year": 1987
         },
         {
          "continent": "Africa",
          "country": "Somalia",
          "gdpPercap": 926.9602964,
          "lifeExp": 39.658,
          "pop": 6099799,
          "year": 1992
         },
         {
          "continent": "Africa",
          "country": "Somalia",
          "gdpPercap": 930.5964284,
          "lifeExp": 43.795,
          "pop": 6633514,
          "year": 1997
         },
         {
          "continent": "Africa",
          "country": "Somalia",
          "gdpPercap": 882.0818218000001,
          "lifeExp": 45.93600000000001,
          "pop": 7753310,
          "year": 2002
         },
         {
          "continent": "Africa",
          "country": "Somalia",
          "gdpPercap": 926.1410683,
          "lifeExp": 48.159,
          "pop": 9118773,
          "year": 2007
         },
         {
          "continent": "Africa",
          "country": "South Africa",
          "gdpPercap": 4725.295531000001,
          "lifeExp": 45.00899999999999,
          "pop": 14264935,
          "year": 1952
         },
         {
          "continent": "Africa",
          "country": "South Africa",
          "gdpPercap": 5487.104219,
          "lifeExp": 47.985,
          "pop": 16151549,
          "year": 1957
         },
         {
          "continent": "Africa",
          "country": "South Africa",
          "gdpPercap": 5768.729717,
          "lifeExp": 49.951,
          "pop": 18356657,
          "year": 1962
         },
         {
          "continent": "Africa",
          "country": "South Africa",
          "gdpPercap": 7114.477970999999,
          "lifeExp": 51.927,
          "pop": 20997321,
          "year": 1967
         },
         {
          "continent": "Africa",
          "country": "South Africa",
          "gdpPercap": 7765.962636,
          "lifeExp": 53.696000000000005,
          "pop": 23935810,
          "year": 1972
         },
         {
          "continent": "Africa",
          "country": "South Africa",
          "gdpPercap": 8028.651439,
          "lifeExp": 55.527,
          "pop": 27129932,
          "year": 1977
         },
         {
          "continent": "Africa",
          "country": "South Africa",
          "gdpPercap": 8568.266228,
          "lifeExp": 58.161,
          "pop": 31140029,
          "year": 1982
         },
         {
          "continent": "Africa",
          "country": "South Africa",
          "gdpPercap": 7825.823398,
          "lifeExp": 60.833999999999996,
          "pop": 35933379,
          "year": 1987
         },
         {
          "continent": "Africa",
          "country": "South Africa",
          "gdpPercap": 7225.0692579999995,
          "lifeExp": 61.888000000000005,
          "pop": 39964159,
          "year": 1992
         },
         {
          "continent": "Africa",
          "country": "South Africa",
          "gdpPercap": 7479.188244,
          "lifeExp": 60.236000000000004,
          "pop": 42835005,
          "year": 1997
         },
         {
          "continent": "Africa",
          "country": "South Africa",
          "gdpPercap": 7710.946444,
          "lifeExp": 53.365,
          "pop": 44433622,
          "year": 2002
         },
         {
          "continent": "Africa",
          "country": "South Africa",
          "gdpPercap": 9269.657808,
          "lifeExp": 49.339,
          "pop": 43997828,
          "year": 2007
         },
         {
          "continent": "Europe",
          "country": "Spain",
          "gdpPercap": 3834.0347420000003,
          "lifeExp": 64.94,
          "pop": 28549870,
          "year": 1952
         },
         {
          "continent": "Europe",
          "country": "Spain",
          "gdpPercap": 4564.80241,
          "lifeExp": 66.66,
          "pop": 29841614,
          "year": 1957
         },
         {
          "continent": "Europe",
          "country": "Spain",
          "gdpPercap": 5693.843879,
          "lifeExp": 69.69,
          "pop": 31158061,
          "year": 1962
         },
         {
          "continent": "Europe",
          "country": "Spain",
          "gdpPercap": 7993.512294,
          "lifeExp": 71.44,
          "pop": 32850275,
          "year": 1967
         },
         {
          "continent": "Europe",
          "country": "Spain",
          "gdpPercap": 10638.75131,
          "lifeExp": 73.06,
          "pop": 34513161,
          "year": 1972
         },
         {
          "continent": "Europe",
          "country": "Spain",
          "gdpPercap": 13236.92117,
          "lifeExp": 74.39,
          "pop": 36439000,
          "year": 1977
         },
         {
          "continent": "Europe",
          "country": "Spain",
          "gdpPercap": 13926.169969999999,
          "lifeExp": 76.3,
          "pop": 37983310,
          "year": 1982
         },
         {
          "continent": "Europe",
          "country": "Spain",
          "gdpPercap": 15764.98313,
          "lifeExp": 76.9,
          "pop": 38880702,
          "year": 1987
         },
         {
          "continent": "Europe",
          "country": "Spain",
          "gdpPercap": 18603.06452,
          "lifeExp": 77.57,
          "pop": 39549438,
          "year": 1992
         },
         {
          "continent": "Europe",
          "country": "Spain",
          "gdpPercap": 20445.29896,
          "lifeExp": 78.77,
          "pop": 39855442,
          "year": 1997
         },
         {
          "continent": "Europe",
          "country": "Spain",
          "gdpPercap": 24835.47166,
          "lifeExp": 79.78,
          "pop": 40152517,
          "year": 2002
         },
         {
          "continent": "Europe",
          "country": "Spain",
          "gdpPercap": 28821.0637,
          "lifeExp": 80.941,
          "pop": 40448191,
          "year": 2007
         },
         {
          "continent": "Asia",
          "country": "Sri Lanka",
          "gdpPercap": 1083.53203,
          "lifeExp": 57.593,
          "pop": 7982342,
          "year": 1952
         },
         {
          "continent": "Asia",
          "country": "Sri Lanka",
          "gdpPercap": 1072.546602,
          "lifeExp": 61.456,
          "pop": 9128546,
          "year": 1957
         },
         {
          "continent": "Asia",
          "country": "Sri Lanka",
          "gdpPercap": 1074.4719599999999,
          "lifeExp": 62.192,
          "pop": 10421936,
          "year": 1962
         },
         {
          "continent": "Asia",
          "country": "Sri Lanka",
          "gdpPercap": 1135.514326,
          "lifeExp": 64.266,
          "pop": 11737396,
          "year": 1967
         },
         {
          "continent": "Asia",
          "country": "Sri Lanka",
          "gdpPercap": 1213.39553,
          "lifeExp": 65.042,
          "pop": 13016733,
          "year": 1972
         },
         {
          "continent": "Asia",
          "country": "Sri Lanka",
          "gdpPercap": 1348.775651,
          "lifeExp": 65.949,
          "pop": 14116836,
          "year": 1977
         },
         {
          "continent": "Asia",
          "country": "Sri Lanka",
          "gdpPercap": 1648.0797890000001,
          "lifeExp": 68.757,
          "pop": 15410151,
          "year": 1982
         },
         {
          "continent": "Asia",
          "country": "Sri Lanka",
          "gdpPercap": 1876.766827,
          "lifeExp": 69.01100000000001,
          "pop": 16495304,
          "year": 1987
         },
         {
          "continent": "Asia",
          "country": "Sri Lanka",
          "gdpPercap": 2153.7392219999997,
          "lifeExp": 70.37899999999999,
          "pop": 17587060,
          "year": 1992
         },
         {
          "continent": "Asia",
          "country": "Sri Lanka",
          "gdpPercap": 2664.477257,
          "lifeExp": 70.457,
          "pop": 18698655,
          "year": 1997
         },
         {
          "continent": "Asia",
          "country": "Sri Lanka",
          "gdpPercap": 3015.3788329999998,
          "lifeExp": 70.815,
          "pop": 19576783,
          "year": 2002
         },
         {
          "continent": "Asia",
          "country": "Sri Lanka",
          "gdpPercap": 3970.0954070000003,
          "lifeExp": 72.396,
          "pop": 20378239,
          "year": 2007
         },
         {
          "continent": "Africa",
          "country": "Sudan",
          "gdpPercap": 1615.991129,
          "lifeExp": 38.635,
          "pop": 8504667,
          "year": 1952
         },
         {
          "continent": "Africa",
          "country": "Sudan",
          "gdpPercap": 1770.3370739999998,
          "lifeExp": 39.624,
          "pop": 9753392,
          "year": 1957
         },
         {
          "continent": "Africa",
          "country": "Sudan",
          "gdpPercap": 1959.593767,
          "lifeExp": 40.87,
          "pop": 11183227,
          "year": 1962
         },
         {
          "continent": "Africa",
          "country": "Sudan",
          "gdpPercap": 1687.997641,
          "lifeExp": 42.858000000000004,
          "pop": 12716129,
          "year": 1967
         },
         {
          "continent": "Africa",
          "country": "Sudan",
          "gdpPercap": 1659.652775,
          "lifeExp": 45.083,
          "pop": 14597019,
          "year": 1972
         },
         {
          "continent": "Africa",
          "country": "Sudan",
          "gdpPercap": 2202.9884230000002,
          "lifeExp": 47.8,
          "pop": 17104986,
          "year": 1977
         },
         {
          "continent": "Africa",
          "country": "Sudan",
          "gdpPercap": 1895.544073,
          "lifeExp": 50.338,
          "pop": 20367053,
          "year": 1982
         },
         {
          "continent": "Africa",
          "country": "Sudan",
          "gdpPercap": 1507.819159,
          "lifeExp": 51.744,
          "pop": 24725960,
          "year": 1987
         },
         {
          "continent": "Africa",
          "country": "Sudan",
          "gdpPercap": 1492.197043,
          "lifeExp": 53.556000000000004,
          "pop": 28227588,
          "year": 1992
         },
         {
          "continent": "Africa",
          "country": "Sudan",
          "gdpPercap": 1632.2107640000002,
          "lifeExp": 55.373000000000005,
          "pop": 32160729,
          "year": 1997
         },
         {
          "continent": "Africa",
          "country": "Sudan",
          "gdpPercap": 1993.398314,
          "lifeExp": 56.369,
          "pop": 37090298,
          "year": 2002
         },
         {
          "continent": "Africa",
          "country": "Sudan",
          "gdpPercap": 2602.394995,
          "lifeExp": 58.556000000000004,
          "pop": 42292929,
          "year": 2007
         },
         {
          "continent": "Africa",
          "country": "Swaziland",
          "gdpPercap": 1148.376626,
          "lifeExp": 41.407,
          "pop": 290243,
          "year": 1952
         },
         {
          "continent": "Africa",
          "country": "Swaziland",
          "gdpPercap": 1244.708364,
          "lifeExp": 43.424,
          "pop": 326741,
          "year": 1957
         },
         {
          "continent": "Africa",
          "country": "Swaziland",
          "gdpPercap": 1856.182125,
          "lifeExp": 44.992,
          "pop": 370006,
          "year": 1962
         },
         {
          "continent": "Africa",
          "country": "Swaziland",
          "gdpPercap": 2613.1016649999997,
          "lifeExp": 46.633,
          "pop": 420690,
          "year": 1967
         },
         {
          "continent": "Africa",
          "country": "Swaziland",
          "gdpPercap": 3364.836625,
          "lifeExp": 49.552,
          "pop": 480105,
          "year": 1972
         },
         {
          "continent": "Africa",
          "country": "Swaziland",
          "gdpPercap": 3781.410618,
          "lifeExp": 52.537,
          "pop": 551425,
          "year": 1977
         },
         {
          "continent": "Africa",
          "country": "Swaziland",
          "gdpPercap": 3895.384018,
          "lifeExp": 55.56100000000001,
          "pop": 649901,
          "year": 1982
         },
         {
          "continent": "Africa",
          "country": "Swaziland",
          "gdpPercap": 3984.8398119999997,
          "lifeExp": 57.678000000000004,
          "pop": 779348,
          "year": 1987
         },
         {
          "continent": "Africa",
          "country": "Swaziland",
          "gdpPercap": 3553.0224,
          "lifeExp": 58.474,
          "pop": 962344,
          "year": 1992
         },
         {
          "continent": "Africa",
          "country": "Swaziland",
          "gdpPercap": 3876.7684600000002,
          "lifeExp": 54.288999999999994,
          "pop": 1054486,
          "year": 1997
         },
         {
          "continent": "Africa",
          "country": "Swaziland",
          "gdpPercap": 4128.116943,
          "lifeExp": 43.869,
          "pop": 1130269,
          "year": 2002
         },
         {
          "continent": "Africa",
          "country": "Swaziland",
          "gdpPercap": 4513.480643,
          "lifeExp": 39.613,
          "pop": 1133066,
          "year": 2007
         },
         {
          "continent": "Europe",
          "country": "Sweden",
          "gdpPercap": 8527.844662000001,
          "lifeExp": 71.86,
          "pop": 7124673,
          "year": 1952
         },
         {
          "continent": "Europe",
          "country": "Sweden",
          "gdpPercap": 9911.878226,
          "lifeExp": 72.49,
          "pop": 7363802,
          "year": 1957
         },
         {
          "continent": "Europe",
          "country": "Sweden",
          "gdpPercap": 12329.441920000001,
          "lifeExp": 73.37,
          "pop": 7561588,
          "year": 1962
         },
         {
          "continent": "Europe",
          "country": "Sweden",
          "gdpPercap": 15258.29697,
          "lifeExp": 74.16,
          "pop": 7867931,
          "year": 1967
         },
         {
          "continent": "Europe",
          "country": "Sweden",
          "gdpPercap": 17832.02464,
          "lifeExp": 74.72,
          "pop": 8122293,
          "year": 1972
         },
         {
          "continent": "Europe",
          "country": "Sweden",
          "gdpPercap": 18855.72521,
          "lifeExp": 75.44,
          "pop": 8251648,
          "year": 1977
         },
         {
          "continent": "Europe",
          "country": "Sweden",
          "gdpPercap": 20667.38125,
          "lifeExp": 76.42,
          "pop": 8325260,
          "year": 1982
         },
         {
          "continent": "Europe",
          "country": "Sweden",
          "gdpPercap": 23586.92927,
          "lifeExp": 77.19,
          "pop": 8421403,
          "year": 1987
         },
         {
          "continent": "Europe",
          "country": "Sweden",
          "gdpPercap": 23880.01683,
          "lifeExp": 78.16,
          "pop": 8718867,
          "year": 1992
         },
         {
          "continent": "Europe",
          "country": "Sweden",
          "gdpPercap": 25266.59499,
          "lifeExp": 79.39,
          "pop": 8897619,
          "year": 1997
         },
         {
          "continent": "Europe",
          "country": "Sweden",
          "gdpPercap": 29341.630930000003,
          "lifeExp": 80.04,
          "pop": 8954175,
          "year": 2002
         },
         {
          "continent": "Europe",
          "country": "Sweden",
          "gdpPercap": 33859.74835,
          "lifeExp": 80.884,
          "pop": 9031088,
          "year": 2007
         },
         {
          "continent": "Europe",
          "country": "Switzerland",
          "gdpPercap": 14734.23275,
          "lifeExp": 69.62,
          "pop": 4815000,
          "year": 1952
         },
         {
          "continent": "Europe",
          "country": "Switzerland",
          "gdpPercap": 17909.48973,
          "lifeExp": 70.56,
          "pop": 5126000,
          "year": 1957
         },
         {
          "continent": "Europe",
          "country": "Switzerland",
          "gdpPercap": 20431.0927,
          "lifeExp": 71.32,
          "pop": 5666000,
          "year": 1962
         },
         {
          "continent": "Europe",
          "country": "Switzerland",
          "gdpPercap": 22966.14432,
          "lifeExp": 72.77,
          "pop": 6063000,
          "year": 1967
         },
         {
          "continent": "Europe",
          "country": "Switzerland",
          "gdpPercap": 27195.113039999997,
          "lifeExp": 73.78,
          "pop": 6401400,
          "year": 1972
         },
         {
          "continent": "Europe",
          "country": "Switzerland",
          "gdpPercap": 26982.29052,
          "lifeExp": 75.39,
          "pop": 6316424,
          "year": 1977
         },
         {
          "continent": "Europe",
          "country": "Switzerland",
          "gdpPercap": 28397.715119999997,
          "lifeExp": 76.21,
          "pop": 6468126,
          "year": 1982
         },
         {
          "continent": "Europe",
          "country": "Switzerland",
          "gdpPercap": 30281.704589999998,
          "lifeExp": 77.41,
          "pop": 6649942,
          "year": 1987
         },
         {
          "continent": "Europe",
          "country": "Switzerland",
          "gdpPercap": 31871.5303,
          "lifeExp": 78.03,
          "pop": 6995447,
          "year": 1992
         },
         {
          "continent": "Europe",
          "country": "Switzerland",
          "gdpPercap": 32135.323010000004,
          "lifeExp": 79.37,
          "pop": 7193761,
          "year": 1997
         },
         {
          "continent": "Europe",
          "country": "Switzerland",
          "gdpPercap": 34480.95771,
          "lifeExp": 80.62,
          "pop": 7361757,
          "year": 2002
         },
         {
          "continent": "Europe",
          "country": "Switzerland",
          "gdpPercap": 37506.419069999996,
          "lifeExp": 81.70100000000001,
          "pop": 7554661,
          "year": 2007
         },
         {
          "continent": "Asia",
          "country": "Syria",
          "gdpPercap": 1643.485354,
          "lifeExp": 45.883,
          "pop": 3661549,
          "year": 1952
         },
         {
          "continent": "Asia",
          "country": "Syria",
          "gdpPercap": 2117.234893,
          "lifeExp": 48.284,
          "pop": 4149908,
          "year": 1957
         },
         {
          "continent": "Asia",
          "country": "Syria",
          "gdpPercap": 2193.037133,
          "lifeExp": 50.305,
          "pop": 4834621,
          "year": 1962
         },
         {
          "continent": "Asia",
          "country": "Syria",
          "gdpPercap": 1881.923632,
          "lifeExp": 53.655,
          "pop": 5680812,
          "year": 1967
         },
         {
          "continent": "Asia",
          "country": "Syria",
          "gdpPercap": 2571.423014,
          "lifeExp": 57.29600000000001,
          "pop": 6701172,
          "year": 1972
         },
         {
          "continent": "Asia",
          "country": "Syria",
          "gdpPercap": 3195.484582,
          "lifeExp": 61.195,
          "pop": 7932503,
          "year": 1977
         },
         {
          "continent": "Asia",
          "country": "Syria",
          "gdpPercap": 3761.8377149999997,
          "lifeExp": 64.59,
          "pop": 9410494,
          "year": 1982
         },
         {
          "continent": "Asia",
          "country": "Syria",
          "gdpPercap": 3116.774285,
          "lifeExp": 66.97399999999999,
          "pop": 11242847,
          "year": 1987
         },
         {
          "continent": "Asia",
          "country": "Syria",
          "gdpPercap": 3340.542768,
          "lifeExp": 69.249,
          "pop": 13219062,
          "year": 1992
         },
         {
          "continent": "Asia",
          "country": "Syria",
          "gdpPercap": 4014.238972,
          "lifeExp": 71.527,
          "pop": 15081016,
          "year": 1997
         },
         {
          "continent": "Asia",
          "country": "Syria",
          "gdpPercap": 4090.9253310000004,
          "lifeExp": 73.053,
          "pop": 17155814,
          "year": 2002
         },
         {
          "continent": "Asia",
          "country": "Syria",
          "gdpPercap": 4184.548089,
          "lifeExp": 74.143,
          "pop": 19314747,
          "year": 2007
         },
         {
          "continent": "Asia",
          "country": "Taiwan",
          "gdpPercap": 1206.947913,
          "lifeExp": 58.5,
          "pop": 8550362,
          "year": 1952
         },
         {
          "continent": "Asia",
          "country": "Taiwan",
          "gdpPercap": 1507.86129,
          "lifeExp": 62.4,
          "pop": 10164215,
          "year": 1957
         },
         {
          "continent": "Asia",
          "country": "Taiwan",
          "gdpPercap": 1822.879028,
          "lifeExp": 65.2,
          "pop": 11918938,
          "year": 1962
         },
         {
          "continent": "Asia",
          "country": "Taiwan",
          "gdpPercap": 2643.8586809999997,
          "lifeExp": 67.5,
          "pop": 13648692,
          "year": 1967
         },
         {
          "continent": "Asia",
          "country": "Taiwan",
          "gdpPercap": 4062.523897,
          "lifeExp": 69.39,
          "pop": 15226039,
          "year": 1972
         },
         {
          "continent": "Asia",
          "country": "Taiwan",
          "gdpPercap": 5596.519826,
          "lifeExp": 70.59,
          "pop": 16785196,
          "year": 1977
         },
         {
          "continent": "Asia",
          "country": "Taiwan",
          "gdpPercap": 7426.354773999999,
          "lifeExp": 72.16,
          "pop": 18501390,
          "year": 1982
         },
         {
          "continent": "Asia",
          "country": "Taiwan",
          "gdpPercap": 11054.56175,
          "lifeExp": 73.4,
          "pop": 19757799,
          "year": 1987
         },
         {
          "continent": "Asia",
          "country": "Taiwan",
          "gdpPercap": 15215.6579,
          "lifeExp": 74.26,
          "pop": 20686918,
          "year": 1992
         },
         {
          "continent": "Asia",
          "country": "Taiwan",
          "gdpPercap": 20206.82098,
          "lifeExp": 75.25,
          "pop": 21628605,
          "year": 1997
         },
         {
          "continent": "Asia",
          "country": "Taiwan",
          "gdpPercap": 23235.42329,
          "lifeExp": 76.99,
          "pop": 22454239,
          "year": 2002
         },
         {
          "continent": "Asia",
          "country": "Taiwan",
          "gdpPercap": 28718.27684,
          "lifeExp": 78.4,
          "pop": 23174294,
          "year": 2007
         },
         {
          "continent": "Africa",
          "country": "Tanzania",
          "gdpPercap": 716.6500721,
          "lifeExp": 41.215,
          "pop": 8322925,
          "year": 1952
         },
         {
          "continent": "Africa",
          "country": "Tanzania",
          "gdpPercap": 698.5356073,
          "lifeExp": 42.974,
          "pop": 9452826,
          "year": 1957
         },
         {
          "continent": "Africa",
          "country": "Tanzania",
          "gdpPercap": 722.0038073,
          "lifeExp": 44.246,
          "pop": 10863958,
          "year": 1962
         },
         {
          "continent": "Africa",
          "country": "Tanzania",
          "gdpPercap": 848.2186575,
          "lifeExp": 45.757,
          "pop": 12607312,
          "year": 1967
         },
         {
          "continent": "Africa",
          "country": "Tanzania",
          "gdpPercap": 915.9850592,
          "lifeExp": 47.62,
          "pop": 14706593,
          "year": 1972
         },
         {
          "continent": "Africa",
          "country": "Tanzania",
          "gdpPercap": 962.4922932,
          "lifeExp": 49.919,
          "pop": 17129565,
          "year": 1977
         },
         {
          "continent": "Africa",
          "country": "Tanzania",
          "gdpPercap": 874.2426069,
          "lifeExp": 50.608000000000004,
          "pop": 19844382,
          "year": 1982
         },
         {
          "continent": "Africa",
          "country": "Tanzania",
          "gdpPercap": 831.8220794,
          "lifeExp": 51.535,
          "pop": 23040630,
          "year": 1987
         },
         {
          "continent": "Africa",
          "country": "Tanzania",
          "gdpPercap": 825.682454,
          "lifeExp": 50.44,
          "pop": 26605473,
          "year": 1992
         },
         {
          "continent": "Africa",
          "country": "Tanzania",
          "gdpPercap": 789.1862231,
          "lifeExp": 48.466,
          "pop": 30686889,
          "year": 1997
         },
         {
          "continent": "Africa",
          "country": "Tanzania",
          "gdpPercap": 899.0742111,
          "lifeExp": 49.651,
          "pop": 34593779,
          "year": 2002
         },
         {
          "continent": "Africa",
          "country": "Tanzania",
          "gdpPercap": 1107.482182,
          "lifeExp": 52.516999999999996,
          "pop": 38139640,
          "year": 2007
         },
         {
          "continent": "Asia",
          "country": "Thailand",
          "gdpPercap": 757.7974177,
          "lifeExp": 50.848,
          "pop": 21289402,
          "year": 1952
         },
         {
          "continent": "Asia",
          "country": "Thailand",
          "gdpPercap": 793.5774147999999,
          "lifeExp": 53.63,
          "pop": 25041917,
          "year": 1957
         },
         {
          "continent": "Asia",
          "country": "Thailand",
          "gdpPercap": 1002.1991720000001,
          "lifeExp": 56.06100000000001,
          "pop": 29263397,
          "year": 1962
         },
         {
          "continent": "Asia",
          "country": "Thailand",
          "gdpPercap": 1295.46066,
          "lifeExp": 58.285,
          "pop": 34024249,
          "year": 1967
         },
         {
          "continent": "Asia",
          "country": "Thailand",
          "gdpPercap": 1524.3589359999999,
          "lifeExp": 60.405,
          "pop": 39276153,
          "year": 1972
         },
         {
          "continent": "Asia",
          "country": "Thailand",
          "gdpPercap": 1961.2246350000003,
          "lifeExp": 62.494,
          "pop": 44148285,
          "year": 1977
         },
         {
          "continent": "Asia",
          "country": "Thailand",
          "gdpPercap": 2393.219781,
          "lifeExp": 64.597,
          "pop": 48827160,
          "year": 1982
         },
         {
          "continent": "Asia",
          "country": "Thailand",
          "gdpPercap": 2982.653773,
          "lifeExp": 66.084,
          "pop": 52910342,
          "year": 1987
         },
         {
          "continent": "Asia",
          "country": "Thailand",
          "gdpPercap": 4616.8965450000005,
          "lifeExp": 67.298,
          "pop": 56667095,
          "year": 1992
         },
         {
          "continent": "Asia",
          "country": "Thailand",
          "gdpPercap": 5852.625497,
          "lifeExp": 67.521,
          "pop": 60216677,
          "year": 1997
         },
         {
          "continent": "Asia",
          "country": "Thailand",
          "gdpPercap": 5913.187529,
          "lifeExp": 68.564,
          "pop": 62806748,
          "year": 2002
         },
         {
          "continent": "Asia",
          "country": "Thailand",
          "gdpPercap": 7458.3963269999995,
          "lifeExp": 70.616,
          "pop": 65068149,
          "year": 2007
         },
         {
          "continent": "Africa",
          "country": "Togo",
          "gdpPercap": 859.8086567,
          "lifeExp": 38.596,
          "pop": 1219113,
          "year": 1952
         },
         {
          "continent": "Africa",
          "country": "Togo",
          "gdpPercap": 925.9083201999999,
          "lifeExp": 41.208,
          "pop": 1357445,
          "year": 1957
         },
         {
          "continent": "Africa",
          "country": "Togo",
          "gdpPercap": 1067.5348099999999,
          "lifeExp": 43.922,
          "pop": 1528098,
          "year": 1962
         },
         {
          "continent": "Africa",
          "country": "Togo",
          "gdpPercap": 1477.59676,
          "lifeExp": 46.769,
          "pop": 1735550,
          "year": 1967
         },
         {
          "continent": "Africa",
          "country": "Togo",
          "gdpPercap": 1649.660188,
          "lifeExp": 49.75899999999999,
          "pop": 2056351,
          "year": 1972
         },
         {
          "continent": "Africa",
          "country": "Togo",
          "gdpPercap": 1532.776998,
          "lifeExp": 52.887,
          "pop": 2308582,
          "year": 1977
         },
         {
          "continent": "Africa",
          "country": "Togo",
          "gdpPercap": 1344.577953,
          "lifeExp": 55.471000000000004,
          "pop": 2644765,
          "year": 1982
         },
         {
          "continent": "Africa",
          "country": "Togo",
          "gdpPercap": 1202.201361,
          "lifeExp": 56.941,
          "pop": 3154264,
          "year": 1987
         },
         {
          "continent": "Africa",
          "country": "Togo",
          "gdpPercap": 1034.298904,
          "lifeExp": 58.06100000000001,
          "pop": 3747553,
          "year": 1992
         },
         {
          "continent": "Africa",
          "country": "Togo",
          "gdpPercap": 982.2869242999999,
          "lifeExp": 58.39,
          "pop": 4320890,
          "year": 1997
         },
         {
          "continent": "Africa",
          "country": "Togo",
          "gdpPercap": 886.2205765000001,
          "lifeExp": 57.56100000000001,
          "pop": 4977378,
          "year": 2002
         },
         {
          "continent": "Africa",
          "country": "Togo",
          "gdpPercap": 882.9699437999999,
          "lifeExp": 58.42,
          "pop": 5701579,
          "year": 2007
         },
         {
          "continent": "Americas",
          "country": "Trinidad and Tobago",
          "gdpPercap": 3023.271928,
          "lifeExp": 59.1,
          "pop": 662850,
          "year": 1952
         },
         {
          "continent": "Americas",
          "country": "Trinidad and Tobago",
          "gdpPercap": 4100.3934,
          "lifeExp": 61.8,
          "pop": 764900,
          "year": 1957
         },
         {
          "continent": "Americas",
          "country": "Trinidad and Tobago",
          "gdpPercap": 4997.5239710000005,
          "lifeExp": 64.9,
          "pop": 887498,
          "year": 1962
         },
         {
          "continent": "Americas",
          "country": "Trinidad and Tobago",
          "gdpPercap": 5621.368472,
          "lifeExp": 65.4,
          "pop": 960155,
          "year": 1967
         },
         {
          "continent": "Americas",
          "country": "Trinidad and Tobago",
          "gdpPercap": 6619.551418999999,
          "lifeExp": 65.9,
          "pop": 975199,
          "year": 1972
         },
         {
          "continent": "Americas",
          "country": "Trinidad and Tobago",
          "gdpPercap": 7899.554209000001,
          "lifeExp": 68.3,
          "pop": 1039009,
          "year": 1977
         },
         {
          "continent": "Americas",
          "country": "Trinidad and Tobago",
          "gdpPercap": 9119.528607,
          "lifeExp": 68.832,
          "pop": 1116479,
          "year": 1982
         },
         {
          "continent": "Americas",
          "country": "Trinidad and Tobago",
          "gdpPercap": 7388.597823,
          "lifeExp": 69.582,
          "pop": 1191336,
          "year": 1987
         },
         {
          "continent": "Americas",
          "country": "Trinidad and Tobago",
          "gdpPercap": 7370.990932,
          "lifeExp": 69.862,
          "pop": 1183669,
          "year": 1992
         },
         {
          "continent": "Americas",
          "country": "Trinidad and Tobago",
          "gdpPercap": 8792.573126000001,
          "lifeExp": 69.465,
          "pop": 1138101,
          "year": 1997
         },
         {
          "continent": "Americas",
          "country": "Trinidad and Tobago",
          "gdpPercap": 11460.60023,
          "lifeExp": 68.976,
          "pop": 1101832,
          "year": 2002
         },
         {
          "continent": "Americas",
          "country": "Trinidad and Tobago",
          "gdpPercap": 18008.50924,
          "lifeExp": 69.819,
          "pop": 1056608,
          "year": 2007
         },
         {
          "continent": "Africa",
          "country": "Tunisia",
          "gdpPercap": 1468.475631,
          "lifeExp": 44.6,
          "pop": 3647735,
          "year": 1952
         },
         {
          "continent": "Africa",
          "country": "Tunisia",
          "gdpPercap": 1395.232468,
          "lifeExp": 47.1,
          "pop": 3950849,
          "year": 1957
         },
         {
          "continent": "Africa",
          "country": "Tunisia",
          "gdpPercap": 1660.30321,
          "lifeExp": 49.57899999999999,
          "pop": 4286552,
          "year": 1962
         },
         {
          "continent": "Africa",
          "country": "Tunisia",
          "gdpPercap": 1932.3601670000003,
          "lifeExp": 52.053000000000004,
          "pop": 4786986,
          "year": 1967
         },
         {
          "continent": "Africa",
          "country": "Tunisia",
          "gdpPercap": 2753.2859940000003,
          "lifeExp": 55.602,
          "pop": 5303507,
          "year": 1972
         },
         {
          "continent": "Africa",
          "country": "Tunisia",
          "gdpPercap": 3120.876811,
          "lifeExp": 59.836999999999996,
          "pop": 6005061,
          "year": 1977
         },
         {
          "continent": "Africa",
          "country": "Tunisia",
          "gdpPercap": 3560.2331740000004,
          "lifeExp": 64.048,
          "pop": 6734098,
          "year": 1982
         },
         {
          "continent": "Africa",
          "country": "Tunisia",
          "gdpPercap": 3810.419296,
          "lifeExp": 66.89399999999999,
          "pop": 7724976,
          "year": 1987
         },
         {
          "continent": "Africa",
          "country": "Tunisia",
          "gdpPercap": 4332.720164,
          "lifeExp": 70.001,
          "pop": 8523077,
          "year": 1992
         },
         {
          "continent": "Africa",
          "country": "Tunisia",
          "gdpPercap": 4876.798614,
          "lifeExp": 71.973,
          "pop": 9231669,
          "year": 1997
         },
         {
          "continent": "Africa",
          "country": "Tunisia",
          "gdpPercap": 5722.895654999999,
          "lifeExp": 73.042,
          "pop": 9770575,
          "year": 2002
         },
         {
          "continent": "Africa",
          "country": "Tunisia",
          "gdpPercap": 7092.923025,
          "lifeExp": 73.923,
          "pop": 10276158,
          "year": 2007
         },
         {
          "continent": "Europe",
          "country": "Turkey",
          "gdpPercap": 1969.1009800000002,
          "lifeExp": 43.585,
          "pop": 22235677,
          "year": 1952
         },
         {
          "continent": "Europe",
          "country": "Turkey",
          "gdpPercap": 2218.754257,
          "lifeExp": 48.07899999999999,
          "pop": 25670939,
          "year": 1957
         },
         {
          "continent": "Europe",
          "country": "Turkey",
          "gdpPercap": 2322.8699079999997,
          "lifeExp": 52.098,
          "pop": 29788695,
          "year": 1962
         },
         {
          "continent": "Europe",
          "country": "Turkey",
          "gdpPercap": 2826.3563870000003,
          "lifeExp": 54.336000000000006,
          "pop": 33411317,
          "year": 1967
         },
         {
          "continent": "Europe",
          "country": "Turkey",
          "gdpPercap": 3450.69638,
          "lifeExp": 57.005,
          "pop": 37492953,
          "year": 1972
         },
         {
          "continent": "Europe",
          "country": "Turkey",
          "gdpPercap": 4269.122326,
          "lifeExp": 59.507,
          "pop": 42404033,
          "year": 1977
         },
         {
          "continent": "Europe",
          "country": "Turkey",
          "gdpPercap": 4241.356344,
          "lifeExp": 61.036,
          "pop": 47328791,
          "year": 1982
         },
         {
          "continent": "Europe",
          "country": "Turkey",
          "gdpPercap": 5089.043686,
          "lifeExp": 63.108000000000004,
          "pop": 52881328,
          "year": 1987
         },
         {
          "continent": "Europe",
          "country": "Turkey",
          "gdpPercap": 5678.348271,
          "lifeExp": 66.146,
          "pop": 58179144,
          "year": 1992
         },
         {
          "continent": "Europe",
          "country": "Turkey",
          "gdpPercap": 6601.429915,
          "lifeExp": 68.835,
          "pop": 63047647,
          "year": 1997
         },
         {
          "continent": "Europe",
          "country": "Turkey",
          "gdpPercap": 6508.085718,
          "lifeExp": 70.845,
          "pop": 67308928,
          "year": 2002
         },
         {
          "continent": "Europe",
          "country": "Turkey",
          "gdpPercap": 8458.276384,
          "lifeExp": 71.777,
          "pop": 71158647,
          "year": 2007
         },
         {
          "continent": "Africa",
          "country": "Uganda",
          "gdpPercap": 734.753484,
          "lifeExp": 39.978,
          "pop": 5824797,
          "year": 1952
         },
         {
          "continent": "Africa",
          "country": "Uganda",
          "gdpPercap": 774.3710692000001,
          "lifeExp": 42.571000000000005,
          "pop": 6675501,
          "year": 1957
         },
         {
          "continent": "Africa",
          "country": "Uganda",
          "gdpPercap": 767.2717397999999,
          "lifeExp": 45.343999999999994,
          "pop": 7688797,
          "year": 1962
         },
         {
          "continent": "Africa",
          "country": "Uganda",
          "gdpPercap": 908.9185217,
          "lifeExp": 48.051,
          "pop": 8900294,
          "year": 1967
         },
         {
          "continent": "Africa",
          "country": "Uganda",
          "gdpPercap": 950.735869,
          "lifeExp": 51.016000000000005,
          "pop": 10190285,
          "year": 1972
         },
         {
          "continent": "Africa",
          "country": "Uganda",
          "gdpPercap": 843.7331372000001,
          "lifeExp": 50.35,
          "pop": 11457758,
          "year": 1977
         },
         {
          "continent": "Africa",
          "country": "Uganda",
          "gdpPercap": 682.2662267999999,
          "lifeExp": 49.849,
          "pop": 12939400,
          "year": 1982
         },
         {
          "continent": "Africa",
          "country": "Uganda",
          "gdpPercap": 617.7244065,
          "lifeExp": 51.50899999999999,
          "pop": 15283050,
          "year": 1987
         },
         {
          "continent": "Africa",
          "country": "Uganda",
          "gdpPercap": 644.1707968999999,
          "lifeExp": 48.825,
          "pop": 18252190,
          "year": 1992
         },
         {
          "continent": "Africa",
          "country": "Uganda",
          "gdpPercap": 816.559081,
          "lifeExp": 44.578,
          "pop": 21210254,
          "year": 1997
         },
         {
          "continent": "Africa",
          "country": "Uganda",
          "gdpPercap": 927.7210018,
          "lifeExp": 47.813,
          "pop": 24739869,
          "year": 2002
         },
         {
          "continent": "Africa",
          "country": "Uganda",
          "gdpPercap": 1056.3801210000001,
          "lifeExp": 51.542,
          "pop": 29170398,
          "year": 2007
         },
         {
          "continent": "Europe",
          "country": "United Kingdom",
          "gdpPercap": 9979.508487000001,
          "lifeExp": 69.18,
          "pop": 50430000,
          "year": 1952
         },
         {
          "continent": "Europe",
          "country": "United Kingdom",
          "gdpPercap": 11283.17795,
          "lifeExp": 70.42,
          "pop": 51430000,
          "year": 1957
         },
         {
          "continent": "Europe",
          "country": "United Kingdom",
          "gdpPercap": 12477.17707,
          "lifeExp": 70.76,
          "pop": 53292000,
          "year": 1962
         },
         {
          "continent": "Europe",
          "country": "United Kingdom",
          "gdpPercap": 14142.85089,
          "lifeExp": 71.36,
          "pop": 54959000,
          "year": 1967
         },
         {
          "continent": "Europe",
          "country": "United Kingdom",
          "gdpPercap": 15895.116409999999,
          "lifeExp": 72.01,
          "pop": 56079000,
          "year": 1972
         },
         {
          "continent": "Europe",
          "country": "United Kingdom",
          "gdpPercap": 17428.74846,
          "lifeExp": 72.76,
          "pop": 56179000,
          "year": 1977
         },
         {
          "continent": "Europe",
          "country": "United Kingdom",
          "gdpPercap": 18232.42452,
          "lifeExp": 74.04,
          "pop": 56339704,
          "year": 1982
         },
         {
          "continent": "Europe",
          "country": "United Kingdom",
          "gdpPercap": 21664.787669999998,
          "lifeExp": 75.007,
          "pop": 56981620,
          "year": 1987
         },
         {
          "continent": "Europe",
          "country": "United Kingdom",
          "gdpPercap": 22705.09254,
          "lifeExp": 76.42,
          "pop": 57866349,
          "year": 1992
         },
         {
          "continent": "Europe",
          "country": "United Kingdom",
          "gdpPercap": 26074.53136,
          "lifeExp": 77.218,
          "pop": 58808266,
          "year": 1997
         },
         {
          "continent": "Europe",
          "country": "United Kingdom",
          "gdpPercap": 29478.99919,
          "lifeExp": 78.471,
          "pop": 59912431,
          "year": 2002
         },
         {
          "continent": "Europe",
          "country": "United Kingdom",
          "gdpPercap": 33203.26128,
          "lifeExp": 79.425,
          "pop": 60776238,
          "year": 2007
         },
         {
          "continent": "Americas",
          "country": "United States",
          "gdpPercap": 13990.482080000002,
          "lifeExp": 68.44,
          "pop": 157553000,
          "year": 1952
         },
         {
          "continent": "Americas",
          "country": "United States",
          "gdpPercap": 14847.12712,
          "lifeExp": 69.49,
          "pop": 171984000,
          "year": 1957
         },
         {
          "continent": "Americas",
          "country": "United States",
          "gdpPercap": 16173.145859999999,
          "lifeExp": 70.21,
          "pop": 186538000,
          "year": 1962
         },
         {
          "continent": "Americas",
          "country": "United States",
          "gdpPercap": 19530.365569999998,
          "lifeExp": 70.76,
          "pop": 198712000,
          "year": 1967
         },
         {
          "continent": "Americas",
          "country": "United States",
          "gdpPercap": 21806.03594,
          "lifeExp": 71.34,
          "pop": 209896000,
          "year": 1972
         },
         {
          "continent": "Americas",
          "country": "United States",
          "gdpPercap": 24072.63213,
          "lifeExp": 73.38,
          "pop": 220239000,
          "year": 1977
         },
         {
          "continent": "Americas",
          "country": "United States",
          "gdpPercap": 25009.55914,
          "lifeExp": 74.65,
          "pop": 232187835,
          "year": 1982
         },
         {
          "continent": "Americas",
          "country": "United States",
          "gdpPercap": 29884.350410000003,
          "lifeExp": 75.02,
          "pop": 242803533,
          "year": 1987
         },
         {
          "continent": "Americas",
          "country": "United States",
          "gdpPercap": 32003.93224,
          "lifeExp": 76.09,
          "pop": 256894189,
          "year": 1992
         },
         {
          "continent": "Americas",
          "country": "United States",
          "gdpPercap": 35767.43303,
          "lifeExp": 76.81,
          "pop": 272911760,
          "year": 1997
         },
         {
          "continent": "Americas",
          "country": "United States",
          "gdpPercap": 39097.09955,
          "lifeExp": 77.31,
          "pop": 287675526,
          "year": 2002
         },
         {
          "continent": "Americas",
          "country": "United States",
          "gdpPercap": 42951.65309,
          "lifeExp": 78.242,
          "pop": 301139947,
          "year": 2007
         },
         {
          "continent": "Americas",
          "country": "Uruguay",
          "gdpPercap": 5716.766744,
          "lifeExp": 66.071,
          "pop": 2252965,
          "year": 1952
         },
         {
          "continent": "Americas",
          "country": "Uruguay",
          "gdpPercap": 6150.772969,
          "lifeExp": 67.044,
          "pop": 2424959,
          "year": 1957
         },
         {
          "continent": "Americas",
          "country": "Uruguay",
          "gdpPercap": 5603.357717,
          "lifeExp": 68.253,
          "pop": 2598466,
          "year": 1962
         },
         {
          "continent": "Americas",
          "country": "Uruguay",
          "gdpPercap": 5444.61962,
          "lifeExp": 68.468,
          "pop": 2748579,
          "year": 1967
         },
         {
          "continent": "Americas",
          "country": "Uruguay",
          "gdpPercap": 5703.408898,
          "lifeExp": 68.673,
          "pop": 2829526,
          "year": 1972
         },
         {
          "continent": "Americas",
          "country": "Uruguay",
          "gdpPercap": 6504.339663000001,
          "lifeExp": 69.48100000000001,
          "pop": 2873520,
          "year": 1977
         },
         {
          "continent": "Americas",
          "country": "Uruguay",
          "gdpPercap": 6920.223051000001,
          "lifeExp": 70.805,
          "pop": 2953997,
          "year": 1982
         },
         {
          "continent": "Americas",
          "country": "Uruguay",
          "gdpPercap": 7452.398969,
          "lifeExp": 71.918,
          "pop": 3045153,
          "year": 1987
         },
         {
          "continent": "Americas",
          "country": "Uruguay",
          "gdpPercap": 8137.004775,
          "lifeExp": 72.752,
          "pop": 3149262,
          "year": 1992
         },
         {
          "continent": "Americas",
          "country": "Uruguay",
          "gdpPercap": 9230.240708,
          "lifeExp": 74.223,
          "pop": 3262838,
          "year": 1997
         },
         {
          "continent": "Americas",
          "country": "Uruguay",
          "gdpPercap": 7727.002004000001,
          "lifeExp": 75.307,
          "pop": 3363085,
          "year": 2002
         },
         {
          "continent": "Americas",
          "country": "Uruguay",
          "gdpPercap": 10611.46299,
          "lifeExp": 76.384,
          "pop": 3447496,
          "year": 2007
         },
         {
          "continent": "Americas",
          "country": "Venezuela",
          "gdpPercap": 7689.799761,
          "lifeExp": 55.088,
          "pop": 5439568,
          "year": 1952
         },
         {
          "continent": "Americas",
          "country": "Venezuela",
          "gdpPercap": 9802.466526,
          "lifeExp": 57.907,
          "pop": 6702668,
          "year": 1957
         },
         {
          "continent": "Americas",
          "country": "Venezuela",
          "gdpPercap": 8422.974165000001,
          "lifeExp": 60.77,
          "pop": 8143375,
          "year": 1962
         },
         {
          "continent": "Americas",
          "country": "Venezuela",
          "gdpPercap": 9541.474188,
          "lifeExp": 63.479,
          "pop": 9709552,
          "year": 1967
         },
         {
          "continent": "Americas",
          "country": "Venezuela",
          "gdpPercap": 10505.25966,
          "lifeExp": 65.712,
          "pop": 11515649,
          "year": 1972
         },
         {
          "continent": "Americas",
          "country": "Venezuela",
          "gdpPercap": 13143.95095,
          "lifeExp": 67.456,
          "pop": 13503563,
          "year": 1977
         },
         {
          "continent": "Americas",
          "country": "Venezuela",
          "gdpPercap": 11152.410109999999,
          "lifeExp": 68.557,
          "pop": 15620766,
          "year": 1982
         },
         {
          "continent": "Americas",
          "country": "Venezuela",
          "gdpPercap": 9883.584648,
          "lifeExp": 70.19,
          "pop": 17910182,
          "year": 1987
         },
         {
          "continent": "Americas",
          "country": "Venezuela",
          "gdpPercap": 10733.926309999999,
          "lifeExp": 71.15,
          "pop": 20265563,
          "year": 1992
         },
         {
          "continent": "Americas",
          "country": "Venezuela",
          "gdpPercap": 10165.49518,
          "lifeExp": 72.146,
          "pop": 22374398,
          "year": 1997
         },
         {
          "continent": "Americas",
          "country": "Venezuela",
          "gdpPercap": 8605.047831,
          "lifeExp": 72.766,
          "pop": 24287670,
          "year": 2002
         },
         {
          "continent": "Americas",
          "country": "Venezuela",
          "gdpPercap": 11415.805690000001,
          "lifeExp": 73.747,
          "pop": 26084662,
          "year": 2007
         },
         {
          "continent": "Asia",
          "country": "Vietnam",
          "gdpPercap": 605.0664917,
          "lifeExp": 40.412,
          "pop": 26246839,
          "year": 1952
         },
         {
          "continent": "Asia",
          "country": "Vietnam",
          "gdpPercap": 676.2854477999999,
          "lifeExp": 42.887,
          "pop": 28998543,
          "year": 1957
         },
         {
          "continent": "Asia",
          "country": "Vietnam",
          "gdpPercap": 772.0491602000001,
          "lifeExp": 45.363,
          "pop": 33796140,
          "year": 1962
         },
         {
          "continent": "Asia",
          "country": "Vietnam",
          "gdpPercap": 637.1232887,
          "lifeExp": 47.838,
          "pop": 39463910,
          "year": 1967
         },
         {
          "continent": "Asia",
          "country": "Vietnam",
          "gdpPercap": 699.5016441,
          "lifeExp": 50.254,
          "pop": 44655014,
          "year": 1972
         },
         {
          "continent": "Asia",
          "country": "Vietnam",
          "gdpPercap": 713.5371196000001,
          "lifeExp": 55.763999999999996,
          "pop": 50533506,
          "year": 1977
         },
         {
          "continent": "Asia",
          "country": "Vietnam",
          "gdpPercap": 707.2357863,
          "lifeExp": 58.816,
          "pop": 56142181,
          "year": 1982
         },
         {
          "continent": "Asia",
          "country": "Vietnam",
          "gdpPercap": 820.7994449,
          "lifeExp": 62.82,
          "pop": 62826491,
          "year": 1987
         },
         {
          "continent": "Asia",
          "country": "Vietnam",
          "gdpPercap": 989.0231487,
          "lifeExp": 67.66199999999999,
          "pop": 69940728,
          "year": 1992
         },
         {
          "continent": "Asia",
          "country": "Vietnam",
          "gdpPercap": 1385.896769,
          "lifeExp": 70.672,
          "pop": 76048996,
          "year": 1997
         },
         {
          "continent": "Asia",
          "country": "Vietnam",
          "gdpPercap": 1764.456677,
          "lifeExp": 73.017,
          "pop": 80908147,
          "year": 2002
         },
         {
          "continent": "Asia",
          "country": "Vietnam",
          "gdpPercap": 2441.576404,
          "lifeExp": 74.249,
          "pop": 85262356,
          "year": 2007
         },
         {
          "continent": "Asia",
          "country": "West Bank and Gaza",
          "gdpPercap": 1515.5923289999998,
          "lifeExp": 43.16,
          "pop": 1030585,
          "year": 1952
         },
         {
          "continent": "Asia",
          "country": "West Bank and Gaza",
          "gdpPercap": 1827.0677420000002,
          "lifeExp": 45.67100000000001,
          "pop": 1070439,
          "year": 1957
         },
         {
          "continent": "Asia",
          "country": "West Bank and Gaza",
          "gdpPercap": 2198.9563120000003,
          "lifeExp": 48.126999999999995,
          "pop": 1133134,
          "year": 1962
         },
         {
          "continent": "Asia",
          "country": "West Bank and Gaza",
          "gdpPercap": 2649.7150070000002,
          "lifeExp": 51.631,
          "pop": 1142636,
          "year": 1967
         },
         {
          "continent": "Asia",
          "country": "West Bank and Gaza",
          "gdpPercap": 3133.4092769999997,
          "lifeExp": 56.532,
          "pop": 1089572,
          "year": 1972
         },
         {
          "continent": "Asia",
          "country": "West Bank and Gaza",
          "gdpPercap": 3682.8314939999996,
          "lifeExp": 60.765,
          "pop": 1261091,
          "year": 1977
         },
         {
          "continent": "Asia",
          "country": "West Bank and Gaza",
          "gdpPercap": 4336.032082,
          "lifeExp": 64.406,
          "pop": 1425876,
          "year": 1982
         },
         {
          "continent": "Asia",
          "country": "West Bank and Gaza",
          "gdpPercap": 5107.197384,
          "lifeExp": 67.046,
          "pop": 1691210,
          "year": 1987
         },
         {
          "continent": "Asia",
          "country": "West Bank and Gaza",
          "gdpPercap": 6017.654756,
          "lifeExp": 69.718,
          "pop": 2104779,
          "year": 1992
         },
         {
          "continent": "Asia",
          "country": "West Bank and Gaza",
          "gdpPercap": 7110.667619,
          "lifeExp": 71.096,
          "pop": 2826046,
          "year": 1997
         },
         {
          "continent": "Asia",
          "country": "West Bank and Gaza",
          "gdpPercap": 4515.487575,
          "lifeExp": 72.37,
          "pop": 3389578,
          "year": 2002
         },
         {
          "continent": "Asia",
          "country": "West Bank and Gaza",
          "gdpPercap": 3025.349798,
          "lifeExp": 73.422,
          "pop": 4018332,
          "year": 2007
         },
         {
          "continent": "Asia",
          "country": "Yemen, Rep.",
          "gdpPercap": 781.7175761,
          "lifeExp": 32.548,
          "pop": 4963829,
          "year": 1952
         },
         {
          "continent": "Asia",
          "country": "Yemen, Rep.",
          "gdpPercap": 804.8304547,
          "lifeExp": 33.97,
          "pop": 5498090,
          "year": 1957
         },
         {
          "continent": "Asia",
          "country": "Yemen, Rep.",
          "gdpPercap": 825.6232006,
          "lifeExp": 35.18,
          "pop": 6120081,
          "year": 1962
         },
         {
          "continent": "Asia",
          "country": "Yemen, Rep.",
          "gdpPercap": 862.4421463,
          "lifeExp": 36.984,
          "pop": 6740785,
          "year": 1967
         },
         {
          "continent": "Asia",
          "country": "Yemen, Rep.",
          "gdpPercap": 1265.047031,
          "lifeExp": 39.848,
          "pop": 7407075,
          "year": 1972
         },
         {
          "continent": "Asia",
          "country": "Yemen, Rep.",
          "gdpPercap": 1829.765177,
          "lifeExp": 44.175,
          "pop": 8403990,
          "year": 1977
         },
         {
          "continent": "Asia",
          "country": "Yemen, Rep.",
          "gdpPercap": 1977.5570100000002,
          "lifeExp": 49.113,
          "pop": 9657618,
          "year": 1982
         },
         {
          "continent": "Asia",
          "country": "Yemen, Rep.",
          "gdpPercap": 1971.741538,
          "lifeExp": 52.922,
          "pop": 11219340,
          "year": 1987
         },
         {
          "continent": "Asia",
          "country": "Yemen, Rep.",
          "gdpPercap": 1879.496673,
          "lifeExp": 55.599,
          "pop": 13367997,
          "year": 1992
         },
         {
          "continent": "Asia",
          "country": "Yemen, Rep.",
          "gdpPercap": 2117.484526,
          "lifeExp": 58.02,
          "pop": 15826497,
          "year": 1997
         },
         {
          "continent": "Asia",
          "country": "Yemen, Rep.",
          "gdpPercap": 2234.820827,
          "lifeExp": 60.308,
          "pop": 18701257,
          "year": 2002
         },
         {
          "continent": "Asia",
          "country": "Yemen, Rep.",
          "gdpPercap": 2280.769906,
          "lifeExp": 62.698,
          "pop": 22211743,
          "year": 2007
         },
         {
          "continent": "Africa",
          "country": "Zambia",
          "gdpPercap": 1147.388831,
          "lifeExp": 42.038000000000004,
          "pop": 2672000,
          "year": 1952
         },
         {
          "continent": "Africa",
          "country": "Zambia",
          "gdpPercap": 1311.956766,
          "lifeExp": 44.077,
          "pop": 3016000,
          "year": 1957
         },
         {
          "continent": "Africa",
          "country": "Zambia",
          "gdpPercap": 1452.725766,
          "lifeExp": 46.023,
          "pop": 3421000,
          "year": 1962
         },
         {
          "continent": "Africa",
          "country": "Zambia",
          "gdpPercap": 1777.0773179999999,
          "lifeExp": 47.768,
          "pop": 3900000,
          "year": 1967
         },
         {
          "continent": "Africa",
          "country": "Zambia",
          "gdpPercap": 1773.498265,
          "lifeExp": 50.107,
          "pop": 4506497,
          "year": 1972
         },
         {
          "continent": "Africa",
          "country": "Zambia",
          "gdpPercap": 1588.688299,
          "lifeExp": 51.386,
          "pop": 5216550,
          "year": 1977
         },
         {
          "continent": "Africa",
          "country": "Zambia",
          "gdpPercap": 1408.678565,
          "lifeExp": 51.821000000000005,
          "pop": 6100407,
          "year": 1982
         },
         {
          "continent": "Africa",
          "country": "Zambia",
          "gdpPercap": 1213.315116,
          "lifeExp": 50.821000000000005,
          "pop": 7272406,
          "year": 1987
         },
         {
          "continent": "Africa",
          "country": "Zambia",
          "gdpPercap": 1210.884633,
          "lifeExp": 46.1,
          "pop": 8381163,
          "year": 1992
         },
         {
          "continent": "Africa",
          "country": "Zambia",
          "gdpPercap": 1071.353818,
          "lifeExp": 40.238,
          "pop": 9417789,
          "year": 1997
         },
         {
          "continent": "Africa",
          "country": "Zambia",
          "gdpPercap": 1071.6139380000002,
          "lifeExp": 39.193000000000005,
          "pop": 10595811,
          "year": 2002
         },
         {
          "continent": "Africa",
          "country": "Zambia",
          "gdpPercap": 1271.211593,
          "lifeExp": 42.38399999999999,
          "pop": 11746035,
          "year": 2007
         },
         {
          "continent": "Africa",
          "country": "Zimbabwe",
          "gdpPercap": 406.8841148,
          "lifeExp": 48.451,
          "pop": 3080907,
          "year": 1952
         },
         {
          "continent": "Africa",
          "country": "Zimbabwe",
          "gdpPercap": 518.7642681,
          "lifeExp": 50.468999999999994,
          "pop": 3646340,
          "year": 1957
         },
         {
          "continent": "Africa",
          "country": "Zimbabwe",
          "gdpPercap": 527.2721818,
          "lifeExp": 52.358000000000004,
          "pop": 4277736,
          "year": 1962
         },
         {
          "continent": "Africa",
          "country": "Zimbabwe",
          "gdpPercap": 569.7950712,
          "lifeExp": 53.995,
          "pop": 4995432,
          "year": 1967
         },
         {
          "continent": "Africa",
          "country": "Zimbabwe",
          "gdpPercap": 799.3621757999999,
          "lifeExp": 55.635,
          "pop": 5861135,
          "year": 1972
         },
         {
          "continent": "Africa",
          "country": "Zimbabwe",
          "gdpPercap": 685.5876821,
          "lifeExp": 57.674,
          "pop": 6642107,
          "year": 1977
         },
         {
          "continent": "Africa",
          "country": "Zimbabwe",
          "gdpPercap": 788.8550411,
          "lifeExp": 60.363,
          "pop": 7636524,
          "year": 1982
         },
         {
          "continent": "Africa",
          "country": "Zimbabwe",
          "gdpPercap": 706.1573059,
          "lifeExp": 62.351000000000006,
          "pop": 9216418,
          "year": 1987
         },
         {
          "continent": "Africa",
          "country": "Zimbabwe",
          "gdpPercap": 693.4207856,
          "lifeExp": 60.376999999999995,
          "pop": 10704340,
          "year": 1992
         },
         {
          "continent": "Africa",
          "country": "Zimbabwe",
          "gdpPercap": 792.4499602999999,
          "lifeExp": 46.809,
          "pop": 11404948,
          "year": 1997
         },
         {
          "continent": "Africa",
          "country": "Zimbabwe",
          "gdpPercap": 672.0386227000001,
          "lifeExp": 39.989000000000004,
          "pop": 11926563,
          "year": 2002
         },
         {
          "continent": "Africa",
          "country": "Zimbabwe",
          "gdpPercap": 469.70929810000007,
          "lifeExp": 43.486999999999995,
          "pop": 12311143,
          "year": 2007
         }
        ]
       },
       "encoding": {
        "color": {
         "field": "continent",
         "type": "nominal"
        },
        "x": {
         "field": "year",
         "timeUnit": "year",
         "type": "temporal"
        },
        "y": {
         "aggregate": "mean",
         "field": "lifeExp",
         "type": "quantitative"
        }
       },
       "mark": "line"
      },
      "image/png": "[encoded data removed]",
      "text/plain": [
       "<altair.VegaLite object>"
      ]
     },
     "execution_count": 4,
     "metadata": {},
     "output_type": "execute_result"
    }
   ],
   "source": [
    "alt.Chart(data).mark_line().encode(\n",
    "    alt.X('year:T', timeUnit = 'year'),\n",
    "    alt.Y('mean(lifeExp)'),\n",
    "    alt.Color('continent:N')\n",
    ")"
   ]
  },
  {
   "cell_type": "markdown",
   "metadata": {},
   "source": [
    "## Filter years"
   ]
  },
  {
   "cell_type": "markdown",
   "metadata": {},
   "source": [
    "Show the unique values in the `year` column:"
   ]
  },
  {
   "cell_type": "code",
   "execution_count": 5,
   "metadata": {
    "deletable": false,
    "nbgrader": {
     "checksum": "1f025210913575de65439785adbe732d",
     "grade": true,
     "grade_id": "cell-e09276022d6711ab",
     "locked": false,
     "points": 2,
     "schema_version": 1,
     "solution": true
    }
   },
   "outputs": [
    {
     "data": {
      "text/plain": [
       "array([1952, 1957, 1962, 1967, 1972, 1977, 1982, 1987, 1992, 1997, 2002,\n",
       "       2007])"
      ]
     },
     "execution_count": 5,
     "metadata": {},
     "output_type": "execute_result"
    }
   ],
   "source": [
    "data['year'].unique()"
   ]
  },
  {
   "cell_type": "markdown",
   "metadata": {},
   "source": [
    "Create a new `DataFrame` named `first_last` containing only the rows with the first or last years:"
   ]
  },
  {
   "cell_type": "code",
   "execution_count": 6,
   "metadata": {
    "deletable": false,
    "nbgrader": {
     "checksum": "3e49bb1b9dd786a57f9122a25e50be49",
     "grade": false,
     "grade_id": "cell-88434ac189a17cd3",
     "locked": false,
     "schema_version": 1,
     "solution": true
    }
   },
   "outputs": [],
   "source": [
    "firstYear = data['year'].unique()[0]\n",
    "lastYear = data['year'].unique()[-1]\n",
    "first_last = pd.DataFrame(data[(data['year']==firstYear) | (data['year']==lastYear)])"
   ]
  },
  {
   "cell_type": "code",
   "execution_count": 7,
   "metadata": {
    "deletable": false,
    "editable": false,
    "nbgrader": {
     "checksum": "d8f69d2a57eba60489552b0a75f6f27f",
     "grade": false,
     "grade_id": "cell-e4e54d87564e1929",
     "locked": true,
     "schema_version": 1,
     "solution": false
    }
   },
   "outputs": [
    {
     "data": {
      "text/html": [
       "<div>\n",
       "<style scoped>\n",
       "    .dataframe tbody tr th:only-of-type {\n",
       "        vertical-align: middle;\n",
       "    }\n",
       "\n",
       "    .dataframe tbody tr th {\n",
       "        vertical-align: top;\n",
       "    }\n",
       "\n",
       "    .dataframe thead th {\n",
       "        text-align: right;\n",
       "    }\n",
       "</style>\n",
       "<table border=\"1\" class=\"dataframe\">\n",
       "  <thead>\n",
       "    <tr style=\"text-align: right;\">\n",
       "      <th></th>\n",
       "      <th>country</th>\n",
       "      <th>continent</th>\n",
       "      <th>year</th>\n",
       "      <th>lifeExp</th>\n",
       "      <th>pop</th>\n",
       "      <th>gdpPercap</th>\n",
       "    </tr>\n",
       "  </thead>\n",
       "  <tbody>\n",
       "    <tr>\n",
       "      <th>0</th>\n",
       "      <td>Afghanistan</td>\n",
       "      <td>Asia</td>\n",
       "      <td>1952</td>\n",
       "      <td>28.801</td>\n",
       "      <td>8425333</td>\n",
       "      <td>779.445314</td>\n",
       "    </tr>\n",
       "    <tr>\n",
       "      <th>11</th>\n",
       "      <td>Afghanistan</td>\n",
       "      <td>Asia</td>\n",
       "      <td>2007</td>\n",
       "      <td>43.828</td>\n",
       "      <td>31889923</td>\n",
       "      <td>974.580338</td>\n",
       "    </tr>\n",
       "    <tr>\n",
       "      <th>12</th>\n",
       "      <td>Albania</td>\n",
       "      <td>Europe</td>\n",
       "      <td>1952</td>\n",
       "      <td>55.230</td>\n",
       "      <td>1282697</td>\n",
       "      <td>1601.056136</td>\n",
       "    </tr>\n",
       "    <tr>\n",
       "      <th>23</th>\n",
       "      <td>Albania</td>\n",
       "      <td>Europe</td>\n",
       "      <td>2007</td>\n",
       "      <td>76.423</td>\n",
       "      <td>3600523</td>\n",
       "      <td>5937.029526</td>\n",
       "    </tr>\n",
       "    <tr>\n",
       "      <th>24</th>\n",
       "      <td>Algeria</td>\n",
       "      <td>Africa</td>\n",
       "      <td>1952</td>\n",
       "      <td>43.077</td>\n",
       "      <td>9279525</td>\n",
       "      <td>2449.008185</td>\n",
       "    </tr>\n",
       "  </tbody>\n",
       "</table>\n",
       "</div>"
      ],
      "text/plain": [
       "        country continent  year  lifeExp       pop    gdpPercap\n",
       "0   Afghanistan      Asia  1952   28.801   8425333   779.445314\n",
       "11  Afghanistan      Asia  2007   43.828  31889923   974.580338\n",
       "12      Albania    Europe  1952   55.230   1282697  1601.056136\n",
       "23      Albania    Europe  2007   76.423   3600523  5937.029526\n",
       "24      Algeria    Africa  1952   43.077   9279525  2449.008185"
      ]
     },
     "execution_count": 7,
     "metadata": {},
     "output_type": "execute_result"
    }
   ],
   "source": [
    "first_last.head()"
   ]
  },
  {
   "cell_type": "code",
   "execution_count": 8,
   "metadata": {
    "deletable": false,
    "editable": false,
    "nbgrader": {
     "checksum": "c71bfda2464f10353ede3f2fa9affd4c",
     "grade": true,
     "grade_id": "cell-7f2b781769e3e6c6",
     "locked": true,
     "points": 2,
     "schema_version": 1,
     "solution": false
    }
   },
   "outputs": [],
   "source": [
    "assert len(first_last)==284"
   ]
  },
  {
   "cell_type": "markdown",
   "metadata": {},
   "source": [
    "## Tick chart of life expectancy by continent"
   ]
  },
  {
   "cell_type": "markdown",
   "metadata": {},
   "source": [
    "Create an `alt.Chart` with Altair to explore the distribution of life expectancy, grouped by continent:\n",
    "\n",
    "* Use the filtered dataset `first_last`.\n",
    "* Use a tick mark.\n",
    "* Encode `lifeExp` as the x position.\n",
    "* Encode `continent` as the y position with a nominal datatype.\n",
    "* Encode `year` as the color with a nominal datatype."
   ]
  },
  {
   "cell_type": "code",
   "execution_count": 9,
   "metadata": {
    "deletable": false,
    "nbgrader": {
     "checksum": "4a0c2310c81e8ee5af8e6c407a0b87c0",
     "grade": true,
     "grade_id": "cell-c7197115416be5e7",
     "locked": false,
     "points": 4,
     "schema_version": 1,
     "solution": true
    }
   },
   "outputs": [
    {
     "data": {
      "application/vnd.vegalite.v1+json": {
       "$schema": "https://vega.github.io/schema/vega-lite/v1.2.1.json",
       "data": {
        "values": [
         {
          "continent": "Asia",
          "country": "Afghanistan",
          "gdpPercap": 779.4453145,
          "lifeExp": 28.801,
          "pop": 8425333,
          "year": 1952
         },
         {
          "continent": "Asia",
          "country": "Afghanistan",
          "gdpPercap": 974.5803384,
          "lifeExp": 43.828,
          "pop": 31889923,
          "year": 2007
         },
         {
          "continent": "Europe",
          "country": "Albania",
          "gdpPercap": 1601.056136,
          "lifeExp": 55.23,
          "pop": 1282697,
          "year": 1952
         },
         {
          "continent": "Europe",
          "country": "Albania",
          "gdpPercap": 5937.029525999999,
          "lifeExp": 76.423,
          "pop": 3600523,
          "year": 2007
         },
         {
          "continent": "Africa",
          "country": "Algeria",
          "gdpPercap": 2449.008185,
          "lifeExp": 43.077,
          "pop": 9279525,
          "year": 1952
         },
         {
          "continent": "Africa",
          "country": "Algeria",
          "gdpPercap": 6223.367465,
          "lifeExp": 72.301,
          "pop": 33333216,
          "year": 2007
         },
         {
          "continent": "Africa",
          "country": "Angola",
          "gdpPercap": 3520.610273,
          "lifeExp": 30.015,
          "pop": 4232095,
          "year": 1952
         },
         {
          "continent": "Africa",
          "country": "Angola",
          "gdpPercap": 4797.231267,
          "lifeExp": 42.731,
          "pop": 12420476,
          "year": 2007
         },
         {
          "continent": "Americas",
          "country": "Argentina",
          "gdpPercap": 5911.315053,
          "lifeExp": 62.485,
          "pop": 17876956,
          "year": 1952
         },
         {
          "continent": "Americas",
          "country": "Argentina",
          "gdpPercap": 12779.379640000001,
          "lifeExp": 75.32,
          "pop": 40301927,
          "year": 2007
         },
         {
          "continent": "Oceania",
          "country": "Australia",
          "gdpPercap": 10039.595640000001,
          "lifeExp": 69.12,
          "pop": 8691212,
          "year": 1952
         },
         {
          "continent": "Oceania",
          "country": "Australia",
          "gdpPercap": 34435.367439999995,
          "lifeExp": 81.235,
          "pop": 20434176,
          "year": 2007
         },
         {
          "continent": "Europe",
          "country": "Austria",
          "gdpPercap": 6137.076492,
          "lifeExp": 66.8,
          "pop": 6927772,
          "year": 1952
         },
         {
          "continent": "Europe",
          "country": "Austria",
          "gdpPercap": 36126.4927,
          "lifeExp": 79.829,
          "pop": 8199783,
          "year": 2007
         },
         {
          "continent": "Asia",
          "country": "Bahrain",
          "gdpPercap": 9867.084765000001,
          "lifeExp": 50.93899999999999,
          "pop": 120447,
          "year": 1952
         },
         {
          "continent": "Asia",
          "country": "Bahrain",
          "gdpPercap": 29796.048339999998,
          "lifeExp": 75.635,
          "pop": 708573,
          "year": 2007
         },
         {
          "continent": "Asia",
          "country": "Bangladesh",
          "gdpPercap": 684.2441716,
          "lifeExp": 37.484,
          "pop": 46886859,
          "year": 1952
         },
         {
          "continent": "Asia",
          "country": "Bangladesh",
          "gdpPercap": 1391.253792,
          "lifeExp": 64.062,
          "pop": 150448339,
          "year": 2007
         },
         {
          "continent": "Europe",
          "country": "Belgium",
          "gdpPercap": 8343.105126999999,
          "lifeExp": 68,
          "pop": 8730405,
          "year": 1952
         },
         {
          "continent": "Europe",
          "country": "Belgium",
          "gdpPercap": 33692.60508,
          "lifeExp": 79.441,
          "pop": 10392226,
          "year": 2007
         },
         {
          "continent": "Africa",
          "country": "Benin",
          "gdpPercap": 1062.7522,
          "lifeExp": 38.223,
          "pop": 1738315,
          "year": 1952
         },
         {
          "continent": "Africa",
          "country": "Benin",
          "gdpPercap": 1441.284873,
          "lifeExp": 56.728,
          "pop": 8078314,
          "year": 2007
         },
         {
          "continent": "Americas",
          "country": "Bolivia",
          "gdpPercap": 2677.3263469999997,
          "lifeExp": 40.414,
          "pop": 2883315,
          "year": 1952
         },
         {
          "continent": "Americas",
          "country": "Bolivia",
          "gdpPercap": 3822.1370840000004,
          "lifeExp": 65.554,
          "pop": 9119152,
          "year": 2007
         },
         {
          "continent": "Europe",
          "country": "Bosnia and Herzegovina",
          "gdpPercap": 973.5331947999999,
          "lifeExp": 53.82,
          "pop": 2791000,
          "year": 1952
         },
         {
          "continent": "Europe",
          "country": "Bosnia and Herzegovina",
          "gdpPercap": 7446.298803,
          "lifeExp": 74.852,
          "pop": 4552198,
          "year": 2007
         },
         {
          "continent": "Africa",
          "country": "Botswana",
          "gdpPercap": 851.2411407,
          "lifeExp": 47.622,
          "pop": 442308,
          "year": 1952
         },
         {
          "continent": "Africa",
          "country": "Botswana",
          "gdpPercap": 12569.851770000001,
          "lifeExp": 50.728,
          "pop": 1639131,
          "year": 2007
         },
         {
          "continent": "Americas",
          "country": "Brazil",
          "gdpPercap": 2108.944355,
          "lifeExp": 50.917,
          "pop": 56602560,
          "year": 1952
         },
         {
          "continent": "Americas",
          "country": "Brazil",
          "gdpPercap": 9065.800825,
          "lifeExp": 72.39,
          "pop": 190010647,
          "year": 2007
         },
         {
          "continent": "Europe",
          "country": "Bulgaria",
          "gdpPercap": 2444.2866480000002,
          "lifeExp": 59.6,
          "pop": 7274900,
          "year": 1952
         },
         {
          "continent": "Europe",
          "country": "Bulgaria",
          "gdpPercap": 10680.79282,
          "lifeExp": 73.005,
          "pop": 7322858,
          "year": 2007
         },
         {
          "continent": "Africa",
          "country": "Burkina Faso",
          "gdpPercap": 543.2552413,
          "lifeExp": 31.975,
          "pop": 4469979,
          "year": 1952
         },
         {
          "continent": "Africa",
          "country": "Burkina Faso",
          "gdpPercap": 1217.032994,
          "lifeExp": 52.295,
          "pop": 14326203,
          "year": 2007
         },
         {
          "continent": "Africa",
          "country": "Burundi",
          "gdpPercap": 339.29645869999996,
          "lifeExp": 39.031,
          "pop": 2445618,
          "year": 1952
         },
         {
          "continent": "Africa",
          "country": "Burundi",
          "gdpPercap": 430.07069160000003,
          "lifeExp": 49.58,
          "pop": 8390505,
          "year": 2007
         },
         {
          "continent": "Asia",
          "country": "Cambodia",
          "gdpPercap": 368.46928560000003,
          "lifeExp": 39.417,
          "pop": 4693836,
          "year": 1952
         },
         {
          "continent": "Asia",
          "country": "Cambodia",
          "gdpPercap": 1713.7786859999999,
          "lifeExp": 59.723,
          "pop": 14131858,
          "year": 2007
         },
         {
          "continent": "Africa",
          "country": "Cameroon",
          "gdpPercap": 1172.667655,
          "lifeExp": 38.523,
          "pop": 5009067,
          "year": 1952
         },
         {
          "continent": "Africa",
          "country": "Cameroon",
          "gdpPercap": 2042.0952399999999,
          "lifeExp": 50.43,
          "pop": 17696293,
          "year": 2007
         },
         {
          "continent": "Americas",
          "country": "Canada",
          "gdpPercap": 11367.16112,
          "lifeExp": 68.75,
          "pop": 14785584,
          "year": 1952
         },
         {
          "continent": "Americas",
          "country": "Canada",
          "gdpPercap": 36319.235010000004,
          "lifeExp": 80.653,
          "pop": 33390141,
          "year": 2007
         },
         {
          "continent": "Africa",
          "country": "Central African Republic",
          "gdpPercap": 1071.310713,
          "lifeExp": 35.463,
          "pop": 1291695,
          "year": 1952
         },
         {
          "continent": "Africa",
          "country": "Central African Republic",
          "gdpPercap": 706.016537,
          "lifeExp": 44.74100000000001,
          "pop": 4369038,
          "year": 2007
         },
         {
          "continent": "Africa",
          "country": "Chad",
          "gdpPercap": 1178.665927,
          "lifeExp": 38.092,
          "pop": 2682462,
          "year": 1952
         },
         {
          "continent": "Africa",
          "country": "Chad",
          "gdpPercap": 1704.0637239999999,
          "lifeExp": 50.651,
          "pop": 10238807,
          "year": 2007
         },
         {
          "continent": "Americas",
          "country": "Chile",
          "gdpPercap": 3939.9787890000002,
          "lifeExp": 54.745,
          "pop": 6377619,
          "year": 1952
         },
         {
          "continent": "Americas",
          "country": "Chile",
          "gdpPercap": 13171.63885,
          "lifeExp": 78.553,
          "pop": 16284741,
          "year": 2007
         },
         {
          "continent": "Asia",
          "country": "China",
          "gdpPercap": 400.44861099999997,
          "lifeExp": 44,
          "pop": 556263527,
          "year": 1952
         },
         {
          "continent": "Asia",
          "country": "China",
          "gdpPercap": 4959.1148539999995,
          "lifeExp": 72.961,
          "pop": 1318683096,
          "year": 2007
         },
         {
          "continent": "Americas",
          "country": "Colombia",
          "gdpPercap": 2144.115096,
          "lifeExp": 50.643,
          "pop": 12350771,
          "year": 1952
         },
         {
          "continent": "Americas",
          "country": "Colombia",
          "gdpPercap": 7006.580419,
          "lifeExp": 72.889,
          "pop": 44227550,
          "year": 2007
         },
         {
          "continent": "Africa",
          "country": "Comoros",
          "gdpPercap": 1102.990936,
          "lifeExp": 40.715,
          "pop": 153936,
          "year": 1952
         },
         {
          "continent": "Africa",
          "country": "Comoros",
          "gdpPercap": 986.1478792000001,
          "lifeExp": 65.152,
          "pop": 710960,
          "year": 2007
         },
         {
          "continent": "Africa",
          "country": "Congo, Dem. Rep.",
          "gdpPercap": 780.5423257,
          "lifeExp": 39.143,
          "pop": 14100005,
          "year": 1952
         },
         {
          "continent": "Africa",
          "country": "Congo, Dem. Rep.",
          "gdpPercap": 277.55185869999997,
          "lifeExp": 46.461999999999996,
          "pop": 64606759,
          "year": 2007
         },
         {
          "continent": "Africa",
          "country": "Congo, Rep.",
          "gdpPercap": 2125.621418,
          "lifeExp": 42.111000000000004,
          "pop": 854885,
          "year": 1952
         },
         {
          "continent": "Africa",
          "country": "Congo, Rep.",
          "gdpPercap": 3632.557798,
          "lifeExp": 55.321999999999996,
          "pop": 3800610,
          "year": 2007
         },
         {
          "continent": "Americas",
          "country": "Costa Rica",
          "gdpPercap": 2627.0094710000003,
          "lifeExp": 57.206,
          "pop": 926317,
          "year": 1952
         },
         {
          "continent": "Americas",
          "country": "Costa Rica",
          "gdpPercap": 9645.06142,
          "lifeExp": 78.782,
          "pop": 4133884,
          "year": 2007
         },
         {
          "continent": "Africa",
          "country": "Cote d'Ivoire",
          "gdpPercap": 1388.594732,
          "lifeExp": 40.477,
          "pop": 2977019,
          "year": 1952
         },
         {
          "continent": "Africa",
          "country": "Cote d'Ivoire",
          "gdpPercap": 1544.750112,
          "lifeExp": 48.328,
          "pop": 18013409,
          "year": 2007
         },
         {
          "continent": "Europe",
          "country": "Croatia",
          "gdpPercap": 3119.23652,
          "lifeExp": 61.21,
          "pop": 3882229,
          "year": 1952
         },
         {
          "continent": "Europe",
          "country": "Croatia",
          "gdpPercap": 14619.222719999998,
          "lifeExp": 75.748,
          "pop": 4493312,
          "year": 2007
         },
         {
          "continent": "Americas",
          "country": "Cuba",
          "gdpPercap": 5586.53878,
          "lifeExp": 59.42100000000001,
          "pop": 6007797,
          "year": 1952
         },
         {
          "continent": "Americas",
          "country": "Cuba",
          "gdpPercap": 8948.102923,
          "lifeExp": 78.273,
          "pop": 11416987,
          "year": 2007
         },
         {
          "continent": "Europe",
          "country": "Czech Republic",
          "gdpPercap": 6876.14025,
          "lifeExp": 66.87,
          "pop": 9125183,
          "year": 1952
         },
         {
          "continent": "Europe",
          "country": "Czech Republic",
          "gdpPercap": 22833.30851,
          "lifeExp": 76.486,
          "pop": 10228744,
          "year": 2007
         },
         {
          "continent": "Europe",
          "country": "Denmark",
          "gdpPercap": 9692.385245,
          "lifeExp": 70.78,
          "pop": 4334000,
          "year": 1952
         },
         {
          "continent": "Europe",
          "country": "Denmark",
          "gdpPercap": 35278.41874,
          "lifeExp": 78.332,
          "pop": 5468120,
          "year": 2007
         },
         {
          "continent": "Africa",
          "country": "Djibouti",
          "gdpPercap": 2669.529475,
          "lifeExp": 34.812,
          "pop": 63149,
          "year": 1952
         },
         {
          "continent": "Africa",
          "country": "Djibouti",
          "gdpPercap": 2082.4815670000003,
          "lifeExp": 54.791000000000004,
          "pop": 496374,
          "year": 2007
         },
         {
          "continent": "Americas",
          "country": "Dominican Republic",
          "gdpPercap": 1397.7171369999999,
          "lifeExp": 45.928000000000004,
          "pop": 2491346,
          "year": 1952
         },
         {
          "continent": "Americas",
          "country": "Dominican Republic",
          "gdpPercap": 6025.374752000001,
          "lifeExp": 72.235,
          "pop": 9319622,
          "year": 2007
         },
         {
          "continent": "Americas",
          "country": "Ecuador",
          "gdpPercap": 3522.110717,
          "lifeExp": 48.357,
          "pop": 3548753,
          "year": 1952
         },
         {
          "continent": "Americas",
          "country": "Ecuador",
          "gdpPercap": 6873.262326000001,
          "lifeExp": 74.994,
          "pop": 13755680,
          "year": 2007
         },
         {
          "continent": "Africa",
          "country": "Egypt",
          "gdpPercap": 1418.822445,
          "lifeExp": 41.893,
          "pop": 22223309,
          "year": 1952
         },
         {
          "continent": "Africa",
          "country": "Egypt",
          "gdpPercap": 5581.180998,
          "lifeExp": 71.33800000000001,
          "pop": 80264543,
          "year": 2007
         },
         {
          "continent": "Americas",
          "country": "El Salvador",
          "gdpPercap": 3048.3029,
          "lifeExp": 45.262,
          "pop": 2042865,
          "year": 1952
         },
         {
          "continent": "Americas",
          "country": "El Salvador",
          "gdpPercap": 5728.353514,
          "lifeExp": 71.878,
          "pop": 6939688,
          "year": 2007
         },
         {
          "continent": "Africa",
          "country": "Equatorial Guinea",
          "gdpPercap": 375.6431231,
          "lifeExp": 34.482,
          "pop": 216964,
          "year": 1952
         },
         {
          "continent": "Africa",
          "country": "Equatorial Guinea",
          "gdpPercap": 12154.08975,
          "lifeExp": 51.57899999999999,
          "pop": 551201,
          "year": 2007
         },
         {
          "continent": "Africa",
          "country": "Eritrea",
          "gdpPercap": 328.94055710000004,
          "lifeExp": 35.928000000000004,
          "pop": 1438760,
          "year": 1952
         },
         {
          "continent": "Africa",
          "country": "Eritrea",
          "gdpPercap": 641.3695236000001,
          "lifeExp": 58.04,
          "pop": 4906585,
          "year": 2007
         },
         {
          "continent": "Africa",
          "country": "Ethiopia",
          "gdpPercap": 362.1462796,
          "lifeExp": 34.078,
          "pop": 20860941,
          "year": 1952
         },
         {
          "continent": "Africa",
          "country": "Ethiopia",
          "gdpPercap": 690.8055759,
          "lifeExp": 52.946999999999996,
          "pop": 76511887,
          "year": 2007
         },
         {
          "continent": "Europe",
          "country": "Finland",
          "gdpPercap": 6424.519071,
          "lifeExp": 66.55,
          "pop": 4090500,
          "year": 1952
         },
         {
          "continent": "Europe",
          "country": "Finland",
          "gdpPercap": 33207.0844,
          "lifeExp": 79.313,
          "pop": 5238460,
          "year": 2007
         },
         {
          "continent": "Europe",
          "country": "France",
          "gdpPercap": 7029.809327,
          "lifeExp": 67.41,
          "pop": 42459667,
          "year": 1952
         },
         {
          "continent": "Europe",
          "country": "France",
          "gdpPercap": 30470.0167,
          "lifeExp": 80.657,
          "pop": 61083916,
          "year": 2007
         },
         {
          "continent": "Africa",
          "country": "Gabon",
          "gdpPercap": 4293.476475,
          "lifeExp": 37.003,
          "pop": 420702,
          "year": 1952
         },
         {
          "continent": "Africa",
          "country": "Gabon",
          "gdpPercap": 13206.48452,
          "lifeExp": 56.735,
          "pop": 1454867,
          "year": 2007
         },
         {
          "continent": "Africa",
          "country": "Gambia",
          "gdpPercap": 485.2306591,
          "lifeExp": 30,
          "pop": 284320,
          "year": 1952
         },
         {
          "continent": "Africa",
          "country": "Gambia",
          "gdpPercap": 752.7497265,
          "lifeExp": 59.448,
          "pop": 1688359,
          "year": 2007
         },
         {
          "continent": "Europe",
          "country": "Germany",
          "gdpPercap": 7144.114393000001,
          "lifeExp": 67.5,
          "pop": 69145952,
          "year": 1952
         },
         {
          "continent": "Europe",
          "country": "Germany",
          "gdpPercap": 32170.37442,
          "lifeExp": 79.406,
          "pop": 82400996,
          "year": 2007
         },
         {
          "continent": "Africa",
          "country": "Ghana",
          "gdpPercap": 911.2989371,
          "lifeExp": 43.148999999999994,
          "pop": 5581001,
          "year": 1952
         },
         {
          "continent": "Africa",
          "country": "Ghana",
          "gdpPercap": 1327.60891,
          "lifeExp": 60.022,
          "pop": 22873338,
          "year": 2007
         },
         {
          "continent": "Europe",
          "country": "Greece",
          "gdpPercap": 3530.690067,
          "lifeExp": 65.86,
          "pop": 7733250,
          "year": 1952
         },
         {
          "continent": "Europe",
          "country": "Greece",
          "gdpPercap": 27538.41188,
          "lifeExp": 79.483,
          "pop": 10706290,
          "year": 2007
         },
         {
          "continent": "Americas",
          "country": "Guatemala",
          "gdpPercap": 2428.2377690000003,
          "lifeExp": 42.023,
          "pop": 3146381,
          "year": 1952
         },
         {
          "continent": "Americas",
          "country": "Guatemala",
          "gdpPercap": 5186.050003,
          "lifeExp": 70.259,
          "pop": 12572928,
          "year": 2007
         },
         {
          "continent": "Africa",
          "country": "Guinea",
          "gdpPercap": 510.19649230000005,
          "lifeExp": 33.609,
          "pop": 2664249,
          "year": 1952
         },
         {
          "continent": "Africa",
          "country": "Guinea",
          "gdpPercap": 942.6542111,
          "lifeExp": 56.007,
          "pop": 9947814,
          "year": 2007
         },
         {
          "continent": "Africa",
          "country": "Guinea-Bissau",
          "gdpPercap": 299.850319,
          "lifeExp": 32.5,
          "pop": 580653,
          "year": 1952
         },
         {
          "continent": "Africa",
          "country": "Guinea-Bissau",
          "gdpPercap": 579.2317429999999,
          "lifeExp": 46.388000000000005,
          "pop": 1472041,
          "year": 2007
         },
         {
          "continent": "Americas",
          "country": "Haiti",
          "gdpPercap": 1840.366939,
          "lifeExp": 37.579,
          "pop": 3201488,
          "year": 1952
         },
         {
          "continent": "Americas",
          "country": "Haiti",
          "gdpPercap": 1201.637154,
          "lifeExp": 60.916000000000004,
          "pop": 8502814,
          "year": 2007
         },
         {
          "continent": "Americas",
          "country": "Honduras",
          "gdpPercap": 2194.926204,
          "lifeExp": 41.912,
          "pop": 1517453,
          "year": 1952
         },
         {
          "continent": "Americas",
          "country": "Honduras",
          "gdpPercap": 3548.3308460000003,
          "lifeExp": 70.19800000000001,
          "pop": 7483763,
          "year": 2007
         },
         {
          "continent": "Asia",
          "country": "Hong Kong, China",
          "gdpPercap": 3054.421209,
          "lifeExp": 60.96,
          "pop": 2125900,
          "year": 1952
         },
         {
          "continent": "Asia",
          "country": "Hong Kong, China",
          "gdpPercap": 39724.97867,
          "lifeExp": 82.208,
          "pop": 6980412,
          "year": 2007
         },
         {
          "continent": "Europe",
          "country": "Hungary",
          "gdpPercap": 5263.6738159999995,
          "lifeExp": 64.03,
          "pop": 9504000,
          "year": 1952
         },
         {
          "continent": "Europe",
          "country": "Hungary",
          "gdpPercap": 18008.94444,
          "lifeExp": 73.33800000000001,
          "pop": 9956108,
          "year": 2007
         },
         {
          "continent": "Europe",
          "country": "Iceland",
          "gdpPercap": 7267.688428,
          "lifeExp": 72.49,
          "pop": 147962,
          "year": 1952
         },
         {
          "continent": "Europe",
          "country": "Iceland",
          "gdpPercap": 36180.789189999996,
          "lifeExp": 81.757,
          "pop": 301931,
          "year": 2007
         },
         {
          "continent": "Asia",
          "country": "India",
          "gdpPercap": 546.5657493,
          "lifeExp": 37.373000000000005,
          "pop": 372000000,
          "year": 1952
         },
         {
          "continent": "Asia",
          "country": "India",
          "gdpPercap": 2452.210407,
          "lifeExp": 64.69800000000001,
          "pop": 1110396331,
          "year": 2007
         },
         {
          "continent": "Asia",
          "country": "Indonesia",
          "gdpPercap": 749.6816546,
          "lifeExp": 37.468,
          "pop": 82052000,
          "year": 1952
         },
         {
          "continent": "Asia",
          "country": "Indonesia",
          "gdpPercap": 3540.6515640000002,
          "lifeExp": 70.65,
          "pop": 223547000,
          "year": 2007
         },
         {
          "continent": "Asia",
          "country": "Iran",
          "gdpPercap": 3035.326002,
          "lifeExp": 44.869,
          "pop": 17272000,
          "year": 1952
         },
         {
          "continent": "Asia",
          "country": "Iran",
          "gdpPercap": 11605.71449,
          "lifeExp": 70.964,
          "pop": 69453570,
          "year": 2007
         },
         {
          "continent": "Asia",
          "country": "Iraq",
          "gdpPercap": 4129.766056,
          "lifeExp": 45.32,
          "pop": 5441766,
          "year": 1952
         },
         {
          "continent": "Asia",
          "country": "Iraq",
          "gdpPercap": 4471.061906,
          "lifeExp": 59.545,
          "pop": 27499638,
          "year": 2007
         },
         {
          "continent": "Europe",
          "country": "Ireland",
          "gdpPercap": 5210.280328,
          "lifeExp": 66.91,
          "pop": 2952156,
          "year": 1952
         },
         {
          "continent": "Europe",
          "country": "Ireland",
          "gdpPercap": 40675.99635,
          "lifeExp": 78.885,
          "pop": 4109086,
          "year": 2007
         },
         {
          "continent": "Asia",
          "country": "Israel",
          "gdpPercap": 4086.522128,
          "lifeExp": 65.39,
          "pop": 1620914,
          "year": 1952
         },
         {
          "continent": "Asia",
          "country": "Israel",
          "gdpPercap": 25523.2771,
          "lifeExp": 80.745,
          "pop": 6426679,
          "year": 2007
         },
         {
          "continent": "Europe",
          "country": "Italy",
          "gdpPercap": 4931.404154999999,
          "lifeExp": 65.94,
          "pop": 47666000,
          "year": 1952
         },
         {
          "continent": "Europe",
          "country": "Italy",
          "gdpPercap": 28569.7197,
          "lifeExp": 80.546,
          "pop": 58147733,
          "year": 2007
         },
         {
          "continent": "Americas",
          "country": "Jamaica",
          "gdpPercap": 2898.5308809999997,
          "lifeExp": 58.53,
          "pop": 1426095,
          "year": 1952
         },
         {
          "continent": "Americas",
          "country": "Jamaica",
          "gdpPercap": 7320.880262000001,
          "lifeExp": 72.567,
          "pop": 2780132,
          "year": 2007
         },
         {
          "continent": "Asia",
          "country": "Japan",
          "gdpPercap": 3216.956347,
          "lifeExp": 63.03,
          "pop": 86459025,
          "year": 1952
         },
         {
          "continent": "Asia",
          "country": "Japan",
          "gdpPercap": 31656.06806,
          "lifeExp": 82.603,
          "pop": 127467972,
          "year": 2007
         },
         {
          "continent": "Asia",
          "country": "Jordan",
          "gdpPercap": 1546.907807,
          "lifeExp": 43.158,
          "pop": 607914,
          "year": 1952
         },
         {
          "continent": "Asia",
          "country": "Jordan",
          "gdpPercap": 4519.461171,
          "lifeExp": 72.535,
          "pop": 6053193,
          "year": 2007
         },
         {
          "continent": "Africa",
          "country": "Kenya",
          "gdpPercap": 853.5409189999999,
          "lifeExp": 42.27,
          "pop": 6464046,
          "year": 1952
         },
         {
          "continent": "Africa",
          "country": "Kenya",
          "gdpPercap": 1463.249282,
          "lifeExp": 54.11,
          "pop": 35610177,
          "year": 2007
         },
         {
          "continent": "Asia",
          "country": "Korea, Dem. Rep.",
          "gdpPercap": 1088.277758,
          "lifeExp": 50.056000000000004,
          "pop": 8865488,
          "year": 1952
         },
         {
          "continent": "Asia",
          "country": "Korea, Dem. Rep.",
          "gdpPercap": 1593.06548,
          "lifeExp": 67.297,
          "pop": 23301725,
          "year": 2007
         },
         {
          "continent": "Asia",
          "country": "Korea, Rep.",
          "gdpPercap": 1030.592226,
          "lifeExp": 47.453,
          "pop": 20947571,
          "year": 1952
         },
         {
          "continent": "Asia",
          "country": "Korea, Rep.",
          "gdpPercap": 23348.139730000003,
          "lifeExp": 78.623,
          "pop": 49044790,
          "year": 2007
         },
         {
          "continent": "Asia",
          "country": "Kuwait",
          "gdpPercap": 108382.3529,
          "lifeExp": 55.565,
          "pop": 160000,
          "year": 1952
         },
         {
          "continent": "Asia",
          "country": "Kuwait",
          "gdpPercap": 47306.98978,
          "lifeExp": 77.58800000000001,
          "pop": 2505559,
          "year": 2007
         },
         {
          "continent": "Asia",
          "country": "Lebanon",
          "gdpPercap": 4834.804067,
          "lifeExp": 55.928000000000004,
          "pop": 1439529,
          "year": 1952
         },
         {
          "continent": "Asia",
          "country": "Lebanon",
          "gdpPercap": 10461.05868,
          "lifeExp": 71.993,
          "pop": 3921278,
          "year": 2007
         },
         {
          "continent": "Africa",
          "country": "Lesotho",
          "gdpPercap": 298.8462121,
          "lifeExp": 42.138000000000005,
          "pop": 748747,
          "year": 1952
         },
         {
          "continent": "Africa",
          "country": "Lesotho",
          "gdpPercap": 1569.331442,
          "lifeExp": 42.592,
          "pop": 2012649,
          "year": 2007
         },
         {
          "continent": "Africa",
          "country": "Liberia",
          "gdpPercap": 575.5729961000001,
          "lifeExp": 38.48,
          "pop": 863308,
          "year": 1952
         },
         {
          "continent": "Africa",
          "country": "Liberia",
          "gdpPercap": 414.5073415,
          "lifeExp": 45.678000000000004,
          "pop": 3193942,
          "year": 2007
         },
         {
          "continent": "Africa",
          "country": "Libya",
          "gdpPercap": 2387.54806,
          "lifeExp": 42.723,
          "pop": 1019729,
          "year": 1952
         },
         {
          "continent": "Africa",
          "country": "Libya",
          "gdpPercap": 12057.49928,
          "lifeExp": 73.952,
          "pop": 6036914,
          "year": 2007
         },
         {
          "continent": "Africa",
          "country": "Madagascar",
          "gdpPercap": 1443.011715,
          "lifeExp": 36.681,
          "pop": 4762912,
          "year": 1952
         },
         {
          "continent": "Africa",
          "country": "Madagascar",
          "gdpPercap": 1044.770126,
          "lifeExp": 59.443000000000005,
          "pop": 19167654,
          "year": 2007
         },
         {
          "continent": "Africa",
          "country": "Malawi",
          "gdpPercap": 369.1650802,
          "lifeExp": 36.256,
          "pop": 2917802,
          "year": 1952
         },
         {
          "continent": "Africa",
          "country": "Malawi",
          "gdpPercap": 759.3499101,
          "lifeExp": 48.303000000000004,
          "pop": 13327079,
          "year": 2007
         },
         {
          "continent": "Asia",
          "country": "Malaysia",
          "gdpPercap": 1831.132894,
          "lifeExp": 48.463,
          "pop": 6748378,
          "year": 1952
         },
         {
          "continent": "Asia",
          "country": "Malaysia",
          "gdpPercap": 12451.6558,
          "lifeExp": 74.241,
          "pop": 24821286,
          "year": 2007
         },
         {
          "continent": "Africa",
          "country": "Mali",
          "gdpPercap": 452.3369807,
          "lifeExp": 33.685,
          "pop": 3838168,
          "year": 1952
         },
         {
          "continent": "Africa",
          "country": "Mali",
          "gdpPercap": 1042.581557,
          "lifeExp": 54.467,
          "pop": 12031795,
          "year": 2007
         },
         {
          "continent": "Africa",
          "country": "Mauritania",
          "gdpPercap": 743.1159097,
          "lifeExp": 40.543,
          "pop": 1022556,
          "year": 1952
         },
         {
          "continent": "Africa",
          "country": "Mauritania",
          "gdpPercap": 1803.1514960000002,
          "lifeExp": 64.164,
          "pop": 3270065,
          "year": 2007
         },
         {
          "continent": "Africa",
          "country": "Mauritius",
          "gdpPercap": 1967.955707,
          "lifeExp": 50.986000000000004,
          "pop": 516556,
          "year": 1952
         },
         {
          "continent": "Africa",
          "country": "Mauritius",
          "gdpPercap": 10956.99112,
          "lifeExp": 72.801,
          "pop": 1250882,
          "year": 2007
         },
         {
          "continent": "Americas",
          "country": "Mexico",
          "gdpPercap": 3478.125529,
          "lifeExp": 50.788999999999994,
          "pop": 30144317,
          "year": 1952
         },
         {
          "continent": "Americas",
          "country": "Mexico",
          "gdpPercap": 11977.57496,
          "lifeExp": 76.195,
          "pop": 108700891,
          "year": 2007
         },
         {
          "continent": "Asia",
          "country": "Mongolia",
          "gdpPercap": 786.5668575,
          "lifeExp": 42.244,
          "pop": 800663,
          "year": 1952
         },
         {
          "continent": "Asia",
          "country": "Mongolia",
          "gdpPercap": 3095.7722710000003,
          "lifeExp": 66.803,
          "pop": 2874127,
          "year": 2007
         },
         {
          "continent": "Europe",
          "country": "Montenegro",
          "gdpPercap": 2647.585601,
          "lifeExp": 59.163999999999994,
          "pop": 413834,
          "year": 1952
         },
         {
          "continent": "Europe",
          "country": "Montenegro",
          "gdpPercap": 9253.896111,
          "lifeExp": 74.543,
          "pop": 684736,
          "year": 2007
         },
         {
          "continent": "Africa",
          "country": "Morocco",
          "gdpPercap": 1688.20357,
          "lifeExp": 42.873000000000005,
          "pop": 9939217,
          "year": 1952
         },
         {
          "continent": "Africa",
          "country": "Morocco",
          "gdpPercap": 3820.17523,
          "lifeExp": 71.164,
          "pop": 33757175,
          "year": 2007
         },
         {
          "continent": "Africa",
          "country": "Mozambique",
          "gdpPercap": 468.5260381,
          "lifeExp": 31.285999999999998,
          "pop": 6446316,
          "year": 1952
         },
         {
          "continent": "Africa",
          "country": "Mozambique",
          "gdpPercap": 823.6856205,
          "lifeExp": 42.082,
          "pop": 19951656,
          "year": 2007
         },
         {
          "continent": "Asia",
          "country": "Myanmar",
          "gdpPercap": 331,
          "lifeExp": 36.319,
          "pop": 20092996,
          "year": 1952
         },
         {
          "continent": "Asia",
          "country": "Myanmar",
          "gdpPercap": 944,
          "lifeExp": 62.068999999999996,
          "pop": 47761980,
          "year": 2007
         },
         {
          "continent": "Africa",
          "country": "Namibia",
          "gdpPercap": 2423.780443,
          "lifeExp": 41.725,
          "pop": 485831,
          "year": 1952
         },
         {
          "continent": "Africa",
          "country": "Namibia",
          "gdpPercap": 4811.060429,
          "lifeExp": 52.906000000000006,
          "pop": 2055080,
          "year": 2007
         },
         {
          "continent": "Asia",
          "country": "Nepal",
          "gdpPercap": 545.8657228999999,
          "lifeExp": 36.157,
          "pop": 9182536,
          "year": 1952
         },
         {
          "continent": "Asia",
          "country": "Nepal",
          "gdpPercap": 1091.359778,
          "lifeExp": 63.785,
          "pop": 28901790,
          "year": 2007
         },
         {
          "continent": "Europe",
          "country": "Netherlands",
          "gdpPercap": 8941.571858,
          "lifeExp": 72.13,
          "pop": 10381988,
          "year": 1952
         },
         {
          "continent": "Europe",
          "country": "Netherlands",
          "gdpPercap": 36797.93332,
          "lifeExp": 79.762,
          "pop": 16570613,
          "year": 2007
         },
         {
          "continent": "Oceania",
          "country": "New Zealand",
          "gdpPercap": 10556.575659999999,
          "lifeExp": 69.39,
          "pop": 1994794,
          "year": 1952
         },
         {
          "continent": "Oceania",
          "country": "New Zealand",
          "gdpPercap": 25185.00911,
          "lifeExp": 80.204,
          "pop": 4115771,
          "year": 2007
         },
         {
          "continent": "Americas",
          "country": "Nicaragua",
          "gdpPercap": 3112.363948,
          "lifeExp": 42.31399999999999,
          "pop": 1165790,
          "year": 1952
         },
         {
          "continent": "Americas",
          "country": "Nicaragua",
          "gdpPercap": 2749.320965,
          "lifeExp": 72.899,
          "pop": 5675356,
          "year": 2007
         },
         {
          "continent": "Africa",
          "country": "Niger",
          "gdpPercap": 761.879376,
          "lifeExp": 37.444,
          "pop": 3379468,
          "year": 1952
         },
         {
          "continent": "Africa",
          "country": "Niger",
          "gdpPercap": 619.6768923999999,
          "lifeExp": 56.867,
          "pop": 12894865,
          "year": 2007
         },
         {
          "continent": "Africa",
          "country": "Nigeria",
          "gdpPercap": 1077.281856,
          "lifeExp": 36.324,
          "pop": 33119096,
          "year": 1952
         },
         {
          "continent": "Africa",
          "country": "Nigeria",
          "gdpPercap": 2013.9773050000001,
          "lifeExp": 46.858999999999995,
          "pop": 135031164,
          "year": 2007
         },
         {
          "continent": "Europe",
          "country": "Norway",
          "gdpPercap": 10095.42172,
          "lifeExp": 72.67,
          "pop": 3327728,
          "year": 1952
         },
         {
          "continent": "Europe",
          "country": "Norway",
          "gdpPercap": 49357.19017,
          "lifeExp": 80.196,
          "pop": 4627926,
          "year": 2007
         },
         {
          "continent": "Asia",
          "country": "Oman",
          "gdpPercap": 1828.230307,
          "lifeExp": 37.578,
          "pop": 507833,
          "year": 1952
         },
         {
          "continent": "Asia",
          "country": "Oman",
          "gdpPercap": 22316.19287,
          "lifeExp": 75.64,
          "pop": 3204897,
          "year": 2007
         },
         {
          "continent": "Asia",
          "country": "Pakistan",
          "gdpPercap": 684.5971437999999,
          "lifeExp": 43.43600000000001,
          "pop": 41346560,
          "year": 1952
         },
         {
          "continent": "Asia",
          "country": "Pakistan",
          "gdpPercap": 2605.94758,
          "lifeExp": 65.483,
          "pop": 169270617,
          "year": 2007
         },
         {
          "continent": "Americas",
          "country": "Panama",
          "gdpPercap": 2480.380334,
          "lifeExp": 55.191,
          "pop": 940080,
          "year": 1952
         },
         {
          "continent": "Americas",
          "country": "Panama",
          "gdpPercap": 9809.185636,
          "lifeExp": 75.53699999999999,
          "pop": 3242173,
          "year": 2007
         },
         {
          "continent": "Americas",
          "country": "Paraguay",
          "gdpPercap": 1952.3087010000002,
          "lifeExp": 62.648999999999994,
          "pop": 1555876,
          "year": 1952
         },
         {
          "continent": "Americas",
          "country": "Paraguay",
          "gdpPercap": 4172.838464,
          "lifeExp": 71.752,
          "pop": 6667147,
          "year": 2007
         },
         {
          "continent": "Americas",
          "country": "Peru",
          "gdpPercap": 3758.523437,
          "lifeExp": 43.902,
          "pop": 8025700,
          "year": 1952
         },
         {
          "continent": "Americas",
          "country": "Peru",
          "gdpPercap": 7408.905561,
          "lifeExp": 71.421,
          "pop": 28674757,
          "year": 2007
         },
         {
          "continent": "Asia",
          "country": "Philippines",
          "gdpPercap": 1272.880995,
          "lifeExp": 47.751999999999995,
          "pop": 22438691,
          "year": 1952
         },
         {
          "continent": "Asia",
          "country": "Philippines",
          "gdpPercap": 3190.481016,
          "lifeExp": 71.688,
          "pop": 91077287,
          "year": 2007
         },
         {
          "continent": "Europe",
          "country": "Poland",
          "gdpPercap": 4029.3296990000003,
          "lifeExp": 61.31,
          "pop": 25730551,
          "year": 1952
         },
         {
          "continent": "Europe",
          "country": "Poland",
          "gdpPercap": 15389.924680000002,
          "lifeExp": 75.563,
          "pop": 38518241,
          "year": 2007
         },
         {
          "continent": "Europe",
          "country": "Portugal",
          "gdpPercap": 3068.319867,
          "lifeExp": 59.82,
          "pop": 8526050,
          "year": 1952
         },
         {
          "continent": "Europe",
          "country": "Portugal",
          "gdpPercap": 20509.64777,
          "lifeExp": 78.098,
          "pop": 10642836,
          "year": 2007
         },
         {
          "continent": "Americas",
          "country": "Puerto Rico",
          "gdpPercap": 3081.959785,
          "lifeExp": 64.28,
          "pop": 2227000,
          "year": 1952
         },
         {
          "continent": "Americas",
          "country": "Puerto Rico",
          "gdpPercap": 19328.70901,
          "lifeExp": 78.74600000000001,
          "pop": 3942491,
          "year": 2007
         },
         {
          "continent": "Africa",
          "country": "Reunion",
          "gdpPercap": 2718.885295,
          "lifeExp": 52.724,
          "pop": 257700,
          "year": 1952
         },
         {
          "continent": "Africa",
          "country": "Reunion",
          "gdpPercap": 7670.122558,
          "lifeExp": 76.442,
          "pop": 798094,
          "year": 2007
         },
         {
          "continent": "Europe",
          "country": "Romania",
          "gdpPercap": 3144.613186,
          "lifeExp": 61.05,
          "pop": 16630000,
          "year": 1952
         },
         {
          "continent": "Europe",
          "country": "Romania",
          "gdpPercap": 10808.47561,
          "lifeExp": 72.476,
          "pop": 22276056,
          "year": 2007
         },
         {
          "continent": "Africa",
          "country": "Rwanda",
          "gdpPercap": 493.32387520000003,
          "lifeExp": 40,
          "pop": 2534927,
          "year": 1952
         },
         {
          "continent": "Africa",
          "country": "Rwanda",
          "gdpPercap": 863.0884639000001,
          "lifeExp": 46.242,
          "pop": 8860588,
          "year": 2007
         },
         {
          "continent": "Africa",
          "country": "Sao Tome and Principe",
          "gdpPercap": 879.5835855,
          "lifeExp": 46.471000000000004,
          "pop": 60011,
          "year": 1952
         },
         {
          "continent": "Africa",
          "country": "Sao Tome and Principe",
          "gdpPercap": 1598.435089,
          "lifeExp": 65.528,
          "pop": 199579,
          "year": 2007
         },
         {
          "continent": "Asia",
          "country": "Saudi Arabia",
          "gdpPercap": 6459.5548229999995,
          "lifeExp": 39.875,
          "pop": 4005677,
          "year": 1952
         },
         {
          "continent": "Asia",
          "country": "Saudi Arabia",
          "gdpPercap": 21654.83194,
          "lifeExp": 72.777,
          "pop": 27601038,
          "year": 2007
         },
         {
          "continent": "Africa",
          "country": "Senegal",
          "gdpPercap": 1450.356983,
          "lifeExp": 37.278,
          "pop": 2755589,
          "year": 1952
         },
         {
          "continent": "Africa",
          "country": "Senegal",
          "gdpPercap": 1712.4721359999999,
          "lifeExp": 63.062,
          "pop": 12267493,
          "year": 2007
         },
         {
          "continent": "Europe",
          "country": "Serbia",
          "gdpPercap": 3581.4594479999996,
          "lifeExp": 57.996,
          "pop": 6860147,
          "year": 1952
         },
         {
          "continent": "Europe",
          "country": "Serbia",
          "gdpPercap": 9786.534714,
          "lifeExp": 74.002,
          "pop": 10150265,
          "year": 2007
         },
         {
          "continent": "Africa",
          "country": "Sierra Leone",
          "gdpPercap": 879.7877358,
          "lifeExp": 30.331,
          "pop": 2143249,
          "year": 1952
         },
         {
          "continent": "Africa",
          "country": "Sierra Leone",
          "gdpPercap": 862.5407561000001,
          "lifeExp": 42.568000000000005,
          "pop": 6144562,
          "year": 2007
         },
         {
          "continent": "Asia",
          "country": "Singapore",
          "gdpPercap": 2315.138227,
          "lifeExp": 60.396,
          "pop": 1127000,
          "year": 1952
         },
         {
          "continent": "Asia",
          "country": "Singapore",
          "gdpPercap": 47143.179639999995,
          "lifeExp": 79.972,
          "pop": 4553009,
          "year": 2007
         },
         {
          "continent": "Europe",
          "country": "Slovak Republic",
          "gdpPercap": 5074.659104,
          "lifeExp": 64.36,
          "pop": 3558137,
          "year": 1952
         },
         {
          "continent": "Europe",
          "country": "Slovak Republic",
          "gdpPercap": 18678.31435,
          "lifeExp": 74.663,
          "pop": 5447502,
          "year": 2007
         },
         {
          "continent": "Europe",
          "country": "Slovenia",
          "gdpPercap": 4215.041741,
          "lifeExp": 65.57,
          "pop": 1489518,
          "year": 1952
         },
         {
          "continent": "Europe",
          "country": "Slovenia",
          "gdpPercap": 25768.25759,
          "lifeExp": 77.926,
          "pop": 2009245,
          "year": 2007
         },
         {
          "continent": "Africa",
          "country": "Somalia",
          "gdpPercap": 1135.749842,
          "lifeExp": 32.978,
          "pop": 2526994,
          "year": 1952
         },
         {
          "continent": "Africa",
          "country": "Somalia",
          "gdpPercap": 926.1410683,
          "lifeExp": 48.159,
          "pop": 9118773,
          "year": 2007
         },
         {
          "continent": "Africa",
          "country": "South Africa",
          "gdpPercap": 4725.295531000001,
          "lifeExp": 45.00899999999999,
          "pop": 14264935,
          "year": 1952
         },
         {
          "continent": "Africa",
          "country": "South Africa",
          "gdpPercap": 9269.657808,
          "lifeExp": 49.339,
          "pop": 43997828,
          "year": 2007
         },
         {
          "continent": "Europe",
          "country": "Spain",
          "gdpPercap": 3834.0347420000003,
          "lifeExp": 64.94,
          "pop": 28549870,
          "year": 1952
         },
         {
          "continent": "Europe",
          "country": "Spain",
          "gdpPercap": 28821.0637,
          "lifeExp": 80.941,
          "pop": 40448191,
          "year": 2007
         },
         {
          "continent": "Asia",
          "country": "Sri Lanka",
          "gdpPercap": 1083.53203,
          "lifeExp": 57.593,
          "pop": 7982342,
          "year": 1952
         },
         {
          "continent": "Asia",
          "country": "Sri Lanka",
          "gdpPercap": 3970.0954070000003,
          "lifeExp": 72.396,
          "pop": 20378239,
          "year": 2007
         },
         {
          "continent": "Africa",
          "country": "Sudan",
          "gdpPercap": 1615.991129,
          "lifeExp": 38.635,
          "pop": 8504667,
          "year": 1952
         },
         {
          "continent": "Africa",
          "country": "Sudan",
          "gdpPercap": 2602.394995,
          "lifeExp": 58.556000000000004,
          "pop": 42292929,
          "year": 2007
         },
         {
          "continent": "Africa",
          "country": "Swaziland",
          "gdpPercap": 1148.376626,
          "lifeExp": 41.407,
          "pop": 290243,
          "year": 1952
         },
         {
          "continent": "Africa",
          "country": "Swaziland",
          "gdpPercap": 4513.480643,
          "lifeExp": 39.613,
          "pop": 1133066,
          "year": 2007
         },
         {
          "continent": "Europe",
          "country": "Sweden",
          "gdpPercap": 8527.844662000001,
          "lifeExp": 71.86,
          "pop": 7124673,
          "year": 1952
         },
         {
          "continent": "Europe",
          "country": "Sweden",
          "gdpPercap": 33859.74835,
          "lifeExp": 80.884,
          "pop": 9031088,
          "year": 2007
         },
         {
          "continent": "Europe",
          "country": "Switzerland",
          "gdpPercap": 14734.23275,
          "lifeExp": 69.62,
          "pop": 4815000,
          "year": 1952
         },
         {
          "continent": "Europe",
          "country": "Switzerland",
          "gdpPercap": 37506.419069999996,
          "lifeExp": 81.70100000000001,
          "pop": 7554661,
          "year": 2007
         },
         {
          "continent": "Asia",
          "country": "Syria",
          "gdpPercap": 1643.485354,
          "lifeExp": 45.883,
          "pop": 3661549,
          "year": 1952
         },
         {
          "continent": "Asia",
          "country": "Syria",
          "gdpPercap": 4184.548089,
          "lifeExp": 74.143,
          "pop": 19314747,
          "year": 2007
         },
         {
          "continent": "Asia",
          "country": "Taiwan",
          "gdpPercap": 1206.947913,
          "lifeExp": 58.5,
          "pop": 8550362,
          "year": 1952
         },
         {
          "continent": "Asia",
          "country": "Taiwan",
          "gdpPercap": 28718.27684,
          "lifeExp": 78.4,
          "pop": 23174294,
          "year": 2007
         },
         {
          "continent": "Africa",
          "country": "Tanzania",
          "gdpPercap": 716.6500721,
          "lifeExp": 41.215,
          "pop": 8322925,
          "year": 1952
         },
         {
          "continent": "Africa",
          "country": "Tanzania",
          "gdpPercap": 1107.482182,
          "lifeExp": 52.516999999999996,
          "pop": 38139640,
          "year": 2007
         },
         {
          "continent": "Asia",
          "country": "Thailand",
          "gdpPercap": 757.7974177,
          "lifeExp": 50.848,
          "pop": 21289402,
          "year": 1952
         },
         {
          "continent": "Asia",
          "country": "Thailand",
          "gdpPercap": 7458.3963269999995,
          "lifeExp": 70.616,
          "pop": 65068149,
          "year": 2007
         },
         {
          "continent": "Africa",
          "country": "Togo",
          "gdpPercap": 859.8086567,
          "lifeExp": 38.596,
          "pop": 1219113,
          "year": 1952
         },
         {
          "continent": "Africa",
          "country": "Togo",
          "gdpPercap": 882.9699437999999,
          "lifeExp": 58.42,
          "pop": 5701579,
          "year": 2007
         },
         {
          "continent": "Americas",
          "country": "Trinidad and Tobago",
          "gdpPercap": 3023.271928,
          "lifeExp": 59.1,
          "pop": 662850,
          "year": 1952
         },
         {
          "continent": "Americas",
          "country": "Trinidad and Tobago",
          "gdpPercap": 18008.50924,
          "lifeExp": 69.819,
          "pop": 1056608,
          "year": 2007
         },
         {
          "continent": "Africa",
          "country": "Tunisia",
          "gdpPercap": 1468.475631,
          "lifeExp": 44.6,
          "pop": 3647735,
          "year": 1952
         },
         {
          "continent": "Africa",
          "country": "Tunisia",
          "gdpPercap": 7092.923025,
          "lifeExp": 73.923,
          "pop": 10276158,
          "year": 2007
         },
         {
          "continent": "Europe",
          "country": "Turkey",
          "gdpPercap": 1969.1009800000002,
          "lifeExp": 43.585,
          "pop": 22235677,
          "year": 1952
         },
         {
          "continent": "Europe",
          "country": "Turkey",
          "gdpPercap": 8458.276384,
          "lifeExp": 71.777,
          "pop": 71158647,
          "year": 2007
         },
         {
          "continent": "Africa",
          "country": "Uganda",
          "gdpPercap": 734.753484,
          "lifeExp": 39.978,
          "pop": 5824797,
          "year": 1952
         },
         {
          "continent": "Africa",
          "country": "Uganda",
          "gdpPercap": 1056.3801210000001,
          "lifeExp": 51.542,
          "pop": 29170398,
          "year": 2007
         },
         {
          "continent": "Europe",
          "country": "United Kingdom",
          "gdpPercap": 9979.508487000001,
          "lifeExp": 69.18,
          "pop": 50430000,
          "year": 1952
         },
         {
          "continent": "Europe",
          "country": "United Kingdom",
          "gdpPercap": 33203.26128,
          "lifeExp": 79.425,
          "pop": 60776238,
          "year": 2007
         },
         {
          "continent": "Americas",
          "country": "United States",
          "gdpPercap": 13990.482080000002,
          "lifeExp": 68.44,
          "pop": 157553000,
          "year": 1952
         },
         {
          "continent": "Americas",
          "country": "United States",
          "gdpPercap": 42951.65309,
          "lifeExp": 78.242,
          "pop": 301139947,
          "year": 2007
         },
         {
          "continent": "Americas",
          "country": "Uruguay",
          "gdpPercap": 5716.766744,
          "lifeExp": 66.071,
          "pop": 2252965,
          "year": 1952
         },
         {
          "continent": "Americas",
          "country": "Uruguay",
          "gdpPercap": 10611.46299,
          "lifeExp": 76.384,
          "pop": 3447496,
          "year": 2007
         },
         {
          "continent": "Americas",
          "country": "Venezuela",
          "gdpPercap": 7689.799761,
          "lifeExp": 55.088,
          "pop": 5439568,
          "year": 1952
         },
         {
          "continent": "Americas",
          "country": "Venezuela",
          "gdpPercap": 11415.805690000001,
          "lifeExp": 73.747,
          "pop": 26084662,
          "year": 2007
         },
         {
          "continent": "Asia",
          "country": "Vietnam",
          "gdpPercap": 605.0664917,
          "lifeExp": 40.412,
          "pop": 26246839,
          "year": 1952
         },
         {
          "continent": "Asia",
          "country": "Vietnam",
          "gdpPercap": 2441.576404,
          "lifeExp": 74.249,
          "pop": 85262356,
          "year": 2007
         },
         {
          "continent": "Asia",
          "country": "West Bank and Gaza",
          "gdpPercap": 1515.5923289999998,
          "lifeExp": 43.16,
          "pop": 1030585,
          "year": 1952
         },
         {
          "continent": "Asia",
          "country": "West Bank and Gaza",
          "gdpPercap": 3025.349798,
          "lifeExp": 73.422,
          "pop": 4018332,
          "year": 2007
         },
         {
          "continent": "Asia",
          "country": "Yemen, Rep.",
          "gdpPercap": 781.7175761,
          "lifeExp": 32.548,
          "pop": 4963829,
          "year": 1952
         },
         {
          "continent": "Asia",
          "country": "Yemen, Rep.",
          "gdpPercap": 2280.769906,
          "lifeExp": 62.698,
          "pop": 22211743,
          "year": 2007
         },
         {
          "continent": "Africa",
          "country": "Zambia",
          "gdpPercap": 1147.388831,
          "lifeExp": 42.038000000000004,
          "pop": 2672000,
          "year": 1952
         },
         {
          "continent": "Africa",
          "country": "Zambia",
          "gdpPercap": 1271.211593,
          "lifeExp": 42.38399999999999,
          "pop": 11746035,
          "year": 2007
         },
         {
          "continent": "Africa",
          "country": "Zimbabwe",
          "gdpPercap": 406.8841148,
          "lifeExp": 48.451,
          "pop": 3080907,
          "year": 1952
         },
         {
          "continent": "Africa",
          "country": "Zimbabwe",
          "gdpPercap": 469.70929810000007,
          "lifeExp": 43.486999999999995,
          "pop": 12311143,
          "year": 2007
         }
        ]
       },
       "encoding": {
        "color": {
         "field": "year",
         "type": "nominal"
        },
        "x": {
         "field": "lifeExp",
         "type": "quantitative"
        },
        "y": {
         "field": "continent",
         "type": "nominal"
        }
       },
       "mark": "tick"
      },
      "image/png": "[encoded data removed]",
      "text/plain": [
       "<altair.VegaLite object>"
      ]
     },
     "execution_count": 9,
     "metadata": {},
     "output_type": "execute_result"
    }
   ],
   "source": [
    "alt.Chart(first_last).mark_tick().encode(\n",
    "    alt.X('lifeExp'),\n",
    "    alt.Y('continent:N'),\n",
    "    alt.Color('year:N')\n",
    ")"
   ]
  },
  {
   "cell_type": "markdown",
   "metadata": {},
   "source": [
    "## Income and life expectancy"
   ]
  },
  {
   "cell_type": "markdown",
   "metadata": {},
   "source": [
    "Create an `alt.Chart` with Altair to explore the distribution of life expectancy, grouped by continent:\n",
    "\n",
    "* Use the filtered dataset `first_last`.\n",
    "* Use a circle mark.\n",
    "* Encode `gdpPercap` as the x position. Add a custom log scale, with a domain of `[100,100000]`.\n",
    "* Encode `lifeExp` as the y position. Add a custom scale with a domain of `[30,90]` and `zero=False`.\n",
    "* Encode `pop` as the size.\n",
    "* Encode `continent` as the color with a nominal datatype.\n",
    "* Encode `year` as the row.\n",
    "* Set human readable titles for the axes and legends in title case."
   ]
  },
  {
   "cell_type": "code",
   "execution_count": 10,
   "metadata": {
    "deletable": false,
    "nbgrader": {
     "checksum": "b8f45f062e224fac9c8ee31ce2f4699d",
     "grade": true,
     "grade_id": "cell-23d2cd29914a77b2",
     "locked": false,
     "points": 8,
     "schema_version": 1,
     "solution": true
    }
   },
   "outputs": [
    {
     "data": {
      "application/vnd.vegalite.v1+json": {
       "$schema": "https://vega.github.io/schema/vega-lite/v1.2.1.json",
       "data": {
        "values": [
         {
          "continent": "Asia",
          "country": "Afghanistan",
          "gdpPercap": 779.4453145,
          "lifeExp": 28.801,
          "pop": 8425333,
          "year": 1952
         },
         {
          "continent": "Asia",
          "country": "Afghanistan",
          "gdpPercap": 974.5803384,
          "lifeExp": 43.828,
          "pop": 31889923,
          "year": 2007
         },
         {
          "continent": "Europe",
          "country": "Albania",
          "gdpPercap": 1601.056136,
          "lifeExp": 55.23,
          "pop": 1282697,
          "year": 1952
         },
         {
          "continent": "Europe",
          "country": "Albania",
          "gdpPercap": 5937.029525999999,
          "lifeExp": 76.423,
          "pop": 3600523,
          "year": 2007
         },
         {
          "continent": "Africa",
          "country": "Algeria",
          "gdpPercap": 2449.008185,
          "lifeExp": 43.077,
          "pop": 9279525,
          "year": 1952
         },
         {
          "continent": "Africa",
          "country": "Algeria",
          "gdpPercap": 6223.367465,
          "lifeExp": 72.301,
          "pop": 33333216,
          "year": 2007
         },
         {
          "continent": "Africa",
          "country": "Angola",
          "gdpPercap": 3520.610273,
          "lifeExp": 30.015,
          "pop": 4232095,
          "year": 1952
         },
         {
          "continent": "Africa",
          "country": "Angola",
          "gdpPercap": 4797.231267,
          "lifeExp": 42.731,
          "pop": 12420476,
          "year": 2007
         },
         {
          "continent": "Americas",
          "country": "Argentina",
          "gdpPercap": 5911.315053,
          "lifeExp": 62.485,
          "pop": 17876956,
          "year": 1952
         },
         {
          "continent": "Americas",
          "country": "Argentina",
          "gdpPercap": 12779.379640000001,
          "lifeExp": 75.32,
          "pop": 40301927,
          "year": 2007
         },
         {
          "continent": "Oceania",
          "country": "Australia",
          "gdpPercap": 10039.595640000001,
          "lifeExp": 69.12,
          "pop": 8691212,
          "year": 1952
         },
         {
          "continent": "Oceania",
          "country": "Australia",
          "gdpPercap": 34435.367439999995,
          "lifeExp": 81.235,
          "pop": 20434176,
          "year": 2007
         },
         {
          "continent": "Europe",
          "country": "Austria",
          "gdpPercap": 6137.076492,
          "lifeExp": 66.8,
          "pop": 6927772,
          "year": 1952
         },
         {
          "continent": "Europe",
          "country": "Austria",
          "gdpPercap": 36126.4927,
          "lifeExp": 79.829,
          "pop": 8199783,
          "year": 2007
         },
         {
          "continent": "Asia",
          "country": "Bahrain",
          "gdpPercap": 9867.084765000001,
          "lifeExp": 50.93899999999999,
          "pop": 120447,
          "year": 1952
         },
         {
          "continent": "Asia",
          "country": "Bahrain",
          "gdpPercap": 29796.048339999998,
          "lifeExp": 75.635,
          "pop": 708573,
          "year": 2007
         },
         {
          "continent": "Asia",
          "country": "Bangladesh",
          "gdpPercap": 684.2441716,
          "lifeExp": 37.484,
          "pop": 46886859,
          "year": 1952
         },
         {
          "continent": "Asia",
          "country": "Bangladesh",
          "gdpPercap": 1391.253792,
          "lifeExp": 64.062,
          "pop": 150448339,
          "year": 2007
         },
         {
          "continent": "Europe",
          "country": "Belgium",
          "gdpPercap": 8343.105126999999,
          "lifeExp": 68,
          "pop": 8730405,
          "year": 1952
         },
         {
          "continent": "Europe",
          "country": "Belgium",
          "gdpPercap": 33692.60508,
          "lifeExp": 79.441,
          "pop": 10392226,
          "year": 2007
         },
         {
          "continent": "Africa",
          "country": "Benin",
          "gdpPercap": 1062.7522,
          "lifeExp": 38.223,
          "pop": 1738315,
          "year": 1952
         },
         {
          "continent": "Africa",
          "country": "Benin",
          "gdpPercap": 1441.284873,
          "lifeExp": 56.728,
          "pop": 8078314,
          "year": 2007
         },
         {
          "continent": "Americas",
          "country": "Bolivia",
          "gdpPercap": 2677.3263469999997,
          "lifeExp": 40.414,
          "pop": 2883315,
          "year": 1952
         },
         {
          "continent": "Americas",
          "country": "Bolivia",
          "gdpPercap": 3822.1370840000004,
          "lifeExp": 65.554,
          "pop": 9119152,
          "year": 2007
         },
         {
          "continent": "Europe",
          "country": "Bosnia and Herzegovina",
          "gdpPercap": 973.5331947999999,
          "lifeExp": 53.82,
          "pop": 2791000,
          "year": 1952
         },
         {
          "continent": "Europe",
          "country": "Bosnia and Herzegovina",
          "gdpPercap": 7446.298803,
          "lifeExp": 74.852,
          "pop": 4552198,
          "year": 2007
         },
         {
          "continent": "Africa",
          "country": "Botswana",
          "gdpPercap": 851.2411407,
          "lifeExp": 47.622,
          "pop": 442308,
          "year": 1952
         },
         {
          "continent": "Africa",
          "country": "Botswana",
          "gdpPercap": 12569.851770000001,
          "lifeExp": 50.728,
          "pop": 1639131,
          "year": 2007
         },
         {
          "continent": "Americas",
          "country": "Brazil",
          "gdpPercap": 2108.944355,
          "lifeExp": 50.917,
          "pop": 56602560,
          "year": 1952
         },
         {
          "continent": "Americas",
          "country": "Brazil",
          "gdpPercap": 9065.800825,
          "lifeExp": 72.39,
          "pop": 190010647,
          "year": 2007
         },
         {
          "continent": "Europe",
          "country": "Bulgaria",
          "gdpPercap": 2444.2866480000002,
          "lifeExp": 59.6,
          "pop": 7274900,
          "year": 1952
         },
         {
          "continent": "Europe",
          "country": "Bulgaria",
          "gdpPercap": 10680.79282,
          "lifeExp": 73.005,
          "pop": 7322858,
          "year": 2007
         },
         {
          "continent": "Africa",
          "country": "Burkina Faso",
          "gdpPercap": 543.2552413,
          "lifeExp": 31.975,
          "pop": 4469979,
          "year": 1952
         },
         {
          "continent": "Africa",
          "country": "Burkina Faso",
          "gdpPercap": 1217.032994,
          "lifeExp": 52.295,
          "pop": 14326203,
          "year": 2007
         },
         {
          "continent": "Africa",
          "country": "Burundi",
          "gdpPercap": 339.29645869999996,
          "lifeExp": 39.031,
          "pop": 2445618,
          "year": 1952
         },
         {
          "continent": "Africa",
          "country": "Burundi",
          "gdpPercap": 430.07069160000003,
          "lifeExp": 49.58,
          "pop": 8390505,
          "year": 2007
         },
         {
          "continent": "Asia",
          "country": "Cambodia",
          "gdpPercap": 368.46928560000003,
          "lifeExp": 39.417,
          "pop": 4693836,
          "year": 1952
         },
         {
          "continent": "Asia",
          "country": "Cambodia",
          "gdpPercap": 1713.7786859999999,
          "lifeExp": 59.723,
          "pop": 14131858,
          "year": 2007
         },
         {
          "continent": "Africa",
          "country": "Cameroon",
          "gdpPercap": 1172.667655,
          "lifeExp": 38.523,
          "pop": 5009067,
          "year": 1952
         },
         {
          "continent": "Africa",
          "country": "Cameroon",
          "gdpPercap": 2042.0952399999999,
          "lifeExp": 50.43,
          "pop": 17696293,
          "year": 2007
         },
         {
          "continent": "Americas",
          "country": "Canada",
          "gdpPercap": 11367.16112,
          "lifeExp": 68.75,
          "pop": 14785584,
          "year": 1952
         },
         {
          "continent": "Americas",
          "country": "Canada",
          "gdpPercap": 36319.235010000004,
          "lifeExp": 80.653,
          "pop": 33390141,
          "year": 2007
         },
         {
          "continent": "Africa",
          "country": "Central African Republic",
          "gdpPercap": 1071.310713,
          "lifeExp": 35.463,
          "pop": 1291695,
          "year": 1952
         },
         {
          "continent": "Africa",
          "country": "Central African Republic",
          "gdpPercap": 706.016537,
          "lifeExp": 44.74100000000001,
          "pop": 4369038,
          "year": 2007
         },
         {
          "continent": "Africa",
          "country": "Chad",
          "gdpPercap": 1178.665927,
          "lifeExp": 38.092,
          "pop": 2682462,
          "year": 1952
         },
         {
          "continent": "Africa",
          "country": "Chad",
          "gdpPercap": 1704.0637239999999,
          "lifeExp": 50.651,
          "pop": 10238807,
          "year": 2007
         },
         {
          "continent": "Americas",
          "country": "Chile",
          "gdpPercap": 3939.9787890000002,
          "lifeExp": 54.745,
          "pop": 6377619,
          "year": 1952
         },
         {
          "continent": "Americas",
          "country": "Chile",
          "gdpPercap": 13171.63885,
          "lifeExp": 78.553,
          "pop": 16284741,
          "year": 2007
         },
         {
          "continent": "Asia",
          "country": "China",
          "gdpPercap": 400.44861099999997,
          "lifeExp": 44,
          "pop": 556263527,
          "year": 1952
         },
         {
          "continent": "Asia",
          "country": "China",
          "gdpPercap": 4959.1148539999995,
          "lifeExp": 72.961,
          "pop": 1318683096,
          "year": 2007
         },
         {
          "continent": "Americas",
          "country": "Colombia",
          "gdpPercap": 2144.115096,
          "lifeExp": 50.643,
          "pop": 12350771,
          "year": 1952
         },
         {
          "continent": "Americas",
          "country": "Colombia",
          "gdpPercap": 7006.580419,
          "lifeExp": 72.889,
          "pop": 44227550,
          "year": 2007
         },
         {
          "continent": "Africa",
          "country": "Comoros",
          "gdpPercap": 1102.990936,
          "lifeExp": 40.715,
          "pop": 153936,
          "year": 1952
         },
         {
          "continent": "Africa",
          "country": "Comoros",
          "gdpPercap": 986.1478792000001,
          "lifeExp": 65.152,
          "pop": 710960,
          "year": 2007
         },
         {
          "continent": "Africa",
          "country": "Congo, Dem. Rep.",
          "gdpPercap": 780.5423257,
          "lifeExp": 39.143,
          "pop": 14100005,
          "year": 1952
         },
         {
          "continent": "Africa",
          "country": "Congo, Dem. Rep.",
          "gdpPercap": 277.55185869999997,
          "lifeExp": 46.461999999999996,
          "pop": 64606759,
          "year": 2007
         },
         {
          "continent": "Africa",
          "country": "Congo, Rep.",
          "gdpPercap": 2125.621418,
          "lifeExp": 42.111000000000004,
          "pop": 854885,
          "year": 1952
         },
         {
          "continent": "Africa",
          "country": "Congo, Rep.",
          "gdpPercap": 3632.557798,
          "lifeExp": 55.321999999999996,
          "pop": 3800610,
          "year": 2007
         },
         {
          "continent": "Americas",
          "country": "Costa Rica",
          "gdpPercap": 2627.0094710000003,
          "lifeExp": 57.206,
          "pop": 926317,
          "year": 1952
         },
         {
          "continent": "Americas",
          "country": "Costa Rica",
          "gdpPercap": 9645.06142,
          "lifeExp": 78.782,
          "pop": 4133884,
          "year": 2007
         },
         {
          "continent": "Africa",
          "country": "Cote d'Ivoire",
          "gdpPercap": 1388.594732,
          "lifeExp": 40.477,
          "pop": 2977019,
          "year": 1952
         },
         {
          "continent": "Africa",
          "country": "Cote d'Ivoire",
          "gdpPercap": 1544.750112,
          "lifeExp": 48.328,
          "pop": 18013409,
          "year": 2007
         },
         {
          "continent": "Europe",
          "country": "Croatia",
          "gdpPercap": 3119.23652,
          "lifeExp": 61.21,
          "pop": 3882229,
          "year": 1952
         },
         {
          "continent": "Europe",
          "country": "Croatia",
          "gdpPercap": 14619.222719999998,
          "lifeExp": 75.748,
          "pop": 4493312,
          "year": 2007
         },
         {
          "continent": "Americas",
          "country": "Cuba",
          "gdpPercap": 5586.53878,
          "lifeExp": 59.42100000000001,
          "pop": 6007797,
          "year": 1952
         },
         {
          "continent": "Americas",
          "country": "Cuba",
          "gdpPercap": 8948.102923,
          "lifeExp": 78.273,
          "pop": 11416987,
          "year": 2007
         },
         {
          "continent": "Europe",
          "country": "Czech Republic",
          "gdpPercap": 6876.14025,
          "lifeExp": 66.87,
          "pop": 9125183,
          "year": 1952
         },
         {
          "continent": "Europe",
          "country": "Czech Republic",
          "gdpPercap": 22833.30851,
          "lifeExp": 76.486,
          "pop": 10228744,
          "year": 2007
         },
         {
          "continent": "Europe",
          "country": "Denmark",
          "gdpPercap": 9692.385245,
          "lifeExp": 70.78,
          "pop": 4334000,
          "year": 1952
         },
         {
          "continent": "Europe",
          "country": "Denmark",
          "gdpPercap": 35278.41874,
          "lifeExp": 78.332,
          "pop": 5468120,
          "year": 2007
         },
         {
          "continent": "Africa",
          "country": "Djibouti",
          "gdpPercap": 2669.529475,
          "lifeExp": 34.812,
          "pop": 63149,
          "year": 1952
         },
         {
          "continent": "Africa",
          "country": "Djibouti",
          "gdpPercap": 2082.4815670000003,
          "lifeExp": 54.791000000000004,
          "pop": 496374,
          "year": 2007
         },
         {
          "continent": "Americas",
          "country": "Dominican Republic",
          "gdpPercap": 1397.7171369999999,
          "lifeExp": 45.928000000000004,
          "pop": 2491346,
          "year": 1952
         },
         {
          "continent": "Americas",
          "country": "Dominican Republic",
          "gdpPercap": 6025.374752000001,
          "lifeExp": 72.235,
          "pop": 9319622,
          "year": 2007
         },
         {
          "continent": "Americas",
          "country": "Ecuador",
          "gdpPercap": 3522.110717,
          "lifeExp": 48.357,
          "pop": 3548753,
          "year": 1952
         },
         {
          "continent": "Americas",
          "country": "Ecuador",
          "gdpPercap": 6873.262326000001,
          "lifeExp": 74.994,
          "pop": 13755680,
          "year": 2007
         },
         {
          "continent": "Africa",
          "country": "Egypt",
          "gdpPercap": 1418.822445,
          "lifeExp": 41.893,
          "pop": 22223309,
          "year": 1952
         },
         {
          "continent": "Africa",
          "country": "Egypt",
          "gdpPercap": 5581.180998,
          "lifeExp": 71.33800000000001,
          "pop": 80264543,
          "year": 2007
         },
         {
          "continent": "Americas",
          "country": "El Salvador",
          "gdpPercap": 3048.3029,
          "lifeExp": 45.262,
          "pop": 2042865,
          "year": 1952
         },
         {
          "continent": "Americas",
          "country": "El Salvador",
          "gdpPercap": 5728.353514,
          "lifeExp": 71.878,
          "pop": 6939688,
          "year": 2007
         },
         {
          "continent": "Africa",
          "country": "Equatorial Guinea",
          "gdpPercap": 375.6431231,
          "lifeExp": 34.482,
          "pop": 216964,
          "year": 1952
         },
         {
          "continent": "Africa",
          "country": "Equatorial Guinea",
          "gdpPercap": 12154.08975,
          "lifeExp": 51.57899999999999,
          "pop": 551201,
          "year": 2007
         },
         {
          "continent": "Africa",
          "country": "Eritrea",
          "gdpPercap": 328.94055710000004,
          "lifeExp": 35.928000000000004,
          "pop": 1438760,
          "year": 1952
         },
         {
          "continent": "Africa",
          "country": "Eritrea",
          "gdpPercap": 641.3695236000001,
          "lifeExp": 58.04,
          "pop": 4906585,
          "year": 2007
         },
         {
          "continent": "Africa",
          "country": "Ethiopia",
          "gdpPercap": 362.1462796,
          "lifeExp": 34.078,
          "pop": 20860941,
          "year": 1952
         },
         {
          "continent": "Africa",
          "country": "Ethiopia",
          "gdpPercap": 690.8055759,
          "lifeExp": 52.946999999999996,
          "pop": 76511887,
          "year": 2007
         },
         {
          "continent": "Europe",
          "country": "Finland",
          "gdpPercap": 6424.519071,
          "lifeExp": 66.55,
          "pop": 4090500,
          "year": 1952
         },
         {
          "continent": "Europe",
          "country": "Finland",
          "gdpPercap": 33207.0844,
          "lifeExp": 79.313,
          "pop": 5238460,
          "year": 2007
         },
         {
          "continent": "Europe",
          "country": "France",
          "gdpPercap": 7029.809327,
          "lifeExp": 67.41,
          "pop": 42459667,
          "year": 1952
         },
         {
          "continent": "Europe",
          "country": "France",
          "gdpPercap": 30470.0167,
          "lifeExp": 80.657,
          "pop": 61083916,
          "year": 2007
         },
         {
          "continent": "Africa",
          "country": "Gabon",
          "gdpPercap": 4293.476475,
          "lifeExp": 37.003,
          "pop": 420702,
          "year": 1952
         },
         {
          "continent": "Africa",
          "country": "Gabon",
          "gdpPercap": 13206.48452,
          "lifeExp": 56.735,
          "pop": 1454867,
          "year": 2007
         },
         {
          "continent": "Africa",
          "country": "Gambia",
          "gdpPercap": 485.2306591,
          "lifeExp": 30,
          "pop": 284320,
          "year": 1952
         },
         {
          "continent": "Africa",
          "country": "Gambia",
          "gdpPercap": 752.7497265,
          "lifeExp": 59.448,
          "pop": 1688359,
          "year": 2007
         },
         {
          "continent": "Europe",
          "country": "Germany",
          "gdpPercap": 7144.114393000001,
          "lifeExp": 67.5,
          "pop": 69145952,
          "year": 1952
         },
         {
          "continent": "Europe",
          "country": "Germany",
          "gdpPercap": 32170.37442,
          "lifeExp": 79.406,
          "pop": 82400996,
          "year": 2007
         },
         {
          "continent": "Africa",
          "country": "Ghana",
          "gdpPercap": 911.2989371,
          "lifeExp": 43.148999999999994,
          "pop": 5581001,
          "year": 1952
         },
         {
          "continent": "Africa",
          "country": "Ghana",
          "gdpPercap": 1327.60891,
          "lifeExp": 60.022,
          "pop": 22873338,
          "year": 2007
         },
         {
          "continent": "Europe",
          "country": "Greece",
          "gdpPercap": 3530.690067,
          "lifeExp": 65.86,
          "pop": 7733250,
          "year": 1952
         },
         {
          "continent": "Europe",
          "country": "Greece",
          "gdpPercap": 27538.41188,
          "lifeExp": 79.483,
          "pop": 10706290,
          "year": 2007
         },
         {
          "continent": "Americas",
          "country": "Guatemala",
          "gdpPercap": 2428.2377690000003,
          "lifeExp": 42.023,
          "pop": 3146381,
          "year": 1952
         },
         {
          "continent": "Americas",
          "country": "Guatemala",
          "gdpPercap": 5186.050003,
          "lifeExp": 70.259,
          "pop": 12572928,
          "year": 2007
         },
         {
          "continent": "Africa",
          "country": "Guinea",
          "gdpPercap": 510.19649230000005,
          "lifeExp": 33.609,
          "pop": 2664249,
          "year": 1952
         },
         {
          "continent": "Africa",
          "country": "Guinea",
          "gdpPercap": 942.6542111,
          "lifeExp": 56.007,
          "pop": 9947814,
          "year": 2007
         },
         {
          "continent": "Africa",
          "country": "Guinea-Bissau",
          "gdpPercap": 299.850319,
          "lifeExp": 32.5,
          "pop": 580653,
          "year": 1952
         },
         {
          "continent": "Africa",
          "country": "Guinea-Bissau",
          "gdpPercap": 579.2317429999999,
          "lifeExp": 46.388000000000005,
          "pop": 1472041,
          "year": 2007
         },
         {
          "continent": "Americas",
          "country": "Haiti",
          "gdpPercap": 1840.366939,
          "lifeExp": 37.579,
          "pop": 3201488,
          "year": 1952
         },
         {
          "continent": "Americas",
          "country": "Haiti",
          "gdpPercap": 1201.637154,
          "lifeExp": 60.916000000000004,
          "pop": 8502814,
          "year": 2007
         },
         {
          "continent": "Americas",
          "country": "Honduras",
          "gdpPercap": 2194.926204,
          "lifeExp": 41.912,
          "pop": 1517453,
          "year": 1952
         },
         {
          "continent": "Americas",
          "country": "Honduras",
          "gdpPercap": 3548.3308460000003,
          "lifeExp": 70.19800000000001,
          "pop": 7483763,
          "year": 2007
         },
         {
          "continent": "Asia",
          "country": "Hong Kong, China",
          "gdpPercap": 3054.421209,
          "lifeExp": 60.96,
          "pop": 2125900,
          "year": 1952
         },
         {
          "continent": "Asia",
          "country": "Hong Kong, China",
          "gdpPercap": 39724.97867,
          "lifeExp": 82.208,
          "pop": 6980412,
          "year": 2007
         },
         {
          "continent": "Europe",
          "country": "Hungary",
          "gdpPercap": 5263.6738159999995,
          "lifeExp": 64.03,
          "pop": 9504000,
          "year": 1952
         },
         {
          "continent": "Europe",
          "country": "Hungary",
          "gdpPercap": 18008.94444,
          "lifeExp": 73.33800000000001,
          "pop": 9956108,
          "year": 2007
         },
         {
          "continent": "Europe",
          "country": "Iceland",
          "gdpPercap": 7267.688428,
          "lifeExp": 72.49,
          "pop": 147962,
          "year": 1952
         },
         {
          "continent": "Europe",
          "country": "Iceland",
          "gdpPercap": 36180.789189999996,
          "lifeExp": 81.757,
          "pop": 301931,
          "year": 2007
         },
         {
          "continent": "Asia",
          "country": "India",
          "gdpPercap": 546.5657493,
          "lifeExp": 37.373000000000005,
          "pop": 372000000,
          "year": 1952
         },
         {
          "continent": "Asia",
          "country": "India",
          "gdpPercap": 2452.210407,
          "lifeExp": 64.69800000000001,
          "pop": 1110396331,
          "year": 2007
         },
         {
          "continent": "Asia",
          "country": "Indonesia",
          "gdpPercap": 749.6816546,
          "lifeExp": 37.468,
          "pop": 82052000,
          "year": 1952
         },
         {
          "continent": "Asia",
          "country": "Indonesia",
          "gdpPercap": 3540.6515640000002,
          "lifeExp": 70.65,
          "pop": 223547000,
          "year": 2007
         },
         {
          "continent": "Asia",
          "country": "Iran",
          "gdpPercap": 3035.326002,
          "lifeExp": 44.869,
          "pop": 17272000,
          "year": 1952
         },
         {
          "continent": "Asia",
          "country": "Iran",
          "gdpPercap": 11605.71449,
          "lifeExp": 70.964,
          "pop": 69453570,
          "year": 2007
         },
         {
          "continent": "Asia",
          "country": "Iraq",
          "gdpPercap": 4129.766056,
          "lifeExp": 45.32,
          "pop": 5441766,
          "year": 1952
         },
         {
          "continent": "Asia",
          "country": "Iraq",
          "gdpPercap": 4471.061906,
          "lifeExp": 59.545,
          "pop": 27499638,
          "year": 2007
         },
         {
          "continent": "Europe",
          "country": "Ireland",
          "gdpPercap": 5210.280328,
          "lifeExp": 66.91,
          "pop": 2952156,
          "year": 1952
         },
         {
          "continent": "Europe",
          "country": "Ireland",
          "gdpPercap": 40675.99635,
          "lifeExp": 78.885,
          "pop": 4109086,
          "year": 2007
         },
         {
          "continent": "Asia",
          "country": "Israel",
          "gdpPercap": 4086.522128,
          "lifeExp": 65.39,
          "pop": 1620914,
          "year": 1952
         },
         {
          "continent": "Asia",
          "country": "Israel",
          "gdpPercap": 25523.2771,
          "lifeExp": 80.745,
          "pop": 6426679,
          "year": 2007
         },
         {
          "continent": "Europe",
          "country": "Italy",
          "gdpPercap": 4931.404154999999,
          "lifeExp": 65.94,
          "pop": 47666000,
          "year": 1952
         },
         {
          "continent": "Europe",
          "country": "Italy",
          "gdpPercap": 28569.7197,
          "lifeExp": 80.546,
          "pop": 58147733,
          "year": 2007
         },
         {
          "continent": "Americas",
          "country": "Jamaica",
          "gdpPercap": 2898.5308809999997,
          "lifeExp": 58.53,
          "pop": 1426095,
          "year": 1952
         },
         {
          "continent": "Americas",
          "country": "Jamaica",
          "gdpPercap": 7320.880262000001,
          "lifeExp": 72.567,
          "pop": 2780132,
          "year": 2007
         },
         {
          "continent": "Asia",
          "country": "Japan",
          "gdpPercap": 3216.956347,
          "lifeExp": 63.03,
          "pop": 86459025,
          "year": 1952
         },
         {
          "continent": "Asia",
          "country": "Japan",
          "gdpPercap": 31656.06806,
          "lifeExp": 82.603,
          "pop": 127467972,
          "year": 2007
         },
         {
          "continent": "Asia",
          "country": "Jordan",
          "gdpPercap": 1546.907807,
          "lifeExp": 43.158,
          "pop": 607914,
          "year": 1952
         },
         {
          "continent": "Asia",
          "country": "Jordan",
          "gdpPercap": 4519.461171,
          "lifeExp": 72.535,
          "pop": 6053193,
          "year": 2007
         },
         {
          "continent": "Africa",
          "country": "Kenya",
          "gdpPercap": 853.5409189999999,
          "lifeExp": 42.27,
          "pop": 6464046,
          "year": 1952
         },
         {
          "continent": "Africa",
          "country": "Kenya",
          "gdpPercap": 1463.249282,
          "lifeExp": 54.11,
          "pop": 35610177,
          "year": 2007
         },
         {
          "continent": "Asia",
          "country": "Korea, Dem. Rep.",
          "gdpPercap": 1088.277758,
          "lifeExp": 50.056000000000004,
          "pop": 8865488,
          "year": 1952
         },
         {
          "continent": "Asia",
          "country": "Korea, Dem. Rep.",
          "gdpPercap": 1593.06548,
          "lifeExp": 67.297,
          "pop": 23301725,
          "year": 2007
         },
         {
          "continent": "Asia",
          "country": "Korea, Rep.",
          "gdpPercap": 1030.592226,
          "lifeExp": 47.453,
          "pop": 20947571,
          "year": 1952
         },
         {
          "continent": "Asia",
          "country": "Korea, Rep.",
          "gdpPercap": 23348.139730000003,
          "lifeExp": 78.623,
          "pop": 49044790,
          "year": 2007
         },
         {
          "continent": "Asia",
          "country": "Kuwait",
          "gdpPercap": 108382.3529,
          "lifeExp": 55.565,
          "pop": 160000,
          "year": 1952
         },
         {
          "continent": "Asia",
          "country": "Kuwait",
          "gdpPercap": 47306.98978,
          "lifeExp": 77.58800000000001,
          "pop": 2505559,
          "year": 2007
         },
         {
          "continent": "Asia",
          "country": "Lebanon",
          "gdpPercap": 4834.804067,
          "lifeExp": 55.928000000000004,
          "pop": 1439529,
          "year": 1952
         },
         {
          "continent": "Asia",
          "country": "Lebanon",
          "gdpPercap": 10461.05868,
          "lifeExp": 71.993,
          "pop": 3921278,
          "year": 2007
         },
         {
          "continent": "Africa",
          "country": "Lesotho",
          "gdpPercap": 298.8462121,
          "lifeExp": 42.138000000000005,
          "pop": 748747,
          "year": 1952
         },
         {
          "continent": "Africa",
          "country": "Lesotho",
          "gdpPercap": 1569.331442,
          "lifeExp": 42.592,
          "pop": 2012649,
          "year": 2007
         },
         {
          "continent": "Africa",
          "country": "Liberia",
          "gdpPercap": 575.5729961000001,
          "lifeExp": 38.48,
          "pop": 863308,
          "year": 1952
         },
         {
          "continent": "Africa",
          "country": "Liberia",
          "gdpPercap": 414.5073415,
          "lifeExp": 45.678000000000004,
          "pop": 3193942,
          "year": 2007
         },
         {
          "continent": "Africa",
          "country": "Libya",
          "gdpPercap": 2387.54806,
          "lifeExp": 42.723,
          "pop": 1019729,
          "year": 1952
         },
         {
          "continent": "Africa",
          "country": "Libya",
          "gdpPercap": 12057.49928,
          "lifeExp": 73.952,
          "pop": 6036914,
          "year": 2007
         },
         {
          "continent": "Africa",
          "country": "Madagascar",
          "gdpPercap": 1443.011715,
          "lifeExp": 36.681,
          "pop": 4762912,
          "year": 1952
         },
         {
          "continent": "Africa",
          "country": "Madagascar",
          "gdpPercap": 1044.770126,
          "lifeExp": 59.443000000000005,
          "pop": 19167654,
          "year": 2007
         },
         {
          "continent": "Africa",
          "country": "Malawi",
          "gdpPercap": 369.1650802,
          "lifeExp": 36.256,
          "pop": 2917802,
          "year": 1952
         },
         {
          "continent": "Africa",
          "country": "Malawi",
          "gdpPercap": 759.3499101,
          "lifeExp": 48.303000000000004,
          "pop": 13327079,
          "year": 2007
         },
         {
          "continent": "Asia",
          "country": "Malaysia",
          "gdpPercap": 1831.132894,
          "lifeExp": 48.463,
          "pop": 6748378,
          "year": 1952
         },
         {
          "continent": "Asia",
          "country": "Malaysia",
          "gdpPercap": 12451.6558,
          "lifeExp": 74.241,
          "pop": 24821286,
          "year": 2007
         },
         {
          "continent": "Africa",
          "country": "Mali",
          "gdpPercap": 452.3369807,
          "lifeExp": 33.685,
          "pop": 3838168,
          "year": 1952
         },
         {
          "continent": "Africa",
          "country": "Mali",
          "gdpPercap": 1042.581557,
          "lifeExp": 54.467,
          "pop": 12031795,
          "year": 2007
         },
         {
          "continent": "Africa",
          "country": "Mauritania",
          "gdpPercap": 743.1159097,
          "lifeExp": 40.543,
          "pop": 1022556,
          "year": 1952
         },
         {
          "continent": "Africa",
          "country": "Mauritania",
          "gdpPercap": 1803.1514960000002,
          "lifeExp": 64.164,
          "pop": 3270065,
          "year": 2007
         },
         {
          "continent": "Africa",
          "country": "Mauritius",
          "gdpPercap": 1967.955707,
          "lifeExp": 50.986000000000004,
          "pop": 516556,
          "year": 1952
         },
         {
          "continent": "Africa",
          "country": "Mauritius",
          "gdpPercap": 10956.99112,
          "lifeExp": 72.801,
          "pop": 1250882,
          "year": 2007
         },
         {
          "continent": "Americas",
          "country": "Mexico",
          "gdpPercap": 3478.125529,
          "lifeExp": 50.788999999999994,
          "pop": 30144317,
          "year": 1952
         },
         {
          "continent": "Americas",
          "country": "Mexico",
          "gdpPercap": 11977.57496,
          "lifeExp": 76.195,
          "pop": 108700891,
          "year": 2007
         },
         {
          "continent": "Asia",
          "country": "Mongolia",
          "gdpPercap": 786.5668575,
          "lifeExp": 42.244,
          "pop": 800663,
          "year": 1952
         },
         {
          "continent": "Asia",
          "country": "Mongolia",
          "gdpPercap": 3095.7722710000003,
          "lifeExp": 66.803,
          "pop": 2874127,
          "year": 2007
         },
         {
          "continent": "Europe",
          "country": "Montenegro",
          "gdpPercap": 2647.585601,
          "lifeExp": 59.163999999999994,
          "pop": 413834,
          "year": 1952
         },
         {
          "continent": "Europe",
          "country": "Montenegro",
          "gdpPercap": 9253.896111,
          "lifeExp": 74.543,
          "pop": 684736,
          "year": 2007
         },
         {
          "continent": "Africa",
          "country": "Morocco",
          "gdpPercap": 1688.20357,
          "lifeExp": 42.873000000000005,
          "pop": 9939217,
          "year": 1952
         },
         {
          "continent": "Africa",
          "country": "Morocco",
          "gdpPercap": 3820.17523,
          "lifeExp": 71.164,
          "pop": 33757175,
          "year": 2007
         },
         {
          "continent": "Africa",
          "country": "Mozambique",
          "gdpPercap": 468.5260381,
          "lifeExp": 31.285999999999998,
          "pop": 6446316,
          "year": 1952
         },
         {
          "continent": "Africa",
          "country": "Mozambique",
          "gdpPercap": 823.6856205,
          "lifeExp": 42.082,
          "pop": 19951656,
          "year": 2007
         },
         {
          "continent": "Asia",
          "country": "Myanmar",
          "gdpPercap": 331,
          "lifeExp": 36.319,
          "pop": 20092996,
          "year": 1952
         },
         {
          "continent": "Asia",
          "country": "Myanmar",
          "gdpPercap": 944,
          "lifeExp": 62.068999999999996,
          "pop": 47761980,
          "year": 2007
         },
         {
          "continent": "Africa",
          "country": "Namibia",
          "gdpPercap": 2423.780443,
          "lifeExp": 41.725,
          "pop": 485831,
          "year": 1952
         },
         {
          "continent": "Africa",
          "country": "Namibia",
          "gdpPercap": 4811.060429,
          "lifeExp": 52.906000000000006,
          "pop": 2055080,
          "year": 2007
         },
         {
          "continent": "Asia",
          "country": "Nepal",
          "gdpPercap": 545.8657228999999,
          "lifeExp": 36.157,
          "pop": 9182536,
          "year": 1952
         },
         {
          "continent": "Asia",
          "country": "Nepal",
          "gdpPercap": 1091.359778,
          "lifeExp": 63.785,
          "pop": 28901790,
          "year": 2007
         },
         {
          "continent": "Europe",
          "country": "Netherlands",
          "gdpPercap": 8941.571858,
          "lifeExp": 72.13,
          "pop": 10381988,
          "year": 1952
         },
         {
          "continent": "Europe",
          "country": "Netherlands",
          "gdpPercap": 36797.93332,
          "lifeExp": 79.762,
          "pop": 16570613,
          "year": 2007
         },
         {
          "continent": "Oceania",
          "country": "New Zealand",
          "gdpPercap": 10556.575659999999,
          "lifeExp": 69.39,
          "pop": 1994794,
          "year": 1952
         },
         {
          "continent": "Oceania",
          "country": "New Zealand",
          "gdpPercap": 25185.00911,
          "lifeExp": 80.204,
          "pop": 4115771,
          "year": 2007
         },
         {
          "continent": "Americas",
          "country": "Nicaragua",
          "gdpPercap": 3112.363948,
          "lifeExp": 42.31399999999999,
          "pop": 1165790,
          "year": 1952
         },
         {
          "continent": "Americas",
          "country": "Nicaragua",
          "gdpPercap": 2749.320965,
          "lifeExp": 72.899,
          "pop": 5675356,
          "year": 2007
         },
         {
          "continent": "Africa",
          "country": "Niger",
          "gdpPercap": 761.879376,
          "lifeExp": 37.444,
          "pop": 3379468,
          "year": 1952
         },
         {
          "continent": "Africa",
          "country": "Niger",
          "gdpPercap": 619.6768923999999,
          "lifeExp": 56.867,
          "pop": 12894865,
          "year": 2007
         },
         {
          "continent": "Africa",
          "country": "Nigeria",
          "gdpPercap": 1077.281856,
          "lifeExp": 36.324,
          "pop": 33119096,
          "year": 1952
         },
         {
          "continent": "Africa",
          "country": "Nigeria",
          "gdpPercap": 2013.9773050000001,
          "lifeExp": 46.858999999999995,
          "pop": 135031164,
          "year": 2007
         },
         {
          "continent": "Europe",
          "country": "Norway",
          "gdpPercap": 10095.42172,
          "lifeExp": 72.67,
          "pop": 3327728,
          "year": 1952
         },
         {
          "continent": "Europe",
          "country": "Norway",
          "gdpPercap": 49357.19017,
          "lifeExp": 80.196,
          "pop": 4627926,
          "year": 2007
         },
         {
          "continent": "Asia",
          "country": "Oman",
          "gdpPercap": 1828.230307,
          "lifeExp": 37.578,
          "pop": 507833,
          "year": 1952
         },
         {
          "continent": "Asia",
          "country": "Oman",
          "gdpPercap": 22316.19287,
          "lifeExp": 75.64,
          "pop": 3204897,
          "year": 2007
         },
         {
          "continent": "Asia",
          "country": "Pakistan",
          "gdpPercap": 684.5971437999999,
          "lifeExp": 43.43600000000001,
          "pop": 41346560,
          "year": 1952
         },
         {
          "continent": "Asia",
          "country": "Pakistan",
          "gdpPercap": 2605.94758,
          "lifeExp": 65.483,
          "pop": 169270617,
          "year": 2007
         },
         {
          "continent": "Americas",
          "country": "Panama",
          "gdpPercap": 2480.380334,
          "lifeExp": 55.191,
          "pop": 940080,
          "year": 1952
         },
         {
          "continent": "Americas",
          "country": "Panama",
          "gdpPercap": 9809.185636,
          "lifeExp": 75.53699999999999,
          "pop": 3242173,
          "year": 2007
         },
         {
          "continent": "Americas",
          "country": "Paraguay",
          "gdpPercap": 1952.3087010000002,
          "lifeExp": 62.648999999999994,
          "pop": 1555876,
          "year": 1952
         },
         {
          "continent": "Americas",
          "country": "Paraguay",
          "gdpPercap": 4172.838464,
          "lifeExp": 71.752,
          "pop": 6667147,
          "year": 2007
         },
         {
          "continent": "Americas",
          "country": "Peru",
          "gdpPercap": 3758.523437,
          "lifeExp": 43.902,
          "pop": 8025700,
          "year": 1952
         },
         {
          "continent": "Americas",
          "country": "Peru",
          "gdpPercap": 7408.905561,
          "lifeExp": 71.421,
          "pop": 28674757,
          "year": 2007
         },
         {
          "continent": "Asia",
          "country": "Philippines",
          "gdpPercap": 1272.880995,
          "lifeExp": 47.751999999999995,
          "pop": 22438691,
          "year": 1952
         },
         {
          "continent": "Asia",
          "country": "Philippines",
          "gdpPercap": 3190.481016,
          "lifeExp": 71.688,
          "pop": 91077287,
          "year": 2007
         },
         {
          "continent": "Europe",
          "country": "Poland",
          "gdpPercap": 4029.3296990000003,
          "lifeExp": 61.31,
          "pop": 25730551,
          "year": 1952
         },
         {
          "continent": "Europe",
          "country": "Poland",
          "gdpPercap": 15389.924680000002,
          "lifeExp": 75.563,
          "pop": 38518241,
          "year": 2007
         },
         {
          "continent": "Europe",
          "country": "Portugal",
          "gdpPercap": 3068.319867,
          "lifeExp": 59.82,
          "pop": 8526050,
          "year": 1952
         },
         {
          "continent": "Europe",
          "country": "Portugal",
          "gdpPercap": 20509.64777,
          "lifeExp": 78.098,
          "pop": 10642836,
          "year": 2007
         },
         {
          "continent": "Americas",
          "country": "Puerto Rico",
          "gdpPercap": 3081.959785,
          "lifeExp": 64.28,
          "pop": 2227000,
          "year": 1952
         },
         {
          "continent": "Americas",
          "country": "Puerto Rico",
          "gdpPercap": 19328.70901,
          "lifeExp": 78.74600000000001,
          "pop": 3942491,
          "year": 2007
         },
         {
          "continent": "Africa",
          "country": "Reunion",
          "gdpPercap": 2718.885295,
          "lifeExp": 52.724,
          "pop": 257700,
          "year": 1952
         },
         {
          "continent": "Africa",
          "country": "Reunion",
          "gdpPercap": 7670.122558,
          "lifeExp": 76.442,
          "pop": 798094,
          "year": 2007
         },
         {
          "continent": "Europe",
          "country": "Romania",
          "gdpPercap": 3144.613186,
          "lifeExp": 61.05,
          "pop": 16630000,
          "year": 1952
         },
         {
          "continent": "Europe",
          "country": "Romania",
          "gdpPercap": 10808.47561,
          "lifeExp": 72.476,
          "pop": 22276056,
          "year": 2007
         },
         {
          "continent": "Africa",
          "country": "Rwanda",
          "gdpPercap": 493.32387520000003,
          "lifeExp": 40,
          "pop": 2534927,
          "year": 1952
         },
         {
          "continent": "Africa",
          "country": "Rwanda",
          "gdpPercap": 863.0884639000001,
          "lifeExp": 46.242,
          "pop": 8860588,
          "year": 2007
         },
         {
          "continent": "Africa",
          "country": "Sao Tome and Principe",
          "gdpPercap": 879.5835855,
          "lifeExp": 46.471000000000004,
          "pop": 60011,
          "year": 1952
         },
         {
          "continent": "Africa",
          "country": "Sao Tome and Principe",
          "gdpPercap": 1598.435089,
          "lifeExp": 65.528,
          "pop": 199579,
          "year": 2007
         },
         {
          "continent": "Asia",
          "country": "Saudi Arabia",
          "gdpPercap": 6459.5548229999995,
          "lifeExp": 39.875,
          "pop": 4005677,
          "year": 1952
         },
         {
          "continent": "Asia",
          "country": "Saudi Arabia",
          "gdpPercap": 21654.83194,
          "lifeExp": 72.777,
          "pop": 27601038,
          "year": 2007
         },
         {
          "continent": "Africa",
          "country": "Senegal",
          "gdpPercap": 1450.356983,
          "lifeExp": 37.278,
          "pop": 2755589,
          "year": 1952
         },
         {
          "continent": "Africa",
          "country": "Senegal",
          "gdpPercap": 1712.4721359999999,
          "lifeExp": 63.062,
          "pop": 12267493,
          "year": 2007
         },
         {
          "continent": "Europe",
          "country": "Serbia",
          "gdpPercap": 3581.4594479999996,
          "lifeExp": 57.996,
          "pop": 6860147,
          "year": 1952
         },
         {
          "continent": "Europe",
          "country": "Serbia",
          "gdpPercap": 9786.534714,
          "lifeExp": 74.002,
          "pop": 10150265,
          "year": 2007
         },
         {
          "continent": "Africa",
          "country": "Sierra Leone",
          "gdpPercap": 879.7877358,
          "lifeExp": 30.331,
          "pop": 2143249,
          "year": 1952
         },
         {
          "continent": "Africa",
          "country": "Sierra Leone",
          "gdpPercap": 862.5407561000001,
          "lifeExp": 42.568000000000005,
          "pop": 6144562,
          "year": 2007
         },
         {
          "continent": "Asia",
          "country": "Singapore",
          "gdpPercap": 2315.138227,
          "lifeExp": 60.396,
          "pop": 1127000,
          "year": 1952
         },
         {
          "continent": "Asia",
          "country": "Singapore",
          "gdpPercap": 47143.179639999995,
          "lifeExp": 79.972,
          "pop": 4553009,
          "year": 2007
         },
         {
          "continent": "Europe",
          "country": "Slovak Republic",
          "gdpPercap": 5074.659104,
          "lifeExp": 64.36,
          "pop": 3558137,
          "year": 1952
         },
         {
          "continent": "Europe",
          "country": "Slovak Republic",
          "gdpPercap": 18678.31435,
          "lifeExp": 74.663,
          "pop": 5447502,
          "year": 2007
         },
         {
          "continent": "Europe",
          "country": "Slovenia",
          "gdpPercap": 4215.041741,
          "lifeExp": 65.57,
          "pop": 1489518,
          "year": 1952
         },
         {
          "continent": "Europe",
          "country": "Slovenia",
          "gdpPercap": 25768.25759,
          "lifeExp": 77.926,
          "pop": 2009245,
          "year": 2007
         },
         {
          "continent": "Africa",
          "country": "Somalia",
          "gdpPercap": 1135.749842,
          "lifeExp": 32.978,
          "pop": 2526994,
          "year": 1952
         },
         {
          "continent": "Africa",
          "country": "Somalia",
          "gdpPercap": 926.1410683,
          "lifeExp": 48.159,
          "pop": 9118773,
          "year": 2007
         },
         {
          "continent": "Africa",
          "country": "South Africa",
          "gdpPercap": 4725.295531000001,
          "lifeExp": 45.00899999999999,
          "pop": 14264935,
          "year": 1952
         },
         {
          "continent": "Africa",
          "country": "South Africa",
          "gdpPercap": 9269.657808,
          "lifeExp": 49.339,
          "pop": 43997828,
          "year": 2007
         },
         {
          "continent": "Europe",
          "country": "Spain",
          "gdpPercap": 3834.0347420000003,
          "lifeExp": 64.94,
          "pop": 28549870,
          "year": 1952
         },
         {
          "continent": "Europe",
          "country": "Spain",
          "gdpPercap": 28821.0637,
          "lifeExp": 80.941,
          "pop": 40448191,
          "year": 2007
         },
         {
          "continent": "Asia",
          "country": "Sri Lanka",
          "gdpPercap": 1083.53203,
          "lifeExp": 57.593,
          "pop": 7982342,
          "year": 1952
         },
         {
          "continent": "Asia",
          "country": "Sri Lanka",
          "gdpPercap": 3970.0954070000003,
          "lifeExp": 72.396,
          "pop": 20378239,
          "year": 2007
         },
         {
          "continent": "Africa",
          "country": "Sudan",
          "gdpPercap": 1615.991129,
          "lifeExp": 38.635,
          "pop": 8504667,
          "year": 1952
         },
         {
          "continent": "Africa",
          "country": "Sudan",
          "gdpPercap": 2602.394995,
          "lifeExp": 58.556000000000004,
          "pop": 42292929,
          "year": 2007
         },
         {
          "continent": "Africa",
          "country": "Swaziland",
          "gdpPercap": 1148.376626,
          "lifeExp": 41.407,
          "pop": 290243,
          "year": 1952
         },
         {
          "continent": "Africa",
          "country": "Swaziland",
          "gdpPercap": 4513.480643,
          "lifeExp": 39.613,
          "pop": 1133066,
          "year": 2007
         },
         {
          "continent": "Europe",
          "country": "Sweden",
          "gdpPercap": 8527.844662000001,
          "lifeExp": 71.86,
          "pop": 7124673,
          "year": 1952
         },
         {
          "continent": "Europe",
          "country": "Sweden",
          "gdpPercap": 33859.74835,
          "lifeExp": 80.884,
          "pop": 9031088,
          "year": 2007
         },
         {
          "continent": "Europe",
          "country": "Switzerland",
          "gdpPercap": 14734.23275,
          "lifeExp": 69.62,
          "pop": 4815000,
          "year": 1952
         },
         {
          "continent": "Europe",
          "country": "Switzerland",
          "gdpPercap": 37506.419069999996,
          "lifeExp": 81.70100000000001,
          "pop": 7554661,
          "year": 2007
         },
         {
          "continent": "Asia",
          "country": "Syria",
          "gdpPercap": 1643.485354,
          "lifeExp": 45.883,
          "pop": 3661549,
          "year": 1952
         },
         {
          "continent": "Asia",
          "country": "Syria",
          "gdpPercap": 4184.548089,
          "lifeExp": 74.143,
          "pop": 19314747,
          "year": 2007
         },
         {
          "continent": "Asia",
          "country": "Taiwan",
          "gdpPercap": 1206.947913,
          "lifeExp": 58.5,
          "pop": 8550362,
          "year": 1952
         },
         {
          "continent": "Asia",
          "country": "Taiwan",
          "gdpPercap": 28718.27684,
          "lifeExp": 78.4,
          "pop": 23174294,
          "year": 2007
         },
         {
          "continent": "Africa",
          "country": "Tanzania",
          "gdpPercap": 716.6500721,
          "lifeExp": 41.215,
          "pop": 8322925,
          "year": 1952
         },
         {
          "continent": "Africa",
          "country": "Tanzania",
          "gdpPercap": 1107.482182,
          "lifeExp": 52.516999999999996,
          "pop": 38139640,
          "year": 2007
         },
         {
          "continent": "Asia",
          "country": "Thailand",
          "gdpPercap": 757.7974177,
          "lifeExp": 50.848,
          "pop": 21289402,
          "year": 1952
         },
         {
          "continent": "Asia",
          "country": "Thailand",
          "gdpPercap": 7458.3963269999995,
          "lifeExp": 70.616,
          "pop": 65068149,
          "year": 2007
         },
         {
          "continent": "Africa",
          "country": "Togo",
          "gdpPercap": 859.8086567,
          "lifeExp": 38.596,
          "pop": 1219113,
          "year": 1952
         },
         {
          "continent": "Africa",
          "country": "Togo",
          "gdpPercap": 882.9699437999999,
          "lifeExp": 58.42,
          "pop": 5701579,
          "year": 2007
         },
         {
          "continent": "Americas",
          "country": "Trinidad and Tobago",
          "gdpPercap": 3023.271928,
          "lifeExp": 59.1,
          "pop": 662850,
          "year": 1952
         },
         {
          "continent": "Americas",
          "country": "Trinidad and Tobago",
          "gdpPercap": 18008.50924,
          "lifeExp": 69.819,
          "pop": 1056608,
          "year": 2007
         },
         {
          "continent": "Africa",
          "country": "Tunisia",
          "gdpPercap": 1468.475631,
          "lifeExp": 44.6,
          "pop": 3647735,
          "year": 1952
         },
         {
          "continent": "Africa",
          "country": "Tunisia",
          "gdpPercap": 7092.923025,
          "lifeExp": 73.923,
          "pop": 10276158,
          "year": 2007
         },
         {
          "continent": "Europe",
          "country": "Turkey",
          "gdpPercap": 1969.1009800000002,
          "lifeExp": 43.585,
          "pop": 22235677,
          "year": 1952
         },
         {
          "continent": "Europe",
          "country": "Turkey",
          "gdpPercap": 8458.276384,
          "lifeExp": 71.777,
          "pop": 71158647,
          "year": 2007
         },
         {
          "continent": "Africa",
          "country": "Uganda",
          "gdpPercap": 734.753484,
          "lifeExp": 39.978,
          "pop": 5824797,
          "year": 1952
         },
         {
          "continent": "Africa",
          "country": "Uganda",
          "gdpPercap": 1056.3801210000001,
          "lifeExp": 51.542,
          "pop": 29170398,
          "year": 2007
         },
         {
          "continent": "Europe",
          "country": "United Kingdom",
          "gdpPercap": 9979.508487000001,
          "lifeExp": 69.18,
          "pop": 50430000,
          "year": 1952
         },
         {
          "continent": "Europe",
          "country": "United Kingdom",
          "gdpPercap": 33203.26128,
          "lifeExp": 79.425,
          "pop": 60776238,
          "year": 2007
         },
         {
          "continent": "Americas",
          "country": "United States",
          "gdpPercap": 13990.482080000002,
          "lifeExp": 68.44,
          "pop": 157553000,
          "year": 1952
         },
         {
          "continent": "Americas",
          "country": "United States",
          "gdpPercap": 42951.65309,
          "lifeExp": 78.242,
          "pop": 301139947,
          "year": 2007
         },
         {
          "continent": "Americas",
          "country": "Uruguay",
          "gdpPercap": 5716.766744,
          "lifeExp": 66.071,
          "pop": 2252965,
          "year": 1952
         },
         {
          "continent": "Americas",
          "country": "Uruguay",
          "gdpPercap": 10611.46299,
          "lifeExp": 76.384,
          "pop": 3447496,
          "year": 2007
         },
         {
          "continent": "Americas",
          "country": "Venezuela",
          "gdpPercap": 7689.799761,
          "lifeExp": 55.088,
          "pop": 5439568,
          "year": 1952
         },
         {
          "continent": "Americas",
          "country": "Venezuela",
          "gdpPercap": 11415.805690000001,
          "lifeExp": 73.747,
          "pop": 26084662,
          "year": 2007
         },
         {
          "continent": "Asia",
          "country": "Vietnam",
          "gdpPercap": 605.0664917,
          "lifeExp": 40.412,
          "pop": 26246839,
          "year": 1952
         },
         {
          "continent": "Asia",
          "country": "Vietnam",
          "gdpPercap": 2441.576404,
          "lifeExp": 74.249,
          "pop": 85262356,
          "year": 2007
         },
         {
          "continent": "Asia",
          "country": "West Bank and Gaza",
          "gdpPercap": 1515.5923289999998,
          "lifeExp": 43.16,
          "pop": 1030585,
          "year": 1952
         },
         {
          "continent": "Asia",
          "country": "West Bank and Gaza",
          "gdpPercap": 3025.349798,
          "lifeExp": 73.422,
          "pop": 4018332,
          "year": 2007
         },
         {
          "continent": "Asia",
          "country": "Yemen, Rep.",
          "gdpPercap": 781.7175761,
          "lifeExp": 32.548,
          "pop": 4963829,
          "year": 1952
         },
         {
          "continent": "Asia",
          "country": "Yemen, Rep.",
          "gdpPercap": 2280.769906,
          "lifeExp": 62.698,
          "pop": 22211743,
          "year": 2007
         },
         {
          "continent": "Africa",
          "country": "Zambia",
          "gdpPercap": 1147.388831,
          "lifeExp": 42.038000000000004,
          "pop": 2672000,
          "year": 1952
         },
         {
          "continent": "Africa",
          "country": "Zambia",
          "gdpPercap": 1271.211593,
          "lifeExp": 42.38399999999999,
          "pop": 11746035,
          "year": 2007
         },
         {
          "continent": "Africa",
          "country": "Zimbabwe",
          "gdpPercap": 406.8841148,
          "lifeExp": 48.451,
          "pop": 3080907,
          "year": 1952
         },
         {
          "continent": "Africa",
          "country": "Zimbabwe",
          "gdpPercap": 469.70929810000007,
          "lifeExp": 43.486999999999995,
          "pop": 12311143,
          "year": 2007
         }
        ]
       },
       "encoding": {
        "color": {
         "field": "continent",
         "legend": {
          "title": "Continent"
         },
         "type": "nominal"
        },
        "row": {
         "field": "year",
         "type": "quantitative"
        },
        "size": {
         "field": "pop",
         "legend": {
          "title": "Population"
         },
         "type": "quantitative"
        },
        "x": {
         "axis": {
          "title": "Log of GDP Per Capita"
         },
         "field": "gdpPercap",
         "scale": {
          "domain": [
           100,
           100000
          ],
          "type": "log"
         },
         "type": "quantitative"
        },
        "y": {
         "axis": {
          "title": "Life Expectancy"
         },
         "field": "lifeExp",
         "scale": {
          "domain": [
           30,
           90
          ],
          "zero": false
         },
         "type": "quantitative"
        }
       },
       "mark": "circle"
      },
      "image/png": "[encoded data removed]",
      "text/plain": [
       "<altair.VegaLite object>"
      ]
     },
     "execution_count": 10,
     "metadata": {},
     "output_type": "execute_result"
    }
   ],
   "source": [
    "alt.Chart(first_last).mark_circle().encode(\n",
    "    alt.X('gdpPercap', scale = alt.Scale(type='log', domain=[100,100000]),\n",
    "                       axis = alt.Axis(title = 'Log of GDP Per Capita')),\n",
    "    alt.Y('lifeExp', scale = alt.Scale(domain=[30,90], zero=False),\n",
    "                     axis = alt.Axis(title = 'Life Expectancy')),\n",
    "    alt.Size('pop', legend = alt.Legend(title = 'Population')),\n",
    "    alt.Color('continent:N',  legend = alt.Legend(title = 'Continent')),\n",
    "    alt.Row('year')\n",
    ")"
   ]
  }
 ],
 "metadata": {
  "kernelspec": {
   "display_name": "Python 3",
   "language": "python",
   "name": "python3"
  },
  "language_info": {
   "codemirror_mode": {
    "name": "ipython",
    "version": 3
   },
   "file_extension": ".py",
   "mimetype": "text/x-python",
   "name": "python",
   "nbconvert_exporter": "python",
   "pygments_lexer": "ipython3",
   "version": "3.6.3"
  }
 },
 "nbformat": 4,
 "nbformat_minor": 2
}
