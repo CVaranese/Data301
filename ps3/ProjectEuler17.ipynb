{
 "cells": [
  {
   "cell_type": "markdown",
   "metadata": {},
   "source": [
    "# Project Euler: Problem 17"
   ]
  },
  {
   "cell_type": "markdown",
   "metadata": {},
   "source": [
    "https://projecteuler.net/problem=17\n",
    "\n",
    "If the numbers 1 to 5 are written out in words: one, two, three, four, five, then there are 3 + 3 + 5 + 4 + 4 = 19 letters used in total.\n",
    "\n",
    "If all the numbers from 1 to 1000 (one thousand) inclusive were written out in words, how many letters would be used?\n",
    "\n",
    "\n",
    "NOTE: Do not count spaces or hyphens. For example, 342 (three hundred and forty-two) contains 23 letters and 115 (one hundred and fifteen) contains 20 letters. The use of \"and\" when writing out numbers is in compliance with British usage."
   ]
  },
  {
   "cell_type": "markdown",
   "metadata": {},
   "source": [
    "First write a `number_to_words(n)` function that takes an integer `n` between 1 and 1000 inclusive and returns a string of words for the number as described above"
   ]
  },
  {
   "cell_type": "code",
   "execution_count": 48,
   "metadata": {
    "deletable": false,
    "nbgrader": {
     "checksum": "a1ba444d361e2d62543d7db0d563fdd7",
     "grade": true,
     "grade_id": "projecteuler17a",
     "locked": false,
     "points": 2,
     "schema_version": 1,
     "solution": true
    }
   },
   "outputs": [],
   "source": [
    "def number_to_words(n):\n",
    "    \"\"\"Given a number n between 1-1000 inclusive return a list of words for the number.\"\"\"\n",
    "    number_string = ''\n",
    "    if n == 1000:\n",
    "        return 'one thousand'\n",
    "    elif n == 100:\n",
    "        number_string = 'one hundred'\n",
    "    elif n > 99:\n",
    "        number_string = number_to_words(n//100) + ' hundred'\n",
    "        if n%100 != 0:\n",
    "            number_string += ' and ' + number_to_words(n%100)\n",
    "    elif n > 19:\n",
    "        tens = n//10\n",
    "        if tens == 9:\n",
    "            number_string = \"ninety\"\n",
    "        if tens == 8:\n",
    "            number_string = \"eighty\"\n",
    "        if tens == 7:\n",
    "            number_string = \"seventy\"\n",
    "        if tens == 6:\n",
    "            number_string = \"sixty\"\n",
    "        if tens == 5:\n",
    "            number_string = \"fifty\"\n",
    "        if tens == 4:\n",
    "            number_string = \"forty\"\n",
    "        if tens == 3:\n",
    "            number_string = \"thirty\"\n",
    "        if tens == 2:\n",
    "            number_string = \"twenty\"\n",
    "        if n%10 > 0:\n",
    "            number_string = number_string + \"-\" + number_to_words(n%10)\n",
    "    elif n == 19:\n",
    "        number_string = \"nineteen\"\n",
    "    elif n == 18:\n",
    "        number_string = \"eighteen\"\n",
    "    elif n == 17:\n",
    "        number_string = \"seventeen\"\n",
    "    elif n == 16:\n",
    "        number_string = \"sixteen\"\n",
    "    elif n == 15:\n",
    "        number_string = \"fifteen\"\n",
    "    elif n == 14:\n",
    "        number_string = \"fourteen\"\n",
    "    elif n == 13:\n",
    "        number_string = \"thirteen\"\n",
    "    elif n == 12:\n",
    "        number_string = \"twelve\"\n",
    "    elif n == 11:\n",
    "        number_string = \"eleven\"\n",
    "    elif n == 10:\n",
    "        number_string = \"ten\"\n",
    "    elif n == 9:\n",
    "        number_string = \"nine\"\n",
    "    elif n == 8:\n",
    "        number_string = \"eight\"\n",
    "    elif n == 7:\n",
    "        number_string = \"seven\"\n",
    "    elif n == 6:\n",
    "        number_string = \"six\"\n",
    "    elif n == 5:\n",
    "        number_string = \"five\"\n",
    "    elif n == 4:\n",
    "        number_string = \"four\"\n",
    "    elif n == 3:\n",
    "        number_string = \"three\"\n",
    "    elif n == 2:\n",
    "        number_string = \"two\"\n",
    "    elif n == 1:\n",
    "        number_string = \"one\"\n",
    "    return number_string"
   ]
  },
  {
   "cell_type": "markdown",
   "metadata": {},
   "source": [
    "Now write a set of `assert` tests for your `number_to_words` function that verifies that it is working as expected."
   ]
  },
  {
   "cell_type": "code",
   "execution_count": 27,
   "metadata": {},
   "outputs": [
    {
     "name": "stdout",
     "output_type": "stream",
     "text": [
      "five hundred\n"
     ]
    }
   ],
   "source": [
    "print(number_to_words(500))"
   ]
  },
  {
   "cell_type": "code",
   "execution_count": 29,
   "metadata": {
    "deletable": false,
    "nbgrader": {
     "checksum": "ac363c7c875b7eb8b56cbc461725a1cc",
     "grade": true,
     "grade_id": "projecteuler17b",
     "locked": false,
     "points": 2,
     "schema_version": 1,
     "solution": true
    }
   },
   "outputs": [],
   "source": [
    "# YOUR CODE HERE\n",
    "assert(number_to_words(1000) == 'one thousand')\n",
    "assert(number_to_words(999) == 'nine hundred and ninety-nine')\n",
    "assert(number_to_words(78) == 'seventy-eight')\n",
    "assert(number_to_words(100) == 'one hundred')\n",
    "assert(number_to_words(814) == 'eight hundred and fourteen')\n",
    "assert(number_to_words(500) == 'five hundred')\n",
    "assert(number_to_words(642) == 'six hundred and forty-two')"
   ]
  },
  {
   "cell_type": "markdown",
   "metadata": {},
   "source": [
    "Now define a `count_letters(n)` that returns the number of letters used to write out the words for all of the the numbers `1` to `n` inclusive."
   ]
  },
  {
   "cell_type": "code",
   "execution_count": 36,
   "metadata": {
    "deletable": false,
    "nbgrader": {
     "checksum": "ec3d522ef66d2068950832459e7142f2",
     "grade": true,
     "grade_id": "projecteuler17c",
     "locked": false,
     "points": 2,
     "schema_version": 1,
     "solution": true
    }
   },
   "outputs": [],
   "source": [
    "def count_letters(n):\n",
    "    \"\"\"Count the number of letters used to write out the words for 1-n inclusive.\"\"\"\n",
    "    # YOUR CODE HERE\n",
    "    def count_number(word):\n",
    "        sum = 0\n",
    "        for i in word:\n",
    "            if i != ' ' and i != '-':\n",
    "                sum += 1\n",
    "        return sum\n",
    "    \n",
    "    total_sum = 0\n",
    "    for i in range(1, n+1):\n",
    "        total_sum += count_number(number_to_words(i))\n",
    "    return total_sum"
   ]
  },
  {
   "cell_type": "markdown",
   "metadata": {},
   "source": [
    "Now write a set of `assert` tests for your `count_letters` function that verifies that it is working as expected."
   ]
  },
  {
   "cell_type": "code",
   "execution_count": 52,
   "metadata": {
    "deletable": false,
    "nbgrader": {
     "checksum": "324d66978b5498d3b7df36e3793bc0c7",
     "grade": true,
     "grade_id": "projecteuler17d",
     "locked": false,
     "points": 2,
     "schema_version": 1,
     "solution": true
    }
   },
   "outputs": [],
   "source": [
    "# YOUR CODE HERE\n",
    "assert(count_letters(2) == len('onetwo'))\n",
    "assert(count_letters(5) == len('onetwothreefourfive'))\n",
    "assert(count_letters(11) == count_letters(10) + len('eleven'))\n",
    "assert(count_letters(25) == count_letters(24) + len('twentyfour'))\n",
    "assert(count_letters(16) == count_letters(15) + len('fifteen'))\n",
    "assert(count_letters(615) == count_letters(614) + len('sixhundredandfifteen'))\n",
    "assert(count_letters(9) == 36)\n",
    "assert(count_letters(19) == 36 + 70)\n",
    "assert(count_letters(99) == 36 + 70 + 748)"
   ]
  },
  {
   "cell_type": "markdown",
   "metadata": {},
   "source": [
    "Finally used your `count_letters` function to solve the original question."
   ]
  },
  {
   "cell_type": "code",
   "execution_count": 50,
   "metadata": {
    "deletable": false,
    "nbgrader": {
     "checksum": "c08acf66ff8af00cea13563b28a893e9",
     "grade": true,
     "grade_id": "projecteuler17e",
     "locked": false,
     "points": 2,
     "schema_version": 1,
     "solution": true
    }
   },
   "outputs": [
    {
     "name": "stdout",
     "output_type": "stream",
     "text": [
      "21124\n"
     ]
    }
   ],
   "source": [
    "# YOUR CODE HERE\n",
    "print(count_letters(1000))"
   ]
  }
 ],
 "metadata": {
  "kernelspec": {
   "display_name": "Python 3",
   "language": "python",
   "name": "python3"
  },
  "language_info": {
   "codemirror_mode": {
    "name": "ipython",
    "version": 3
   },
   "file_extension": ".py",
   "mimetype": "text/x-python",
   "name": "python",
   "nbconvert_exporter": "python",
   "pygments_lexer": "ipython3",
   "version": "3.6.3"
  }
 },
 "nbformat": 4,
 "nbformat_minor": 2
}
