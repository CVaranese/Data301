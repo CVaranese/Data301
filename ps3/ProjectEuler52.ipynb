{
 "cells": [
  {
   "cell_type": "markdown",
   "metadata": {},
   "source": [
    "# Project Euler: Problem 52"
   ]
  },
  {
   "cell_type": "markdown",
   "metadata": {},
   "source": [
    "https://projecteuler.net/problem=52\n",
    "\n",
    "It can be seen that the number, $125874$, and its double, $251748$, contain exactly the same digits, but in a different order.\n",
    "\n",
    "Find the smallest positive integer, $x$, such that $2x$, $3x$, $4x$, $5x$, and $6x$, contain the same digits."
   ]
  },
  {
   "cell_type": "markdown",
   "metadata": {},
   "source": [
    "First, write a function `same_digits(x,y)` that returns `True` if two integers `x` and `y` have the exact same set of digits and multiplicities and `False` if they have different digits."
   ]
  },
  {
   "cell_type": "code",
   "execution_count": 6,
   "metadata": {
    "deletable": false,
    "nbgrader": {
     "checksum": "2dd4de69c776df11b701349e87ca7dd9",
     "grade": false,
     "grade_id": "projecteuler52a",
     "locked": false,
     "schema_version": 1,
     "solution": true
    }
   },
   "outputs": [],
   "source": [
    "def same_digits(x, y):\n",
    "    \"\"\"Do the integers x and y have the same digits, regardless of order.\"\"\"\n",
    "    str_x = str(x)\n",
    "    str_y = str(y)\n",
    "    if len(str_x) != len(str_y):\n",
    "        return False\n",
    "    for i in str_x:\n",
    "        if i not in str_y:\n",
    "            return False\n",
    "    return True"
   ]
  },
  {
   "cell_type": "code",
   "execution_count": 5,
   "metadata": {
    "deletable": false,
    "editable": false,
    "nbgrader": {
     "checksum": "68dd62be6ea1a948a22a44b0dc533f80",
     "grade": true,
     "grade_id": "projecteuler52b",
     "locked": false,
     "points": 4,
     "schema_version": 1,
     "solution": false
    }
   },
   "outputs": [],
   "source": [
    "assert same_digits('132', '321')\n",
    "assert not same_digits('123', '3')\n",
    "assert not same_digits('456', '0987654321')"
   ]
  },
  {
   "cell_type": "markdown",
   "metadata": {},
   "source": [
    "Now use the `same_digits` function to solve this Euler problem. As you work on this problem, be careful to debug and test your code on small integers before trying it on the full search."
   ]
  },
  {
   "cell_type": "code",
   "execution_count": 16,
   "metadata": {
    "deletable": false,
    "nbgrader": {
     "checksum": "f4573370c3c6d32546e96be8069eb09f",
     "grade": true,
     "grade_id": "projecteuler52c",
     "locked": false,
     "points": 6,
     "schema_version": 1,
     "solution": true
    }
   },
   "outputs": [
    {
     "name": "stdout",
     "output_type": "stream",
     "text": [
      "N:  142857\n"
     ]
    }
   ],
   "source": [
    "# YOUR CODE HERE\n",
    "num = 100000 #has to have 6 digits\n",
    "while(True):\n",
    "    if same_digits(num, 2*num):\n",
    "        #print(\"2x: \", 2*num)\n",
    "        if same_digits(num, 3*num):\n",
    "            #print(\"3x: \", 3*num)\n",
    "            if same_digits(num, 4*num):\n",
    "                #print(\"4x: \", 4*num)\n",
    "                if same_digits(num, 5*num):\n",
    "                    #print(\"5x: \", 5*num)\n",
    "                    if same_digits(num, 6*num):\n",
    "                        #print(\"6x: \", 6*num)\n",
    "                        print(\"N: \", num)\n",
    "                        break\n",
    "    num += 1"
   ]
  }
 ],
 "metadata": {
  "kernelspec": {
   "display_name": "Python 3",
   "language": "python",
   "name": "python3"
  },
  "language_info": {
   "codemirror_mode": {
    "name": "ipython",
    "version": 3
   },
   "file_extension": ".py",
   "mimetype": "text/x-python",
   "name": "python",
   "nbconvert_exporter": "python",
   "pygments_lexer": "ipython3",
   "version": "3.6.3"
  }
 },
 "nbformat": 4,
 "nbformat_minor": 2
}
