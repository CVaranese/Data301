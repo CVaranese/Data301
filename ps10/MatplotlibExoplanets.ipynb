{
 "cells": [
  {
   "cell_type": "markdown",
   "metadata": {},
   "source": [
    "# Visualizing Exoplanets"
   ]
  },
  {
   "cell_type": "markdown",
   "metadata": {},
   "source": [
    "## Imports"
   ]
  },
  {
   "cell_type": "code",
   "execution_count": 1,
   "metadata": {},
   "outputs": [],
   "source": [
    "%matplotlib inline\n",
    "import matplotlib.pyplot as plt\n",
    "import numpy as np\n",
    "import pandas as pd"
   ]
  },
  {
   "cell_type": "markdown",
   "metadata": {},
   "source": [
    "## Exoplanet properties"
   ]
  },
  {
   "cell_type": "markdown",
   "metadata": {},
   "source": [
    "Over the past few decades, astronomers have discovered thousands of extrasolar planets. The following paper describes the properties of some of these planets.\n",
    "\n",
    "http://iopscience.iop.org/1402-4896/2008/T130/014001\n",
    "\n",
    "Your job is to reproduce Figures 2 and 4 from this paper using an up-to-date dataset of extrasolar planets found on this GitHub repo:\n",
    "\n",
    "https://github.com/OpenExoplanetCatalogue/open_exoplanet_catalogue\n",
    "\n",
    "A text version of the dataset has already been put into this directory. The top of the file has documentation about each column of data:"
   ]
  },
  {
   "cell_type": "code",
   "execution_count": 2,
   "metadata": {},
   "outputs": [
    {
     "name": "stdout",
     "output_type": "stream",
     "text": [
      "# Open Exoplanet Catalogue.\n",
      "# https://github.com/hannorein/open_exoplanet_catalogue\n",
      "# \n",
      "# Columns: \n",
      "# \n",
      "#  1: Primary identifier of planet\n",
      "#  2: Binary flag [0=no known stellar binary companion; 1=P-type binary (circumbinary); 2=S-type binary; 3=orphan planet (no star)]\n",
      "#  3: Planetary mass [Jupiter masses]\n",
      "#  4: Radius [Jupiter radii]\n",
      "#  5: Period [days]\n",
      "#  6: Semi-major axis [Astronomical Units]\n",
      "#  7: Eccentricity\n",
      "#  8: Periastron [degree]\n",
      "#  9: Longitude [degree]\n",
      "# 10: Ascending node [degree]\n",
      "# 11: Inclination [degree]\n",
      "# 12: Surface or equilibrium temperature [K]\n",
      "# 13: Age [Gyr]\n",
      "# 14: Discovery method\n",
      "# 15: Discovery year [yyyy]\n",
      "# 16: Last updated [yy/mm/dd]\n",
      "# 17: Right ascension [hh mm ss]\n",
      "# 18: Declination [+/-dd mm ss]\n",
      "# 19: Distance from Sun [parsec]\n",
      "# 20: Host star mass [Solar masses]\n",
      "# 21: Host star radius [Solar radii]\n",
      "# 22: Host star metallicity [log relative to solar]\n",
      "# 23: Host star temperature [K]\n",
      "# 24: Host star age [Gyr]\n",
      "# \n",
      "KOI-1843.03,0,0.0014,0.054,0.1768913,0.0048,,,,,72,,,transit,2012,13/07/15,19 00 03.14,+40 13 14.7,,0.46,0.45,0.0,3584,\n",
      "KOI-1843.01,0,,0.114,4.194525,0.039,,,,,89.38,,,transit,,,19 00 03.14,+40 13 14.7,,0.46,0.45,0.0,3584,\n",
      "KOI-1843.02,0,,0.071,6.356006,0.052,,,,,88.24,,,transit,,,19 00 03.14,+40 13 14.7,,0.46,0.45,0.0,3584,\n",
      "Kepler-9 b,0,0.141900591,1.011544678,19.22418,0.143,0.0626,,,,87.1,707.2,,transit,2010,14/03/10,19 02 17,+38 24 03,650,1.05,1.23,0.17,5722.0,\n",
      "Kepler-9 c,0,0.0975369917,0.9750926178,39.03106,0.229,0.0684,,,,87.2,557.9,,transit,2010,14/03/10,19 02 17,+38 24 03,650,1.05,1.23,0.17,5722.0,\n",
      "Kepler-9 d,0,0.022,0.147,1.592851,0.0271,,,,,,1601.5,,transit,2010,14/03/10,19 02 17,+38 24 03,650,1.05,1.23,0.17,5722.0,\n",
      "HD 240210 b,0,6.9,,501.75,1.33,0.15,,,,,386.6,,RV,2009,09/06/10,23 10 29,+57 01 46,143,1.25,,-0.18,4290.0,\n",
      "OGLE-05-390L b,0,0.017,,3500,2.1,,,,,,,,microlensing,2005,06/04/12,17 54 19,-30 22 38,6500,0.22,,,3840.0,\n",
      "WASP-82 b,0,1.24,1.67,2.705782,0.0447,,,,,87.9,2190,,transit,2013,13/10/22,04 50 39,+01 53 38,200,1.63,2.18,0.12,6490,\n",
      "Gliese 1214 b,0,0.0195,0.2525,1.58040417,0.01488,0,,,,88.47,604,,transit,2009,10/12/07,17 15 18.94,+04 57 49.7,14.55,0.176,0.2213,0.1,3250,\n",
      "Kepler-153 b,0,,0.26610,18.870227,,,,,,,,,transit,2014,14/02/26,18 49 50,+48 15 25,626.10,0.8200,0.892,,5404,\n",
      "Kepler-153 c,0,,0.23056,46.902320,,,,,,,,,transit,2014,14/02/26,18 49 50,+48 15 25,626.10,0.8200,0.892,,5404,\n",
      "HD 4203 b,0,1.82,,437.05,1.1735,0.52,,,,,263.9,,RV,2001,14/03/11,00 44 41,+20 26 56,77.82,1.13,1.33,0.453,5702.0,\n",
      "HD 4203 c,0,2.17,,6700,6.95,0.24,,,,,,,RV,2014,14/03/11,00 44 41,+20 26 56,77.82,1.13,1.33,0.453,5702.0,\n",
      "HD 179079 b,0,0.08,,14.476,0.11,0.115,,,,,925.0,,RV,2009,09/08/13,19 11 10,-02 38 18,63.69,1.087,1.48,0.29,5724.0,\n",
      "HD 187123 b,0,0.52,,3.0965828,0.0426,0.01,,,,,1320.4,,RV,1998,10/12/17,19 46 57,+34 25 15,50,1.06,1.17,0.16,5714.0,\n",
      "HD 187123 c,0,1.99,,3810,4.89,0.252,,,,,122.7,,RV,1998,10/12/17,19 46 57,+34 25 15,50,1.06,1.17,0.16,5714.0,\n",
      "Kepler-431 b,0,,0.0682,6.803,0.0719,,,,,,,,transit,2015,15/03/18,18 44 26.96,+43 13 40.0,,1.071,1.092,,6004,\n",
      "Kepler-431 c,0,,0.0596,8.703,0.0847,,,,,,,,transit,2015,15/03/18,18 44 26.96,+43 13 40.0,,1.071,1.092,,6004,\n",
      "Kepler-431 d,0,,0.0990,11.922,0.1045,,,,,,,,transit,2015,15/03/18,18 44 26.96,+43 13 40.0,,1.071,1.092,,6004,\n"
     ]
    }
   ],
   "source": [
    "with open('data/open_exoplanet_catalogue.txt') as f:\n",
    "    for i in range(50):\n",
    "        print(f.readline(), end='')"
   ]
  },
  {
   "cell_type": "markdown",
   "metadata": {},
   "source": [
    "Use `np.genfromtxt` with a delimiter of `','` to read the data into a NumPy array called `data`:"
   ]
  },
  {
   "cell_type": "code",
   "execution_count": 3,
   "metadata": {
    "deletable": false,
    "nbgrader": {
     "checksum": "10a901ecbfe1e3a7fec85640cde63dec",
     "grade": false,
     "grade_id": "mpl-exoplanet-a",
     "locked": false,
     "schema_version": 1,
     "solution": true
    }
   },
   "outputs": [],
   "source": [
    "data = np.genfromtxt('data/open_exoplanet_catalogue.txt', delimiter=',')"
   ]
  },
  {
   "cell_type": "code",
   "execution_count": 4,
   "metadata": {
    "deletable": false,
    "editable": false,
    "nbgrader": {
     "checksum": "1e855794db0e51e6612303af54428e95",
     "grade": true,
     "grade_id": "mpl-exoplanet-b",
     "locked": false,
     "points": 2,
     "schema_version": 1,
     "solution": false
    }
   },
   "outputs": [],
   "source": [
    "assert data.shape==(1993,24)"
   ]
  },
  {
   "cell_type": "markdown",
   "metadata": {},
   "source": [
    "Create a Pandas `Series` object named `masses` with the masses of the planets. Drop all missing values and filter out (exclude) all planet masses larger than 15."
   ]
  },
  {
   "cell_type": "code",
   "execution_count": 5,
   "metadata": {
    "deletable": false,
    "nbgrader": {
     "checksum": "2d63099f5e6a376df71764fa8d6183ee",
     "grade": false,
     "grade_id": "mpl-exoplanet-aa",
     "locked": false,
     "schema_version": 1,
     "solution": true
    }
   },
   "outputs": [
    {
     "data": {
      "text/plain": [
       "1041"
      ]
     },
     "execution_count": 5,
     "metadata": {},
     "output_type": "execute_result"
    }
   ],
   "source": [
    "masses = pd.Series(data[:, 2]).dropna()\n",
    "masses = masses[masses < 15]\n",
    "len(masses)"
   ]
  },
  {
   "cell_type": "code",
   "execution_count": 6,
   "metadata": {
    "deletable": false,
    "editable": false,
    "nbgrader": {
     "checksum": "752c50475a6de1b89e3238d1ff785f05",
     "grade": true,
     "grade_id": "mpl-exoplanet-bb",
     "locked": false,
     "points": 2,
     "schema_version": 1,
     "solution": false
    }
   },
   "outputs": [],
   "source": [
    "assert len(masses)==1041\n",
    "assert type(masses)==pd.Series\n",
    "assert len(masses[masses > 15])==0"
   ]
  },
  {
   "cell_type": "markdown",
   "metadata": {},
   "source": [
    "Make a histogram of the distribution of planetary masses. This will reproduce Figure 2 in the original paper.\n",
    "\n",
    "* Use the default Matplotlib 2.0 style as your starting point.\n",
    "* Pick the number of bins for the histogram appropriately.\n",
    "* Use y axis gridlines.\n",
    "* Label the x- and y- axes and the plot title.\n",
    "* Use appropriate x and y limits."
   ]
  },
  {
   "cell_type": "code",
   "execution_count": 7,
   "metadata": {
    "deletable": false,
    "nbgrader": {
     "checksum": "c7d1fad940f9ddb57808420ca415c98b",
     "grade": true,
     "grade_id": "mpl-exoplanet-c",
     "locked": false,
     "points": 4,
     "schema_version": 1,
     "solution": true
    }
   },
   "outputs": [
    {
     "data": {
      "image/png": "[encoded data removed]",
      "text/plain": [
       "<matplotlib.figure.Figure at 0x7f40c3e4b588>"
      ]
     },
     "metadata": {},
     "output_type": "display_data"
    }
   ],
   "source": [
    "plt.hist(masses, bins = 100)\n",
    "plt.ylabel('Number of Planets')\n",
    "plt.xlabel('Mass (Jupiter Masses)')\n",
    "plt.grid(axis='y')"
   ]
  },
  {
   "cell_type": "markdown",
   "metadata": {},
   "source": [
    "Make a scatter plot of the orbital eccentricity (y) versus the semimajor axis. This will reproduce Figure 4 of the original paper.\n",
    "\n",
    "* Use the default Matplotlib 2.0 style as your starting point.\n",
    "* Use a log scale on the x axis.\n",
    "* Label the x- and y- axis and the plot title.\n",
    "* Use appropriate x and y limits.\n",
    "* Use black filled circles with an alpha of 0.3 for the marks."
   ]
  },
  {
   "cell_type": "code",
   "execution_count": 8,
   "metadata": {
    "deletable": false,
    "nbgrader": {
     "checksum": "baa96cbe7af3658b8c5be6d54421a9d0",
     "grade": true,
     "grade_id": "mpl-exoplanet-d",
     "locked": false,
     "points": 4,
     "schema_version": 1,
     "solution": true
    }
   },
   "outputs": [
    {
     "data": {
      "text/plain": [
       "Text(0.5,0,'Log of Semimajor Axis')"
      ]
     },
     "execution_count": 8,
     "metadata": {},
     "output_type": "execute_result"
    },
    {
     "data": {
      "image/png": "[encoded data removed]",
      "text/plain": [
       "<matplotlib.figure.Figure at 0x7f40c3b903c8>"
      ]
     },
     "metadata": {},
     "output_type": "display_data"
    }
   ],
   "source": [
    "df = pd.DataFrame(data[:, 5:7], columns=['Semimajor', 'Eccentricity']).dropna()\n",
    "plt.plot( 'Semimajor', 'Eccentricity', 'ok', alpha=.3, data=df)\n",
    "plt.xscale('log')\n",
    "plt.title('Eccentricity vs Semimajor Axis')\n",
    "plt.ylabel('Eccentricity')\n",
    "plt.xlabel('Log of Semimajor Axis')"
   ]
  }
 ],
 "metadata": {
  "kernelspec": {
   "display_name": "Python 3",
   "language": "python",
   "name": "python3"
  },
  "language_info": {
   "codemirror_mode": {
    "name": "ipython",
    "version": 3
   },
   "file_extension": ".py",
   "mimetype": "text/x-python",
   "name": "python",
   "nbconvert_exporter": "python",
   "pygments_lexer": "ipython3",
   "version": "3.6.3"
  }
 },
 "nbformat": 4,
 "nbformat_minor": 2
}
