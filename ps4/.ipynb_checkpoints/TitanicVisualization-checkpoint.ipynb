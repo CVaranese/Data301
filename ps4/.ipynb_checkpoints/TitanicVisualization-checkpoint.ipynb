{
 "cells": [
  {
   "cell_type": "markdown",
   "metadata": {},
   "source": [
    "# Titanic Visualization"
   ]
  },
  {
   "cell_type": "markdown",
   "metadata": {},
   "source": [
    "## Imports"
   ]
  },
  {
   "cell_type": "code",
   "execution_count": null,
   "metadata": {},
   "outputs": [],
   "source": [
    "import altair as alt\n",
    "alt.enable_mime_rendering()"
   ]
  },
  {
   "cell_type": "code",
   "execution_count": null,
   "metadata": {},
   "outputs": [],
   "source": [
    "from seaborn.utils import load_dataset as lds"
   ]
  },
  {
   "cell_type": "code",
   "execution_count": null,
   "metadata": {},
   "outputs": [],
   "source": [
    "df = lds('titanic')"
   ]
  },
  {
   "cell_type": "code",
   "execution_count": null,
   "metadata": {},
   "outputs": [],
   "source": [
    "df.head()"
   ]
  },
  {
   "cell_type": "markdown",
   "metadata": {},
   "source": [
    "# Age, sex and class\n",
    "\n",
    "Create a visualization to answer the following question:\n",
    "\n",
    "> How do the age, sex and class affect whether the person survived?\n",
    "\n",
    "Build your visualization using:\n",
    "\n",
    "* Tick marks\n",
    "* X -> age\n",
    "* Y -> sex\n",
    "* Color -> survived\n",
    "* Row -> class"
   ]
  },
  {
   "cell_type": "code",
   "execution_count": null,
   "metadata": {
    "deletable": false,
    "nbgrader": {
     "checksum": "2e48805cbac6649f6992cd05b7525911",
     "grade": true,
     "grade_id": "titanicviza",
     "locked": false,
     "points": 2,
     "schema_version": 1,
     "solution": true
    }
   },
   "outputs": [],
   "source": [
    "# YOUR CODE HERE\n",
    "raise NotImplementedError()"
   ]
  },
  {
   "cell_type": "markdown",
   "metadata": {},
   "source": [
    "# Age and fare\n",
    "\n",
    "Create a visualization to answer the following question:\n",
    "\n",
    "> Are there interesting patterns in the age, fare space related to a passenger surviving or not?\n",
    "\n",
    "Build your visualization using:\n",
    "\n",
    "* Point marks\n",
    "* X -> age\n",
    "* Y -> fare on a log scale\n",
    "* Color -> survived on a scale with green for survived and red for not\n",
    "* Row -> sex\n",
    "* Size -> class on a scale with Third the smallest and First the largest"
   ]
  },
  {
   "cell_type": "code",
   "execution_count": null,
   "metadata": {
    "deletable": false,
    "nbgrader": {
     "checksum": "fae77b72e2d274108975445b8a987886",
     "grade": true,
     "grade_id": "titanicvizb",
     "locked": false,
     "points": 4,
     "schema_version": 1,
     "solution": true
    }
   },
   "outputs": [],
   "source": [
    "# YOUR CODE HERE\n",
    "raise NotImplementedError()"
   ]
  },
  {
   "cell_type": "markdown",
   "metadata": {},
   "source": [
    "# Fare distribution\n",
    "\n",
    "Create a visualization to answer the following question:\n",
    "\n",
    "> How does the fare distribution vary with geographic region?\n",
    "\n",
    "Build your visualization using:\n",
    "\n",
    "* Bar marks as a histogram\n",
    "* X -> binned fare with at most 100 bins\n",
    "* Y -> the number of records, with 3 labeled ticks and a title of `N`\n",
    "* Row -> embark town, with a custom title of `Town`\n",
    "* A custom cell size of height 60 and width 240"
   ]
  },
  {
   "cell_type": "code",
   "execution_count": null,
   "metadata": {
    "deletable": false,
    "nbgrader": {
     "checksum": "e2540ae73ccd67694547d46756553d4d",
     "grade": true,
     "grade_id": "titanicvizc",
     "locked": false,
     "points": 2,
     "schema_version": 1,
     "solution": true
    }
   },
   "outputs": [],
   "source": [
    "# YOUR CODE HERE\n",
    "raise NotImplementedError()"
   ]
  }
 ],
 "metadata": {
  "kernelspec": {
   "display_name": "Python 3",
   "language": "python",
   "name": "python3"
  },
  "language_info": {
   "codemirror_mode": {
    "name": "ipython",
    "version": 3
   },
   "file_extension": ".py",
   "mimetype": "text/x-python",
   "name": "python",
   "nbconvert_exporter": "python",
   "pygments_lexer": "ipython3",
   "version": "3.6.3"
  }
 },
 "nbformat": 4,
 "nbformat_minor": 2
}
