{
 "cells": [
  {
   "cell_type": "markdown",
   "metadata": {},
   "source": [
    "# MLE for Poisson Distribution"
   ]
  },
  {
   "cell_type": "markdown",
   "metadata": {},
   "source": [
    "In this notebook you will perform [maximum likelihood estimation](https://en.wikipedia.org/wiki/Maximum_likelihood), or MLE, for the parameter $\\lambda$ in the [Poisson](https://en.wikipedia.org/wiki/Poisson_distribution) distribution and bootstrap the results."
   ]
  },
  {
   "cell_type": "markdown",
   "metadata": {},
   "source": [
    "## Imports"
   ]
  },
  {
   "cell_type": "code",
   "execution_count": 1,
   "metadata": {},
   "outputs": [],
   "source": [
    "import numpy as np\n",
    "import matplotlib.pyplot as plt\n",
    "%matplotlib inline"
   ]
  },
  {
   "cell_type": "code",
   "execution_count": 2,
   "metadata": {},
   "outputs": [],
   "source": [
    "from scipy.optimize import minimize\n",
    "from scipy.stats import poisson"
   ]
  },
  {
   "cell_type": "markdown",
   "metadata": {},
   "source": [
    "## Create a dataset"
   ]
  },
  {
   "cell_type": "markdown",
   "metadata": {},
   "source": [
    "Generate a dataset from the Poisson distribution with a known parameter $\\lambda$:"
   ]
  },
  {
   "cell_type": "code",
   "execution_count": 3,
   "metadata": {
    "deletable": false,
    "editable": false,
    "nbgrader": {
     "checksum": "adb1f488b3729da318719e7696697345",
     "grade": false,
     "grade_id": "mle-poisson-a",
     "locked": true,
     "schema_version": 1,
     "solution": false
    }
   },
   "outputs": [],
   "source": [
    "np.random.seed(0)\n",
    "λ = 3.0\n",
    "data = np.random.poisson(λ, size=20)"
   ]
  },
  {
   "cell_type": "markdown",
   "metadata": {},
   "source": [
    "## MLE with `scipy.optimize.minimize`"
   ]
  },
  {
   "cell_type": "markdown",
   "metadata": {},
   "source": [
    "Use SciPy, write a function that performs MLE for the $\\lambda$ parameter of the Poisson distribution. In your function you should:\n",
    "\n",
    "* Use `scipy.stats.poisson` to calculate the negative log-likelihood of the Poisson distribution.\n",
    "* Use `scipy.optimize.minimize` to minimize the negative log-likelihood."
   ]
  },
  {
   "cell_type": "code",
   "execution_count": 4,
   "metadata": {
    "deletable": false,
    "nbgrader": {
     "checksum": "d6f4d2b3505cf29d335d818a00b69f7a",
     "grade": false,
     "grade_id": "mle-poisson-f",
     "locked": false,
     "schema_version": 1,
     "solution": true
    }
   },
   "outputs": [],
   "source": [
    "def fit_lambda(data):\n",
    "    \"\"\"Perform MLE to estimate the λ parameter of the Poisson distribution.\n",
    "    \n",
    "    Parameters\n",
    "    ----------\n",
    "    data: ndarray\n",
    "        The data to use in estimating lambda\n",
    "    \n",
    "    Returns\n",
    "    -------\n",
    "    lambda: float\n",
    "        The MLE value for lambda\n",
    "    \"\"\"\n",
    "    nllh = lambda x: -1*sum(np.array(poisson.logpmf(data, x)))\n",
    "    val = minimize(nllh, sum(data)/len(data))\n",
    "    return val.x"
   ]
  },
  {
   "cell_type": "code",
   "execution_count": 5,
   "metadata": {
    "deletable": false,
    "editable": false,
    "nbgrader": {
     "checksum": "a42e20e12fff7ee30a4c84ee3e15f36b",
     "grade": true,
     "grade_id": "mle-poisson-g",
     "locked": true,
     "points": 2,
     "schema_version": 1,
     "solution": false
    }
   },
   "outputs": [],
   "source": [
    "assert abs(fit_lambda(3*np.ones(10))-3.0) < 1e-3\n",
    "assert abs(fit_lambda(100*np.ones(100))-100.0) < 1e-3\n",
    "assert abs(fit_lambda(data)-data.mean()) < 1e-3"
   ]
  },
  {
   "cell_type": "markdown",
   "metadata": {},
   "source": [
    "Here is the estimated value of $\\lambda$:"
   ]
  },
  {
   "cell_type": "code",
   "execution_count": 6,
   "metadata": {
    "deletable": false,
    "editable": false,
    "nbgrader": {
     "checksum": "71e55a31074f03933b6ef3589af91d57",
     "grade": false,
     "grade_id": "mle-poisson-h",
     "locked": true,
     "schema_version": 1,
     "solution": false
    }
   },
   "outputs": [
    {
     "data": {
      "text/plain": [
       "array([ 2.9])"
      ]
     },
     "execution_count": 6,
     "metadata": {},
     "output_type": "execute_result"
    }
   ],
   "source": [
    "fit_lambda(data)"
   ]
  },
  {
   "cell_type": "markdown",
   "metadata": {},
   "source": [
    "## Bootstrap"
   ]
  },
  {
   "cell_type": "markdown",
   "metadata": {},
   "source": [
    "We see that the MLE for $\\hat{\\lambda}$ is close to the original value of $\\lambda=3.0$. Bootstrap resample this estimator 200 times (using your faster version) to find the distribution of $\\hat{\\lambda}$. Save the distributions of $\\lambda$ values in an list or array named `estimates`:"
   ]
  },
  {
   "cell_type": "code",
   "execution_count": 7,
   "metadata": {
    "deletable": false,
    "nbgrader": {
     "checksum": "32b2f1c76cc2fea3600afdc33c6c33e1",
     "grade": true,
     "grade_id": "mle-poisson-j",
     "locked": false,
     "points": 2,
     "schema_version": 1,
     "solution": true
    }
   },
   "outputs": [],
   "source": [
    "λ = fit_lambda(data)\n",
    "estimates = np.array([])\n",
    "for i in range(200):\n",
    "    data = np.random.poisson(λ, size=20)\n",
    "    estimates = np.append(estimates, fit_lambda(data))"
   ]
  },
  {
   "cell_type": "markdown",
   "metadata": {},
   "source": [
    "Plot the distibution of bootstrapped estimates using Matplotlib. Lable your axes, use a grid and customize the bins:"
   ]
  },
  {
   "cell_type": "code",
   "execution_count": 8,
   "metadata": {
    "deletable": false,
    "nbgrader": {
     "checksum": "8f512919c1e5cdd69c9519a7108ae277",
     "grade": true,
     "grade_id": "mle-poisson-k",
     "locked": false,
     "points": 2,
     "schema_version": 1,
     "solution": true
    }
   },
   "outputs": [
    {
     "data": {
      "image/png": "[encoded data removed]",
      "text/plain": [
       "<matplotlib.figure.Figure at 0x7fd8daacc9b0>"
      ]
     },
     "metadata": {},
     "output_type": "display_data"
    }
   ],
   "source": [
    "plt.hist(estimates, bins = 20)\n",
    "plt.xlabel('λ Estimate')\n",
    "plt.ylabel('Number of Records')\n",
    "plt.grid(True)\n",
    "plt.show()"
   ]
  },
  {
   "cell_type": "markdown",
   "metadata": {},
   "source": [
    "Compute the print the 95% confidence interval:"
   ]
  },
  {
   "cell_type": "code",
   "execution_count": 9,
   "metadata": {
    "deletable": false,
    "nbgrader": {
     "checksum": "01a4a885938a5c40a74808d4c28da098",
     "grade": true,
     "grade_id": "mle-poisson-l",
     "locked": false,
     "points": 2,
     "schema_version": 1,
     "solution": true
    }
   },
   "outputs": [
    {
     "name": "stdout",
     "output_type": "stream",
     "text": [
      "95% confidence interval: [ 2.1      3.45125]\n"
     ]
    }
   ],
   "source": [
    "print(\"95% confidence interval:\", np.percentile(estimates, (2.5, 97.5)))"
   ]
  }
 ],
 "metadata": {
  "kernelspec": {
   "display_name": "Python 3",
   "language": "python",
   "name": "python3"
  },
  "language_info": {
   "codemirror_mode": {
    "name": "ipython",
    "version": 3
   },
   "file_extension": ".py",
   "mimetype": "text/x-python",
   "name": "python",
   "nbconvert_exporter": "python",
   "pygments_lexer": "ipython3",
   "version": "3.6.3"
  }
 },
 "nbformat": 4,
 "nbformat_minor": 2
}
