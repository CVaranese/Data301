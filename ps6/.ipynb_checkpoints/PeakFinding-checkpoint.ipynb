{
 "cells": [
  {
   "cell_type": "markdown",
   "metadata": {},
   "source": [
    "# Peak Finding"
   ]
  },
  {
   "cell_type": "markdown",
   "metadata": {},
   "source": [
    "In this notebook, you will learn about finding peaks in the values of an array."
   ]
  },
  {
   "cell_type": "markdown",
   "metadata": {},
   "source": [
    "## Imports"
   ]
  },
  {
   "cell_type": "code",
   "execution_count": 1,
   "metadata": {},
   "outputs": [],
   "source": [
    "import altair as alt\n",
    "alt.enable_mime_rendering()\n",
    "import numpy as np\n",
    "import pandas as pd"
   ]
  },
  {
   "cell_type": "markdown",
   "metadata": {},
   "source": [
    "## Peak finding"
   ]
  },
  {
   "cell_type": "markdown",
   "metadata": {},
   "source": [
    "Write a function, `find_peaks`, that finds and returns the indices of the *local maxima* in a sequence of values in an array. A *local maxima* is defined as a value whose neighboring values are all smaller. Your function should:\n",
    "\n",
    "* Properly handle local maxima at the endpoints of the input array.\n",
    "* Return a Numpy array of integer indices.\n",
    "* Handle any Python iterable as input."
   ]
  },
  {
   "cell_type": "code",
   "execution_count": 2,
   "metadata": {
    "deletable": false,
    "nbgrader": {
     "checksum": "fa3fd7defa303251ca4b1ebae2567182",
     "grade": false,
     "grade_id": "peakfindinga",
     "locked": false,
     "schema_version": 1,
     "solution": true
    }
   },
   "outputs": [],
   "source": [
    "def find_peaks(a):\n",
    "    \"\"\"Find the indices of the local maxima in a sequence.\"\"\"\n",
    "    listA = list(a)\n",
    "    local_maxima = []\n",
    "    for index, value in enumerate(a):\n",
    "        isMax = True\n",
    "        if index > 0:\n",
    "            isMax = isMax & (listA[index-1] < value)\n",
    "        if index < len(listA) - 1:\n",
    "            isMax = isMax & (listA[index+1] < value)\n",
    "        if(isMax):\n",
    "            local_maxima+=[index]\n",
    "    return np.array(local_maxima)"
   ]
  },
  {
   "cell_type": "code",
   "execution_count": 3,
   "metadata": {
    "deletable": false,
    "editable": false,
    "nbgrader": {
     "checksum": "34146e47b5672d71664347e97fe9bc41",
     "grade": true,
     "grade_id": "peakfindingb",
     "locked": false,
     "points": 4,
     "schema_version": 1,
     "solution": false
    }
   },
   "outputs": [],
   "source": [
    "p1 = find_peaks([2,0,1,0,2,0,1])\n",
    "assert np.allclose(p1, np.array([0,2,4,6]))\n",
    "p2 = find_peaks(np.array([0,1,2,3]))\n",
    "assert np.allclose(p2, np.array([3]))\n",
    "p3 = find_peaks([3,2,1,0])\n",
    "assert np.allclose(p3, np.array([0]))"
   ]
  },
  {
   "cell_type": "markdown",
   "metadata": {},
   "source": [
    "Here is a string with the first 10000 digits of $\\pi$ (after the decimal):"
   ]
  },
  {
   "cell_type": "code",
   "execution_count": 4,
   "metadata": {
    "deletable": false,
    "editable": false,
    "nbgrader": {
     "checksum": "1e5856f10179f12859e975172640f38c",
     "grade": false,
     "grade_id": "peakfindingc",
     "locked": true,
     "schema_version": 1,
     "solution": false
    }
   },
   "outputs": [
    {
     "name": "stdout",
     "output_type": "stream",
     "text": [
      "1415926535897932384626433832795028841971693993751058209749445923078164062862089986280348253421170679...\n"
     ]
    }
   ],
   "source": [
    "from sympy import pi, N\n",
    "pi_digits_str = str(N(pi, 10001))[2:]\n",
    "print(pi_digits_str[0:100]+'...')"
   ]
  },
  {
   "cell_type": "markdown",
   "metadata": {},
   "source": [
    "Write code to perform the following:\n",
    "\n",
    "* Convert that string to a Numpy array of integers.\n",
    "* Find the indices of the local maxima in the digits of $\\pi$.\n",
    "* Use `np.diff` to find the distances between consequtive local maxima.\n",
    "* Save the result in a Pandas `DataFrame` with a column name of `Distance`."
   ]
  },
  {
   "cell_type": "code",
   "execution_count": 5,
   "metadata": {
    "deletable": false,
    "nbgrader": {
     "checksum": "5e20b9af01498b3929fa68fc6b89c714",
     "grade": false,
     "grade_id": "peakfindingd",
     "locked": false,
     "schema_version": 1,
     "solution": true
    }
   },
   "outputs": [],
   "source": [
    "ints = np.array([char for char in pi_digits_str])\n",
    "peaks = find_peaks(ints)\n",
    "distances = np.diff(peaks)\n",
    "df = pd.DataFrame({'Distance': distances})"
   ]
  },
  {
   "cell_type": "code",
   "execution_count": 6,
   "metadata": {
    "deletable": false,
    "editable": false,
    "nbgrader": {
     "checksum": "fd17c9f3b9b02c5930bef4cfbbf39a8e",
     "grade": true,
     "grade_id": "peakfindinge",
     "locked": true,
     "points": 1,
     "schema_version": 1,
     "solution": false
    }
   },
   "outputs": [],
   "source": [
    "assert type(df)==pd.DataFrame\n",
    "assert df.columns[0]=='Distance'\n",
    "assert len(df)==2898\n",
    "assert df['Distance'].dtype==int"
   ]
  },
  {
   "cell_type": "markdown",
   "metadata": {},
   "source": [
    "Make a histogram of the `Distance` column using Altair:"
   ]
  },
  {
   "cell_type": "code",
   "execution_count": 7,
   "metadata": {
    "deletable": false,
    "nbgrader": {
     "checksum": "88e72a5db4604d699f20e4a03757aa5d",
     "grade": true,
     "grade_id": "peakfindingf",
     "locked": false,
     "points": 2,
     "schema_version": 1,
     "solution": true
    }
   },
   "outputs": [
    {
     "data": {
      "application/vnd.vegalite.v1+json": {
       "$schema": "https://vega.github.io/schema/vega-lite/v1.2.1.json",
       "data": {
        "values": [
         {
          "Distance": 3
         },
         {
          "Distance": 2
         },
         {
          "Distance": 5
         },
         {
          "Distance": 2
         },
         {
          "Distance": 4
         },
         {
          "Distance": 2
         },
         {
          "Distance": 2
         },
         {
          "Distance": 4
         },
         {
          "Distance": 4
         },
         {
          "Distance": 8
         },
         {
          "Distance": 4
         },
         {
          "Distance": 5
         },
         {
          "Distance": 5
         },
         {
          "Distance": 3
         },
         {
          "Distance": 3
         },
         {
          "Distance": 4
         },
         {
          "Distance": 2
         },
         {
          "Distance": 3
         },
         {
          "Distance": 2
         },
         {
          "Distance": 3
         },
         {
          "Distance": 2
         },
         {
          "Distance": 10
         },
         {
          "Distance": 4
         },
         {
          "Distance": 2
         },
         {
          "Distance": 2
         },
         {
          "Distance": 4
         },
         {
          "Distance": 4
         },
         {
          "Distance": 5
         },
         {
          "Distance": 2
         },
         {
          "Distance": 4
         },
         {
          "Distance": 2
         },
         {
          "Distance": 2
         },
         {
          "Distance": 5
         },
         {
          "Distance": 2
         },
         {
          "Distance": 2
         },
         {
          "Distance": 3
         },
         {
          "Distance": 2
         },
         {
          "Distance": 5
         },
         {
          "Distance": 3
         },
         {
          "Distance": 2
         },
         {
          "Distance": 2
         },
         {
          "Distance": 3
         },
         {
          "Distance": 3
         },
         {
          "Distance": 3
         },
         {
          "Distance": 2
         },
         {
          "Distance": 4
         },
         {
          "Distance": 2
         },
         {
          "Distance": 3
         },
         {
          "Distance": 5
         },
         {
          "Distance": 3
         },
         {
          "Distance": 2
         },
         {
          "Distance": 9
         },
         {
          "Distance": 4
         },
         {
          "Distance": 3
         },
         {
          "Distance": 3
         },
         {
          "Distance": 3
         },
         {
          "Distance": 4
         },
         {
          "Distance": 2
         },
         {
          "Distance": 9
         },
         {
          "Distance": 6
         },
         {
          "Distance": 5
         },
         {
          "Distance": 3
         },
         {
          "Distance": 2
         },
         {
          "Distance": 2
         },
         {
          "Distance": 2
         },
         {
          "Distance": 5
         },
         {
          "Distance": 3
         },
         {
          "Distance": 3
         },
         {
          "Distance": 3
         },
         {
          "Distance": 2
         },
         {
          "Distance": 3
         },
         {
          "Distance": 2
         },
         {
          "Distance": 4
         },
         {
          "Distance": 2
         },
         {
          "Distance": 4
         },
         {
          "Distance": 4
         },
         {
          "Distance": 4
         },
         {
          "Distance": 5
         },
         {
          "Distance": 7
         },
         {
          "Distance": 5
         },
         {
          "Distance": 2
         },
         {
          "Distance": 2
         },
         {
          "Distance": 2
         },
         {
          "Distance": 4
         },
         {
          "Distance": 2
         },
         {
          "Distance": 3
         },
         {
          "Distance": 2
         },
         {
          "Distance": 4
         },
         {
          "Distance": 7
         },
         {
          "Distance": 8
         },
         {
          "Distance": 5
         },
         {
          "Distance": 3
         },
         {
          "Distance": 3
         },
         {
          "Distance": 3
         },
         {
          "Distance": 2
         },
         {
          "Distance": 2
         },
         {
          "Distance": 3
         },
         {
          "Distance": 2
         },
         {
          "Distance": 2
         },
         {
          "Distance": 2
         },
         {
          "Distance": 6
         },
         {
          "Distance": 3
         },
         {
          "Distance": 3
         },
         {
          "Distance": 8
         },
         {
          "Distance": 3
         },
         {
          "Distance": 13
         },
         {
          "Distance": 5
         },
         {
          "Distance": 3
         },
         {
          "Distance": 3
         },
         {
          "Distance": 3
         },
         {
          "Distance": 2
         },
         {
          "Distance": 6
         },
         {
          "Distance": 2
         },
         {
          "Distance": 3
         },
         {
          "Distance": 2
         },
         {
          "Distance": 2
         },
         {
          "Distance": 2
         },
         {
          "Distance": 2
         },
         {
          "Distance": 4
         },
         {
          "Distance": 3
         },
         {
          "Distance": 4
         },
         {
          "Distance": 2
         },
         {
          "Distance": 2
         },
         {
          "Distance": 3
         },
         {
          "Distance": 4
         },
         {
          "Distance": 4
         },
         {
          "Distance": 3
         },
         {
          "Distance": 3
         },
         {
          "Distance": 2
         },
         {
          "Distance": 3
         },
         {
          "Distance": 8
         },
         {
          "Distance": 2
         },
         {
          "Distance": 3
         },
         {
          "Distance": 2
         },
         {
          "Distance": 5
         },
         {
          "Distance": 3
         },
         {
          "Distance": 4
         },
         {
          "Distance": 5
         },
         {
          "Distance": 2
         },
         {
          "Distance": 2
         },
         {
          "Distance": 5
         },
         {
          "Distance": 2
         },
         {
          "Distance": 3
         },
         {
          "Distance": 5
         },
         {
          "Distance": 3
         },
         {
          "Distance": 5
         },
         {
          "Distance": 7
         },
         {
          "Distance": 3
         },
         {
          "Distance": 3
         },
         {
          "Distance": 2
         },
         {
          "Distance": 2
         },
         {
          "Distance": 2
         },
         {
          "Distance": 5
         },
         {
          "Distance": 2
         },
         {
          "Distance": 2
         },
         {
          "Distance": 2
         },
         {
          "Distance": 2
         },
         {
          "Distance": 3
         },
         {
          "Distance": 4
         },
         {
          "Distance": 3
         },
         {
          "Distance": 6
         },
         {
          "Distance": 2
         },
         {
          "Distance": 3
         },
         {
          "Distance": 2
         },
         {
          "Distance": 3
         },
         {
          "Distance": 3
         },
         {
          "Distance": 2
         },
         {
          "Distance": 4
         },
         {
          "Distance": 3
         },
         {
          "Distance": 2
         },
         {
          "Distance": 2
         },
         {
          "Distance": 3
         },
         {
          "Distance": 3
         },
         {
          "Distance": 3
         },
         {
          "Distance": 2
         },
         {
          "Distance": 7
         },
         {
          "Distance": 3
         },
         {
          "Distance": 3
         },
         {
          "Distance": 2
         },
         {
          "Distance": 3
         },
         {
          "Distance": 2
         },
         {
          "Distance": 4
         },
         {
          "Distance": 6
         },
         {
          "Distance": 2
         },
         {
          "Distance": 5
         },
         {
          "Distance": 3
         },
         {
          "Distance": 2
         },
         {
          "Distance": 2
         },
         {
          "Distance": 2
         },
         {
          "Distance": 3
         },
         {
          "Distance": 6
         },
         {
          "Distance": 4
         },
         {
          "Distance": 6
         },
         {
          "Distance": 3
         },
         {
          "Distance": 5
         },
         {
          "Distance": 3
         },
         {
          "Distance": 2
         },
         {
          "Distance": 3
         },
         {
          "Distance": 3
         },
         {
          "Distance": 3
         },
         {
          "Distance": 4
         },
         {
          "Distance": 3
         },
         {
          "Distance": 4
         },
         {
          "Distance": 3
         },
         {
          "Distance": 8
         },
         {
          "Distance": 3
         },
         {
          "Distance": 3
         },
         {
          "Distance": 2
         },
         {
          "Distance": 2
         },
         {
          "Distance": 3
         },
         {
          "Distance": 8
         },
         {
          "Distance": 3
         },
         {
          "Distance": 4
         },
         {
          "Distance": 2
         },
         {
          "Distance": 7
         },
         {
          "Distance": 6
         },
         {
          "Distance": 2
         },
         {
          "Distance": 3
         },
         {
          "Distance": 14
         },
         {
          "Distance": 2
         },
         {
          "Distance": 2
         },
         {
          "Distance": 9
         },
         {
          "Distance": 4
         },
         {
          "Distance": 3
         },
         {
          "Distance": 2
         },
         {
          "Distance": 2
         },
         {
          "Distance": 4
         },
         {
          "Distance": 2
         },
         {
          "Distance": 7
         },
         {
          "Distance": 7
         },
         {
          "Distance": 2
         },
         {
          "Distance": 4
         },
         {
          "Distance": 3
         },
         {
          "Distance": 3
         },
         {
          "Distance": 2
         },
         {
          "Distance": 2
         },
         {
          "Distance": 6
         },
         {
          "Distance": 4
         },
         {
          "Distance": 2
         },
         {
          "Distance": 2
         },
         {
          "Distance": 7
         },
         {
          "Distance": 3
         },
         {
          "Distance": 4
         },
         {
          "Distance": 4
         },
         {
          "Distance": 2
         },
         {
          "Distance": 8
         },
         {
          "Distance": 7
         },
         {
          "Distance": 2
         },
         {
          "Distance": 2
         },
         {
          "Distance": 3
         },
         {
          "Distance": 2
         },
         {
          "Distance": 6
         },
         {
          "Distance": 3
         },
         {
          "Distance": 5
         },
         {
          "Distance": 3
         },
         {
          "Distance": 3
         },
         {
          "Distance": 2
         },
         {
          "Distance": 2
         },
         {
          "Distance": 6
         },
         {
          "Distance": 6
         },
         {
          "Distance": 2
         },
         {
          "Distance": 2
         },
         {
          "Distance": 7
         },
         {
          "Distance": 3
         },
         {
          "Distance": 3
         },
         {
          "Distance": 2
         },
         {
          "Distance": 3
         },
         {
          "Distance": 4
         },
         {
          "Distance": 2
         },
         {
          "Distance": 4
         },
         {
          "Distance": 2
         },
         {
          "Distance": 4
         },
         {
          "Distance": 5
         },
         {
          "Distance": 5
         },
         {
          "Distance": 4
         },
         {
          "Distance": 3
         },
         {
          "Distance": 7
         },
         {
          "Distance": 2
         },
         {
          "Distance": 2
         },
         {
          "Distance": 3
         },
         {
          "Distance": 5
         },
         {
          "Distance": 2
         },
         {
          "Distance": 2
         },
         {
          "Distance": 2
         },
         {
          "Distance": 4
         },
         {
          "Distance": 3
         },
         {
          "Distance": 2
         },
         {
          "Distance": 3
         },
         {
          "Distance": 2
         },
         {
          "Distance": 9
         },
         {
          "Distance": 2
         },
         {
          "Distance": 2
         },
         {
          "Distance": 3
         },
         {
          "Distance": 2
         },
         {
          "Distance": 3
         },
         {
          "Distance": 2
         },
         {
          "Distance": 2
         },
         {
          "Distance": 2
         },
         {
          "Distance": 3
         },
         {
          "Distance": 5
         },
         {
          "Distance": 4
         },
         {
          "Distance": 3
         },
         {
          "Distance": 9
         },
         {
          "Distance": 10
         },
         {
          "Distance": 4
         },
         {
          "Distance": 8
         },
         {
          "Distance": 4
         },
         {
          "Distance": 2
         },
         {
          "Distance": 2
         },
         {
          "Distance": 4
         },
         {
          "Distance": 2
         },
         {
          "Distance": 2
         },
         {
          "Distance": 2
         },
         {
          "Distance": 3
         },
         {
          "Distance": 3
         },
         {
          "Distance": 3
         },
         {
          "Distance": 2
         },
         {
          "Distance": 3
         },
         {
          "Distance": 2
         },
         {
          "Distance": 7
         },
         {
          "Distance": 3
         },
         {
          "Distance": 3
         },
         {
          "Distance": 5
         },
         {
          "Distance": 2
         },
         {
          "Distance": 3
         },
         {
          "Distance": 3
         },
         {
          "Distance": 2
         },
         {
          "Distance": 3
         },
         {
          "Distance": 2
         },
         {
          "Distance": 2
         },
         {
          "Distance": 2
         },
         {
          "Distance": 2
         },
         {
          "Distance": 3
         },
         {
          "Distance": 5
         },
         {
          "Distance": 2
         },
         {
          "Distance": 3
         },
         {
          "Distance": 7
         },
         {
          "Distance": 4
         },
         {
          "Distance": 3
         },
         {
          "Distance": 6
         },
         {
          "Distance": 4
         },
         {
          "Distance": 2
         },
         {
          "Distance": 2
         },
         {
          "Distance": 2
         },
         {
          "Distance": 4
         },
         {
          "Distance": 2
         },
         {
          "Distance": 2
         },
         {
          "Distance": 4
         },
         {
          "Distance": 3
         },
         {
          "Distance": 4
         },
         {
          "Distance": 2
         },
         {
          "Distance": 3
         },
         {
          "Distance": 4
         },
         {
          "Distance": 3
         },
         {
          "Distance": 2
         },
         {
          "Distance": 3
         },
         {
          "Distance": 3
         },
         {
          "Distance": 2
         },
         {
          "Distance": 3
         },
         {
          "Distance": 3
         },
         {
          "Distance": 6
         },
         {
          "Distance": 4
         },
         {
          "Distance": 3
         },
         {
          "Distance": 2
         },
         {
          "Distance": 3
         },
         {
          "Distance": 3
         },
         {
          "Distance": 4
         },
         {
          "Distance": 2
         },
         {
          "Distance": 3
         },
         {
          "Distance": 5
         },
         {
          "Distance": 4
         },
         {
          "Distance": 3
         },
         {
          "Distance": 2
         },
         {
          "Distance": 3
         },
         {
          "Distance": 11
         },
         {
          "Distance": 2
         },
         {
          "Distance": 2
         },
         {
          "Distance": 5
         },
         {
          "Distance": 4
         },
         {
          "Distance": 5
         },
         {
          "Distance": 5
         },
         {
          "Distance": 3
         },
         {
          "Distance": 3
         },
         {
          "Distance": 2
         },
         {
          "Distance": 3
         },
         {
          "Distance": 2
         },
         {
          "Distance": 4
         },
         {
          "Distance": 3
         },
         {
          "Distance": 2
         },
         {
          "Distance": 7
         },
         {
          "Distance": 7
         },
         {
          "Distance": 2
         },
         {
          "Distance": 3
         },
         {
          "Distance": 3
         },
         {
          "Distance": 2
         },
         {
          "Distance": 2
         },
         {
          "Distance": 5
         },
         {
          "Distance": 2
         },
         {
          "Distance": 2
         },
         {
          "Distance": 8
         },
         {
          "Distance": 3
         },
         {
          "Distance": 3
         },
         {
          "Distance": 3
         },
         {
          "Distance": 2
         },
         {
          "Distance": 2
         },
         {
          "Distance": 3
         },
         {
          "Distance": 2
         },
         {
          "Distance": 2
         },
         {
          "Distance": 3
         },
         {
          "Distance": 3
         },
         {
          "Distance": 7
         },
         {
          "Distance": 4
         },
         {
          "Distance": 2
         },
         {
          "Distance": 3
         },
         {
          "Distance": 3
         },
         {
          "Distance": 2
         },
         {
          "Distance": 6
         },
         {
          "Distance": 3
         },
         {
          "Distance": 2
         },
         {
          "Distance": 3
         },
         {
          "Distance": 3
         },
         {
          "Distance": 2
         },
         {
          "Distance": 6
         },
         {
          "Distance": 2
         },
         {
          "Distance": 7
         },
         {
          "Distance": 2
         },
         {
          "Distance": 2
         },
         {
          "Distance": 5
         },
         {
          "Distance": 4
         },
         {
          "Distance": 4
         },
         {
          "Distance": 7
         },
         {
          "Distance": 5
         },
         {
          "Distance": 6
         },
         {
          "Distance": 3
         },
         {
          "Distance": 5
         },
         {
          "Distance": 2
         },
         {
          "Distance": 10
         },
         {
          "Distance": 4
         },
         {
          "Distance": 4
         },
         {
          "Distance": 10
         },
         {
          "Distance": 3
         },
         {
          "Distance": 3
         },
         {
          "Distance": 4
         },
         {
          "Distance": 3
         },
         {
          "Distance": 6
         },
         {
          "Distance": 2
         },
         {
          "Distance": 3
         },
         {
          "Distance": 2
         },
         {
          "Distance": 3
         },
         {
          "Distance": 3
         },
         {
          "Distance": 2
         },
         {
          "Distance": 7
         },
         {
          "Distance": 2
         },
         {
          "Distance": 4
         },
         {
          "Distance": 2
         },
         {
          "Distance": 2
         },
         {
          "Distance": 2
         },
         {
          "Distance": 4
         },
         {
          "Distance": 3
         },
         {
          "Distance": 3
         },
         {
          "Distance": 2
         },
         {
          "Distance": 3
         },
         {
          "Distance": 4
         },
         {
          "Distance": 8
         },
         {
          "Distance": 3
         },
         {
          "Distance": 5
         },
         {
          "Distance": 5
         },
         {
          "Distance": 3
         },
         {
          "Distance": 2
         },
         {
          "Distance": 3
         },
         {
          "Distance": 4
         },
         {
          "Distance": 2
         },
         {
          "Distance": 9
         },
         {
          "Distance": 2
         },
         {
          "Distance": 3
         },
         {
          "Distance": 2
         },
         {
          "Distance": 3
         },
         {
          "Distance": 3
         },
         {
          "Distance": 7
         },
         {
          "Distance": 2
         },
         {
          "Distance": 2
         },
         {
          "Distance": 3
         },
         {
          "Distance": 5
         },
         {
          "Distance": 6
         },
         {
          "Distance": 3
         },
         {
          "Distance": 3
         },
         {
          "Distance": 3
         },
         {
          "Distance": 5
         },
         {
          "Distance": 2
         },
         {
          "Distance": 3
         },
         {
          "Distance": 7
         },
         {
          "Distance": 5
         },
         {
          "Distance": 3
         },
         {
          "Distance": 6
         },
         {
          "Distance": 9
         },
         {
          "Distance": 3
         },
         {
          "Distance": 3
         },
         {
          "Distance": 2
         },
         {
          "Distance": 3
         },
         {
          "Distance": 6
         },
         {
          "Distance": 3
         },
         {
          "Distance": 5
         },
         {
          "Distance": 2
         },
         {
          "Distance": 3
         },
         {
          "Distance": 3
         },
         {
          "Distance": 3
         },
         {
          "Distance": 3
         },
         {
          "Distance": 3
         },
         {
          "Distance": 2
         },
         {
          "Distance": 3
         },
         {
          "Distance": 3
         },
         {
          "Distance": 4
         },
         {
          "Distance": 3
         },
         {
          "Distance": 5
         },
         {
          "Distance": 7
         },
         {
          "Distance": 3
         },
         {
          "Distance": 2
         },
         {
          "Distance": 4
         },
         {
          "Distance": 3
         },
         {
          "Distance": 4
         },
         {
          "Distance": 3
         },
         {
          "Distance": 3
         },
         {
          "Distance": 3
         },
         {
          "Distance": 2
         },
         {
          "Distance": 2
         },
         {
          "Distance": 4
         },
         {
          "Distance": 3
         },
         {
          "Distance": 4
         },
         {
          "Distance": 7
         },
         {
          "Distance": 3
         },
         {
          "Distance": 2
         },
         {
          "Distance": 2
         },
         {
          "Distance": 2
         },
         {
          "Distance": 4
         },
         {
          "Distance": 12
         },
         {
          "Distance": 5
         },
         {
          "Distance": 5
         },
         {
          "Distance": 6
         },
         {
          "Distance": 2
         },
         {
          "Distance": 2
         },
         {
          "Distance": 2
         },
         {
          "Distance": 3
         },
         {
          "Distance": 4
         },
         {
          "Distance": 4
         },
         {
          "Distance": 2
         },
         {
          "Distance": 3
         },
         {
          "Distance": 2
         },
         {
          "Distance": 2
         },
         {
          "Distance": 3
         },
         {
          "Distance": 2
         },
         {
          "Distance": 2
         },
         {
          "Distance": 2
         },
         {
          "Distance": 8
         },
         {
          "Distance": 2
         },
         {
          "Distance": 2
         },
         {
          "Distance": 2
         },
         {
          "Distance": 3
         },
         {
          "Distance": 4
         },
         {
          "Distance": 2
         },
         {
          "Distance": 3
         },
         {
          "Distance": 3
         },
         {
          "Distance": 6
         },
         {
          "Distance": 4
         },
         {
          "Distance": 4
         },
         {
          "Distance": 3
         },
         {
          "Distance": 2
         },
         {
          "Distance": 6
         },
         {
          "Distance": 2
         },
         {
          "Distance": 6
         },
         {
          "Distance": 5
         },
         {
          "Distance": 3
         },
         {
          "Distance": 2
         },
         {
          "Distance": 3
         },
         {
          "Distance": 3
         },
         {
          "Distance": 2
         },
         {
          "Distance": 2
         },
         {
          "Distance": 4
         },
         {
          "Distance": 3
         },
         {
          "Distance": 3
         },
         {
          "Distance": 5
         },
         {
          "Distance": 7
         },
         {
          "Distance": 2
         },
         {
          "Distance": 3
         },
         {
          "Distance": 3
         },
         {
          "Distance": 2
         },
         {
          "Distance": 2
         },
         {
          "Distance": 4
         },
         {
          "Distance": 5
         },
         {
          "Distance": 3
         },
         {
          "Distance": 5
         },
         {
          "Distance": 2
         },
         {
          "Distance": 4
         },
         {
          "Distance": 6
         },
         {
          "Distance": 3
         },
         {
          "Distance": 5
         },
         {
          "Distance": 3
         },
         {
          "Distance": 3
         },
         {
          "Distance": 2
         },
         {
          "Distance": 2
         },
         {
          "Distance": 7
         },
         {
          "Distance": 3
         },
         {
          "Distance": 2
         },
         {
          "Distance": 3
         },
         {
          "Distance": 2
         },
         {
          "Distance": 2
         },
         {
          "Distance": 2
         },
         {
          "Distance": 2
         },
         {
          "Distance": 2
         },
         {
          "Distance": 2
         },
         {
          "Distance": 5
         },
         {
          "Distance": 3
         },
         {
          "Distance": 2
         },
         {
          "Distance": 3
         },
         {
          "Distance": 2
         },
         {
          "Distance": 3
         },
         {
          "Distance": 2
         },
         {
          "Distance": 6
         },
         {
          "Distance": 5
         },
         {
          "Distance": 2
         },
         {
          "Distance": 4
         },
         {
          "Distance": 4
         },
         {
          "Distance": 2
         },
         {
          "Distance": 4
         },
         {
          "Distance": 2
         },
         {
          "Distance": 3
         },
         {
          "Distance": 2
         },
         {
          "Distance": 3
         },
         {
          "Distance": 3
         },
         {
          "Distance": 3
         },
         {
          "Distance": 2
         },
         {
          "Distance": 2
         },
         {
          "Distance": 3
         },
         {
          "Distance": 12
         },
         {
          "Distance": 3
         },
         {
          "Distance": 2
         },
         {
          "Distance": 4
         },
         {
          "Distance": 3
         },
         {
          "Distance": 2
         },
         {
          "Distance": 10
         },
         {
          "Distance": 4
         },
         {
          "Distance": 2
         },
         {
          "Distance": 3
         },
         {
          "Distance": 4
         },
         {
          "Distance": 2
         },
         {
          "Distance": 4
         },
         {
          "Distance": 2
         },
         {
          "Distance": 2
         },
         {
          "Distance": 4
         },
         {
          "Distance": 3
         },
         {
          "Distance": 2
         },
         {
          "Distance": 4
         },
         {
          "Distance": 2
         },
         {
          "Distance": 7
         },
         {
          "Distance": 2
         },
         {
          "Distance": 2
         },
         {
          "Distance": 3
         },
         {
          "Distance": 6
         },
         {
          "Distance": 3
         },
         {
          "Distance": 7
         },
         {
          "Distance": 3
         },
         {
          "Distance": 5
         },
         {
          "Distance": 3
         },
         {
          "Distance": 6
         },
         {
          "Distance": 2
         },
         {
          "Distance": 11
         },
         {
          "Distance": 3
         },
         {
          "Distance": 3
         },
         {
          "Distance": 5
         },
         {
          "Distance": 2
         },
         {
          "Distance": 2
         },
         {
          "Distance": 4
         },
         {
          "Distance": 2
         },
         {
          "Distance": 3
         },
         {
          "Distance": 2
         },
         {
          "Distance": 2
         },
         {
          "Distance": 4
         },
         {
          "Distance": 5
         },
         {
          "Distance": 2
         },
         {
          "Distance": 6
         },
         {
          "Distance": 3
         },
         {
          "Distance": 3
         },
         {
          "Distance": 3
         },
         {
          "Distance": 3
         },
         {
          "Distance": 4
         },
         {
          "Distance": 3
         },
         {
          "Distance": 2
         },
         {
          "Distance": 2
         },
         {
          "Distance": 4
         },
         {
          "Distance": 3
         },
         {
          "Distance": 5
         },
         {
          "Distance": 3
         },
         {
          "Distance": 4
         },
         {
          "Distance": 4
         },
         {
          "Distance": 9
         },
         {
          "Distance": 3
         },
         {
          "Distance": 3
         },
         {
          "Distance": 5
         },
         {
          "Distance": 2
         },
         {
          "Distance": 4
         },
         {
          "Distance": 2
         },
         {
          "Distance": 6
         },
         {
          "Distance": 7
         },
         {
          "Distance": 2
         },
         {
          "Distance": 6
         },
         {
          "Distance": 2
         },
         {
          "Distance": 5
         },
         {
          "Distance": 2
         },
         {
          "Distance": 4
         },
         {
          "Distance": 4
         },
         {
          "Distance": 2
         },
         {
          "Distance": 2
         },
         {
          "Distance": 4
         },
         {
          "Distance": 3
         },
         {
          "Distance": 2
         },
         {
          "Distance": 3
         },
         {
          "Distance": 3
         },
         {
          "Distance": 3
         },
         {
          "Distance": 4
         },
         {
          "Distance": 6
         },
         {
          "Distance": 5
         },
         {
          "Distance": 7
         },
         {
          "Distance": 4
         },
         {
          "Distance": 2
         },
         {
          "Distance": 3
         },
         {
          "Distance": 4
         },
         {
          "Distance": 4
         },
         {
          "Distance": 2
         },
         {
          "Distance": 3
         },
         {
          "Distance": 5
         },
         {
          "Distance": 4
         },
         {
          "Distance": 2
         },
         {
          "Distance": 2
         },
         {
          "Distance": 2
         },
         {
          "Distance": 3
         },
         {
          "Distance": 3
         },
         {
          "Distance": 3
         },
         {
          "Distance": 3
         },
         {
          "Distance": 3
         },
         {
          "Distance": 2
         },
         {
          "Distance": 3
         },
         {
          "Distance": 3
         },
         {
          "Distance": 4
         },
         {
          "Distance": 2
         },
         {
          "Distance": 2
         },
         {
          "Distance": 2
         },
         {
          "Distance": 4
         },
         {
          "Distance": 3
         },
         {
          "Distance": 4
         },
         {
          "Distance": 2
         },
         {
          "Distance": 3
         },
         {
          "Distance": 4
         },
         {
          "Distance": 2
         },
         {
          "Distance": 2
         },
         {
          "Distance": 4
         },
         {
          "Distance": 5
         },
         {
          "Distance": 2
         },
         {
          "Distance": 4
         },
         {
          "Distance": 6
         },
         {
          "Distance": 2
         },
         {
          "Distance": 2
         },
         {
          "Distance": 4
         },
         {
          "Distance": 2
         },
         {
          "Distance": 9
         },
         {
          "Distance": 4
         },
         {
          "Distance": 5
         },
         {
          "Distance": 2
         },
         {
          "Distance": 3
         },
         {
          "Distance": 2
         },
         {
          "Distance": 3
         },
         {
          "Distance": 2
         },
         {
          "Distance": 2
         },
         {
          "Distance": 3
         },
         {
          "Distance": 2
         },
         {
          "Distance": 5
         },
         {
          "Distance": 3
         },
         {
          "Distance": 2
         },
         {
          "Distance": 3
         },
         {
          "Distance": 4
         },
         {
          "Distance": 3
         },
         {
          "Distance": 3
         },
         {
          "Distance": 2
         },
         {
          "Distance": 3
         },
         {
          "Distance": 2
         },
         {
          "Distance": 3
         },
         {
          "Distance": 4
         },
         {
          "Distance": 2
         },
         {
          "Distance": 6
         },
         {
          "Distance": 4
         },
         {
          "Distance": 2
         },
         {
          "Distance": 3
         },
         {
          "Distance": 2
         },
         {
          "Distance": 5
         },
         {
          "Distance": 4
         },
         {
          "Distance": 2
         },
         {
          "Distance": 2
         },
         {
          "Distance": 2
         },
         {
          "Distance": 8
         },
         {
          "Distance": 7
         },
         {
          "Distance": 11
         },
         {
          "Distance": 5
         },
         {
          "Distance": 6
         },
         {
          "Distance": 3
         },
         {
          "Distance": 2
         },
         {
          "Distance": 3
         },
         {
          "Distance": 3
         },
         {
          "Distance": 5
         },
         {
          "Distance": 2
         },
         {
          "Distance": 3
         },
         {
          "Distance": 3
         },
         {
          "Distance": 2
         },
         {
          "Distance": 8
         },
         {
          "Distance": 3
         },
         {
          "Distance": 2
         },
         {
          "Distance": 4
         },
         {
          "Distance": 3
         },
         {
          "Distance": 2
         },
         {
          "Distance": 4
         },
         {
          "Distance": 2
         },
         {
          "Distance": 2
         },
         {
          "Distance": 3
         },
         {
          "Distance": 4
         },
         {
          "Distance": 2
         },
         {
          "Distance": 4
         },
         {
          "Distance": 2
         },
         {
          "Distance": 2
         },
         {
          "Distance": 4
         },
         {
          "Distance": 3
         },
         {
          "Distance": 2
         },
         {
          "Distance": 2
         },
         {
          "Distance": 3
         },
         {
          "Distance": 2
         },
         {
          "Distance": 3
         },
         {
          "Distance": 2
         },
         {
          "Distance": 7
         },
         {
          "Distance": 2
         },
         {
          "Distance": 2
         },
         {
          "Distance": 4
         },
         {
          "Distance": 2
         },
         {
          "Distance": 7
         },
         {
          "Distance": 3
         },
         {
          "Distance": 2
         },
         {
          "Distance": 4
         },
         {
          "Distance": 2
         },
         {
          "Distance": 2
         },
         {
          "Distance": 9
         },
         {
          "Distance": 5
         },
         {
          "Distance": 2
         },
         {
          "Distance": 2
         },
         {
          "Distance": 2
         },
         {
          "Distance": 4
         },
         {
          "Distance": 3
         },
         {
          "Distance": 3
         },
         {
          "Distance": 4
         },
         {
          "Distance": 4
         },
         {
          "Distance": 3
         },
         {
          "Distance": 2
         },
         {
          "Distance": 2
         },
         {
          "Distance": 3
         },
         {
          "Distance": 3
         },
         {
          "Distance": 2
         },
         {
          "Distance": 6
         },
         {
          "Distance": 2
         },
         {
          "Distance": 3
         },
         {
          "Distance": 2
         },
         {
          "Distance": 4
         },
         {
          "Distance": 6
         },
         {
          "Distance": 2
         },
         {
          "Distance": 2
         },
         {
          "Distance": 6
         },
         {
          "Distance": 4
         },
         {
          "Distance": 3
         },
         {
          "Distance": 2
         },
         {
          "Distance": 6
         },
         {
          "Distance": 3
         },
         {
          "Distance": 6
         },
         {
          "Distance": 4
         },
         {
          "Distance": 3
         },
         {
          "Distance": 4
         },
         {
          "Distance": 3
         },
         {
          "Distance": 2
         },
         {
          "Distance": 8
         },
         {
          "Distance": 4
         },
         {
          "Distance": 3
         },
         {
          "Distance": 8
         },
         {
          "Distance": 3
         },
         {
          "Distance": 3
         },
         {
          "Distance": 2
         },
         {
          "Distance": 3
         },
         {
          "Distance": 3
         },
         {
          "Distance": 7
         },
         {
          "Distance": 2
         },
         {
          "Distance": 4
         },
         {
          "Distance": 2
         },
         {
          "Distance": 7
         },
         {
          "Distance": 2
         },
         {
          "Distance": 5
         },
         {
          "Distance": 5
         },
         {
          "Distance": 3
         },
         {
          "Distance": 3
         },
         {
          "Distance": 2
         },
         {
          "Distance": 6
         },
         {
          "Distance": 2
         },
         {
          "Distance": 2
         },
         {
          "Distance": 2
         },
         {
          "Distance": 5
         },
         {
          "Distance": 2
         },
         {
          "Distance": 4
         },
         {
          "Distance": 5
         },
         {
          "Distance": 3
         },
         {
          "Distance": 2
         },
         {
          "Distance": 5
         },
         {
          "Distance": 2
         },
         {
          "Distance": 4
         },
         {
          "Distance": 4
         },
         {
          "Distance": 2
         },
         {
          "Distance": 7
         },
         {
          "Distance": 6
         },
         {
          "Distance": 2
         },
         {
          "Distance": 6
         },
         {
          "Distance": 3
         },
         {
          "Distance": 2
         },
         {
          "Distance": 2
         },
         {
          "Distance": 2
         },
         {
          "Distance": 3
         },
         {
          "Distance": 3
         },
         {
          "Distance": 4
         },
         {
          "Distance": 5
         },
         {
          "Distance": 3
         },
         {
          "Distance": 3
         },
         {
          "Distance": 5
         },
         {
          "Distance": 3
         },
         {
          "Distance": 2
         },
         {
          "Distance": 2
         },
         {
          "Distance": 2
         },
         {
          "Distance": 2
         },
         {
          "Distance": 3
         },
         {
          "Distance": 3
         },
         {
          "Distance": 13
         },
         {
          "Distance": 6
         },
         {
          "Distance": 5
         },
         {
          "Distance": 3
         },
         {
          "Distance": 2
         },
         {
          "Distance": 4
         },
         {
          "Distance": 5
         },
         {
          "Distance": 4
         },
         {
          "Distance": 4
         },
         {
          "Distance": 5
         },
         {
          "Distance": 3
         },
         {
          "Distance": 2
         },
         {
          "Distance": 2
         },
         {
          "Distance": 3
         },
         {
          "Distance": 2
         },
         {
          "Distance": 2
         },
         {
          "Distance": 2
         },
         {
          "Distance": 2
         },
         {
          "Distance": 2
         },
         {
          "Distance": 5
         },
         {
          "Distance": 2
         },
         {
          "Distance": 6
         },
         {
          "Distance": 2
         },
         {
          "Distance": 5
         },
         {
          "Distance": 5
         },
         {
          "Distance": 2
         },
         {
          "Distance": 3
         },
         {
          "Distance": 2
         },
         {
          "Distance": 2
         },
         {
          "Distance": 2
         },
         {
          "Distance": 3
         },
         {
          "Distance": 3
         },
         {
          "Distance": 2
         },
         {
          "Distance": 4
         },
         {
          "Distance": 2
         },
         {
          "Distance": 3
         },
         {
          "Distance": 4
         },
         {
          "Distance": 3
         },
         {
          "Distance": 3
         },
         {
          "Distance": 4
         },
         {
          "Distance": 2
         },
         {
          "Distance": 2
         },
         {
          "Distance": 2
         },
         {
          "Distance": 3
         },
         {
          "Distance": 2
         },
         {
          "Distance": 3
         },
         {
          "Distance": 3
         },
         {
          "Distance": 2
         },
         {
          "Distance": 2
         },
         {
          "Distance": 5
         },
         {
          "Distance": 3
         },
         {
          "Distance": 2
         },
         {
          "Distance": 3
         },
         {
          "Distance": 2
         },
         {
          "Distance": 2
         },
         {
          "Distance": 3
         },
         {
          "Distance": 2
         },
         {
          "Distance": 2
         },
         {
          "Distance": 3
         },
         {
          "Distance": 4
         },
         {
          "Distance": 2
         },
         {
          "Distance": 4
         },
         {
          "Distance": 5
         },
         {
          "Distance": 10
         },
         {
          "Distance": 8
         },
         {
          "Distance": 4
         },
         {
          "Distance": 2
         },
         {
          "Distance": 4
         },
         {
          "Distance": 9
         },
         {
          "Distance": 3
         },
         {
          "Distance": 3
         },
         {
          "Distance": 2
         },
         {
          "Distance": 4
         },
         {
          "Distance": 3
         },
         {
          "Distance": 4
         },
         {
          "Distance": 3
         },
         {
          "Distance": 4
         },
         {
          "Distance": 3
         },
         {
          "Distance": 2
         },
         {
          "Distance": 2
         },
         {
          "Distance": 3
         },
         {
          "Distance": 3
         },
         {
          "Distance": 2
         },
         {
          "Distance": 4
         },
         {
          "Distance": 6
         },
         {
          "Distance": 5
         },
         {
          "Distance": 8
         },
         {
          "Distance": 7
         },
         {
          "Distance": 4
         },
         {
          "Distance": 5
         },
         {
          "Distance": 4
         },
         {
          "Distance": 2
         },
         {
          "Distance": 5
         },
         {
          "Distance": 4
         },
         {
          "Distance": 2
         },
         {
          "Distance": 4
         },
         {
          "Distance": 5
         },
         {
          "Distance": 2
         },
         {
          "Distance": 5
         },
         {
          "Distance": 3
         },
         {
          "Distance": 2
         },
         {
          "Distance": 6
         },
         {
          "Distance": 4
         },
         {
          "Distance": 2
         },
         {
          "Distance": 2
         },
         {
          "Distance": 2
         },
         {
          "Distance": 2
         },
         {
          "Distance": 2
         },
         {
          "Distance": 2
         },
         {
          "Distance": 3
         },
         {
          "Distance": 3
         },
         {
          "Distance": 2
         },
         {
          "Distance": 2
         },
         {
          "Distance": 2
         },
         {
          "Distance": 2
         },
         {
          "Distance": 3
         },
         {
          "Distance": 2
         },
         {
          "Distance": 15
         },
         {
          "Distance": 2
         },
         {
          "Distance": 2
         },
         {
          "Distance": 3
         },
         {
          "Distance": 3
         },
         {
          "Distance": 3
         },
         {
          "Distance": 2
         },
         {
          "Distance": 5
         },
         {
          "Distance": 2
         },
         {
          "Distance": 7
         },
         {
          "Distance": 2
         },
         {
          "Distance": 6
         },
         {
          "Distance": 3
         },
         {
          "Distance": 4
         },
         {
          "Distance": 2
         },
         {
          "Distance": 3
         },
         {
          "Distance": 3
         },
         {
          "Distance": 4
         },
         {
          "Distance": 3
         },
         {
          "Distance": 4
         },
         {
          "Distance": 4
         },
         {
          "Distance": 2
         },
         {
          "Distance": 2
         },
         {
          "Distance": 2
         },
         {
          "Distance": 2
         },
         {
          "Distance": 7
         },
         {
          "Distance": 4
         },
         {
          "Distance": 3
         },
         {
          "Distance": 3
         },
         {
          "Distance": 3
         },
         {
          "Distance": 4
         },
         {
          "Distance": 2
         },
         {
          "Distance": 4
         },
         {
          "Distance": 3
         },
         {
          "Distance": 2
         },
         {
          "Distance": 2
         },
         {
          "Distance": 3
         },
         {
          "Distance": 2
         },
         {
          "Distance": 2
         },
         {
          "Distance": 9
         },
         {
          "Distance": 2
         },
         {
          "Distance": 2
         },
         {
          "Distance": 3
         },
         {
          "Distance": 4
         },
         {
          "Distance": 3
         },
         {
          "Distance": 2
         },
         {
          "Distance": 2
         },
         {
          "Distance": 6
         },
         {
          "Distance": 3
         },
         {
          "Distance": 13
         },
         {
          "Distance": 2
         },
         {
          "Distance": 4
         },
         {
          "Distance": 2
         },
         {
          "Distance": 2
         },
         {
          "Distance": 6
         },
         {
          "Distance": 2
         },
         {
          "Distance": 3
         },
         {
          "Distance": 3
         },
         {
          "Distance": 4
         },
         {
          "Distance": 4
         },
         {
          "Distance": 2
         },
         {
          "Distance": 3
         },
         {
          "Distance": 8
         },
         {
          "Distance": 2
         },
         {
          "Distance": 3
         },
         {
          "Distance": 4
         },
         {
          "Distance": 2
         },
         {
          "Distance": 2
         },
         {
          "Distance": 2
         },
         {
          "Distance": 2
         },
         {
          "Distance": 2
         },
         {
          "Distance": 7
         },
         {
          "Distance": 4
         },
         {
          "Distance": 2
         },
         {
          "Distance": 4
         },
         {
          "Distance": 2
         },
         {
          "Distance": 2
         },
         {
          "Distance": 9
         },
         {
          "Distance": 2
         },
         {
          "Distance": 3
         },
         {
          "Distance": 2
         },
         {
          "Distance": 4
         },
         {
          "Distance": 2
         },
         {
          "Distance": 6
         },
         {
          "Distance": 5
         },
         {
          "Distance": 2
         },
         {
          "Distance": 2
         },
         {
          "Distance": 2
         },
         {
          "Distance": 2
         },
         {
          "Distance": 3
         },
         {
          "Distance": 2
         },
         {
          "Distance": 2
         },
         {
          "Distance": 4
         },
         {
          "Distance": 9
         },
         {
          "Distance": 6
         },
         {
          "Distance": 3
         },
         {
          "Distance": 2
         },
         {
          "Distance": 2
         },
         {
          "Distance": 7
         },
         {
          "Distance": 3
         },
         {
          "Distance": 6
         },
         {
          "Distance": 3
         },
         {
          "Distance": 5
         },
         {
          "Distance": 2
         },
         {
          "Distance": 5
         },
         {
          "Distance": 2
         },
         {
          "Distance": 5
         },
         {
          "Distance": 2
         },
         {
          "Distance": 2
         },
         {
          "Distance": 5
         },
         {
          "Distance": 3
         },
         {
          "Distance": 9
         },
         {
          "Distance": 3
         },
         {
          "Distance": 4
         },
         {
          "Distance": 2
         },
         {
          "Distance": 2
         },
         {
          "Distance": 2
         },
         {
          "Distance": 2
         },
         {
          "Distance": 5
         },
         {
          "Distance": 5
         },
         {
          "Distance": 4
         },
         {
          "Distance": 10
         },
         {
          "Distance": 4
         },
         {
          "Distance": 2
         },
         {
          "Distance": 2
         },
         {
          "Distance": 2
         },
         {
          "Distance": 5
         },
         {
          "Distance": 6
         },
         {
          "Distance": 3
         },
         {
          "Distance": 3
         },
         {
          "Distance": 3
         },
         {
          "Distance": 2
         },
         {
          "Distance": 4
         },
         {
          "Distance": 3
         },
         {
          "Distance": 2
         },
         {
          "Distance": 5
         },
         {
          "Distance": 11
         },
         {
          "Distance": 4
         },
         {
          "Distance": 2
         },
         {
          "Distance": 7
         },
         {
          "Distance": 2
         },
         {
          "Distance": 2
         },
         {
          "Distance": 2
         },
         {
          "Distance": 9
         },
         {
          "Distance": 3
         },
         {
          "Distance": 3
         },
         {
          "Distance": 6
         },
         {
          "Distance": 5
         },
         {
          "Distance": 7
         },
         {
          "Distance": 3
         },
         {
          "Distance": 2
         },
         {
          "Distance": 2
         },
         {
          "Distance": 2
         },
         {
          "Distance": 4
         },
         {
          "Distance": 3
         },
         {
          "Distance": 2
         },
         {
          "Distance": 7
         },
         {
          "Distance": 2
         },
         {
          "Distance": 2
         },
         {
          "Distance": 2
         },
         {
          "Distance": 4
         },
         {
          "Distance": 4
         },
         {
          "Distance": 3
         },
         {
          "Distance": 3
         },
         {
          "Distance": 8
         },
         {
          "Distance": 2
         },
         {
          "Distance": 3
         },
         {
          "Distance": 5
         },
         {
          "Distance": 7
         },
         {
          "Distance": 3
         },
         {
          "Distance": 2
         },
         {
          "Distance": 4
         },
         {
          "Distance": 3
         },
         {
          "Distance": 2
         },
         {
          "Distance": 3
         },
         {
          "Distance": 2
         },
         {
          "Distance": 2
         },
         {
          "Distance": 3
         },
         {
          "Distance": 4
         },
         {
          "Distance": 4
         },
         {
          "Distance": 3
         },
         {
          "Distance": 4
         },
         {
          "Distance": 2
         },
         {
          "Distance": 2
         },
         {
          "Distance": 5
         },
         {
          "Distance": 4
         },
         {
          "Distance": 2
         },
         {
          "Distance": 6
         },
         {
          "Distance": 4
         },
         {
          "Distance": 4
         },
         {
          "Distance": 3
         },
         {
          "Distance": 4
         },
         {
          "Distance": 2
         },
         {
          "Distance": 4
         },
         {
          "Distance": 4
         },
         {
          "Distance": 3
         },
         {
          "Distance": 2
         },
         {
          "Distance": 3
         },
         {
          "Distance": 2
         },
         {
          "Distance": 2
         },
         {
          "Distance": 2
         },
         {
          "Distance": 5
         },
         {
          "Distance": 2
         },
         {
          "Distance": 3
         },
         {
          "Distance": 2
         },
         {
          "Distance": 6
         },
         {
          "Distance": 4
         },
         {
          "Distance": 2
         },
         {
          "Distance": 7
         },
         {
          "Distance": 4
         },
         {
          "Distance": 5
         },
         {
          "Distance": 4
         },
         {
          "Distance": 2
         },
         {
          "Distance": 5
         },
         {
          "Distance": 4
         },
         {
          "Distance": 2
         },
         {
          "Distance": 2
         },
         {
          "Distance": 11
         },
         {
          "Distance": 2
         },
         {
          "Distance": 3
         },
         {
          "Distance": 5
         },
         {
          "Distance": 2
         },
         {
          "Distance": 2
         },
         {
          "Distance": 5
         },
         {
          "Distance": 2
         },
         {
          "Distance": 2
         },
         {
          "Distance": 2
         },
         {
          "Distance": 4
         },
         {
          "Distance": 2
         },
         {
          "Distance": 3
         },
         {
          "Distance": 6
         },
         {
          "Distance": 3
         },
         {
          "Distance": 3
         },
         {
          "Distance": 3
         },
         {
          "Distance": 5
         },
         {
          "Distance": 2
         },
         {
          "Distance": 2
         },
         {
          "Distance": 2
         },
         {
          "Distance": 2
         },
         {
          "Distance": 2
         },
         {
          "Distance": 2
         },
         {
          "Distance": 3
         },
         {
          "Distance": 3
         },
         {
          "Distance": 2
         },
         {
          "Distance": 3
         },
         {
          "Distance": 2
         },
         {
          "Distance": 2
         },
         {
          "Distance": 3
         },
         {
          "Distance": 3
         },
         {
          "Distance": 2
         },
         {
          "Distance": 6
         },
         {
          "Distance": 2
         },
         {
          "Distance": 2
         },
         {
          "Distance": 3
         },
         {
          "Distance": 3
         },
         {
          "Distance": 4
         },
         {
          "Distance": 3
         },
         {
          "Distance": 2
         },
         {
          "Distance": 7
         },
         {
          "Distance": 3
         },
         {
          "Distance": 2
         },
         {
          "Distance": 2
         },
         {
          "Distance": 2
         },
         {
          "Distance": 3
         },
         {
          "Distance": 8
         },
         {
          "Distance": 2
         },
         {
          "Distance": 4
         },
         {
          "Distance": 2
         },
         {
          "Distance": 7
         },
         {
          "Distance": 2
         },
         {
          "Distance": 3
         },
         {
          "Distance": 3
         },
         {
          "Distance": 5
         },
         {
          "Distance": 3
         },
         {
          "Distance": 2
         },
         {
          "Distance": 2
         },
         {
          "Distance": 7
         },
         {
          "Distance": 2
         },
         {
          "Distance": 4
         },
         {
          "Distance": 2
         },
         {
          "Distance": 7
         },
         {
          "Distance": 2
         },
         {
          "Distance": 2
         },
         {
          "Distance": 2
         },
         {
          "Distance": 4
         },
         {
          "Distance": 6
         },
         {
          "Distance": 2
         },
         {
          "Distance": 2
         },
         {
          "Distance": 5
         },
         {
          "Distance": 4
         },
         {
          "Distance": 2
         },
         {
          "Distance": 7
         },
         {
          "Distance": 3
         },
         {
          "Distance": 4
         },
         {
          "Distance": 3
         },
         {
          "Distance": 2
         },
         {
          "Distance": 3
         },
         {
          "Distance": 4
         },
         {
          "Distance": 2
         },
         {
          "Distance": 5
         },
         {
          "Distance": 2
         },
         {
          "Distance": 2
         },
         {
          "Distance": 3
         },
         {
          "Distance": 2
         },
         {
          "Distance": 2
         },
         {
          "Distance": 2
         },
         {
          "Distance": 2
         },
         {
          "Distance": 3
         },
         {
          "Distance": 3
         },
         {
          "Distance": 6
         },
         {
          "Distance": 2
         },
         {
          "Distance": 9
         },
         {
          "Distance": 2
         },
         {
          "Distance": 3
         },
         {
          "Distance": 3
         },
         {
          "Distance": 4
         },
         {
          "Distance": 2
         },
         {
          "Distance": 4
         },
         {
          "Distance": 2
         },
         {
          "Distance": 2
         },
         {
          "Distance": 4
         },
         {
          "Distance": 3
         },
         {
          "Distance": 3
         },
         {
          "Distance": 2
         },
         {
          "Distance": 4
         },
         {
          "Distance": 3
         },
         {
          "Distance": 4
         },
         {
          "Distance": 3
         },
         {
          "Distance": 5
         },
         {
          "Distance": 5
         },
         {
          "Distance": 2
         },
         {
          "Distance": 5
         },
         {
          "Distance": 2
         },
         {
          "Distance": 9
         },
         {
          "Distance": 4
         },
         {
          "Distance": 3
         },
         {
          "Distance": 2
         },
         {
          "Distance": 2
         },
         {
          "Distance": 3
         },
         {
          "Distance": 2
         },
         {
          "Distance": 3
         },
         {
          "Distance": 2
         },
         {
          "Distance": 2
         },
         {
          "Distance": 7
         },
         {
          "Distance": 4
         },
         {
          "Distance": 3
         },
         {
          "Distance": 2
         },
         {
          "Distance": 4
         },
         {
          "Distance": 2
         },
         {
          "Distance": 2
         },
         {
          "Distance": 2
         },
         {
          "Distance": 5
         },
         {
          "Distance": 2
         },
         {
          "Distance": 3
         },
         {
          "Distance": 2
         },
         {
          "Distance": 3
         },
         {
          "Distance": 3
         },
         {
          "Distance": 11
         },
         {
          "Distance": 2
         },
         {
          "Distance": 3
         },
         {
          "Distance": 4
         },
         {
          "Distance": 6
         },
         {
          "Distance": 5
         },
         {
          "Distance": 3
         },
         {
          "Distance": 2
         },
         {
          "Distance": 2
         },
         {
          "Distance": 2
         },
         {
          "Distance": 2
         },
         {
          "Distance": 7
         },
         {
          "Distance": 2
         },
         {
          "Distance": 2
         },
         {
          "Distance": 3
         },
         {
          "Distance": 2
         },
         {
          "Distance": 4
         },
         {
          "Distance": 7
         },
         {
          "Distance": 3
         },
         {
          "Distance": 4
         },
         {
          "Distance": 4
         },
         {
          "Distance": 8
         },
         {
          "Distance": 4
         },
         {
          "Distance": 2
         },
         {
          "Distance": 3
         },
         {
          "Distance": 5
         },
         {
          "Distance": 3
         },
         {
          "Distance": 3
         },
         {
          "Distance": 3
         },
         {
          "Distance": 4
         },
         {
          "Distance": 3
         },
         {
          "Distance": 2
         },
         {
          "Distance": 4
         },
         {
          "Distance": 3
         },
         {
          "Distance": 3
         },
         {
          "Distance": 4
         },
         {
          "Distance": 2
         },
         {
          "Distance": 2
         },
         {
          "Distance": 3
         },
         {
          "Distance": 8
         },
         {
          "Distance": 3
         },
         {
          "Distance": 2
         },
         {
          "Distance": 2
         },
         {
          "Distance": 3
         },
         {
          "Distance": 3
         },
         {
          "Distance": 6
         },
         {
          "Distance": 3
         },
         {
          "Distance": 4
         },
         {
          "Distance": 2
         },
         {
          "Distance": 2
         },
         {
          "Distance": 3
         },
         {
          "Distance": 2
         },
         {
          "Distance": 11
         },
         {
          "Distance": 2
         },
         {
          "Distance": 2
         },
         {
          "Distance": 4
         },
         {
          "Distance": 3
         },
         {
          "Distance": 2
         },
         {
          "Distance": 4
         },
         {
          "Distance": 4
         },
         {
          "Distance": 2
         },
         {
          "Distance": 3
         },
         {
          "Distance": 2
         },
         {
          "Distance": 6
         },
         {
          "Distance": 2
         },
         {
          "Distance": 2
         },
         {
          "Distance": 3
         },
         {
          "Distance": 3
         },
         {
          "Distance": 5
         },
         {
          "Distance": 2
         },
         {
          "Distance": 2
         },
         {
          "Distance": 7
         },
         {
          "Distance": 2
         },
         {
          "Distance": 2
         },
         {
          "Distance": 3
         },
         {
          "Distance": 4
         },
         {
          "Distance": 5
         },
         {
          "Distance": 6
         },
         {
          "Distance": 2
         },
         {
          "Distance": 6
         },
         {
          "Distance": 4
         },
         {
          "Distance": 8
         },
         {
          "Distance": 2
         },
         {
          "Distance": 4
         },
         {
          "Distance": 2
         },
         {
          "Distance": 3
         },
         {
          "Distance": 6
         },
         {
          "Distance": 2
         },
         {
          "Distance": 2
         },
         {
          "Distance": 2
         },
         {
          "Distance": 3
         },
         {
          "Distance": 2
         },
         {
          "Distance": 4
         },
         {
          "Distance": 2
         },
         {
          "Distance": 4
         },
         {
          "Distance": 4
         },
         {
          "Distance": 7
         },
         {
          "Distance": 2
         },
         {
          "Distance": 11
         },
         {
          "Distance": 4
         },
         {
          "Distance": 2
         },
         {
          "Distance": 2
         },
         {
          "Distance": 6
         },
         {
          "Distance": 4
         },
         {
          "Distance": 4
         },
         {
          "Distance": 6
         },
         {
          "Distance": 5
         },
         {
          "Distance": 5
         },
         {
          "Distance": 2
         },
         {
          "Distance": 3
         },
         {
          "Distance": 6
         },
         {
          "Distance": 2
         },
         {
          "Distance": 2
         },
         {
          "Distance": 2
         },
         {
          "Distance": 3
         },
         {
          "Distance": 2
         },
         {
          "Distance": 9
         },
         {
          "Distance": 3
         },
         {
          "Distance": 4
         },
         {
          "Distance": 7
         },
         {
          "Distance": 4
         },
         {
          "Distance": 3
         },
         {
          "Distance": 9
         },
         {
          "Distance": 3
         },
         {
          "Distance": 3
         },
         {
          "Distance": 2
         },
         {
          "Distance": 5
         },
         {
          "Distance": 3
         },
         {
          "Distance": 3
         },
         {
          "Distance": 2
         },
         {
          "Distance": 2
         },
         {
          "Distance": 2
         },
         {
          "Distance": 3
         },
         {
          "Distance": 3
         },
         {
          "Distance": 4
         },
         {
          "Distance": 2
         },
         {
          "Distance": 5
         },
         {
          "Distance": 6
         },
         {
          "Distance": 3
         },
         {
          "Distance": 3
         },
         {
          "Distance": 5
         },
         {
          "Distance": 4
         },
         {
          "Distance": 2
         },
         {
          "Distance": 2
         },
         {
          "Distance": 4
         },
         {
          "Distance": 5
         },
         {
          "Distance": 7
         },
         {
          "Distance": 3
         },
         {
          "Distance": 3
         },
         {
          "Distance": 10
         },
         {
          "Distance": 4
         },
         {
          "Distance": 2
         },
         {
          "Distance": 3
         },
         {
          "Distance": 5
         },
         {
          "Distance": 2
         },
         {
          "Distance": 2
         },
         {
          "Distance": 3
         },
         {
          "Distance": 2
         },
         {
          "Distance": 4
         },
         {
          "Distance": 2
         },
         {
          "Distance": 2
         },
         {
          "Distance": 2
         },
         {
          "Distance": 3
         },
         {
          "Distance": 3
         },
         {
          "Distance": 4
         },
         {
          "Distance": 3
         },
         {
          "Distance": 3
         },
         {
          "Distance": 4
         },
         {
          "Distance": 3
         },
         {
          "Distance": 3
         },
         {
          "Distance": 6
         },
         {
          "Distance": 2
         },
         {
          "Distance": 3
         },
         {
          "Distance": 3
         },
         {
          "Distance": 2
         },
         {
          "Distance": 3
         },
         {
          "Distance": 4
         },
         {
          "Distance": 2
         },
         {
          "Distance": 2
         },
         {
          "Distance": 4
         },
         {
          "Distance": 2
         },
         {
          "Distance": 12
         },
         {
          "Distance": 2
         },
         {
          "Distance": 2
         },
         {
          "Distance": 9
         },
         {
          "Distance": 2
         },
         {
          "Distance": 2
         },
         {
          "Distance": 2
         },
         {
          "Distance": 3
         },
         {
          "Distance": 2
         },
         {
          "Distance": 4
         },
         {
          "Distance": 2
         },
         {
          "Distance": 6
         },
         {
          "Distance": 4
         },
         {
          "Distance": 2
         },
         {
          "Distance": 2
         },
         {
          "Distance": 4
         },
         {
          "Distance": 2
         },
         {
          "Distance": 6
         },
         {
          "Distance": 6
         },
         {
          "Distance": 3
         },
         {
          "Distance": 2
         },
         {
          "Distance": 2
         },
         {
          "Distance": 3
         },
         {
          "Distance": 3
         },
         {
          "Distance": 2
         },
         {
          "Distance": 4
         },
         {
          "Distance": 5
         },
         {
          "Distance": 5
         },
         {
          "Distance": 2
         },
         {
          "Distance": 2
         },
         {
          "Distance": 3
         },
         {
          "Distance": 3
         },
         {
          "Distance": 5
         },
         {
          "Distance": 3
         },
         {
          "Distance": 7
         },
         {
          "Distance": 3
         },
         {
          "Distance": 3
         },
         {
          "Distance": 3
         },
         {
          "Distance": 4
         },
         {
          "Distance": 2
         },
         {
          "Distance": 3
         },
         {
          "Distance": 5
         },
         {
          "Distance": 2
         },
         {
          "Distance": 3
         },
         {
          "Distance": 3
         },
         {
          "Distance": 4
         },
         {
          "Distance": 3
         },
         {
          "Distance": 2
         },
         {
          "Distance": 2
         },
         {
          "Distance": 2
         },
         {
          "Distance": 3
         },
         {
          "Distance": 4
         },
         {
          "Distance": 4
         },
         {
          "Distance": 5
         },
         {
          "Distance": 2
         },
         {
          "Distance": 3
         },
         {
          "Distance": 3
         },
         {
          "Distance": 3
         },
         {
          "Distance": 4
         },
         {
          "Distance": 2
         },
         {
          "Distance": 8
         },
         {
          "Distance": 3
         },
         {
          "Distance": 2
         },
         {
          "Distance": 2
         },
         {
          "Distance": 3
         },
         {
          "Distance": 5
         },
         {
          "Distance": 2
         },
         {
          "Distance": 2
         },
         {
          "Distance": 2
         },
         {
          "Distance": 2
         },
         {
          "Distance": 3
         },
         {
          "Distance": 5
         },
         {
          "Distance": 2
         },
         {
          "Distance": 2
         },
         {
          "Distance": 3
         },
         {
          "Distance": 2
         },
         {
          "Distance": 3
         },
         {
          "Distance": 3
         },
         {
          "Distance": 4
         },
         {
          "Distance": 6
         },
         {
          "Distance": 3
         },
         {
          "Distance": 5
         },
         {
          "Distance": 3
         },
         {
          "Distance": 4
         },
         {
          "Distance": 3
         },
         {
          "Distance": 3
         },
         {
          "Distance": 2
         },
         {
          "Distance": 2
         },
         {
          "Distance": 2
         },
         {
          "Distance": 2
         },
         {
          "Distance": 3
         },
         {
          "Distance": 2
         },
         {
          "Distance": 3
         },
         {
          "Distance": 3
         },
         {
          "Distance": 9
         },
         {
          "Distance": 10
         },
         {
          "Distance": 3
         },
         {
          "Distance": 4
         },
         {
          "Distance": 3
         },
         {
          "Distance": 2
         },
         {
          "Distance": 3
         },
         {
          "Distance": 3
         },
         {
          "Distance": 6
         },
         {
          "Distance": 2
         },
         {
          "Distance": 3
         },
         {
          "Distance": 3
         },
         {
          "Distance": 4
         },
         {
          "Distance": 4
         },
         {
          "Distance": 2
         },
         {
          "Distance": 2
         },
         {
          "Distance": 4
         },
         {
          "Distance": 2
         },
         {
          "Distance": 2
         },
         {
          "Distance": 2
         },
         {
          "Distance": 3
         },
         {
          "Distance": 4
         },
         {
          "Distance": 3
         },
         {
          "Distance": 5
         },
         {
          "Distance": 3
         },
         {
          "Distance": 2
         },
         {
          "Distance": 4
         },
         {
          "Distance": 3
         },
         {
          "Distance": 4
         },
         {
          "Distance": 6
         },
         {
          "Distance": 2
         },
         {
          "Distance": 2
         },
         {
          "Distance": 2
         },
         {
          "Distance": 4
         },
         {
          "Distance": 3
         },
         {
          "Distance": 2
         },
         {
          "Distance": 3
         },
         {
          "Distance": 2
         },
         {
          "Distance": 2
         },
         {
          "Distance": 3
         },
         {
          "Distance": 5
         },
         {
          "Distance": 3
         },
         {
          "Distance": 3
         },
         {
          "Distance": 2
         },
         {
          "Distance": 5
         },
         {
          "Distance": 3
         },
         {
          "Distance": 2
         },
         {
          "Distance": 2
         },
         {
          "Distance": 2
         },
         {
          "Distance": 2
         },
         {
          "Distance": 7
         },
         {
          "Distance": 4
         },
         {
          "Distance": 2
         },
         {
          "Distance": 5
         },
         {
          "Distance": 3
         },
         {
          "Distance": 10
         },
         {
          "Distance": 3
         },
         {
          "Distance": 2
         },
         {
          "Distance": 2
         },
         {
          "Distance": 3
         },
         {
          "Distance": 4
         },
         {
          "Distance": 5
         },
         {
          "Distance": 6
         },
         {
          "Distance": 2
         },
         {
          "Distance": 2
         },
         {
          "Distance": 2
         },
         {
          "Distance": 2
         },
         {
          "Distance": 2
         },
         {
          "Distance": 2
         },
         {
          "Distance": 3
         },
         {
          "Distance": 3
         },
         {
          "Distance": 5
         },
         {
          "Distance": 4
         },
         {
          "Distance": 2
         },
         {
          "Distance": 3
         },
         {
          "Distance": 4
         },
         {
          "Distance": 6
         },
         {
          "Distance": 4
         },
         {
          "Distance": 3
         },
         {
          "Distance": 2
         },
         {
          "Distance": 3
         },
         {
          "Distance": 2
         },
         {
          "Distance": 3
         },
         {
          "Distance": 3
         },
         {
          "Distance": 2
         },
         {
          "Distance": 2
         },
         {
          "Distance": 4
         },
         {
          "Distance": 2
         },
         {
          "Distance": 2
         },
         {
          "Distance": 11
         },
         {
          "Distance": 3
         },
         {
          "Distance": 4
         },
         {
          "Distance": 5
         },
         {
          "Distance": 2
         },
         {
          "Distance": 3
         },
         {
          "Distance": 6
         },
         {
          "Distance": 3
         },
         {
          "Distance": 5
         },
         {
          "Distance": 3
         },
         {
          "Distance": 2
         },
         {
          "Distance": 3
         },
         {
          "Distance": 2
         },
         {
          "Distance": 2
         },
         {
          "Distance": 2
         },
         {
          "Distance": 3
         },
         {
          "Distance": 3
         },
         {
          "Distance": 2
         },
         {
          "Distance": 9
         },
         {
          "Distance": 2
         },
         {
          "Distance": 2
         },
         {
          "Distance": 2
         },
         {
          "Distance": 3
         },
         {
          "Distance": 3
         },
         {
          "Distance": 3
         },
         {
          "Distance": 3
         },
         {
          "Distance": 5
         },
         {
          "Distance": 3
         },
         {
          "Distance": 4
         },
         {
          "Distance": 3
         },
         {
          "Distance": 3
         },
         {
          "Distance": 2
         },
         {
          "Distance": 2
         },
         {
          "Distance": 6
         },
         {
          "Distance": 2
         },
         {
          "Distance": 6
         },
         {
          "Distance": 3
         },
         {
          "Distance": 3
         },
         {
          "Distance": 7
         },
         {
          "Distance": 4
         },
         {
          "Distance": 3
         },
         {
          "Distance": 2
         },
         {
          "Distance": 4
         },
         {
          "Distance": 4
         },
         {
          "Distance": 5
         },
         {
          "Distance": 2
         },
         {
          "Distance": 2
         },
         {
          "Distance": 2
         },
         {
          "Distance": 3
         },
         {
          "Distance": 6
         },
         {
          "Distance": 2
         },
         {
          "Distance": 3
         },
         {
          "Distance": 4
         },
         {
          "Distance": 2
         },
         {
          "Distance": 3
         },
         {
          "Distance": 7
         },
         {
          "Distance": 2
         },
         {
          "Distance": 3
         },
         {
          "Distance": 2
         },
         {
          "Distance": 3
         },
         {
          "Distance": 3
         },
         {
          "Distance": 3
         },
         {
          "Distance": 3
         },
         {
          "Distance": 3
         },
         {
          "Distance": 2
         },
         {
          "Distance": 4
         },
         {
          "Distance": 2
         },
         {
          "Distance": 5
         },
         {
          "Distance": 3
         },
         {
          "Distance": 5
         },
         {
          "Distance": 3
         },
         {
          "Distance": 6
         },
         {
          "Distance": 4
         },
         {
          "Distance": 2
         },
         {
          "Distance": 4
         },
         {
          "Distance": 3
         },
         {
          "Distance": 2
         },
         {
          "Distance": 3
         },
         {
          "Distance": 3
         },
         {
          "Distance": 6
         },
         {
          "Distance": 6
         },
         {
          "Distance": 4
         },
         {
          "Distance": 2
         },
         {
          "Distance": 6
         },
         {
          "Distance": 3
         },
         {
          "Distance": 2
         },
         {
          "Distance": 2
         },
         {
          "Distance": 2
         },
         {
          "Distance": 3
         },
         {
          "Distance": 10
         },
         {
          "Distance": 2
         },
         {
          "Distance": 4
         },
         {
          "Distance": 3
         },
         {
          "Distance": 3
         },
         {
          "Distance": 3
         },
         {
          "Distance": 4
         },
         {
          "Distance": 3
         },
         {
          "Distance": 2
         },
         {
          "Distance": 2
         },
         {
          "Distance": 4
         },
         {
          "Distance": 2
         },
         {
          "Distance": 9
         },
         {
          "Distance": 2
         },
         {
          "Distance": 2
         },
         {
          "Distance": 2
         },
         {
          "Distance": 6
         },
         {
          "Distance": 4
         },
         {
          "Distance": 4
         },
         {
          "Distance": 2
         },
         {
          "Distance": 2
         },
         {
          "Distance": 4
         },
         {
          "Distance": 3
         },
         {
          "Distance": 3
         },
         {
          "Distance": 5
         },
         {
          "Distance": 2
         },
         {
          "Distance": 4
         },
         {
          "Distance": 4
         },
         {
          "Distance": 6
         },
         {
          "Distance": 2
         },
         {
          "Distance": 2
         },
         {
          "Distance": 4
         },
         {
          "Distance": 2
         },
         {
          "Distance": 2
         },
         {
          "Distance": 2
         },
         {
          "Distance": 2
         },
         {
          "Distance": 2
         },
         {
          "Distance": 3
         },
         {
          "Distance": 5
         },
         {
          "Distance": 3
         },
         {
          "Distance": 2
         },
         {
          "Distance": 2
         },
         {
          "Distance": 2
         },
         {
          "Distance": 2
         },
         {
          "Distance": 3
         },
         {
          "Distance": 2
         },
         {
          "Distance": 7
         },
         {
          "Distance": 2
         },
         {
          "Distance": 2
         },
         {
          "Distance": 5
         },
         {
          "Distance": 2
         },
         {
          "Distance": 5
         },
         {
          "Distance": 3
         },
         {
          "Distance": 5
         },
         {
          "Distance": 3
         },
         {
          "Distance": 2
         },
         {
          "Distance": 3
         },
         {
          "Distance": 6
         },
         {
          "Distance": 9
         },
         {
          "Distance": 2
         },
         {
          "Distance": 3
         },
         {
          "Distance": 2
         },
         {
          "Distance": 3
         },
         {
          "Distance": 7
         },
         {
          "Distance": 5
         },
         {
          "Distance": 4
         },
         {
          "Distance": 2
         },
         {
          "Distance": 3
         },
         {
          "Distance": 3
         },
         {
          "Distance": 5
         },
         {
          "Distance": 3
         },
         {
          "Distance": 5
         },
         {
          "Distance": 3
         },
         {
          "Distance": 3
         },
         {
          "Distance": 3
         },
         {
          "Distance": 2
         },
         {
          "Distance": 3
         },
         {
          "Distance": 5
         },
         {
          "Distance": 3
         },
         {
          "Distance": 5
         },
         {
          "Distance": 8
         },
         {
          "Distance": 2
         },
         {
          "Distance": 2
         },
         {
          "Distance": 2
         },
         {
          "Distance": 2
         },
         {
          "Distance": 3
         },
         {
          "Distance": 5
         },
         {
          "Distance": 5
         },
         {
          "Distance": 2
         },
         {
          "Distance": 2
         },
         {
          "Distance": 5
         },
         {
          "Distance": 2
         },
         {
          "Distance": 5
         },
         {
          "Distance": 2
         },
         {
          "Distance": 3
         },
         {
          "Distance": 4
         },
         {
          "Distance": 4
         },
         {
          "Distance": 4
         },
         {
          "Distance": 2
         },
         {
          "Distance": 2
         },
         {
          "Distance": 4
         },
         {
          "Distance": 3
         },
         {
          "Distance": 3
         },
         {
          "Distance": 2
         },
         {
          "Distance": 3
         },
         {
          "Distance": 3
         },
         {
          "Distance": 4
         },
         {
          "Distance": 2
         },
         {
          "Distance": 3
         },
         {
          "Distance": 3
         },
         {
          "Distance": 2
         },
         {
          "Distance": 3
         },
         {
          "Distance": 18
         },
         {
          "Distance": 3
         },
         {
          "Distance": 2
         },
         {
          "Distance": 4
         },
         {
          "Distance": 2
         },
         {
          "Distance": 3
         },
         {
          "Distance": 3
         },
         {
          "Distance": 2
         },
         {
          "Distance": 3
         },
         {
          "Distance": 7
         },
         {
          "Distance": 4
         },
         {
          "Distance": 4
         },
         {
          "Distance": 4
         },
         {
          "Distance": 3
         },
         {
          "Distance": 3
         },
         {
          "Distance": 2
         },
         {
          "Distance": 5
         },
         {
          "Distance": 3
         },
         {
          "Distance": 4
         },
         {
          "Distance": 8
         },
         {
          "Distance": 5
         },
         {
          "Distance": 4
         },
         {
          "Distance": 5
         },
         {
          "Distance": 4
         },
         {
          "Distance": 2
         },
         {
          "Distance": 2
         },
         {
          "Distance": 2
         },
         {
          "Distance": 2
         },
         {
          "Distance": 4
         },
         {
          "Distance": 2
         },
         {
          "Distance": 3
         },
         {
          "Distance": 3
         },
         {
          "Distance": 4
         },
         {
          "Distance": 4
         },
         {
          "Distance": 6
         },
         {
          "Distance": 3
         },
         {
          "Distance": 5
         },
         {
          "Distance": 2
         },
         {
          "Distance": 2
         },
         {
          "Distance": 3
         },
         {
          "Distance": 4
         },
         {
          "Distance": 3
         },
         {
          "Distance": 2
         },
         {
          "Distance": 3
         },
         {
          "Distance": 6
         },
         {
          "Distance": 2
         },
         {
          "Distance": 7
         },
         {
          "Distance": 2
         },
         {
          "Distance": 3
         },
         {
          "Distance": 4
         },
         {
          "Distance": 3
         },
         {
          "Distance": 2
         },
         {
          "Distance": 3
         },
         {
          "Distance": 5
         },
         {
          "Distance": 2
         },
         {
          "Distance": 3
         },
         {
          "Distance": 3
         },
         {
          "Distance": 2
         },
         {
          "Distance": 3
         },
         {
          "Distance": 2
         },
         {
          "Distance": 5
         },
         {
          "Distance": 3
         },
         {
          "Distance": 3
         },
         {
          "Distance": 2
         },
         {
          "Distance": 2
         },
         {
          "Distance": 4
         },
         {
          "Distance": 3
         },
         {
          "Distance": 2
         },
         {
          "Distance": 5
         },
         {
          "Distance": 2
         },
         {
          "Distance": 5
         },
         {
          "Distance": 7
         },
         {
          "Distance": 2
         },
         {
          "Distance": 2
         },
         {
          "Distance": 3
         },
         {
          "Distance": 5
         },
         {
          "Distance": 2
         },
         {
          "Distance": 5
         },
         {
          "Distance": 2
         },
         {
          "Distance": 3
         },
         {
          "Distance": 2
         },
         {
          "Distance": 3
         },
         {
          "Distance": 3
         },
         {
          "Distance": 2
         },
         {
          "Distance": 7
         },
         {
          "Distance": 2
         },
         {
          "Distance": 6
         },
         {
          "Distance": 10
         },
         {
          "Distance": 2
         },
         {
          "Distance": 3
         },
         {
          "Distance": 3
         },
         {
          "Distance": 3
         },
         {
          "Distance": 5
         },
         {
          "Distance": 4
         },
         {
          "Distance": 2
         },
         {
          "Distance": 3
         },
         {
          "Distance": 5
         },
         {
          "Distance": 2
         },
         {
          "Distance": 4
         },
         {
          "Distance": 2
         },
         {
          "Distance": 3
         },
         {
          "Distance": 7
         },
         {
          "Distance": 4
         },
         {
          "Distance": 5
         },
         {
          "Distance": 2
         },
         {
          "Distance": 5
         },
         {
          "Distance": 3
         },
         {
          "Distance": 6
         },
         {
          "Distance": 3
         },
         {
          "Distance": 6
         },
         {
          "Distance": 2
         },
         {
          "Distance": 2
         },
         {
          "Distance": 7
         },
         {
          "Distance": 2
         },
         {
          "Distance": 4
         },
         {
          "Distance": 3
         },
         {
          "Distance": 3
         },
         {
          "Distance": 2
         },
         {
          "Distance": 3
         },
         {
          "Distance": 2
         },
         {
          "Distance": 4
         },
         {
          "Distance": 3
         },
         {
          "Distance": 4
         },
         {
          "Distance": 2
         },
         {
          "Distance": 5
         },
         {
          "Distance": 2
         },
         {
          "Distance": 2
         },
         {
          "Distance": 2
         },
         {
          "Distance": 7
         },
         {
          "Distance": 6
         },
         {
          "Distance": 5
         },
         {
          "Distance": 3
         },
         {
          "Distance": 7
         },
         {
          "Distance": 2
         },
         {
          "Distance": 2
         },
         {
          "Distance": 4
         },
         {
          "Distance": 2
         },
         {
          "Distance": 3
         },
         {
          "Distance": 5
         },
         {
          "Distance": 5
         },
         {
          "Distance": 3
         },
         {
          "Distance": 5
         },
         {
          "Distance": 3
         },
         {
          "Distance": 3
         },
         {
          "Distance": 2
         },
         {
          "Distance": 2
         },
         {
          "Distance": 3
         },
         {
          "Distance": 5
         },
         {
          "Distance": 3
         },
         {
          "Distance": 2
         },
         {
          "Distance": 3
         },
         {
          "Distance": 4
         },
         {
          "Distance": 2
         },
         {
          "Distance": 2
         },
         {
          "Distance": 3
         },
         {
          "Distance": 4
         },
         {
          "Distance": 2
         },
         {
          "Distance": 5
         },
         {
          "Distance": 3
         },
         {
          "Distance": 2
         },
         {
          "Distance": 3
         },
         {
          "Distance": 3
         },
         {
          "Distance": 3
         },
         {
          "Distance": 2
         },
         {
          "Distance": 5
         },
         {
          "Distance": 2
         },
         {
          "Distance": 3
         },
         {
          "Distance": 2
         },
         {
          "Distance": 3
         },
         {
          "Distance": 2
         },
         {
          "Distance": 3
         },
         {
          "Distance": 2
         },
         {
          "Distance": 6
         },
         {
          "Distance": 2
         },
         {
          "Distance": 2
         },
         {
          "Distance": 4
         },
         {
          "Distance": 3
         },
         {
          "Distance": 4
         },
         {
          "Distance": 4
         },
         {
          "Distance": 4
         },
         {
          "Distance": 2
         },
         {
          "Distance": 2
         },
         {
          "Distance": 3
         },
         {
          "Distance": 3
         },
         {
          "Distance": 2
         },
         {
          "Distance": 5
         },
         {
          "Distance": 6
         },
         {
          "Distance": 3
         },
         {
          "Distance": 2
         },
         {
          "Distance": 4
         },
         {
          "Distance": 6
         },
         {
          "Distance": 3
         },
         {
          "Distance": 3
         },
         {
          "Distance": 2
         },
         {
          "Distance": 2
         },
         {
          "Distance": 4
         },
         {
          "Distance": 2
         },
         {
          "Distance": 2
         },
         {
          "Distance": 4
         },
         {
          "Distance": 2
         },
         {
          "Distance": 2
         },
         {
          "Distance": 3
         },
         {
          "Distance": 3
         },
         {
          "Distance": 3
         },
         {
          "Distance": 2
         },
         {
          "Distance": 2
         },
         {
          "Distance": 4
         },
         {
          "Distance": 3
         },
         {
          "Distance": 3
         },
         {
          "Distance": 3
         },
         {
          "Distance": 4
         },
         {
          "Distance": 3
         },
         {
          "Distance": 4
         },
         {
          "Distance": 3
         },
         {
          "Distance": 2
         },
         {
          "Distance": 2
         },
         {
          "Distance": 3
         },
         {
          "Distance": 4
         },
         {
          "Distance": 3
         },
         {
          "Distance": 2
         },
         {
          "Distance": 2
         },
         {
          "Distance": 6
         },
         {
          "Distance": 2
         },
         {
          "Distance": 4
         },
         {
          "Distance": 2
         },
         {
          "Distance": 4
         },
         {
          "Distance": 5
         },
         {
          "Distance": 2
         },
         {
          "Distance": 3
         },
         {
          "Distance": 4
         },
         {
          "Distance": 3
         },
         {
          "Distance": 5
         },
         {
          "Distance": 2
         },
         {
          "Distance": 3
         },
         {
          "Distance": 2
         },
         {
          "Distance": 2
         },
         {
          "Distance": 2
         },
         {
          "Distance": 7
         },
         {
          "Distance": 2
         },
         {
          "Distance": 6
         },
         {
          "Distance": 2
         },
         {
          "Distance": 3
         },
         {
          "Distance": 8
         },
         {
          "Distance": 2
         },
         {
          "Distance": 3
         },
         {
          "Distance": 4
         },
         {
          "Distance": 3
         },
         {
          "Distance": 4
         },
         {
          "Distance": 4
         },
         {
          "Distance": 2
         },
         {
          "Distance": 2
         },
         {
          "Distance": 3
         },
         {
          "Distance": 4
         },
         {
          "Distance": 6
         },
         {
          "Distance": 4
         },
         {
          "Distance": 3
         },
         {
          "Distance": 2
         },
         {
          "Distance": 3
         },
         {
          "Distance": 6
         },
         {
          "Distance": 4
         },
         {
          "Distance": 2
         },
         {
          "Distance": 2
         },
         {
          "Distance": 4
         },
         {
          "Distance": 2
         },
         {
          "Distance": 4
         },
         {
          "Distance": 2
         },
         {
          "Distance": 2
         },
         {
          "Distance": 3
         },
         {
          "Distance": 3
         },
         {
          "Distance": 2
         },
         {
          "Distance": 2
         },
         {
          "Distance": 10
         },
         {
          "Distance": 2
         },
         {
          "Distance": 3
         },
         {
          "Distance": 9
         },
         {
          "Distance": 2
         },
         {
          "Distance": 2
         },
         {
          "Distance": 2
         },
         {
          "Distance": 2
         },
         {
          "Distance": 2
         },
         {
          "Distance": 2
         },
         {
          "Distance": 10
         },
         {
          "Distance": 3
         },
         {
          "Distance": 2
         },
         {
          "Distance": 3
         },
         {
          "Distance": 7
         },
         {
          "Distance": 3
         },
         {
          "Distance": 4
         },
         {
          "Distance": 3
         },
         {
          "Distance": 2
         },
         {
          "Distance": 2
         },
         {
          "Distance": 9
         },
         {
          "Distance": 3
         },
         {
          "Distance": 5
         },
         {
          "Distance": 2
         },
         {
          "Distance": 2
         },
         {
          "Distance": 2
         },
         {
          "Distance": 2
         },
         {
          "Distance": 6
         },
         {
          "Distance": 2
         },
         {
          "Distance": 2
         },
         {
          "Distance": 5
         },
         {
          "Distance": 4
         },
         {
          "Distance": 4
         },
         {
          "Distance": 3
         },
         {
          "Distance": 3
         },
         {
          "Distance": 5
         },
         {
          "Distance": 3
         },
         {
          "Distance": 2
         },
         {
          "Distance": 7
         },
         {
          "Distance": 2
         },
         {
          "Distance": 3
         },
         {
          "Distance": 4
         },
         {
          "Distance": 4
         },
         {
          "Distance": 2
         },
         {
          "Distance": 3
         },
         {
          "Distance": 5
         },
         {
          "Distance": 3
         },
         {
          "Distance": 4
         },
         {
          "Distance": 3
         },
         {
          "Distance": 3
         },
         {
          "Distance": 2
         },
         {
          "Distance": 6
         },
         {
          "Distance": 2
         },
         {
          "Distance": 2
         },
         {
          "Distance": 2
         },
         {
          "Distance": 7
         },
         {
          "Distance": 2
         },
         {
          "Distance": 3
         },
         {
          "Distance": 6
         },
         {
          "Distance": 3
         },
         {
          "Distance": 3
         },
         {
          "Distance": 2
         },
         {
          "Distance": 2
         },
         {
          "Distance": 3
         },
         {
          "Distance": 3
         },
         {
          "Distance": 4
         },
         {
          "Distance": 2
         },
         {
          "Distance": 3
         },
         {
          "Distance": 3
         },
         {
          "Distance": 3
         },
         {
          "Distance": 7
         },
         {
          "Distance": 12
         },
         {
          "Distance": 2
         },
         {
          "Distance": 2
         },
         {
          "Distance": 4
         },
         {
          "Distance": 2
         },
         {
          "Distance": 6
         },
         {
          "Distance": 8
         },
         {
          "Distance": 2
         },
         {
          "Distance": 2
         },
         {
          "Distance": 7
         },
         {
          "Distance": 4
         },
         {
          "Distance": 2
         },
         {
          "Distance": 2
         },
         {
          "Distance": 7
         },
         {
          "Distance": 2
         },
         {
          "Distance": 2
         },
         {
          "Distance": 3
         },
         {
          "Distance": 4
         },
         {
          "Distance": 2
         },
         {
          "Distance": 2
         },
         {
          "Distance": 2
         },
         {
          "Distance": 4
         },
         {
          "Distance": 5
         },
         {
          "Distance": 5
         },
         {
          "Distance": 4
         },
         {
          "Distance": 3
         },
         {
          "Distance": 2
         },
         {
          "Distance": 2
         },
         {
          "Distance": 2
         },
         {
          "Distance": 3
         },
         {
          "Distance": 4
         },
         {
          "Distance": 4
         },
         {
          "Distance": 2
         },
         {
          "Distance": 2
         },
         {
          "Distance": 3
         },
         {
          "Distance": 2
         },
         {
          "Distance": 3
         },
         {
          "Distance": 3
         },
         {
          "Distance": 2
         },
         {
          "Distance": 4
         },
         {
          "Distance": 5
         },
         {
          "Distance": 5
         },
         {
          "Distance": 3
         },
         {
          "Distance": 5
         },
         {
          "Distance": 3
         },
         {
          "Distance": 10
         },
         {
          "Distance": 3
         },
         {
          "Distance": 2
         },
         {
          "Distance": 2
         },
         {
          "Distance": 7
         },
         {
          "Distance": 2
         },
         {
          "Distance": 3
         },
         {
          "Distance": 4
         },
         {
          "Distance": 2
         },
         {
          "Distance": 2
         },
         {
          "Distance": 2
         },
         {
          "Distance": 6
         },
         {
          "Distance": 4
         },
         {
          "Distance": 5
         },
         {
          "Distance": 2
         },
         {
          "Distance": 2
         },
         {
          "Distance": 2
         },
         {
          "Distance": 3
         },
         {
          "Distance": 2
         },
         {
          "Distance": 2
         },
         {
          "Distance": 4
         },
         {
          "Distance": 2
         },
         {
          "Distance": 4
         },
         {
          "Distance": 3
         },
         {
          "Distance": 2
         },
         {
          "Distance": 2
         },
         {
          "Distance": 5
         },
         {
          "Distance": 2
         },
         {
          "Distance": 2
         },
         {
          "Distance": 3
         },
         {
          "Distance": 4
         },
         {
          "Distance": 2
         },
         {
          "Distance": 10
         },
         {
          "Distance": 5
         },
         {
          "Distance": 2
         },
         {
          "Distance": 4
         },
         {
          "Distance": 4
         },
         {
          "Distance": 4
         },
         {
          "Distance": 4
         },
         {
          "Distance": 4
         },
         {
          "Distance": 2
         },
         {
          "Distance": 2
         },
         {
          "Distance": 8
         },
         {
          "Distance": 2
         },
         {
          "Distance": 6
         },
         {
          "Distance": 2
         },
         {
          "Distance": 3
         },
         {
          "Distance": 10
         },
         {
          "Distance": 2
         },
         {
          "Distance": 2
         },
         {
          "Distance": 3
         },
         {
          "Distance": 13
         },
         {
          "Distance": 4
         },
         {
          "Distance": 5
         },
         {
          "Distance": 2
         },
         {
          "Distance": 2
         },
         {
          "Distance": 2
         },
         {
          "Distance": 2
         },
         {
          "Distance": 5
         },
         {
          "Distance": 3
         },
         {
          "Distance": 3
         },
         {
          "Distance": 2
         },
         {
          "Distance": 5
         },
         {
          "Distance": 2
         },
         {
          "Distance": 8
         },
         {
          "Distance": 3
         },
         {
          "Distance": 2
         },
         {
          "Distance": 2
         },
         {
          "Distance": 6
         },
         {
          "Distance": 3
         },
         {
          "Distance": 3
         },
         {
          "Distance": 2
         },
         {
          "Distance": 2
         },
         {
          "Distance": 4
         },
         {
          "Distance": 3
         },
         {
          "Distance": 5
         },
         {
          "Distance": 2
         },
         {
          "Distance": 3
         },
         {
          "Distance": 2
         },
         {
          "Distance": 5
         },
         {
          "Distance": 2
         },
         {
          "Distance": 2
         },
         {
          "Distance": 7
         },
         {
          "Distance": 2
         },
         {
          "Distance": 9
         },
         {
          "Distance": 3
         },
         {
          "Distance": 5
         },
         {
          "Distance": 2
         },
         {
          "Distance": 6
         },
         {
          "Distance": 5
         },
         {
          "Distance": 3
         },
         {
          "Distance": 2
         },
         {
          "Distance": 2
         },
         {
          "Distance": 2
         },
         {
          "Distance": 3
         },
         {
          "Distance": 4
         },
         {
          "Distance": 3
         },
         {
          "Distance": 2
         },
         {
          "Distance": 4
         },
         {
          "Distance": 2
         },
         {
          "Distance": 11
         },
         {
          "Distance": 3
         },
         {
          "Distance": 2
         },
         {
          "Distance": 3
         },
         {
          "Distance": 4
         },
         {
          "Distance": 2
         },
         {
          "Distance": 2
         },
         {
          "Distance": 3
         },
         {
          "Distance": 2
         },
         {
          "Distance": 6
         },
         {
          "Distance": 3
         },
         {
          "Distance": 6
         },
         {
          "Distance": 2
         },
         {
          "Distance": 4
         },
         {
          "Distance": 2
         },
         {
          "Distance": 3
         },
         {
          "Distance": 3
         },
         {
          "Distance": 2
         },
         {
          "Distance": 2
         },
         {
          "Distance": 3
         },
         {
          "Distance": 5
         },
         {
          "Distance": 4
         },
         {
          "Distance": 4
         },
         {
          "Distance": 2
         },
         {
          "Distance": 2
         },
         {
          "Distance": 3
         },
         {
          "Distance": 11
         },
         {
          "Distance": 2
         },
         {
          "Distance": 3
         },
         {
          "Distance": 2
         },
         {
          "Distance": 4
         },
         {
          "Distance": 4
         },
         {
          "Distance": 4
         },
         {
          "Distance": 2
         },
         {
          "Distance": 2
         },
         {
          "Distance": 2
         },
         {
          "Distance": 3
         },
         {
          "Distance": 2
         },
         {
          "Distance": 3
         },
         {
          "Distance": 5
         },
         {
          "Distance": 2
         },
         {
          "Distance": 3
         },
         {
          "Distance": 2
         },
         {
          "Distance": 5
         },
         {
          "Distance": 4
         },
         {
          "Distance": 5
         },
         {
          "Distance": 3
         },
         {
          "Distance": 3
         },
         {
          "Distance": 5
         },
         {
          "Distance": 5
         },
         {
          "Distance": 5
         },
         {
          "Distance": 3
         },
         {
          "Distance": 4
         },
         {
          "Distance": 7
         },
         {
          "Distance": 2
         },
         {
          "Distance": 3
         },
         {
          "Distance": 5
         },
         {
          "Distance": 4
         },
         {
          "Distance": 13
         },
         {
          "Distance": 8
         },
         {
          "Distance": 4
         },
         {
          "Distance": 2
         },
         {
          "Distance": 3
         },
         {
          "Distance": 4
         },
         {
          "Distance": 4
         },
         {
          "Distance": 2
         },
         {
          "Distance": 6
         },
         {
          "Distance": 2
         },
         {
          "Distance": 2
         },
         {
          "Distance": 3
         },
         {
          "Distance": 3
         },
         {
          "Distance": 3
         },
         {
          "Distance": 2
         },
         {
          "Distance": 2
         },
         {
          "Distance": 4
         },
         {
          "Distance": 2
         },
         {
          "Distance": 3
         },
         {
          "Distance": 6
         },
         {
          "Distance": 2
         },
         {
          "Distance": 2
         },
         {
          "Distance": 3
         },
         {
          "Distance": 2
         },
         {
          "Distance": 3
         },
         {
          "Distance": 4
         },
         {
          "Distance": 3
         },
         {
          "Distance": 8
         },
         {
          "Distance": 2
         },
         {
          "Distance": 3
         },
         {
          "Distance": 2
         },
         {
          "Distance": 3
         },
         {
          "Distance": 3
         },
         {
          "Distance": 2
         },
         {
          "Distance": 4
         },
         {
          "Distance": 2
         },
         {
          "Distance": 4
         },
         {
          "Distance": 5
         },
         {
          "Distance": 3
         },
         {
          "Distance": 2
         },
         {
          "Distance": 2
         },
         {
          "Distance": 2
         },
         {
          "Distance": 2
         },
         {
          "Distance": 3
         },
         {
          "Distance": 6
         },
         {
          "Distance": 5
         },
         {
          "Distance": 3
         },
         {
          "Distance": 4
         },
         {
          "Distance": 5
         },
         {
          "Distance": 3
         },
         {
          "Distance": 3
         },
         {
          "Distance": 3
         },
         {
          "Distance": 3
         },
         {
          "Distance": 3
         },
         {
          "Distance": 3
         },
         {
          "Distance": 2
         },
         {
          "Distance": 2
         },
         {
          "Distance": 2
         },
         {
          "Distance": 2
         },
         {
          "Distance": 3
         },
         {
          "Distance": 2
         },
         {
          "Distance": 6
         },
         {
          "Distance": 3
         },
         {
          "Distance": 3
         },
         {
          "Distance": 4
         },
         {
          "Distance": 2
         },
         {
          "Distance": 2
         },
         {
          "Distance": 2
         },
         {
          "Distance": 2
         },
         {
          "Distance": 4
         },
         {
          "Distance": 11
         },
         {
          "Distance": 3
         },
         {
          "Distance": 4
         },
         {
          "Distance": 3
         },
         {
          "Distance": 2
         },
         {
          "Distance": 2
         },
         {
          "Distance": 2
         },
         {
          "Distance": 3
         },
         {
          "Distance": 3
         },
         {
          "Distance": 2
         },
         {
          "Distance": 2
         },
         {
          "Distance": 4
         },
         {
          "Distance": 4
         },
         {
          "Distance": 4
         },
         {
          "Distance": 3
         },
         {
          "Distance": 4
         },
         {
          "Distance": 3
         },
         {
          "Distance": 3
         },
         {
          "Distance": 2
         },
         {
          "Distance": 8
         },
         {
          "Distance": 4
         },
         {
          "Distance": 5
         },
         {
          "Distance": 7
         },
         {
          "Distance": 2
         },
         {
          "Distance": 2
         },
         {
          "Distance": 4
         },
         {
          "Distance": 4
         },
         {
          "Distance": 3
         },
         {
          "Distance": 3
         },
         {
          "Distance": 3
         },
         {
          "Distance": 2
         },
         {
          "Distance": 4
         },
         {
          "Distance": 3
         },
         {
          "Distance": 4
         },
         {
          "Distance": 4
         },
         {
          "Distance": 3
         },
         {
          "Distance": 2
         },
         {
          "Distance": 3
         },
         {
          "Distance": 8
         },
         {
          "Distance": 2
         },
         {
          "Distance": 4
         },
         {
          "Distance": 2
         },
         {
          "Distance": 2
         },
         {
          "Distance": 2
         },
         {
          "Distance": 3
         },
         {
          "Distance": 3
         },
         {
          "Distance": 3
         },
         {
          "Distance": 4
         },
         {
          "Distance": 4
         },
         {
          "Distance": 2
         },
         {
          "Distance": 7
         },
         {
          "Distance": 2
         },
         {
          "Distance": 4
         },
         {
          "Distance": 3
         },
         {
          "Distance": 2
         },
         {
          "Distance": 2
         },
         {
          "Distance": 2
         },
         {
          "Distance": 7
         },
         {
          "Distance": 2
         },
         {
          "Distance": 3
         },
         {
          "Distance": 2
         },
         {
          "Distance": 3
         },
         {
          "Distance": 2
         },
         {
          "Distance": 2
         },
         {
          "Distance": 4
         },
         {
          "Distance": 4
         },
         {
          "Distance": 3
         },
         {
          "Distance": 3
         },
         {
          "Distance": 3
         },
         {
          "Distance": 4
         },
         {
          "Distance": 3
         },
         {
          "Distance": 2
         },
         {
          "Distance": 6
         },
         {
          "Distance": 2
         },
         {
          "Distance": 4
         },
         {
          "Distance": 3
         },
         {
          "Distance": 5
         },
         {
          "Distance": 2
         },
         {
          "Distance": 4
         },
         {
          "Distance": 3
         },
         {
          "Distance": 2
         },
         {
          "Distance": 3
         },
         {
          "Distance": 3
         },
         {
          "Distance": 2
         },
         {
          "Distance": 4
         },
         {
          "Distance": 6
         },
         {
          "Distance": 3
         },
         {
          "Distance": 3
         },
         {
          "Distance": 3
         },
         {
          "Distance": 2
         },
         {
          "Distance": 7
         },
         {
          "Distance": 2
         },
         {
          "Distance": 5
         },
         {
          "Distance": 2
         },
         {
          "Distance": 3
         },
         {
          "Distance": 3
         },
         {
          "Distance": 5
         },
         {
          "Distance": 3
         },
         {
          "Distance": 6
         },
         {
          "Distance": 6
         },
         {
          "Distance": 2
         },
         {
          "Distance": 6
         },
         {
          "Distance": 3
         },
         {
          "Distance": 3
         },
         {
          "Distance": 2
         },
         {
          "Distance": 2
         },
         {
          "Distance": 2
         },
         {
          "Distance": 2
         },
         {
          "Distance": 4
         },
         {
          "Distance": 3
         },
         {
          "Distance": 11
         },
         {
          "Distance": 3
         },
         {
          "Distance": 3
         },
         {
          "Distance": 4
         },
         {
          "Distance": 3
         },
         {
          "Distance": 3
         },
         {
          "Distance": 4
         },
         {
          "Distance": 2
         },
         {
          "Distance": 2
         },
         {
          "Distance": 5
         },
         {
          "Distance": 2
         },
         {
          "Distance": 3
         },
         {
          "Distance": 3
         },
         {
          "Distance": 2
         },
         {
          "Distance": 4
         },
         {
          "Distance": 3
         },
         {
          "Distance": 7
         },
         {
          "Distance": 3
         },
         {
          "Distance": 2
         },
         {
          "Distance": 3
         },
         {
          "Distance": 2
         },
         {
          "Distance": 3
         },
         {
          "Distance": 2
         },
         {
          "Distance": 2
         },
         {
          "Distance": 6
         },
         {
          "Distance": 2
         },
         {
          "Distance": 2
         },
         {
          "Distance": 2
         },
         {
          "Distance": 3
         },
         {
          "Distance": 2
         },
         {
          "Distance": 5
         },
         {
          "Distance": 3
         },
         {
          "Distance": 10
         },
         {
          "Distance": 3
         },
         {
          "Distance": 4
         },
         {
          "Distance": 3
         },
         {
          "Distance": 2
         },
         {
          "Distance": 3
         },
         {
          "Distance": 3
         },
         {
          "Distance": 2
         },
         {
          "Distance": 2
         },
         {
          "Distance": 2
         },
         {
          "Distance": 2
         },
         {
          "Distance": 3
         },
         {
          "Distance": 5
         },
         {
          "Distance": 3
         },
         {
          "Distance": 3
         },
         {
          "Distance": 2
         },
         {
          "Distance": 4
         },
         {
          "Distance": 3
         },
         {
          "Distance": 7
         },
         {
          "Distance": 3
         },
         {
          "Distance": 3
         },
         {
          "Distance": 2
         },
         {
          "Distance": 10
         },
         {
          "Distance": 5
         },
         {
          "Distance": 3
         },
         {
          "Distance": 3
         },
         {
          "Distance": 2
         },
         {
          "Distance": 3
         },
         {
          "Distance": 4
         },
         {
          "Distance": 3
         },
         {
          "Distance": 2
         },
         {
          "Distance": 6
         },
         {
          "Distance": 2
         },
         {
          "Distance": 4
         },
         {
          "Distance": 2
         },
         {
          "Distance": 3
         },
         {
          "Distance": 3
         },
         {
          "Distance": 5
         },
         {
          "Distance": 2
         },
         {
          "Distance": 2
         },
         {
          "Distance": 2
         },
         {
          "Distance": 7
         },
         {
          "Distance": 2
         },
         {
          "Distance": 2
         },
         {
          "Distance": 2
         },
         {
          "Distance": 3
         },
         {
          "Distance": 3
         },
         {
          "Distance": 2
         },
         {
          "Distance": 3
         },
         {
          "Distance": 3
         },
         {
          "Distance": 2
         },
         {
          "Distance": 5
         },
         {
          "Distance": 3
         },
         {
          "Distance": 2
         },
         {
          "Distance": 4
         },
         {
          "Distance": 2
         },
         {
          "Distance": 4
         },
         {
          "Distance": 2
         },
         {
          "Distance": 3
         },
         {
          "Distance": 3
         },
         {
          "Distance": 2
         },
         {
          "Distance": 3
         },
         {
          "Distance": 2
         },
         {
          "Distance": 3
         },
         {
          "Distance": 3
         },
         {
          "Distance": 2
         },
         {
          "Distance": 2
         },
         {
          "Distance": 2
         },
         {
          "Distance": 5
         },
         {
          "Distance": 9
         },
         {
          "Distance": 3
         },
         {
          "Distance": 2
         },
         {
          "Distance": 3
         },
         {
          "Distance": 2
         },
         {
          "Distance": 3
         },
         {
          "Distance": 3
         },
         {
          "Distance": 3
         },
         {
          "Distance": 7
         },
         {
          "Distance": 3
         },
         {
          "Distance": 2
         },
         {
          "Distance": 3
         },
         {
          "Distance": 3
         },
         {
          "Distance": 4
         },
         {
          "Distance": 4
         },
         {
          "Distance": 2
         },
         {
          "Distance": 3
         },
         {
          "Distance": 4
         },
         {
          "Distance": 3
         },
         {
          "Distance": 2
         },
         {
          "Distance": 2
         },
         {
          "Distance": 6
         },
         {
          "Distance": 4
         },
         {
          "Distance": 2
         },
         {
          "Distance": 3
         },
         {
          "Distance": 6
         },
         {
          "Distance": 2
         },
         {
          "Distance": 2
         },
         {
          "Distance": 9
         },
         {
          "Distance": 5
         },
         {
          "Distance": 5
         },
         {
          "Distance": 4
         },
         {
          "Distance": 7
         },
         {
          "Distance": 4
         },
         {
          "Distance": 2
         },
         {
          "Distance": 5
         },
         {
          "Distance": 2
         },
         {
          "Distance": 3
         },
         {
          "Distance": 2
         },
         {
          "Distance": 3
         },
         {
          "Distance": 3
         },
         {
          "Distance": 3
         },
         {
          "Distance": 4
         },
         {
          "Distance": 3
         },
         {
          "Distance": 3
         },
         {
          "Distance": 3
         },
         {
          "Distance": 4
         },
         {
          "Distance": 3
         },
         {
          "Distance": 4
         },
         {
          "Distance": 5
         },
         {
          "Distance": 2
         },
         {
          "Distance": 3
         },
         {
          "Distance": 3
         },
         {
          "Distance": 4
         },
         {
          "Distance": 3
         },
         {
          "Distance": 3
         },
         {
          "Distance": 2
         },
         {
          "Distance": 7
         },
         {
          "Distance": 3
         },
         {
          "Distance": 2
         },
         {
          "Distance": 3
         },
         {
          "Distance": 2
         },
         {
          "Distance": 4
         },
         {
          "Distance": 4
         },
         {
          "Distance": 2
         },
         {
          "Distance": 2
         },
         {
          "Distance": 2
         },
         {
          "Distance": 2
         },
         {
          "Distance": 2
         },
         {
          "Distance": 6
         },
         {
          "Distance": 3
         },
         {
          "Distance": 4
         },
         {
          "Distance": 3
         },
         {
          "Distance": 6
         },
         {
          "Distance": 3
         },
         {
          "Distance": 2
         },
         {
          "Distance": 5
         },
         {
          "Distance": 4
         },
         {
          "Distance": 3
         },
         {
          "Distance": 3
         },
         {
          "Distance": 5
         },
         {
          "Distance": 5
         },
         {
          "Distance": 2
         },
         {
          "Distance": 2
         },
         {
          "Distance": 5
         },
         {
          "Distance": 2
         },
         {
          "Distance": 7
         },
         {
          "Distance": 5
         },
         {
          "Distance": 2
         },
         {
          "Distance": 6
         },
         {
          "Distance": 4
         },
         {
          "Distance": 3
         },
         {
          "Distance": 3
         },
         {
          "Distance": 5
         },
         {
          "Distance": 2
         },
         {
          "Distance": 4
         }
        ]
       },
       "encoding": {
        "x": {
         "field": "Distance",
         "type": "ordinal"
        },
        "y": {
         "aggregate": "count",
         "field": "*"
        }
       },
       "mark": "bar"
      },
      "image/png": "[encoded data removed]",
      "text/plain": [
       "<altair.VegaLite object>"
      ]
     },
     "execution_count": 7,
     "metadata": {},
     "output_type": "execute_result"
    }
   ],
   "source": [
    "alt.Chart(df).mark_bar().encode(\n",
    "    alt.X('Distance:O'),\n",
    "    alt.Y('count(*)')\n",
    ")"
   ]
  }
 ],
 "metadata": {
  "kernelspec": {
   "display_name": "Python 3",
   "language": "python",
   "name": "python3"
  },
  "language_info": {
   "codemirror_mode": {
    "name": "ipython",
    "version": 3
   },
   "file_extension": ".py",
   "mimetype": "text/x-python",
   "name": "python",
   "nbconvert_exporter": "python",
   "pygments_lexer": "ipython3",
   "version": "3.6.3"
  }
 },
 "nbformat": 4,
 "nbformat_minor": 2
}
