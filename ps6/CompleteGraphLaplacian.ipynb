{
 "cells": [
  {
   "cell_type": "markdown",
   "metadata": {},
   "source": [
    "\n",
    "\n",
    "\n",
    "\n",
    "\n",
    "\n",
    "\n",
    "# Complete graph Laplacian"
   ]
  },
  {
   "cell_type": "markdown",
   "metadata": {},
   "source": [
    "## Imports"
   ]
  },
  {
   "cell_type": "code",
   "execution_count": 1,
   "metadata": {},
   "outputs": [],
   "source": [
    "import numpy as np\n",
    "%matplotlib inline\n",
    "import matplotlib.pyplot as plt"
   ]
  },
  {
   "cell_type": "markdown",
   "metadata": {},
   "source": [
    "In discrete mathematics a [Graph](http://en.wikipedia.org/wiki/Graph_%28mathematics%29) is a set of *vertices* or *nodes* that are connected to each other by *edges* or *lines*. If those *edges* don't have directionality, the graph is said to be *undirected*. Graphs are used to model social and communications networks (Twitter, Facebook, Internet) as well as natural systems such as molecules.\n",
    "\n",
    "A [Complete Graph](http://en.wikipedia.org/wiki/Complete_graph), $K_n$ on $n$ nodes has an edge that connects each node to every other node.\n",
    "\n",
    "Here is $K_5$:"
   ]
  },
  {
   "cell_type": "code",
   "execution_count": 2,
   "metadata": {},
   "outputs": [
    {
     "data": {
      "image/png": "[encoded data removed]",
      "text/plain": [
       "<matplotlib.figure.Figure at 0x7f395dad6f60>"
      ]
     },
     "metadata": {},
     "output_type": "display_data"
    }
   ],
   "source": [
    "import networkx as nx\n",
    "K_5=nx.complete_graph(5)\n",
    "nx.draw(K_5)"
   ]
  },
  {
   "cell_type": "markdown",
   "metadata": {},
   "source": [
    "The [Laplacian Matrix](http://en.wikipedia.org/wiki/Laplacian_matrix) is a matrix that is extremely important in graph theory and numerical analysis. It is defined as $L=D-A$. Where $D$ is the [degree matrix](https://en.wikipedia.org/wiki/Degree_matrix) and $A$ is the [adjecency matrix](https://en.wikipedia.org/wiki/Adjacency_matrix). For the purpose of this problem you don't need to understand the details of these matrices, although their definitions are relatively simple (I encourage you to follow the links above and read about them).\n",
    "\n",
    "The degree matrix for $K_n$ is an $n \\times n$ diagonal matrix with the value $n-1$ along the diagonal and zeros everywhere else. Write a function to compute the degree matrix for $K_n$ using NumPy."
   ]
  },
  {
   "cell_type": "code",
   "execution_count": 3,
   "metadata": {
    "deletable": false,
    "nbgrader": {
     "checksum": "251bf113f2e9a7b057fb69931255ec80",
     "grade": false,
     "grade_id": "completegrapha",
     "locked": false,
     "schema_version": 1,
     "solution": true
    }
   },
   "outputs": [],
   "source": [
    "def complete_deg(n):\n",
    "    \"\"\"Return the integer valued degree matrix D for the complete graph K_n.\"\"\"\n",
    "    arr = np.zeros((n,n), dtype = int)\n",
    "    for i in range(n):\n",
    "        arr[i][i] = n-1\n",
    "    return arr"
   ]
  },
  {
   "cell_type": "code",
   "execution_count": 4,
   "metadata": {
    "deletable": false,
    "editable": false,
    "nbgrader": {
     "checksum": "e2225ed17d8b7c0950bbea55d1a169a4",
     "grade": true,
     "grade_id": "completegraphb",
     "locked": false,
     "points": 3,
     "schema_version": 1,
     "solution": false
    }
   },
   "outputs": [],
   "source": [
    "D = complete_deg(5)\n",
    "assert D.shape==(5,5)\n",
    "assert D.dtype==np.dtype(int)\n",
    "assert np.all(D.diagonal()==4*np.ones(5))\n",
    "assert np.all(D-np.diag(D.diagonal())==np.zeros((5,5),dtype=int))"
   ]
  },
  {
   "cell_type": "markdown",
   "metadata": {},
   "source": [
    "The adjacency matrix for $K_n$ is an $n \\times n$ matrix with zeros along the diagonal and ones everywhere else. Write a function to compute the adjacency matrix for $K_n$ using NumPy."
   ]
  },
  {
   "cell_type": "code",
   "execution_count": 5,
   "metadata": {
    "deletable": false,
    "nbgrader": {
     "checksum": "a1e20496042084d727b017d8acc7aac4",
     "grade": false,
     "grade_id": "completegraphc",
     "locked": false,
     "schema_version": 1,
     "solution": true
    }
   },
   "outputs": [],
   "source": [
    "def complete_adj(n):\n",
    "    \"\"\"Return the integer valued adjacency matrix A for the complete graph K_n.\"\"\"\n",
    "    arr = np.ones((n, n), dtype=int)\n",
    "    for i in range(n):\n",
    "        arr[i][i] = 0\n",
    "    return arr"
   ]
  },
  {
   "cell_type": "code",
   "execution_count": 6,
   "metadata": {
    "deletable": false,
    "editable": false,
    "nbgrader": {
     "checksum": "883e25c80532ae29a76c49682292e1c4",
     "grade": true,
     "grade_id": "completegraphd",
     "locked": false,
     "points": 3,
     "schema_version": 1,
     "solution": false
    }
   },
   "outputs": [],
   "source": [
    "A = complete_adj(5)\n",
    "assert A.shape==(5,5)\n",
    "assert A.dtype==np.dtype(int)\n",
    "assert np.all(A+np.eye(5,dtype=int)==np.ones((5,5),dtype=int))"
   ]
  },
  {
   "cell_type": "markdown",
   "metadata": {},
   "source": [
    "Use NumPy to explore the eigenvalues or *spectrum* of the Laplacian *L* of $K_n$. What patterns do you notice as $n$ changes? Create a *conjecture* about the general Laplace *spectrum* of $K_n$."
   ]
  },
  {
   "cell_type": "code",
   "execution_count": 10,
   "metadata": {
    "deletable": false,
    "nbgrader": {
     "checksum": "5ca9adcbecfdbb7e14b0f227f5de7343",
     "grade": true,
     "grade_id": "completegraphe",
     "locked": false,
     "points": 2,
     "schema_version": 1,
     "solution": true
    }
   },
   "outputs": [
    {
     "name": "stdout",
     "output_type": "stream",
     "text": [
      "Size:  350 \n",
      "Eigenvalues: \n",
      " [  3.50e+02 +0.00e+00j  -4.22e-14 +0.00e+00j   3.50e+02 +1.24e-13j\n",
      "   3.50e+02 -1.24e-13j   3.50e+02 +0.00e+00j   3.50e+02 +0.00e+00j\n",
      "   3.50e+02 +0.00e+00j   3.50e+02 +0.00e+00j   3.50e+02 +0.00e+00j\n",
      "   3.50e+02 +0.00e+00j   3.50e+02 +0.00e+00j   3.50e+02 +2.67e-13j\n",
      "   3.50e+02 -2.67e-13j   3.50e+02 +0.00e+00j   3.50e+02 +1.23e-13j\n",
      "   3.50e+02 -1.23e-13j   3.50e+02 +1.29e-13j   3.50e+02 -1.29e-13j\n",
      "   3.50e+02 +0.00e+00j   3.50e+02 +0.00e+00j   3.50e+02 +0.00e+00j\n",
      "   3.50e+02 +0.00e+00j   3.50e+02 +0.00e+00j   3.50e+02 +0.00e+00j\n",
      "   3.50e+02 +0.00e+00j   3.50e+02 +0.00e+00j   3.50e+02 +0.00e+00j\n",
      "   3.50e+02 +0.00e+00j   3.50e+02 +0.00e+00j   3.50e+02 +0.00e+00j\n",
      "   3.50e+02 +0.00e+00j   3.50e+02 +0.00e+00j   3.50e+02 +0.00e+00j\n",
      "   3.50e+02 +0.00e+00j   3.50e+02 +0.00e+00j   3.50e+02 +0.00e+00j\n",
      "   3.50e+02 +0.00e+00j   3.50e+02 +0.00e+00j   3.50e+02 +0.00e+00j\n",
      "   3.50e+02 +0.00e+00j   3.50e+02 +0.00e+00j   3.50e+02 +0.00e+00j\n",
      "   3.50e+02 +0.00e+00j   3.50e+02 +0.00e+00j   3.50e+02 +0.00e+00j\n",
      "   3.50e+02 +0.00e+00j   3.50e+02 +0.00e+00j   3.50e+02 +0.00e+00j\n",
      "   3.50e+02 +3.95e-14j   3.50e+02 -3.95e-14j   3.50e+02 +0.00e+00j\n",
      "   3.50e+02 +0.00e+00j   3.50e+02 +0.00e+00j   3.50e+02 +0.00e+00j\n",
      "   3.50e+02 +0.00e+00j   3.50e+02 +0.00e+00j   3.50e+02 +0.00e+00j\n",
      "   3.50e+02 +0.00e+00j   3.50e+02 +0.00e+00j   3.50e+02 +0.00e+00j\n",
      "   3.50e+02 +0.00e+00j   3.50e+02 +0.00e+00j   3.50e+02 +0.00e+00j\n",
      "   3.50e+02 +0.00e+00j   3.50e+02 +0.00e+00j   3.50e+02 +0.00e+00j\n",
      "   3.50e+02 +0.00e+00j   3.50e+02 +0.00e+00j   3.50e+02 +0.00e+00j\n",
      "   3.50e+02 +0.00e+00j   3.50e+02 +0.00e+00j   3.50e+02 +0.00e+00j\n",
      "   3.50e+02 +0.00e+00j   3.50e+02 +0.00e+00j   3.50e+02 +0.00e+00j\n",
      "   3.50e+02 +0.00e+00j   3.50e+02 +0.00e+00j   3.50e+02 +0.00e+00j\n",
      "   3.50e+02 +0.00e+00j   3.50e+02 +0.00e+00j   3.50e+02 +0.00e+00j\n",
      "   3.50e+02 +0.00e+00j   3.50e+02 +0.00e+00j   3.50e+02 +0.00e+00j\n",
      "   3.50e+02 +0.00e+00j   3.50e+02 +0.00e+00j   3.50e+02 +0.00e+00j\n",
      "   3.50e+02 +0.00e+00j   3.50e+02 +0.00e+00j   3.50e+02 +0.00e+00j\n",
      "   3.50e+02 +0.00e+00j   3.50e+02 +0.00e+00j   3.50e+02 +0.00e+00j\n",
      "   3.50e+02 +0.00e+00j   3.50e+02 +0.00e+00j   3.50e+02 +0.00e+00j\n",
      "   3.50e+02 +0.00e+00j   3.50e+02 +0.00e+00j   3.50e+02 +0.00e+00j\n",
      "   3.50e+02 +0.00e+00j   3.50e+02 +0.00e+00j   3.50e+02 +0.00e+00j\n",
      "   3.50e+02 +0.00e+00j   3.50e+02 +0.00e+00j   3.50e+02 +0.00e+00j\n",
      "   3.50e+02 +0.00e+00j   3.50e+02 +0.00e+00j   3.50e+02 +0.00e+00j\n",
      "   3.50e+02 +0.00e+00j   3.50e+02 +0.00e+00j   3.50e+02 +0.00e+00j\n",
      "   3.50e+02 +0.00e+00j   3.50e+02 +0.00e+00j   3.50e+02 +6.96e-14j\n",
      "   3.50e+02 -6.96e-14j   3.50e+02 +0.00e+00j   3.50e+02 +0.00e+00j\n",
      "   3.50e+02 +0.00e+00j   3.50e+02 +0.00e+00j   3.50e+02 +0.00e+00j\n",
      "   3.50e+02 +0.00e+00j   3.50e+02 +0.00e+00j   3.50e+02 +0.00e+00j\n",
      "   3.50e+02 +0.00e+00j   3.50e+02 +0.00e+00j   3.50e+02 +0.00e+00j\n",
      "   3.50e+02 +0.00e+00j   3.50e+02 +0.00e+00j   3.50e+02 +0.00e+00j\n",
      "   3.50e+02 +0.00e+00j   3.50e+02 +0.00e+00j   3.50e+02 +0.00e+00j\n",
      "   3.50e+02 +0.00e+00j   3.50e+02 +0.00e+00j   3.50e+02 +0.00e+00j\n",
      "   3.50e+02 +0.00e+00j   3.50e+02 +0.00e+00j   3.50e+02 +0.00e+00j\n",
      "   3.50e+02 +0.00e+00j   3.50e+02 +0.00e+00j   3.50e+02 +0.00e+00j\n",
      "   3.50e+02 +0.00e+00j   3.50e+02 +0.00e+00j   3.50e+02 +0.00e+00j\n",
      "   3.50e+02 +0.00e+00j   3.50e+02 +0.00e+00j   3.50e+02 +0.00e+00j\n",
      "   3.50e+02 +0.00e+00j   3.50e+02 +0.00e+00j   3.50e+02 +0.00e+00j\n",
      "   3.50e+02 +7.38e-14j   3.50e+02 -7.38e-14j   3.50e+02 +0.00e+00j\n",
      "   3.50e+02 +0.00e+00j   3.50e+02 +0.00e+00j   3.50e+02 +0.00e+00j\n",
      "   3.50e+02 +0.00e+00j   3.50e+02 +0.00e+00j   3.50e+02 +0.00e+00j\n",
      "   3.50e+02 +0.00e+00j   3.50e+02 +0.00e+00j   3.50e+02 +0.00e+00j\n",
      "   3.50e+02 +4.03e-14j   3.50e+02 -4.03e-14j   3.50e+02 +0.00e+00j\n",
      "   3.50e+02 +0.00e+00j   3.50e+02 +0.00e+00j   3.50e+02 +0.00e+00j\n",
      "   3.50e+02 +0.00e+00j   3.50e+02 +0.00e+00j   3.50e+02 +0.00e+00j\n",
      "   3.50e+02 +0.00e+00j   3.50e+02 +0.00e+00j   3.50e+02 +6.96e-14j\n",
      "   3.50e+02 -6.96e-14j   3.50e+02 +0.00e+00j   3.50e+02 +0.00e+00j\n",
      "   3.50e+02 +0.00e+00j   3.50e+02 +0.00e+00j   3.50e+02 +0.00e+00j\n",
      "   3.50e+02 +0.00e+00j   3.50e+02 +0.00e+00j   3.50e+02 +0.00e+00j\n",
      "   3.50e+02 +0.00e+00j   3.50e+02 +0.00e+00j   3.50e+02 +0.00e+00j\n",
      "   3.50e+02 +0.00e+00j   3.50e+02 +0.00e+00j   3.50e+02 +0.00e+00j\n",
      "   3.50e+02 +0.00e+00j   3.50e+02 +4.71e-14j   3.50e+02 -4.71e-14j\n",
      "   3.50e+02 +0.00e+00j   3.50e+02 +0.00e+00j   3.50e+02 +0.00e+00j\n",
      "   3.50e+02 +0.00e+00j   3.50e+02 +0.00e+00j   3.50e+02 +0.00e+00j\n",
      "   3.50e+02 +0.00e+00j   3.50e+02 +0.00e+00j   3.50e+02 +0.00e+00j\n",
      "   3.50e+02 +0.00e+00j   3.50e+02 +0.00e+00j   3.50e+02 +0.00e+00j\n",
      "   3.50e+02 +0.00e+00j   3.50e+02 +0.00e+00j   3.50e+02 +0.00e+00j\n",
      "   3.50e+02 +0.00e+00j   3.50e+02 +0.00e+00j   3.50e+02 +0.00e+00j\n",
      "   3.50e+02 +0.00e+00j   3.50e+02 +0.00e+00j   3.50e+02 +0.00e+00j\n",
      "   3.50e+02 +0.00e+00j   3.50e+02 +0.00e+00j   3.50e+02 +0.00e+00j\n",
      "   3.50e+02 +0.00e+00j   3.50e+02 +0.00e+00j   3.50e+02 +0.00e+00j\n",
      "   3.50e+02 +0.00e+00j   3.50e+02 +0.00e+00j   3.50e+02 +0.00e+00j\n",
      "   3.50e+02 +0.00e+00j   3.50e+02 +0.00e+00j   3.50e+02 +0.00e+00j\n",
      "   3.50e+02 +0.00e+00j   3.50e+02 +0.00e+00j   3.50e+02 +0.00e+00j\n",
      "   3.50e+02 +0.00e+00j   3.50e+02 +0.00e+00j   3.50e+02 +0.00e+00j\n",
      "   3.50e+02 +0.00e+00j   3.50e+02 +0.00e+00j   3.50e+02 +0.00e+00j\n",
      "   3.50e+02 +0.00e+00j   3.50e+02 +0.00e+00j   3.50e+02 +0.00e+00j\n",
      "   3.50e+02 +0.00e+00j   3.50e+02 +0.00e+00j   3.50e+02 +0.00e+00j\n",
      "   3.50e+02 +0.00e+00j   3.50e+02 +0.00e+00j   3.50e+02 +0.00e+00j\n",
      "   3.50e+02 +0.00e+00j   3.50e+02 +0.00e+00j   3.50e+02 +0.00e+00j\n",
      "   3.50e+02 +0.00e+00j   3.50e+02 +0.00e+00j   3.50e+02 +0.00e+00j\n",
      "   3.50e+02 +0.00e+00j   3.50e+02 +0.00e+00j   3.50e+02 +0.00e+00j\n",
      "   3.50e+02 +0.00e+00j   3.50e+02 +0.00e+00j   3.50e+02 +0.00e+00j\n",
      "   3.50e+02 +0.00e+00j   3.50e+02 +0.00e+00j   3.50e+02 +0.00e+00j\n",
      "   3.50e+02 +0.00e+00j   3.50e+02 +0.00e+00j   3.50e+02 +0.00e+00j\n",
      "   3.50e+02 +0.00e+00j   3.50e+02 +0.00e+00j   3.50e+02 +0.00e+00j\n",
      "   3.50e+02 +0.00e+00j   3.50e+02 +0.00e+00j   3.50e+02 +0.00e+00j\n",
      "   3.50e+02 +0.00e+00j   3.50e+02 +0.00e+00j   3.50e+02 +0.00e+00j\n",
      "   3.50e+02 +0.00e+00j   3.50e+02 +0.00e+00j   3.50e+02 +0.00e+00j\n",
      "   3.50e+02 +0.00e+00j   3.50e+02 +0.00e+00j   3.50e+02 +0.00e+00j\n",
      "   3.50e+02 +0.00e+00j   3.50e+02 +0.00e+00j   3.50e+02 +0.00e+00j\n",
      "   3.50e+02 +0.00e+00j   3.50e+02 +0.00e+00j   3.50e+02 +0.00e+00j\n",
      "   3.50e+02 +0.00e+00j   3.50e+02 +0.00e+00j   3.50e+02 +0.00e+00j\n",
      "   3.50e+02 +0.00e+00j   3.50e+02 +0.00e+00j   3.50e+02 +0.00e+00j\n",
      "   3.50e+02 +0.00e+00j   3.50e+02 +0.00e+00j   3.50e+02 +0.00e+00j\n",
      "   3.50e+02 +0.00e+00j   3.50e+02 +0.00e+00j   3.50e+02 +0.00e+00j\n",
      "   3.50e+02 +0.00e+00j   3.50e+02 +0.00e+00j   3.50e+02 +0.00e+00j\n",
      "   3.50e+02 +0.00e+00j   3.50e+02 +0.00e+00j   3.50e+02 +0.00e+00j\n",
      "   3.50e+02 +0.00e+00j   3.50e+02 +0.00e+00j   3.50e+02 +0.00e+00j\n",
      "   3.50e+02 +0.00e+00j   3.50e+02 +0.00e+00j   3.50e+02 +0.00e+00j\n",
      "   3.50e+02 +0.00e+00j   3.50e+02 +0.00e+00j   3.50e+02 +0.00e+00j\n",
      "   3.50e+02 +0.00e+00j   3.50e+02 +0.00e+00j   3.50e+02 +0.00e+00j\n",
      "   3.50e+02 +0.00e+00j   3.50e+02 +0.00e+00j   3.50e+02 +0.00e+00j\n",
      "   3.50e+02 +0.00e+00j   3.50e+02 +0.00e+00j   3.50e+02 +0.00e+00j\n",
      "   3.50e+02 +0.00e+00j   3.50e+02 +0.00e+00j   3.50e+02 +0.00e+00j\n",
      "   3.50e+02 +0.00e+00j   3.50e+02 +0.00e+00j   3.50e+02 +0.00e+00j\n",
      "   3.50e+02 +0.00e+00j   3.50e+02 +0.00e+00j   3.50e+02 +0.00e+00j\n",
      "   3.50e+02 +0.00e+00j   3.50e+02 +0.00e+00j   3.50e+02 +0.00e+00j\n",
      "   3.50e+02 +0.00e+00j   3.50e+02 +0.00e+00j   3.50e+02 +0.00e+00j\n",
      "   3.50e+02 +0.00e+00j   3.50e+02 +0.00e+00j   3.50e+02 +0.00e+00j\n",
      "   3.50e+02 +0.00e+00j   3.50e+02 +0.00e+00j   3.50e+02 +0.00e+00j\n",
      "   3.50e+02 +0.00e+00j   3.50e+02 +0.00e+00j   3.50e+02 +0.00e+00j\n",
      "   3.50e+02 +0.00e+00j   3.50e+02 +0.00e+00j   3.50e+02 +0.00e+00j\n",
      "   3.50e+02 +0.00e+00j   3.50e+02 +0.00e+00j   3.50e+02 +0.00e+00j\n",
      "   3.50e+02 +0.00e+00j   3.50e+02 +0.00e+00j]\n"
     ]
    }
   ],
   "source": [
    "lengths = [350]\n",
    "np.set_printoptions(precision=2)\n",
    "for l in lengths:\n",
    "    adj = complete_adj(l)\n",
    "    deg = complete_deg(l)\n",
    "    laplac = deg - adj\n",
    "    #print(laplac)\n",
    "    print('Size: ', l, '\\nEigenvalues: \\n', np.linalg.eigvals(laplac))"
   ]
  },
  {
   "cell_type": "markdown",
   "metadata": {},
   "source": [
    "In a few sentences, propose a *conjecture* about the general Laplace *spectrum* of $K_n$ as $n$ varies."
   ]
  },
  {
   "cell_type": "markdown",
   "metadata": {
    "deletable": false,
    "nbgrader": {
     "checksum": "2e4d948885370eb420b28323df184497",
     "grade": true,
     "grade_id": "completegraphf",
     "locked": false,
     "points": 2,
     "schema_version": 1,
     "solution": true
    }
   },
   "source": [
    "For large sizes, the eigenvalues are all n except for the seconf value, which is close to 0."
   ]
  }
 ],
 "metadata": {
  "kernelspec": {
   "display_name": "Python 3",
   "language": "python",
   "name": "python3"
  },
  "language_info": {
   "codemirror_mode": {
    "name": "ipython",
    "version": 3
   },
   "file_extension": ".py",
   "mimetype": "text/x-python",
   "name": "python",
   "nbconvert_exporter": "python",
   "pygments_lexer": "ipython3",
   "version": "3.6.3"
  }
 },
 "nbformat": 4,
 "nbformat_minor": 2
}
