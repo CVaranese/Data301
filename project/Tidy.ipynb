{
 "cells": [
  {
   "cell_type": "markdown",
   "metadata": {},
   "source": [
    "# Importing and Tidying data"
   ]
  },
  {
   "cell_type": "code",
   "execution_count": 1,
   "metadata": {},
   "outputs": [],
   "source": [
    "import pandas as pd\n",
    "import numpy as np"
   ]
  },
  {
   "cell_type": "markdown",
   "metadata": {},
   "source": [
    "### Modifying HTML code\n",
    "\n",
    "The given data is in a large table on the Winston's Lab website. This table is almost formatted perfectly, but there are a few columns that have nothing but pictures. I need to somehow convert these images to a string that I can use.\n",
    "\n",
    "This function will basically replace the image code with the title of the image."
   ]
  },
  {
   "cell_type": "code",
   "execution_count": 2,
   "metadata": {},
   "outputs": [],
   "source": [
    "#convert img entries into words to be used\n",
    "def fix_html_img(in_file_name, out_file_name):\n",
    "    with open(in_file_name, 'r') as in_file:\n",
    "        with open(out_file_name, 'w') as out_file:\n",
    "            for line in in_file:\n",
    "                string = ''\n",
    "                if \"img\" in line and \"title\" in line:\n",
    "                    line_sep = line.split('\\\"')\n",
    "                    if \"class\" in line:\n",
    "                        string = string + ', ' + line_sep[1]\n",
    "                        string = string + ' ' + line_sep[5]\n",
    "                    else:\n",
    "                        string = string + ', ' + line_sep[3]\n",
    "                else:\n",
    "                    string = line\n",
    "                out_file.write(string)\n",
    "            "
   ]
  },
  {
   "cell_type": "markdown",
   "metadata": {},
   "source": [
    "Now I need to test to make sure that it works as intended."
   ]
  },
  {
   "cell_type": "code",
   "execution_count": 3,
   "metadata": {},
   "outputs": [],
   "source": [
    "#test file 1\n",
    "test_in = 'untitled3.txt'\n",
    "test_out = 'test.out'\n",
    "fix_html_img(test_in, test_out)\n",
    "with open(test_out, 'r') as file:\n",
    "    lines = file.readlines()\n",
    "    assert(len(lines) == 4)\n",
    "    assert(lines[0] == '<td class=\"table-count table-basic\">\\n')\n",
    "    assert(lines[1] == 'B</td>\\n')\n",
    "    assert(lines[2] == '<td class=\"table-death-sequence table-basic\">\\n')\n",
    "    assert(lines[3] == ', red Winston, blue Zenyatta, blue Winston, blue Mccree, blue D.Va, blue Genji, blue Mccree')"
   ]
  },
  {
   "cell_type": "code",
   "execution_count": 4,
   "metadata": {},
   "outputs": [],
   "source": [
    "#test file 2\n",
    "test_in = 'untitled4.txt'\n",
    "test_out = 'test2.out'\n",
    "fix_html_img(test_in, test_out)\n",
    "with open(test_out, 'r') as file:\n",
    "    lines = file.readlines()\n",
    "    assert(len(lines) == 5)\n",
    "    assert(lines[0] == '</td>\\n')\n",
    "    assert(lines[1] == '<td class=\"table-heroes ults table-adv\" style=\"display: none;\">\\n')\n",
    "    assert(lines[2] == ', Mccree, Mercy</td>\\n')\n",
    "    assert(lines[3] == '<td class=\"table-heroes ults table-adv\" style=\"display: none;\">\\n')\n",
    "    assert(lines[4] == ', Mercy, Tracer, Genji</td>')"
   ]
  },
  {
   "cell_type": "markdown",
   "metadata": {},
   "source": [
    "Ready for the real transformation."
   ]
  },
  {
   "cell_type": "code",
   "execution_count": 5,
   "metadata": {},
   "outputs": [],
   "source": [
    "real_in = 'table.txt'\n",
    "real_out = 'table_out.txt'\n",
    "fix_html_img(real_in, real_out)"
   ]
  },
  {
   "cell_type": "markdown",
   "metadata": {},
   "source": [
    "## Importing Data\n",
    "\n",
    "Luckily, Pandas includes a function that will easily translate HTML code to a dataframe."
   ]
  },
  {
   "cell_type": "code",
   "execution_count": 6,
   "metadata": {},
   "outputs": [],
   "source": [
    "df = pd.read_html('table_out.txt')[0]\n",
    "df = df.fillna('')"
   ]
  },
  {
   "cell_type": "code",
   "execution_count": 8,
   "metadata": {},
   "outputs": [],
   "source": [
    "#Change columns to a more usable format\n",
    "df.columns = ['Map', 'Roundtype', 'Blue_Team', 'Red_Team', 'time', 'len', 'KB',\n",
    "       'KR', 'UB', 'UR', 'FB', 'Death_Sequence', 'Ults_Blue', 'Ults_Red',\n",
    "       'Teamcomp_Blue', 'Teamcomp_Red']"
   ]
  },
  {
   "cell_type": "code",
   "execution_count": 9,
   "metadata": {},
   "outputs": [],
   "source": [
    "assert(list(df['Map'].unique()) == ['Dorado', 'Temple of Anubis', 'Ilios', 'Numbani', 'Eichenwalde', 'Junkertown', 'Oasis', 'Horizon Lunar Colony', 'Lijiang Tower'])\n",
    "assert(list(df['Roundtype'].unique()) == ['Attack', 'Defense', 'Lighthouse', 'Ruins', 'Well', 'University', 'Gardens', 'City Center', 'Control Center', 'Night Market', 'Garden'])\n",
    "assert(list(df['Blue_Team'].unique()) == ['SFS', 'SHD', 'DAL','LDN', 'PHI', 'BOS','VAL', 'FLA', 'NYE', 'SEO', 'HOU', 'GLA'])\n",
    "assert(list(df['Red_Team'].unique()) == ['VAL', 'GLA', 'SEO', 'FLA','HOU', 'NYE', 'DAL', 'BOS', 'SHD', 'PHI', 'LDN', 'SFS'])"
   ]
  },
  {
   "cell_type": "code",
   "execution_count": 10,
   "metadata": {},
   "outputs": [],
   "source": [
    "df['Death_Sequence'] = df['Death_Sequence'].str[2:].str.split(', ')\n",
    "df['Teamcomp_Blue'] = df['Teamcomp_Blue'].str[2:].str.split(', ')\n",
    "df['Teamcomp_Red'] = df['Teamcomp_Red'].str[2:].str.split(', ')\n",
    "df['Ults_Blue'] = df['Ults_Blue'].str[2:].str.split(', ')\n",
    "df['Ults_Red'] = df['Ults_Red'].str[2:].str.split(', ')"
   ]
  },
  {
   "cell_type": "markdown",
   "metadata": {},
   "source": [
    "Unfortunately, the dataframe did not record the \"winner\" of a fight. I will define the winner as the team who has gotten the most kills."
   ]
  },
  {
   "cell_type": "code",
   "execution_count": 12,
   "metadata": {},
   "outputs": [],
   "source": [
    "def findWinner(x):\n",
    "    if x['KR'] > x['KB']:\n",
    "        return 'Red'\n",
    "    elif x['KR'] < x['KB']:\n",
    "        return 'Blue'\n",
    "    else:\n",
    "        return 'Tie'\n",
    "    \n",
    "df['Winner'] = df.apply(findWinner, axis=1)"
   ]
  },
  {
   "cell_type": "markdown",
   "metadata": {},
   "source": [
    "## Tidying Data\n",
    "\n",
    "The dataset we have is not the most useful. Specifically, the Death Sequence and Ultimates Used columns are a string of multiple things used. The main goal now is to change those into usable tidy columns."
   ]
  },
  {
   "cell_type": "code",
   "execution_count": 11,
   "metadata": {},
   "outputs": [],
   "source": [
    "#Make a tidy column from the death sequence\n",
    "df['First_kill'] = df['Death_Sequence'].str[0].str.split().str[1]"
   ]
  },
  {
   "cell_type": "code",
   "execution_count": 13,
   "metadata": {},
   "outputs": [],
   "source": [
    "assert(list(df['Winner'].unique()) == ['Blue', 'Red', 'Tie'])"
   ]
  },
  {
   "cell_type": "markdown",
   "metadata": {},
   "source": [
    "First, change each string entry into a list."
   ]
  },
  {
   "cell_type": "code",
   "execution_count": 14,
   "metadata": {},
   "outputs": [],
   "source": [
    "for i in range(6):\n",
    "    strR = 'Red' + str(i)\n",
    "    strB = 'Blue' + str(i)\n",
    "    df[strR] = df['Winner']\n",
    "    df[strB] = df['Winner']\n",
    "    for j in range(len(df)):\n",
    "        df.loc[j, strR] = df['Teamcomp_Red'][j][i]\n",
    "        df.loc[j, strB] = df['Teamcomp_Blue'][j][i]"
   ]
  },
  {
   "cell_type": "code",
   "execution_count": 15,
   "metadata": {},
   "outputs": [],
   "source": [
    "cols = df.columns\n",
    "cols1 = np.append(cols[:-11], [cols[-10], cols[-8], cols[-6], cols[-4], cols[-2]])\n",
    "cols1 = np.append(cols1, [cols[-11], cols[-9], cols[-7], cols[-5] , cols[-3] , cols[-1]])\n",
    "\n",
    "df = df[cols1]"
   ]
  },
  {
   "cell_type": "markdown",
   "metadata": {},
   "source": [
    "Make columns for Red/Blue hero 1 - 6"
   ]
  },
  {
   "cell_type": "code",
   "execution_count": 16,
   "metadata": {},
   "outputs": [],
   "source": [
    "#Takes a while to run\n",
    "red_comp = pd.DataFrame([])\n",
    "blue_comp = pd.DataFrame([])\n",
    "for i in range(len(df)):\n",
    "    red_comp.loc[i, 'Red_' + df.loc[i, 'Red0']] = 1\n",
    "    red_comp.loc[i, 'Red_' + df.loc[i, 'Red1']] = 1\n",
    "    red_comp.loc[i, 'Red_' + df.loc[i, 'Red2']] = 1\n",
    "    red_comp.loc[i, 'Red_' + df.loc[i, 'Red3']] = 1\n",
    "    red_comp.loc[i, 'Red_' + df.loc[i, 'Red4']] = 1\n",
    "    red_comp.loc[i, 'Red_' + df.loc[i, 'Red5']] = 1\n",
    "    blue_comp.loc[i, 'Blue_' + df.loc[i, 'Blue0']] = 1\n",
    "    blue_comp.loc[i, 'Blue_' + df.loc[i, 'Blue1']] = 1\n",
    "    blue_comp.loc[i, 'Blue_' + df.loc[i, 'Blue2']] = 1\n",
    "    blue_comp.loc[i, 'Blue_' + df.loc[i, 'Blue3']] = 1\n",
    "    blue_comp.loc[i, 'Blue_' + df.loc[i, 'Blue4']] = 1\n",
    "    blue_comp.loc[i, 'Blue_' + df.loc[i, 'Blue5']] = 1\n",
    "red_comp = red_comp.fillna(0)\n",
    "blue_comp = blue_comp.fillna(0)\n",
    "df = pd.merge(df, red_comp, left_index=True, right_index=True)\n",
    "df = pd.merge(df, blue_comp, left_index=True, right_index=True)"
   ]
  },
  {
   "cell_type": "markdown",
   "metadata": {},
   "source": [
    "Future proofing: I know that I will be using these columns to make a model, so I must convert the columns to numbers."
   ]
  },
  {
   "cell_type": "code",
   "execution_count": 17,
   "metadata": {},
   "outputs": [],
   "source": [
    "#Make the winner values easier to understand when we get dummies later\n",
    "df['Winner'] = df['Winner'].map({'Blue':'Blue_Winner', 'Red':'Red_Winner', 'Tie':'Tie'})\n",
    "df['FB'] = df['FB'].map({'B':1, 'R':0})"
   ]
  },
  {
   "cell_type": "code",
   "execution_count": 18,
   "metadata": {},
   "outputs": [],
   "source": [
    "map_series = pd.get_dummies(df['Map'])\n",
    "df = pd.merge(df, map_series, left_index=True, right_index=True)\n",
    "round_series = pd.get_dummies(df['Roundtype'])\n",
    "df = pd.merge(df, round_series, left_index=True, right_index=True)\n",
    "win_series = pd.get_dummies(df['Winner'])\n",
    "df = pd.merge(df, win_series, left_index=True, right_index=True)\n",
    "blue_series = pd.get_dummies(df['Blue_Team'], prefix='Blue')\n",
    "df = pd.merge(df, blue_series, left_index=True, right_index=True)\n",
    "red_series = pd.get_dummies(df['Red_Team'], prefix='Red')\n",
    "df = pd.merge(df, red_series, left_index=True, right_index=True)\n"
   ]
  },
  {
   "cell_type": "markdown",
   "metadata": {},
   "source": [
    "I have to drop the columns that we updated now."
   ]
  },
  {
   "cell_type": "code",
   "execution_count": 19,
   "metadata": {},
   "outputs": [],
   "source": [
    "df = df.drop(columns=['Death_Sequence', 'Ults_Blue',\n",
    " 'Ults_Red', 'Teamcomp_Blue',\n",
    " 'Teamcomp_Red',  'Red0',\n",
    " 'Red1',\n",
    " 'Red2',\n",
    " 'Red3',\n",
    " 'Red4',\n",
    " 'Red5',\n",
    " 'Blue0',\n",
    " 'Blue1',\n",
    " 'Blue2',\n",
    " 'Blue3',\n",
    " 'Blue4',\n",
    " 'Blue5'])"
   ]
  },
  {
   "cell_type": "code",
   "execution_count": 20,
   "metadata": {},
   "outputs": [
    {
     "data": {
      "text/html": [
       "<div>\n",
       "<style scoped>\n",
       "    .dataframe tbody tr th:only-of-type {\n",
       "        vertical-align: middle;\n",
       "    }\n",
       "\n",
       "    .dataframe tbody tr th {\n",
       "        vertical-align: top;\n",
       "    }\n",
       "\n",
       "    .dataframe thead th {\n",
       "        text-align: right;\n",
       "    }\n",
       "</style>\n",
       "<table border=\"1\" class=\"dataframe\">\n",
       "  <thead>\n",
       "    <tr style=\"text-align: right;\">\n",
       "      <th></th>\n",
       "      <th>Map</th>\n",
       "      <th>Roundtype</th>\n",
       "      <th>Blue_Team</th>\n",
       "      <th>Red_Team</th>\n",
       "      <th>time</th>\n",
       "      <th>len</th>\n",
       "      <th>KB</th>\n",
       "      <th>KR</th>\n",
       "      <th>UB</th>\n",
       "      <th>UR</th>\n",
       "      <th>...</th>\n",
       "      <th>Red_FLA</th>\n",
       "      <th>Red_GLA</th>\n",
       "      <th>Red_HOU</th>\n",
       "      <th>Red_LDN</th>\n",
       "      <th>Red_NYE</th>\n",
       "      <th>Red_PHI</th>\n",
       "      <th>Red_SEO</th>\n",
       "      <th>Red_SFS</th>\n",
       "      <th>Red_SHD</th>\n",
       "      <th>Red_VAL</th>\n",
       "    </tr>\n",
       "  </thead>\n",
       "  <tbody>\n",
       "    <tr>\n",
       "      <th>0</th>\n",
       "      <td>Dorado</td>\n",
       "      <td>Attack</td>\n",
       "      <td>SFS</td>\n",
       "      <td>VAL</td>\n",
       "      <td>0:29</td>\n",
       "      <td>14</td>\n",
       "      <td>5</td>\n",
       "      <td>0</td>\n",
       "      <td>0</td>\n",
       "      <td>0</td>\n",
       "      <td>...</td>\n",
       "      <td>0</td>\n",
       "      <td>0</td>\n",
       "      <td>0</td>\n",
       "      <td>0</td>\n",
       "      <td>0</td>\n",
       "      <td>0</td>\n",
       "      <td>0</td>\n",
       "      <td>0</td>\n",
       "      <td>0</td>\n",
       "      <td>1</td>\n",
       "    </tr>\n",
       "    <tr>\n",
       "      <th>1</th>\n",
       "      <td>Dorado</td>\n",
       "      <td>Attack</td>\n",
       "      <td>SFS</td>\n",
       "      <td>VAL</td>\n",
       "      <td>1:05</td>\n",
       "      <td>24</td>\n",
       "      <td>1</td>\n",
       "      <td>6</td>\n",
       "      <td>2</td>\n",
       "      <td>3</td>\n",
       "      <td>...</td>\n",
       "      <td>0</td>\n",
       "      <td>0</td>\n",
       "      <td>0</td>\n",
       "      <td>0</td>\n",
       "      <td>0</td>\n",
       "      <td>0</td>\n",
       "      <td>0</td>\n",
       "      <td>0</td>\n",
       "      <td>0</td>\n",
       "      <td>1</td>\n",
       "    </tr>\n",
       "    <tr>\n",
       "      <th>2</th>\n",
       "      <td>Dorado</td>\n",
       "      <td>Attack</td>\n",
       "      <td>SFS</td>\n",
       "      <td>VAL</td>\n",
       "      <td>1:51</td>\n",
       "      <td>7</td>\n",
       "      <td>0</td>\n",
       "      <td>1</td>\n",
       "      <td>1</td>\n",
       "      <td>0</td>\n",
       "      <td>...</td>\n",
       "      <td>0</td>\n",
       "      <td>0</td>\n",
       "      <td>0</td>\n",
       "      <td>0</td>\n",
       "      <td>0</td>\n",
       "      <td>0</td>\n",
       "      <td>0</td>\n",
       "      <td>0</td>\n",
       "      <td>0</td>\n",
       "      <td>1</td>\n",
       "    </tr>\n",
       "    <tr>\n",
       "      <th>3</th>\n",
       "      <td>Dorado</td>\n",
       "      <td>Attack</td>\n",
       "      <td>SFS</td>\n",
       "      <td>VAL</td>\n",
       "      <td>2:14</td>\n",
       "      <td>28</td>\n",
       "      <td>7</td>\n",
       "      <td>2</td>\n",
       "      <td>3</td>\n",
       "      <td>3</td>\n",
       "      <td>...</td>\n",
       "      <td>0</td>\n",
       "      <td>0</td>\n",
       "      <td>0</td>\n",
       "      <td>0</td>\n",
       "      <td>0</td>\n",
       "      <td>0</td>\n",
       "      <td>0</td>\n",
       "      <td>0</td>\n",
       "      <td>0</td>\n",
       "      <td>1</td>\n",
       "    </tr>\n",
       "    <tr>\n",
       "      <th>4</th>\n",
       "      <td>Dorado</td>\n",
       "      <td>Attack</td>\n",
       "      <td>SFS</td>\n",
       "      <td>VAL</td>\n",
       "      <td>3:24</td>\n",
       "      <td>17</td>\n",
       "      <td>4</td>\n",
       "      <td>2</td>\n",
       "      <td>3</td>\n",
       "      <td>1</td>\n",
       "      <td>...</td>\n",
       "      <td>0</td>\n",
       "      <td>0</td>\n",
       "      <td>0</td>\n",
       "      <td>0</td>\n",
       "      <td>0</td>\n",
       "      <td>0</td>\n",
       "      <td>0</td>\n",
       "      <td>0</td>\n",
       "      <td>0</td>\n",
       "      <td>1</td>\n",
       "    </tr>\n",
       "  </tbody>\n",
       "</table>\n",
       "<p>5 rows × 110 columns</p>\n",
       "</div>"
      ],
      "text/plain": [
       "      Map Roundtype Blue_Team Red_Team  time  len  KB  KR  UB  UR   ...     \\\n",
       "0  Dorado    Attack       SFS      VAL  0:29   14   5   0   0   0   ...      \n",
       "1  Dorado    Attack       SFS      VAL  1:05   24   1   6   2   3   ...      \n",
       "2  Dorado    Attack       SFS      VAL  1:51    7   0   1   1   0   ...      \n",
       "3  Dorado    Attack       SFS      VAL  2:14   28   7   2   3   3   ...      \n",
       "4  Dorado    Attack       SFS      VAL  3:24   17   4   2   3   1   ...      \n",
       "\n",
       "   Red_FLA Red_GLA Red_HOU  Red_LDN  Red_NYE  Red_PHI  Red_SEO  Red_SFS  \\\n",
       "0        0       0       0        0        0        0        0        0   \n",
       "1        0       0       0        0        0        0        0        0   \n",
       "2        0       0       0        0        0        0        0        0   \n",
       "3        0       0       0        0        0        0        0        0   \n",
       "4        0       0       0        0        0        0        0        0   \n",
       "\n",
       "   Red_SHD  Red_VAL  \n",
       "0        0        1  \n",
       "1        0        1  \n",
       "2        0        1  \n",
       "3        0        1  \n",
       "4        0        1  \n",
       "\n",
       "[5 rows x 110 columns]"
      ]
     },
     "execution_count": 20,
     "metadata": {},
     "output_type": "execute_result"
    }
   ],
   "source": [
    "df.head()"
   ]
  },
  {
   "cell_type": "markdown",
   "metadata": {},
   "source": [
    "## Save the Data!"
   ]
  },
  {
   "cell_type": "code",
   "execution_count": 21,
   "metadata": {},
   "outputs": [],
   "source": [
    "df.to_csv('/data/cvaranese/OverwatchFightsData.csv')"
   ]
  }
 ],
 "metadata": {
  "kernelspec": {
   "display_name": "Python 3",
   "language": "python",
   "name": "python3"
  },
  "language_info": {
   "codemirror_mode": {
    "name": "ipython",
    "version": 3
   },
   "file_extension": ".py",
   "mimetype": "text/x-python",
   "name": "python",
   "nbconvert_exporter": "python",
   "pygments_lexer": "ipython3",
   "version": "3.6.3"
  }
 },
 "nbformat": 4,
 "nbformat_minor": 2
}
