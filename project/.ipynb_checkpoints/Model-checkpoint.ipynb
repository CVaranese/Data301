{
 "cells": [
  {
   "cell_type": "markdown",
   "metadata": {},
   "source": [
    "# Model"
   ]
  },
  {
   "cell_type": "code",
   "execution_count": 1,
   "metadata": {},
   "outputs": [],
   "source": [
    "import pandas as pd\n",
    "import numpy as np\n",
    "import matplotlib.pyplot as plt\n",
    "from sklearn.model_selection import train_test_split"
   ]
  },
  {
   "cell_type": "code",
   "execution_count": 2,
   "metadata": {},
   "outputs": [
    {
     "data": {
      "text/html": [
       "<div>\n",
       "<style scoped>\n",
       "    .dataframe tbody tr th:only-of-type {\n",
       "        vertical-align: middle;\n",
       "    }\n",
       "\n",
       "    .dataframe tbody tr th {\n",
       "        vertical-align: top;\n",
       "    }\n",
       "\n",
       "    .dataframe thead th {\n",
       "        text-align: right;\n",
       "    }\n",
       "</style>\n",
       "<table border=\"1\" class=\"dataframe\">\n",
       "  <thead>\n",
       "    <tr style=\"text-align: right;\">\n",
       "      <th></th>\n",
       "      <th>Map</th>\n",
       "      <th>Roundtype</th>\n",
       "      <th>Blue_Team</th>\n",
       "      <th>Red_Team</th>\n",
       "      <th>time</th>\n",
       "      <th>len</th>\n",
       "      <th>KB</th>\n",
       "      <th>KR</th>\n",
       "      <th>UB</th>\n",
       "      <th>UR</th>\n",
       "      <th>...</th>\n",
       "      <th>Red_FLA</th>\n",
       "      <th>Red_GLA</th>\n",
       "      <th>Red_HOU</th>\n",
       "      <th>Red_LDN</th>\n",
       "      <th>Red_NYE</th>\n",
       "      <th>Red_PHI</th>\n",
       "      <th>Red_SEO</th>\n",
       "      <th>Red_SFS</th>\n",
       "      <th>Red_SHD</th>\n",
       "      <th>Red_VAL</th>\n",
       "    </tr>\n",
       "  </thead>\n",
       "  <tbody>\n",
       "    <tr>\n",
       "      <th>0</th>\n",
       "      <td>Dorado</td>\n",
       "      <td>Attack</td>\n",
       "      <td>SFS</td>\n",
       "      <td>VAL</td>\n",
       "      <td>0:29</td>\n",
       "      <td>14</td>\n",
       "      <td>5</td>\n",
       "      <td>0</td>\n",
       "      <td>0</td>\n",
       "      <td>0</td>\n",
       "      <td>...</td>\n",
       "      <td>0</td>\n",
       "      <td>0</td>\n",
       "      <td>0</td>\n",
       "      <td>0</td>\n",
       "      <td>0</td>\n",
       "      <td>0</td>\n",
       "      <td>0</td>\n",
       "      <td>0</td>\n",
       "      <td>0</td>\n",
       "      <td>1</td>\n",
       "    </tr>\n",
       "    <tr>\n",
       "      <th>1</th>\n",
       "      <td>Dorado</td>\n",
       "      <td>Attack</td>\n",
       "      <td>SFS</td>\n",
       "      <td>VAL</td>\n",
       "      <td>1:05</td>\n",
       "      <td>24</td>\n",
       "      <td>1</td>\n",
       "      <td>6</td>\n",
       "      <td>2</td>\n",
       "      <td>3</td>\n",
       "      <td>...</td>\n",
       "      <td>0</td>\n",
       "      <td>0</td>\n",
       "      <td>0</td>\n",
       "      <td>0</td>\n",
       "      <td>0</td>\n",
       "      <td>0</td>\n",
       "      <td>0</td>\n",
       "      <td>0</td>\n",
       "      <td>0</td>\n",
       "      <td>1</td>\n",
       "    </tr>\n",
       "    <tr>\n",
       "      <th>2</th>\n",
       "      <td>Dorado</td>\n",
       "      <td>Attack</td>\n",
       "      <td>SFS</td>\n",
       "      <td>VAL</td>\n",
       "      <td>1:51</td>\n",
       "      <td>7</td>\n",
       "      <td>0</td>\n",
       "      <td>1</td>\n",
       "      <td>1</td>\n",
       "      <td>0</td>\n",
       "      <td>...</td>\n",
       "      <td>0</td>\n",
       "      <td>0</td>\n",
       "      <td>0</td>\n",
       "      <td>0</td>\n",
       "      <td>0</td>\n",
       "      <td>0</td>\n",
       "      <td>0</td>\n",
       "      <td>0</td>\n",
       "      <td>0</td>\n",
       "      <td>1</td>\n",
       "    </tr>\n",
       "    <tr>\n",
       "      <th>3</th>\n",
       "      <td>Dorado</td>\n",
       "      <td>Attack</td>\n",
       "      <td>SFS</td>\n",
       "      <td>VAL</td>\n",
       "      <td>2:14</td>\n",
       "      <td>28</td>\n",
       "      <td>7</td>\n",
       "      <td>2</td>\n",
       "      <td>3</td>\n",
       "      <td>3</td>\n",
       "      <td>...</td>\n",
       "      <td>0</td>\n",
       "      <td>0</td>\n",
       "      <td>0</td>\n",
       "      <td>0</td>\n",
       "      <td>0</td>\n",
       "      <td>0</td>\n",
       "      <td>0</td>\n",
       "      <td>0</td>\n",
       "      <td>0</td>\n",
       "      <td>1</td>\n",
       "    </tr>\n",
       "    <tr>\n",
       "      <th>4</th>\n",
       "      <td>Dorado</td>\n",
       "      <td>Attack</td>\n",
       "      <td>SFS</td>\n",
       "      <td>VAL</td>\n",
       "      <td>3:24</td>\n",
       "      <td>17</td>\n",
       "      <td>4</td>\n",
       "      <td>2</td>\n",
       "      <td>3</td>\n",
       "      <td>1</td>\n",
       "      <td>...</td>\n",
       "      <td>0</td>\n",
       "      <td>0</td>\n",
       "      <td>0</td>\n",
       "      <td>0</td>\n",
       "      <td>0</td>\n",
       "      <td>0</td>\n",
       "      <td>0</td>\n",
       "      <td>0</td>\n",
       "      <td>0</td>\n",
       "      <td>1</td>\n",
       "    </tr>\n",
       "  </tbody>\n",
       "</table>\n",
       "<p>5 rows × 110 columns</p>\n",
       "</div>"
      ],
      "text/plain": [
       "      Map Roundtype Blue_Team Red_Team  time  len  KB  KR  UB  UR   ...     \\\n",
       "0  Dorado    Attack       SFS      VAL  0:29   14   5   0   0   0   ...      \n",
       "1  Dorado    Attack       SFS      VAL  1:05   24   1   6   2   3   ...      \n",
       "2  Dorado    Attack       SFS      VAL  1:51    7   0   1   1   0   ...      \n",
       "3  Dorado    Attack       SFS      VAL  2:14   28   7   2   3   3   ...      \n",
       "4  Dorado    Attack       SFS      VAL  3:24   17   4   2   3   1   ...      \n",
       "\n",
       "   Red_FLA Red_GLA Red_HOU  Red_LDN  Red_NYE  Red_PHI  Red_SEO  Red_SFS  \\\n",
       "0        0       0       0        0        0        0        0        0   \n",
       "1        0       0       0        0        0        0        0        0   \n",
       "2        0       0       0        0        0        0        0        0   \n",
       "3        0       0       0        0        0        0        0        0   \n",
       "4        0       0       0        0        0        0        0        0   \n",
       "\n",
       "   Red_SHD  Red_VAL  \n",
       "0        0        1  \n",
       "1        0        1  \n",
       "2        0        1  \n",
       "3        0        1  \n",
       "4        0        1  \n",
       "\n",
       "[5 rows x 110 columns]"
      ]
     },
     "execution_count": 2,
     "metadata": {},
     "output_type": "execute_result"
    }
   ],
   "source": [
    "df = pd.read_csv('/data/cvaranese/OverwatchFightsData.csv', index_col=0)\n",
    "df.head()"
   ]
  },
  {
   "cell_type": "markdown",
   "metadata": {},
   "source": [
    "### Dropping unusable columns\n",
    "\n",
    "I need to make sure that I am only using the columns with numbers in it."
   ]
  },
  {
   "cell_type": "code",
   "execution_count": 3,
   "metadata": {},
   "outputs": [],
   "source": [
    "df_new = df.drop(columns=['Map', 'Roundtype', 'FB', 'Winner', 'time', 'Blue_Winner', 'Red_Winner', 'len',\n",
    "                          'Blue_Team', 'Red_Team', 'KB', 'KR', 'UB', 'UR', 'FB', 'First_kill', 'Tie'])"
   ]
  },
  {
   "cell_type": "markdown",
   "metadata": {},
   "source": [
    "## Random Forest Classification\n",
    "\n",
    "First, I need to prepare my X and y dataframes so that I can easily make a model."
   ]
  },
  {
   "cell_type": "code",
   "execution_count": 4,
   "metadata": {},
   "outputs": [],
   "source": [
    "X = df_new\n",
    "y = df['Winner'].map({'Blue_Winner':1, 'Tie':0, 'Red_Winner':-1})\n",
    "X_train, X_test, y_train, y_test = train_test_split(X, y, test_size=.2)"
   ]
  },
  {
   "cell_type": "markdown",
   "metadata": {},
   "source": [
    "Now, it is easy to make a random forest classifier with sklearn."
   ]
  },
  {
   "cell_type": "code",
   "execution_count": 5,
   "metadata": {},
   "outputs": [
    {
     "data": {
      "text/plain": [
       "RandomForestClassifier(bootstrap=True, class_weight=None, criterion='gini',\n",
       "            max_depth=None, max_features='auto', max_leaf_nodes=None,\n",
       "            min_impurity_decrease=0.0, min_impurity_split=None,\n",
       "            min_samples_leaf=1, min_samples_split=2,\n",
       "            min_weight_fraction_leaf=0.0, n_estimators=1000, n_jobs=1,\n",
       "            oob_score=False, random_state=None, verbose=0,\n",
       "            warm_start=False)"
      ]
     },
     "execution_count": 5,
     "metadata": {},
     "output_type": "execute_result"
    }
   ],
   "source": [
    "#Takes a minute to run\n",
    "from sklearn.ensemble import RandomForestClassifier\n",
    "model = RandomForestClassifier(n_estimators=1000)\n",
    "model.fit(X_train, y_train)\n"
   ]
  },
  {
   "cell_type": "markdown",
   "metadata": {},
   "source": [
    "Let's measure the accuracy of this classifier."
   ]
  },
  {
   "cell_type": "code",
   "execution_count": 6,
   "metadata": {},
   "outputs": [
    {
     "name": "stdout",
     "output_type": "stream",
     "text": [
      "R squared:  -0.7116303561265465\n"
     ]
    }
   ],
   "source": [
    "from sklearn.metrics import r2_score\n",
    "y_pred = model.predict(X_test)\n",
    "r2 = r2_score(y_pred, y_test)\n",
    "print('R squared: ', r2)"
   ]
  },
  {
   "cell_type": "markdown",
   "metadata": {},
   "source": [
    "This can be confusing, so let's look at the results a little more."
   ]
  },
  {
   "cell_type": "code",
   "execution_count": 7,
   "metadata": {},
   "outputs": [
    {
     "data": {
      "image/png": "[encoded data removed]",
      "text/plain": [
       "<matplotlib.figure.Figure at 0x7fd2aa042780>"
      ]
     },
     "metadata": {},
     "output_type": "display_data"
    }
   ],
   "source": [
    "from sklearn.metrics import confusion_matrix\n",
    "import seaborn as sns\n",
    "mat = confusion_matrix(y_test, y_pred)\n",
    "sns.heatmap(mat.T, square=True, annot=True, fmt='d', cbar=False)\n",
    "plt.xlabel('true label')\n",
    "plt.ylabel('predicted label');"
   ]
  },
  {
   "cell_type": "code",
   "execution_count": 8,
   "metadata": {},
   "outputs": [
    {
     "name": "stdout",
     "output_type": "stream",
     "text": [
      "Accuracy:  0.5272952853598015\n"
     ]
    }
   ],
   "source": [
    "from sklearn.metrics import accuracy_score\n",
    "print('Accuracy: ', accuracy_score(y_pred, y_test))"
   ]
  },
  {
   "cell_type": "markdown",
   "metadata": {},
   "source": [
    "This isn't much better than just guessing randomly. Let's change the data by removing columns with a tie and see if we get better."
   ]
  },
  {
   "cell_type": "code",
   "execution_count": 9,
   "metadata": {},
   "outputs": [],
   "source": [
    "X = df_new[y != 0]\n",
    "y = y[y!= 0]\n",
    "X_train, X_test, y_train, y_test = train_test_split(X, y, test_size=.2)"
   ]
  },
  {
   "cell_type": "code",
   "execution_count": 10,
   "metadata": {},
   "outputs": [
    {
     "data": {
      "text/plain": [
       "RandomForestClassifier(bootstrap=True, class_weight=None, criterion='gini',\n",
       "            max_depth=None, max_features='auto', max_leaf_nodes=None,\n",
       "            min_impurity_decrease=0.0, min_impurity_split=None,\n",
       "            min_samples_leaf=1, min_samples_split=2,\n",
       "            min_weight_fraction_leaf=0.0, n_estimators=1000, n_jobs=1,\n",
       "            oob_score=False, random_state=None, verbose=0,\n",
       "            warm_start=False)"
      ]
     },
     "execution_count": 10,
     "metadata": {},
     "output_type": "execute_result"
    }
   ],
   "source": [
    "#Takes a minute to run\n",
    "model = RandomForestClassifier(n_estimators=1000)\n",
    "model.fit(X_train, y_train)"
   ]
  },
  {
   "cell_type": "code",
   "execution_count": 11,
   "metadata": {},
   "outputs": [
    {
     "name": "stdout",
     "output_type": "stream",
     "text": [
      "R squared:  -0.6604140957082134\n"
     ]
    }
   ],
   "source": [
    "y_pred = model.predict(X_test)\n",
    "r2 = r2_score(y_pred, y_test)\n",
    "print('R squared: ', r2)"
   ]
  },
  {
   "cell_type": "code",
   "execution_count": 12,
   "metadata": {},
   "outputs": [
    {
     "data": {
      "image/png": "[encoded data removed]",
      "text/plain": [
       "<matplotlib.figure.Figure at 0x7fd308e0c7b8>"
      ]
     },
     "metadata": {},
     "output_type": "display_data"
    }
   ],
   "source": [
    "mat = confusion_matrix(y_test, y_pred)\n",
    "sns.heatmap(mat.T, square=True, annot=True, fmt='d', cbar=False)\n",
    "plt.xlabel('true label')\n",
    "plt.ylabel('predicted label');"
   ]
  },
  {
   "cell_type": "code",
   "execution_count": 13,
   "metadata": {},
   "outputs": [
    {
     "name": "stdout",
     "output_type": "stream",
     "text": [
      "Accuracy:  0.5850785340314136\n"
     ]
    }
   ],
   "source": [
    "print('Accuracy: ', accuracy_score(y_pred, y_test))"
   ]
  },
  {
   "cell_type": "markdown",
   "metadata": {},
   "source": [
    "## Neural Network"
   ]
  },
  {
   "cell_type": "code",
   "execution_count": 14,
   "metadata": {},
   "outputs": [
    {
     "name": "stderr",
     "output_type": "stream",
     "text": [
      "/opt/conda/lib/python3.6/site-packages/h5py/__init__.py:36: FutureWarning: Conversion of the second argument of issubdtype from `float` to `np.floating` is deprecated. In future, it will be treated as `np.float64 == np.dtype(float).type`.\n",
      "  from ._conv import register_converters as _register_converters\n",
      "Using TensorFlow backend.\n"
     ]
    }
   ],
   "source": [
    "import keras\n",
    "import tensorflow\n",
    "from keras.models import Sequential\n",
    "from keras.layers import Dense\n",
    "import numpy as np"
   ]
  },
  {
   "cell_type": "code",
   "execution_count": 15,
   "metadata": {},
   "outputs": [],
   "source": [
    "X_train, X_test, y_train, y_test = train_test_split(X, y, test_size=.2)"
   ]
  },
  {
   "cell_type": "code",
   "execution_count": 16,
   "metadata": {},
   "outputs": [
    {
     "data": {
      "text/plain": [
       "array([[0., 1., 1., ..., 1., 0., 0.],\n",
       "       [0., 0., 1., ..., 1., 0., 0.],\n",
       "       [0., 0., 0., ..., 0., 0., 0.],\n",
       "       ...,\n",
       "       [1., 1., 1., ..., 0., 0., 0.],\n",
       "       [0., 1., 1., ..., 0., 0., 0.],\n",
       "       [0., 1., 1., ..., 0., 0., 0.]])"
      ]
     },
     "execution_count": 16,
     "metadata": {},
     "output_type": "execute_result"
    }
   ],
   "source": [
    "np_X = np.array(X_train)\n",
    "np_X.reshape((-1, 94))"
   ]
  },
  {
   "cell_type": "code",
   "execution_count": 17,
   "metadata": {},
   "outputs": [],
   "source": [
    "y_nn = y.map({1: 1, -1:0})\n",
    "X_nn = X"
   ]
  },
  {
   "cell_type": "code",
   "execution_count": 18,
   "metadata": {},
   "outputs": [
    {
     "name": "stdout",
     "output_type": "stream",
     "text": [
      "Epoch 1/25\n",
      "3052/3052 [==============================] - 0s 84us/step - loss: 0.6835 - acc: 0.5590\n",
      "Epoch 2/25\n",
      "3052/3052 [==============================] - 0s 44us/step - loss: 0.6681 - acc: 0.5881\n",
      "Epoch 3/25\n",
      "3052/3052 [==============================] - 0s 48us/step - loss: 0.6593 - acc: 0.6006\n",
      "Epoch 4/25\n",
      "3052/3052 [==============================] - 0s 52us/step - loss: 0.6582 - acc: 0.6085\n",
      "Epoch 5/25\n",
      "3052/3052 [==============================] - 0s 50us/step - loss: 0.6530 - acc: 0.6160\n",
      "Epoch 6/25\n",
      "3052/3052 [==============================] - 0s 42us/step - loss: 0.6510 - acc: 0.6153\n",
      "Epoch 7/25\n",
      "3052/3052 [==============================] - 0s 43us/step - loss: 0.6502 - acc: 0.6121\n",
      "Epoch 8/25\n",
      "3052/3052 [==============================] - 0s 51us/step - loss: 0.6475 - acc: 0.6232\n",
      "Epoch 9/25\n",
      "3052/3052 [==============================] - 0s 50us/step - loss: 0.6478 - acc: 0.6157\n",
      "Epoch 10/25\n",
      "3052/3052 [==============================] - 0s 55us/step - loss: 0.6472 - acc: 0.6173\n",
      "Epoch 11/25\n",
      "3052/3052 [==============================] - 0s 50us/step - loss: 0.6440 - acc: 0.6366\n",
      "Epoch 12/25\n",
      "3052/3052 [==============================] - 0s 43us/step - loss: 0.6467 - acc: 0.6186\n",
      "Epoch 13/25\n",
      "3052/3052 [==============================] - 0s 49us/step - loss: 0.6475 - acc: 0.6265\n",
      "Epoch 14/25\n",
      "3052/3052 [==============================] - 0s 42us/step - loss: 0.6467 - acc: 0.6212\n",
      "Epoch 15/25\n",
      "3052/3052 [==============================] - 0s 56us/step - loss: 0.6451 - acc: 0.6353\n",
      "Epoch 16/25\n",
      "3052/3052 [==============================] - 0s 47us/step - loss: 0.6461 - acc: 0.6239\n",
      "Epoch 17/25\n",
      "3052/3052 [==============================] - 0s 41us/step - loss: 0.6442 - acc: 0.6268\n",
      "Epoch 18/25\n",
      "3052/3052 [==============================] - 0s 44us/step - loss: 0.6461 - acc: 0.6193\n",
      "Epoch 19/25\n",
      "3052/3052 [==============================] - 0s 45us/step - loss: 0.6466 - acc: 0.6278\n",
      "Epoch 20/25\n",
      "3052/3052 [==============================] - 0s 45us/step - loss: 0.6436 - acc: 0.6291\n",
      "Epoch 21/25\n",
      "3052/3052 [==============================] - 0s 46us/step - loss: 0.6452 - acc: 0.6229\n",
      "Epoch 22/25\n",
      "3052/3052 [==============================] - 0s 52us/step - loss: 0.6463 - acc: 0.6248\n",
      "Epoch 23/25\n",
      "3052/3052 [==============================] - 0s 42us/step - loss: 0.6439 - acc: 0.6288\n",
      "Epoch 24/25\n",
      "3052/3052 [==============================] - 0s 42us/step - loss: 0.6439 - acc: 0.6268\n",
      "Epoch 25/25\n",
      "3052/3052 [==============================] - 0s 43us/step - loss: 0.6431 - acc: 0.6278\n",
      "764/764 [==============================] - 0s 42us/step\n",
      "\n",
      "\n",
      "Final Loss : [0.6703859664382735, 0.60078534000207]\n"
     ]
    }
   ],
   "source": [
    "X_train_nn, X_test_nn, y_train_nn, y_test_nn = train_test_split(X_nn, y_nn, test_size=.2)\n",
    "model = Sequential()\n",
    "model.add(Dense(128, activation = 'sigmoid', input_dim = 94))\n",
    "#model.add(Dense(128, activation = 'relu'))\n",
    "model.add(Dense(1, activation = 'sigmoid'))\n",
    "\n",
    "model.compile(loss = 'binary_crossentropy',\n",
    "              optimizer = 'adam',\n",
    "              metrics=['accuracy'])\n",
    "model.fit(X_train_nn, y_train_nn, epochs=25, batch_size = 32)\n",
    "loss = model.evaluate(X_test_nn, y_test_nn, batch_size = 32)\n",
    "\n",
    "print(\"\\n\\nFinal Loss : {}\".format(loss))"
   ]
  },
  {
   "cell_type": "code",
   "execution_count": 19,
   "metadata": {},
   "outputs": [],
   "source": [
    "y_pred_nn = model.predict(X_test_nn)\n",
    "y_test_graph = np.round(np.array(y_test_nn))\n",
    "y_pred_graph = np.round(y_pred_nn)"
   ]
  },
  {
   "cell_type": "code",
   "execution_count": 20,
   "metadata": {},
   "outputs": [
    {
     "data": {
      "image/png": "[encoded data removed]",
      "text/plain": [
       "<matplotlib.figure.Figure at 0x7fd30177ceb8>"
      ]
     },
     "metadata": {},
     "output_type": "display_data"
    }
   ],
   "source": [
    "mat = confusion_matrix(y_test_graph, y_pred_graph)\n",
    "sns.heatmap(mat.T, square=True, annot=True, fmt='d', cbar=False)\n",
    "plt.xlabel('true label')\n",
    "plt.ylabel('predicted label');"
   ]
  }
 ],
 "metadata": {
  "kernelspec": {
   "display_name": "Python 3",
   "language": "python",
   "name": "python3"
  },
  "language_info": {
   "codemirror_mode": {
    "name": "ipython",
    "version": 3
   },
   "file_extension": ".py",
   "mimetype": "text/x-python",
   "name": "python",
   "nbconvert_exporter": "python",
   "pygments_lexer": "ipython3",
   "version": "3.6.3"
  }
 },
 "nbformat": 4,
 "nbformat_minor": 2
}
