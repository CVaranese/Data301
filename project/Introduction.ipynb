{
 "cells": [
  {
   "cell_type": "markdown",
   "metadata": {},
   "source": [
    "# Introduction"
   ]
  },
  {
   "cell_type": "markdown",
   "metadata": {},
   "source": [
    "## Abstract\n",
    "The purpopse of this project was to see if the result of fights in the Overwatch League could be modeled and predicted. Overwatch is a complicated and complex game, so it is impossible to be able to predict match results perfectly, but if some sort of correlation can be drawn out by the model, then it will be interesting to look at the factors that are more likely to lead to a win. Both sklearn RandomForestClassifiers and Keras neural networks were used to build a model. The resulting models achieved an average of 60% accuracy for random forest and 61% accuracy for the neural network. This means that there is some easily attained information before fights in Overwatch that are correlaated with winning fights, such as team composition and the map played."
   ]
  },
  {
   "cell_type": "markdown",
   "metadata": {},
   "source": [
    "## Dataset\n",
    "The dataset was scraped from [Winston's Lab](http://winstonslab.com). The data was already formatted in a table, but it contained things like images instead of text and it was generally not tidy. The dataset was fights as entries and had features that described what happened in or before the fight, such as death sequence, team composition, and ultimate usage."
   ]
  },
  {
   "cell_type": "markdown",
   "metadata": {},
   "source": [
    "## Notebooks\n",
    "\n",
    "1. Introduction\n",
    "    \n",
    "    Brief description of the project.\n",
    "2. Tidy\n",
    "\n",
    "    How I retrieved and tidied the dataset.\n",
    "3. EDA\n",
    "\n",
    "    Graphs and analysis of the dataset.\n",
    "4. Model\n",
    "\n",
    "    The random forest and neural network models."
   ]
  },
  {
   "cell_type": "markdown",
   "metadata": {},
   "source": [
    "## Citations\n",
    "1. [Winston's Lab](http://winstonslab.com)"
   ]
  }
 ],
 "metadata": {
  "kernelspec": {
   "display_name": "Python 3",
   "language": "python",
   "name": "python3"
  },
  "language_info": {
   "codemirror_mode": {
    "name": "ipython",
    "version": 3
   },
   "file_extension": ".py",
   "mimetype": "text/x-python",
   "name": "python",
   "nbconvert_exporter": "python",
   "pygments_lexer": "ipython3",
   "version": "3.7.1"
  }
 },
 "nbformat": 4,
 "nbformat_minor": 2
}
