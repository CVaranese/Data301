{
 "cells": [
  {
   "cell_type": "markdown",
   "metadata": {},
   "source": [
    "# Simple Bootstrap"
   ]
  },
  {
   "cell_type": "markdown",
   "metadata": {},
   "source": [
    "In this notebook you are going to draw samples from a probability distribution of your choice, and then compute a bootstrapped mean and its confidence interval."
   ]
  },
  {
   "cell_type": "markdown",
   "metadata": {},
   "source": [
    "## Imports"
   ]
  },
  {
   "cell_type": "code",
   "execution_count": 1,
   "metadata": {},
   "outputs": [],
   "source": [
    "import numpy as np\n",
    "%matplotlib inline\n",
    "import matplotlib.pyplot as plt\n",
    "import seaborn as sns"
   ]
  },
  {
   "cell_type": "markdown",
   "metadata": {},
   "source": [
    "## Boostrapping the mean"
   ]
  },
  {
   "cell_type": "markdown",
   "metadata": {},
   "source": [
    "Perform the following steps:\n",
    "\n",
    "* Draw `100` samples from a continuous probability distribution of your choice with a given mean and variance.\n",
    "* Bootstrap your raw data `500` times and use the bootstrapped data to compute the distribution of the mean of the samples.\n",
    "* Make an appropriately labeled visualization of the distribution of the mean.\n",
    "* Compute and print the 90% confidence interval of the mean."
   ]
  },
  {
   "cell_type": "code",
   "execution_count": 18,
   "metadata": {
    "deletable": false,
    "nbgrader": {
     "checksum": "983e455b56c2d5a3f939937dff6c696f",
     "grade": true,
     "grade_id": "simplebootstrap-a",
     "locked": false,
     "points": 10,
     "schema_version": 1,
     "solution": true
    }
   },
   "outputs": [
    {
     "data": {
      "image/png": "[encoded data removed]",
      "text/plain": [
       "<matplotlib.figure.Figure at 0x7f1e510cde48>"
      ]
     },
     "metadata": {},
     "output_type": "display_data"
    },
    {
     "name": "stdout",
     "output_type": "stream",
     "text": [
      "90% confidence interval: [-0.23337504  0.09135248]\n"
     ]
    }
   ],
   "source": [
    "distrib = np.random.normal(0, 1,  100)\n",
    "means = np.array([])\n",
    "for i in range(500):\n",
    "    bstrap = np.random.choice(distrib, size=len(distrib))\n",
    "    means = np.append(means, np.mean(bstrap))\n",
    "\n",
    "plt.hist(means)\n",
    "plt.xlabel('Mean')\n",
    "plt.ylabel('Number of records')\n",
    "plt.show()\n",
    "\n",
    "print(\"90% confidence interval:\", np.percentile(means, (5.0,95.0)))"
   ]
  }
 ],
 "metadata": {
  "kernelspec": {
   "display_name": "Python 3",
   "language": "python",
   "name": "python3"
  },
  "language_info": {
   "codemirror_mode": {
    "name": "ipython",
    "version": 3
   },
   "file_extension": ".py",
   "mimetype": "text/x-python",
   "name": "python",
   "nbconvert_exporter": "python",
   "pygments_lexer": "ipython3",
   "version": "3.6.3"
  }
 },
 "nbformat": 4,
 "nbformat_minor": 2
}
